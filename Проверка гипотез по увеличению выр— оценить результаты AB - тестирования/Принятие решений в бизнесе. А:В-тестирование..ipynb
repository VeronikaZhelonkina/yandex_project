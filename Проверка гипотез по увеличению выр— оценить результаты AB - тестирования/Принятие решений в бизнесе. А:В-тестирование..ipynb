{
 "cells": [
  {
   "cell_type": "markdown",
   "metadata": {},
   "source": [
    "#   Принятие решений в бизнесе. А/В-тестирование. \n",
    "\n",
    "Мы — аналитики крупного интернет-магазина. Вместе с отделом маркетинга мы подготовили список гипотез для увеличения выручки.\n",
    "\n",
    "#  Цель исследования:\n",
    "\n",
    "Приоритизировать гипотезы, запустить A/B-тест и проанализировать результаты. \n",
    "\n",
    "\n",
    "# Исходные данные:\n",
    "\n",
    "*Данные для первой части* \n",
    "\n",
    "Файл /datasets/hyp.csv\n",
    " \n",
    "- *Hypothesis* — краткое описание гипотезы;\n",
    "- *Reach* — охват пользователей по 10-балльной шкале;\n",
    "- *Impact* — влияние на пользователей по 10-балльной шкале;\n",
    "- *Confidence* — уверенность в гипотезе по 10-балльной шкале;\n",
    "- *Efforts* — затраты ресурсов на проверку гипотезы по 10-балльной шкале. Чем больше значение Efforts, тем дороже проверка гипотезы.\n",
    "\n",
    "*Данные для второй части*\n",
    "\n",
    "Файл /datasets/ord.csv\n",
    "- *transactionId* — идентификатор заказа;\n",
    "- *visitorId* — идентификатор пользователя, совершившего заказ;\n",
    "- *date* — дата, когда был совершён заказ;\n",
    "- *revenue* — выручка заказа;\n",
    "- *group* — группа A/B-теста, в которую попал заказ.\n",
    "\n",
    "Файл /datasets/vis.csv.\n",
    "\n",
    "- *date* — дата;\n",
    "- *group* — группа A/B-теста;\n",
    "- *visitors* — количество пользователей в указанную дату в указанной группе A/B-теста\n",
    "\n",
    "Данное исследование разделим на несколько частей. \n",
    "\n",
    "*[Часть 1.Приоритизация гипотез](#1)*\n",
    "* [1. Изучение общей информации, предобработка данных. ](#1.1)\n",
    "* [2. Применение фреймворка ICE для приоритизации гипотез. ](#1.2)\n",
    "* [3. Применение фреймворка RICE для приоритизации гипотез. ](#1.3)\n",
    "\n",
    "\n",
    "*[Часть 2. Анализ A/B-теста:](#2)*\n",
    "* [1. Анализ кумулятивных метрик ](#2.1)\n",
    "* [2. Анализ выбросов и всплесков. ](#2.2)\n",
    "* [3. Статистическая значимость. ](#2.3)\n",
    "\n",
    "\n",
    "*[Часть 3. Общий вывод по А/В-тесту.](#3)* "
   ]
  },
  {
   "cell_type": "markdown",
   "metadata": {},
   "source": [
    "<a id='1'></a>\n",
    "### Приоритизация гипотез:"
   ]
  },
  {
   "cell_type": "markdown",
   "metadata": {},
   "source": [
    "<a id='1.1'></a>\n",
    "#### Изучение общей информации, предобработка данных"
   ]
  },
  {
   "cell_type": "code",
   "execution_count": 1,
   "metadata": {},
   "outputs": [],
   "source": [
    "#импортируем библиотеки\n",
    "import pandas as pd\n",
    "import datetime as dt\n",
    "import matplotlib.pyplot as plt\n",
    "import math as mth\n",
    "import numpy as np\n",
    "import scipy.stats as stats"
   ]
  },
  {
   "cell_type": "code",
   "execution_count": 2,
   "metadata": {},
   "outputs": [
    {
     "data": {
      "text/html": [
       "<div>\n",
       "<style scoped>\n",
       "    .dataframe tbody tr th:only-of-type {\n",
       "        vertical-align: middle;\n",
       "    }\n",
       "\n",
       "    .dataframe tbody tr th {\n",
       "        vertical-align: top;\n",
       "    }\n",
       "\n",
       "    .dataframe thead th {\n",
       "        text-align: right;\n",
       "    }\n",
       "</style>\n",
       "<table border=\"1\" class=\"dataframe\">\n",
       "  <thead>\n",
       "    <tr style=\"text-align: right;\">\n",
       "      <th></th>\n",
       "      <th>Hypothesis</th>\n",
       "      <th>Reach</th>\n",
       "      <th>Impact</th>\n",
       "      <th>Confidence</th>\n",
       "      <th>Efforts</th>\n",
       "    </tr>\n",
       "  </thead>\n",
       "  <tbody>\n",
       "    <tr>\n",
       "      <th>0</th>\n",
       "      <td>Добавить два новых канала привлечения трафика, что позволит привлекать на 30% больше пользователей</td>\n",
       "      <td>3</td>\n",
       "      <td>10</td>\n",
       "      <td>8</td>\n",
       "      <td>6</td>\n",
       "    </tr>\n",
       "    <tr>\n",
       "      <th>1</th>\n",
       "      <td>Запустить собственную службу доставки, что сократит срок доставки заказов</td>\n",
       "      <td>2</td>\n",
       "      <td>5</td>\n",
       "      <td>4</td>\n",
       "      <td>10</td>\n",
       "    </tr>\n",
       "    <tr>\n",
       "      <th>2</th>\n",
       "      <td>Добавить блоки рекомендаций товаров на сайт интернет магазина, чтобы повысить конверсию и средний чек заказа</td>\n",
       "      <td>8</td>\n",
       "      <td>3</td>\n",
       "      <td>7</td>\n",
       "      <td>3</td>\n",
       "    </tr>\n",
       "    <tr>\n",
       "      <th>3</th>\n",
       "      <td>Изменить структура категорий, что увеличит конверсию, т.к. пользователи быстрее найдут нужный товар</td>\n",
       "      <td>8</td>\n",
       "      <td>3</td>\n",
       "      <td>3</td>\n",
       "      <td>8</td>\n",
       "    </tr>\n",
       "    <tr>\n",
       "      <th>4</th>\n",
       "      <td>Изменить цвет фона главной страницы, чтобы увеличить вовлеченность пользователей</td>\n",
       "      <td>3</td>\n",
       "      <td>1</td>\n",
       "      <td>1</td>\n",
       "      <td>1</td>\n",
       "    </tr>\n",
       "    <tr>\n",
       "      <th>5</th>\n",
       "      <td>Добавить страницу отзывов клиентов о магазине, что позволит увеличить количество заказов</td>\n",
       "      <td>3</td>\n",
       "      <td>2</td>\n",
       "      <td>2</td>\n",
       "      <td>3</td>\n",
       "    </tr>\n",
       "    <tr>\n",
       "      <th>6</th>\n",
       "      <td>Показать на главной странице баннеры с актуальными акциями и распродажами, чтобы увеличить конверсию</td>\n",
       "      <td>5</td>\n",
       "      <td>3</td>\n",
       "      <td>8</td>\n",
       "      <td>3</td>\n",
       "    </tr>\n",
       "    <tr>\n",
       "      <th>7</th>\n",
       "      <td>Добавить форму подписки на все основные страницы, чтобы собрать базу клиентов для email-рассылок</td>\n",
       "      <td>10</td>\n",
       "      <td>7</td>\n",
       "      <td>8</td>\n",
       "      <td>5</td>\n",
       "    </tr>\n",
       "    <tr>\n",
       "      <th>8</th>\n",
       "      <td>Запустить акцию, дающую скидку на товар в день рождения</td>\n",
       "      <td>1</td>\n",
       "      <td>9</td>\n",
       "      <td>9</td>\n",
       "      <td>5</td>\n",
       "    </tr>\n",
       "  </tbody>\n",
       "</table>\n",
       "</div>"
      ],
      "text/plain": [
       "                                                                                                     Hypothesis  \\\n",
       "0            Добавить два новых канала привлечения трафика, что позволит привлекать на 30% больше пользователей   \n",
       "1                                     Запустить собственную службу доставки, что сократит срок доставки заказов   \n",
       "2  Добавить блоки рекомендаций товаров на сайт интернет магазина, чтобы повысить конверсию и средний чек заказа   \n",
       "3           Изменить структура категорий, что увеличит конверсию, т.к. пользователи быстрее найдут нужный товар   \n",
       "4                              Изменить цвет фона главной страницы, чтобы увеличить вовлеченность пользователей   \n",
       "5                      Добавить страницу отзывов клиентов о магазине, что позволит увеличить количество заказов   \n",
       "6          Показать на главной странице баннеры с актуальными акциями и распродажами, чтобы увеличить конверсию   \n",
       "7              Добавить форму подписки на все основные страницы, чтобы собрать базу клиентов для email-рассылок   \n",
       "8                                                       Запустить акцию, дающую скидку на товар в день рождения   \n",
       "\n",
       "   Reach  Impact  Confidence  Efforts  \n",
       "0      3      10           8        6  \n",
       "1      2       5           4       10  \n",
       "2      8       3           7        3  \n",
       "3      8       3           3        8  \n",
       "4      3       1           1        1  \n",
       "5      3       2           2        3  \n",
       "6      5       3           8        3  \n",
       "7     10       7           8        5  \n",
       "8      1       9           9        5  "
      ]
     },
     "execution_count": 2,
     "metadata": {},
     "output_type": "execute_result"
    }
   ],
   "source": [
    "# изучим файл с гипотезами и  оценками параметров ICE\n",
    "pd.set_option('display.max_colwidth', None)\n",
    "data = pd.read_csv('/datasets/hyp.csv', sep=',')\n",
    "data"
   ]
  },
  {
   "cell_type": "code",
   "execution_count": 3,
   "metadata": {
    "scrolled": true
   },
   "outputs": [
    {
     "name": "stdout",
     "output_type": "stream",
     "text": [
      "<class 'pandas.core.frame.DataFrame'>\n",
      "RangeIndex: 9 entries, 0 to 8\n",
      "Data columns (total 5 columns):\n",
      " #   Column      Non-Null Count  Dtype \n",
      "---  ------      --------------  ----- \n",
      " 0   Hypothesis  9 non-null      object\n",
      " 1   Reach       9 non-null      int64 \n",
      " 2   Impact      9 non-null      int64 \n",
      " 3   Confidence  9 non-null      int64 \n",
      " 4   Efforts     9 non-null      int64 \n",
      "dtypes: int64(4), object(1)\n",
      "memory usage: 488.0+ bytes\n"
     ]
    }
   ],
   "source": [
    "#выведем общую информацию\n",
    "data.info()"
   ]
  },
  {
   "cell_type": "markdown",
   "metadata": {},
   "source": [
    "Всего у нас 9 записей. В данных нет пропусков, как и проблем с типом данных. Приведем в порядок названия столбцов."
   ]
  },
  {
   "cell_type": "code",
   "execution_count": 4,
   "metadata": {},
   "outputs": [
    {
     "data": {
      "text/plain": [
       "Index(['hypothesis', 'reach', 'impact', 'confidence', 'efforts'], dtype='object')"
      ]
     },
     "execution_count": 4,
     "metadata": {},
     "output_type": "execute_result"
    }
   ],
   "source": [
    "#названия столбцов приведем к нижнему регистру\n",
    "data.columns = data.columns.str.lower()\n",
    "data.columns"
   ]
  },
  {
   "cell_type": "markdown",
   "metadata": {},
   "source": [
    "<a id='1.2'></a>\n",
    "#### Применение фреймворка ICE для приоритизации гипотез."
   ]
  },
  {
   "cell_type": "code",
   "execution_count": 5,
   "metadata": {},
   "outputs": [],
   "source": [
    "#посчитаем ICE для гипотез,добавим полученные значения ICE к существующей таблице. Новый столбец назовем ICE\n",
    "data['ICE']=(data['impact']*data['confidence'])/data['efforts']"
   ]
  },
  {
   "cell_type": "code",
   "execution_count": 6,
   "metadata": {},
   "outputs": [
    {
     "data": {
      "text/html": [
       "<div>\n",
       "<style scoped>\n",
       "    .dataframe tbody tr th:only-of-type {\n",
       "        vertical-align: middle;\n",
       "    }\n",
       "\n",
       "    .dataframe tbody tr th {\n",
       "        vertical-align: top;\n",
       "    }\n",
       "\n",
       "    .dataframe thead th {\n",
       "        text-align: right;\n",
       "    }\n",
       "</style>\n",
       "<table border=\"1\" class=\"dataframe\">\n",
       "  <thead>\n",
       "    <tr style=\"text-align: right;\">\n",
       "      <th></th>\n",
       "      <th>hypothesis</th>\n",
       "      <th>ICE</th>\n",
       "    </tr>\n",
       "  </thead>\n",
       "  <tbody>\n",
       "    <tr>\n",
       "      <th>8</th>\n",
       "      <td>Запустить акцию, дающую скидку на товар в день рождения</td>\n",
       "      <td>16.20</td>\n",
       "    </tr>\n",
       "    <tr>\n",
       "      <th>0</th>\n",
       "      <td>Добавить два новых канала привлечения трафика, что позволит привлекать на 30% больше пользователей</td>\n",
       "      <td>13.33</td>\n",
       "    </tr>\n",
       "    <tr>\n",
       "      <th>7</th>\n",
       "      <td>Добавить форму подписки на все основные страницы, чтобы собрать базу клиентов для email-рассылок</td>\n",
       "      <td>11.20</td>\n",
       "    </tr>\n",
       "    <tr>\n",
       "      <th>6</th>\n",
       "      <td>Показать на главной странице баннеры с актуальными акциями и распродажами, чтобы увеличить конверсию</td>\n",
       "      <td>8.00</td>\n",
       "    </tr>\n",
       "    <tr>\n",
       "      <th>2</th>\n",
       "      <td>Добавить блоки рекомендаций товаров на сайт интернет магазина, чтобы повысить конверсию и средний чек заказа</td>\n",
       "      <td>7.00</td>\n",
       "    </tr>\n",
       "    <tr>\n",
       "      <th>1</th>\n",
       "      <td>Запустить собственную службу доставки, что сократит срок доставки заказов</td>\n",
       "      <td>2.00</td>\n",
       "    </tr>\n",
       "    <tr>\n",
       "      <th>5</th>\n",
       "      <td>Добавить страницу отзывов клиентов о магазине, что позволит увеличить количество заказов</td>\n",
       "      <td>1.33</td>\n",
       "    </tr>\n",
       "    <tr>\n",
       "      <th>3</th>\n",
       "      <td>Изменить структура категорий, что увеличит конверсию, т.к. пользователи быстрее найдут нужный товар</td>\n",
       "      <td>1.12</td>\n",
       "    </tr>\n",
       "    <tr>\n",
       "      <th>4</th>\n",
       "      <td>Изменить цвет фона главной страницы, чтобы увеличить вовлеченность пользователей</td>\n",
       "      <td>1.00</td>\n",
       "    </tr>\n",
       "  </tbody>\n",
       "</table>\n",
       "</div>"
      ],
      "text/plain": [
       "                                                                                                     hypothesis  \\\n",
       "8                                                       Запустить акцию, дающую скидку на товар в день рождения   \n",
       "0            Добавить два новых канала привлечения трафика, что позволит привлекать на 30% больше пользователей   \n",
       "7              Добавить форму подписки на все основные страницы, чтобы собрать базу клиентов для email-рассылок   \n",
       "6          Показать на главной странице баннеры с актуальными акциями и распродажами, чтобы увеличить конверсию   \n",
       "2  Добавить блоки рекомендаций товаров на сайт интернет магазина, чтобы повысить конверсию и средний чек заказа   \n",
       "1                                     Запустить собственную службу доставки, что сократит срок доставки заказов   \n",
       "5                      Добавить страницу отзывов клиентов о магазине, что позволит увеличить количество заказов   \n",
       "3           Изменить структура категорий, что увеличит конверсию, т.к. пользователи быстрее найдут нужный товар   \n",
       "4                              Изменить цвет фона главной страницы, чтобы увеличить вовлеченность пользователей   \n",
       "\n",
       "     ICE  \n",
       "8  16.20  \n",
       "0  13.33  \n",
       "7  11.20  \n",
       "6   8.00  \n",
       "2   7.00  \n",
       "1   2.00  \n",
       "5   1.33  \n",
       "3   1.12  \n",
       "4   1.00  "
      ]
     },
     "execution_count": 6,
     "metadata": {},
     "output_type": "execute_result"
    }
   ],
   "source": [
    "#выведем столбцы 'hypothesis' и 'ICE', отсортированные по столбцу 'ICE'.\n",
    "data[['hypothesis','ICE']].sort_values(by='ICE',ascending=False).round(2)"
   ]
  },
  {
   "cell_type": "markdown",
   "metadata": {},
   "source": [
    "Вывод: наиболее перспективные гипотезы по ICE: \n",
    "- 1-Запустить акцию, дающую скидку на товар в день рождения\t\n",
    "- 2-Добавить два новых канала привлечения трафика, что позволит привлекать на 30% больше пользователей\n",
    "- 3-Добавить форму подписки на все основные страницы, чтобы собрать базу клиентов для email-рассылок\n",
    "- 4-Показать на главной странице баннеры с актуальными акциями и распродажами, чтобы увеличить конверсию"
   ]
  },
  {
   "cell_type": "markdown",
   "metadata": {},
   "source": [
    "<a id='1.3'></a>\n",
    "#### Применение фреймворка RICE для приоритизации гипотез."
   ]
  },
  {
   "cell_type": "code",
   "execution_count": 7,
   "metadata": {},
   "outputs": [],
   "source": [
    "#посчитаем RICE для гипотез,добавим полученные значения ICE к существующей таблице. Новый столбец назовем RICE\n",
    "data['RICE']=(data['reach']*data['impact']*data['confidence'])/data['efforts']"
   ]
  },
  {
   "cell_type": "code",
   "execution_count": 8,
   "metadata": {
    "scrolled": true
   },
   "outputs": [
    {
     "data": {
      "text/html": [
       "<div>\n",
       "<style scoped>\n",
       "    .dataframe tbody tr th:only-of-type {\n",
       "        vertical-align: middle;\n",
       "    }\n",
       "\n",
       "    .dataframe tbody tr th {\n",
       "        vertical-align: top;\n",
       "    }\n",
       "\n",
       "    .dataframe thead th {\n",
       "        text-align: right;\n",
       "    }\n",
       "</style>\n",
       "<table border=\"1\" class=\"dataframe\">\n",
       "  <thead>\n",
       "    <tr style=\"text-align: right;\">\n",
       "      <th></th>\n",
       "      <th>hypothesis</th>\n",
       "      <th>RICE</th>\n",
       "    </tr>\n",
       "  </thead>\n",
       "  <tbody>\n",
       "    <tr>\n",
       "      <th>7</th>\n",
       "      <td>Добавить форму подписки на все основные страницы, чтобы собрать базу клиентов для email-рассылок</td>\n",
       "      <td>112.0</td>\n",
       "    </tr>\n",
       "    <tr>\n",
       "      <th>2</th>\n",
       "      <td>Добавить блоки рекомендаций товаров на сайт интернет магазина, чтобы повысить конверсию и средний чек заказа</td>\n",
       "      <td>56.0</td>\n",
       "    </tr>\n",
       "    <tr>\n",
       "      <th>0</th>\n",
       "      <td>Добавить два новых канала привлечения трафика, что позволит привлекать на 30% больше пользователей</td>\n",
       "      <td>40.0</td>\n",
       "    </tr>\n",
       "    <tr>\n",
       "      <th>6</th>\n",
       "      <td>Показать на главной странице баннеры с актуальными акциями и распродажами, чтобы увеличить конверсию</td>\n",
       "      <td>40.0</td>\n",
       "    </tr>\n",
       "    <tr>\n",
       "      <th>8</th>\n",
       "      <td>Запустить акцию, дающую скидку на товар в день рождения</td>\n",
       "      <td>16.2</td>\n",
       "    </tr>\n",
       "    <tr>\n",
       "      <th>3</th>\n",
       "      <td>Изменить структура категорий, что увеличит конверсию, т.к. пользователи быстрее найдут нужный товар</td>\n",
       "      <td>9.0</td>\n",
       "    </tr>\n",
       "    <tr>\n",
       "      <th>1</th>\n",
       "      <td>Запустить собственную службу доставки, что сократит срок доставки заказов</td>\n",
       "      <td>4.0</td>\n",
       "    </tr>\n",
       "    <tr>\n",
       "      <th>5</th>\n",
       "      <td>Добавить страницу отзывов клиентов о магазине, что позволит увеличить количество заказов</td>\n",
       "      <td>4.0</td>\n",
       "    </tr>\n",
       "    <tr>\n",
       "      <th>4</th>\n",
       "      <td>Изменить цвет фона главной страницы, чтобы увеличить вовлеченность пользователей</td>\n",
       "      <td>3.0</td>\n",
       "    </tr>\n",
       "  </tbody>\n",
       "</table>\n",
       "</div>"
      ],
      "text/plain": [
       "                                                                                                     hypothesis  \\\n",
       "7              Добавить форму подписки на все основные страницы, чтобы собрать базу клиентов для email-рассылок   \n",
       "2  Добавить блоки рекомендаций товаров на сайт интернет магазина, чтобы повысить конверсию и средний чек заказа   \n",
       "0            Добавить два новых канала привлечения трафика, что позволит привлекать на 30% больше пользователей   \n",
       "6          Показать на главной странице баннеры с актуальными акциями и распродажами, чтобы увеличить конверсию   \n",
       "8                                                       Запустить акцию, дающую скидку на товар в день рождения   \n",
       "3           Изменить структура категорий, что увеличит конверсию, т.к. пользователи быстрее найдут нужный товар   \n",
       "1                                     Запустить собственную службу доставки, что сократит срок доставки заказов   \n",
       "5                      Добавить страницу отзывов клиентов о магазине, что позволит увеличить количество заказов   \n",
       "4                              Изменить цвет фона главной страницы, чтобы увеличить вовлеченность пользователей   \n",
       "\n",
       "    RICE  \n",
       "7  112.0  \n",
       "2   56.0  \n",
       "0   40.0  \n",
       "6   40.0  \n",
       "8   16.2  \n",
       "3    9.0  \n",
       "1    4.0  \n",
       "5    4.0  \n",
       "4    3.0  "
      ]
     },
     "execution_count": 8,
     "metadata": {},
     "output_type": "execute_result"
    }
   ],
   "source": [
    "#выведем столбцы 'hypothesis' и 'ICE', отсортированные по столбцу 'ICE'.\n",
    "data[['hypothesis','RICE']].sort_values(by='RICE',ascending=False)"
   ]
  },
  {
   "cell_type": "markdown",
   "metadata": {},
   "source": [
    "Вывод: наиболее перспективные гипотезы по ICE: \n",
    "- 1-Добавить форму подписки на все основные страницы, чтобы собрать базу клиентов для email-рассылок\n",
    "- 2-Добавить блоки рекомендаций товаров на сайт интернет магазина, чтобы повысить конверсию и средний чек заказа\n",
    "- 3-Добавить два новых канала привлечения трафика, что позволит привлекать на 30% больше пользователей \n",
    "- 4-Показать на главной странице баннеры с актуальными акциями и распродажами, чтобы увеличить конверсию"
   ]
  },
  {
   "cell_type": "markdown",
   "metadata": {},
   "source": [
    "Общий вывод:  при применении RICE вместо ICE  на первом  месте теперь гипотеза \"добавить форму подписки на все основные страницы, чтобы собрать базу клиентов для email-рассылок\", вместо \"запустить акцию, дающую скидку на товар в день рождения\". Это связано с тем, что параметр Reach у этой гипотезы 10, а у других гипотез он меньше. Это показывает, как один показатель, может изменить приоритет гипотез."
   ]
  },
  {
   "cell_type": "markdown",
   "metadata": {},
   "source": [
    "Согласно обоим методам, можно выделить две лидирующие гипотезы: 'Добавить форму подписки на все основные страницы, чтобы собрать базу клиентов для email-рассылок','Добавить два новых канала привлечения трафика, что позволит привлекать на 30% больше пользователей'."
   ]
  },
  {
   "cell_type": "markdown",
   "metadata": {},
   "source": [
    "<a id='2'></a>\n",
    "### Анализ A/B-теста:"
   ]
  },
  {
   "cell_type": "markdown",
   "metadata": {},
   "source": [
    "<a id='2.1'></a>\n",
    "#### Анализ кумулятивных метрик.\n"
   ]
  },
  {
   "cell_type": "markdown",
   "metadata": {},
   "source": [
    "Изучим данные из файлов с заказами и посетителями. "
   ]
  },
  {
   "cell_type": "code",
   "execution_count": 9,
   "metadata": {},
   "outputs": [
    {
     "data": {
      "text/html": [
       "<div>\n",
       "<style scoped>\n",
       "    .dataframe tbody tr th:only-of-type {\n",
       "        vertical-align: middle;\n",
       "    }\n",
       "\n",
       "    .dataframe tbody tr th {\n",
       "        vertical-align: top;\n",
       "    }\n",
       "\n",
       "    .dataframe thead th {\n",
       "        text-align: right;\n",
       "    }\n",
       "</style>\n",
       "<table border=\"1\" class=\"dataframe\">\n",
       "  <thead>\n",
       "    <tr style=\"text-align: right;\">\n",
       "      <th></th>\n",
       "      <th>transactionId</th>\n",
       "      <th>visitorId</th>\n",
       "      <th>date</th>\n",
       "      <th>revenue</th>\n",
       "      <th>group</th>\n",
       "    </tr>\n",
       "  </thead>\n",
       "  <tbody>\n",
       "    <tr>\n",
       "      <th>1021</th>\n",
       "      <td>969750843</td>\n",
       "      <td>4120364173</td>\n",
       "      <td>2019-08-31</td>\n",
       "      <td>15500</td>\n",
       "      <td>B</td>\n",
       "    </tr>\n",
       "    <tr>\n",
       "      <th>234</th>\n",
       "      <td>699854005</td>\n",
       "      <td>3391919803</td>\n",
       "      <td>2019-08-23</td>\n",
       "      <td>2320</td>\n",
       "      <td>B</td>\n",
       "    </tr>\n",
       "    <tr>\n",
       "      <th>680</th>\n",
       "      <td>2083889130</td>\n",
       "      <td>4176813035</td>\n",
       "      <td>2019-08-20</td>\n",
       "      <td>1680</td>\n",
       "      <td>B</td>\n",
       "    </tr>\n",
       "    <tr>\n",
       "      <th>965</th>\n",
       "      <td>271768864</td>\n",
       "      <td>2440451175</td>\n",
       "      <td>2019-08-10</td>\n",
       "      <td>5900</td>\n",
       "      <td>A</td>\n",
       "    </tr>\n",
       "    <tr>\n",
       "      <th>985</th>\n",
       "      <td>2689922045</td>\n",
       "      <td>3020644940</td>\n",
       "      <td>2019-08-10</td>\n",
       "      <td>5430</td>\n",
       "      <td>A</td>\n",
       "    </tr>\n",
       "    <tr>\n",
       "      <th>886</th>\n",
       "      <td>51443164</td>\n",
       "      <td>4278982564</td>\n",
       "      <td>2019-08-05</td>\n",
       "      <td>24744</td>\n",
       "      <td>A</td>\n",
       "    </tr>\n",
       "    <tr>\n",
       "      <th>72</th>\n",
       "      <td>477940151</td>\n",
       "      <td>1422773200</td>\n",
       "      <td>2019-08-01</td>\n",
       "      <td>700</td>\n",
       "      <td>A</td>\n",
       "    </tr>\n",
       "    <tr>\n",
       "      <th>1117</th>\n",
       "      <td>3003595335</td>\n",
       "      <td>1810540789</td>\n",
       "      <td>2019-08-13</td>\n",
       "      <td>11565</td>\n",
       "      <td>B</td>\n",
       "    </tr>\n",
       "    <tr>\n",
       "      <th>367</th>\n",
       "      <td>1033377712</td>\n",
       "      <td>3860669668</td>\n",
       "      <td>2019-08-19</td>\n",
       "      <td>3990</td>\n",
       "      <td>B</td>\n",
       "    </tr>\n",
       "    <tr>\n",
       "      <th>283</th>\n",
       "      <td>3641100475</td>\n",
       "      <td>1579036099</td>\n",
       "      <td>2019-08-18</td>\n",
       "      <td>1100</td>\n",
       "      <td>B</td>\n",
       "    </tr>\n",
       "  </tbody>\n",
       "</table>\n",
       "</div>"
      ],
      "text/plain": [
       "      transactionId   visitorId        date  revenue group\n",
       "1021      969750843  4120364173  2019-08-31    15500     B\n",
       "234       699854005  3391919803  2019-08-23     2320     B\n",
       "680      2083889130  4176813035  2019-08-20     1680     B\n",
       "965       271768864  2440451175  2019-08-10     5900     A\n",
       "985      2689922045  3020644940  2019-08-10     5430     A\n",
       "886        51443164  4278982564  2019-08-05    24744     A\n",
       "72        477940151  1422773200  2019-08-01      700     A\n",
       "1117     3003595335  1810540789  2019-08-13    11565     B\n",
       "367      1033377712  3860669668  2019-08-19     3990     B\n",
       "283      3641100475  1579036099  2019-08-18     1100     B"
      ]
     },
     "execution_count": 9,
     "metadata": {},
     "output_type": "execute_result"
    }
   ],
   "source": [
    "# прочтём данные из файлов с результатами A/B-тестирования\n",
    "orders = pd.read_csv('/datasets/ord.csv', sep=',')\n",
    "orders.sample(10)"
   ]
  },
  {
   "cell_type": "code",
   "execution_count": 10,
   "metadata": {},
   "outputs": [
    {
     "data": {
      "text/html": [
       "<div>\n",
       "<style scoped>\n",
       "    .dataframe tbody tr th:only-of-type {\n",
       "        vertical-align: middle;\n",
       "    }\n",
       "\n",
       "    .dataframe tbody tr th {\n",
       "        vertical-align: top;\n",
       "    }\n",
       "\n",
       "    .dataframe thead th {\n",
       "        text-align: right;\n",
       "    }\n",
       "</style>\n",
       "<table border=\"1\" class=\"dataframe\">\n",
       "  <thead>\n",
       "    <tr style=\"text-align: right;\">\n",
       "      <th></th>\n",
       "      <th>date</th>\n",
       "      <th>group</th>\n",
       "      <th>visitors</th>\n",
       "    </tr>\n",
       "  </thead>\n",
       "  <tbody>\n",
       "    <tr>\n",
       "      <th>27</th>\n",
       "      <td>2019-08-28</td>\n",
       "      <td>A</td>\n",
       "      <td>594</td>\n",
       "    </tr>\n",
       "    <tr>\n",
       "      <th>48</th>\n",
       "      <td>2019-08-18</td>\n",
       "      <td>B</td>\n",
       "      <td>737</td>\n",
       "    </tr>\n",
       "    <tr>\n",
       "      <th>44</th>\n",
       "      <td>2019-08-14</td>\n",
       "      <td>B</td>\n",
       "      <td>746</td>\n",
       "    </tr>\n",
       "    <tr>\n",
       "      <th>22</th>\n",
       "      <td>2019-08-23</td>\n",
       "      <td>A</td>\n",
       "      <td>468</td>\n",
       "    </tr>\n",
       "    <tr>\n",
       "      <th>52</th>\n",
       "      <td>2019-08-22</td>\n",
       "      <td>B</td>\n",
       "      <td>650</td>\n",
       "    </tr>\n",
       "    <tr>\n",
       "      <th>37</th>\n",
       "      <td>2019-08-07</td>\n",
       "      <td>B</td>\n",
       "      <td>709</td>\n",
       "    </tr>\n",
       "    <tr>\n",
       "      <th>17</th>\n",
       "      <td>2019-08-18</td>\n",
       "      <td>A</td>\n",
       "      <td>668</td>\n",
       "    </tr>\n",
       "    <tr>\n",
       "      <th>42</th>\n",
       "      <td>2019-08-12</td>\n",
       "      <td>B</td>\n",
       "      <td>543</td>\n",
       "    </tr>\n",
       "    <tr>\n",
       "      <th>24</th>\n",
       "      <td>2019-08-25</td>\n",
       "      <td>A</td>\n",
       "      <td>621</td>\n",
       "    </tr>\n",
       "    <tr>\n",
       "      <th>46</th>\n",
       "      <td>2019-08-16</td>\n",
       "      <td>B</td>\n",
       "      <td>413</td>\n",
       "    </tr>\n",
       "  </tbody>\n",
       "</table>\n",
       "</div>"
      ],
      "text/plain": [
       "          date group  visitors\n",
       "27  2019-08-28     A       594\n",
       "48  2019-08-18     B       737\n",
       "44  2019-08-14     B       746\n",
       "22  2019-08-23     A       468\n",
       "52  2019-08-22     B       650\n",
       "37  2019-08-07     B       709\n",
       "17  2019-08-18     A       668\n",
       "42  2019-08-12     B       543\n",
       "24  2019-08-25     A       621\n",
       "46  2019-08-16     B       413"
      ]
     },
     "execution_count": 10,
     "metadata": {},
     "output_type": "execute_result"
    }
   ],
   "source": [
    "visitors = pd.read_csv('/datasets/vis.csv', sep=',')\n",
    "visitors.sample(10)"
   ]
  },
  {
   "cell_type": "code",
   "execution_count": 11,
   "metadata": {
    "scrolled": true
   },
   "outputs": [
    {
     "name": "stdout",
     "output_type": "stream",
     "text": [
      "<class 'pandas.core.frame.DataFrame'>\n",
      "RangeIndex: 1197 entries, 0 to 1196\n",
      "Data columns (total 5 columns):\n",
      " #   Column         Non-Null Count  Dtype \n",
      "---  ------         --------------  ----- \n",
      " 0   transactionId  1197 non-null   int64 \n",
      " 1   visitorId      1197 non-null   int64 \n",
      " 2   date           1197 non-null   object\n",
      " 3   revenue        1197 non-null   int64 \n",
      " 4   group          1197 non-null   object\n",
      "dtypes: int64(3), object(2)\n",
      "memory usage: 46.9+ KB\n"
     ]
    }
   ],
   "source": [
    "#выведем общую информацию по заказам\n",
    "orders.info()"
   ]
  },
  {
   "cell_type": "code",
   "execution_count": 12,
   "metadata": {
    "scrolled": false
   },
   "outputs": [
    {
     "name": "stdout",
     "output_type": "stream",
     "text": [
      "<class 'pandas.core.frame.DataFrame'>\n",
      "RangeIndex: 62 entries, 0 to 61\n",
      "Data columns (total 3 columns):\n",
      " #   Column    Non-Null Count  Dtype \n",
      "---  ------    --------------  ----- \n",
      " 0   date      62 non-null     object\n",
      " 1   group     62 non-null     object\n",
      " 2   visitors  62 non-null     int64 \n",
      "dtypes: int64(1), object(2)\n",
      "memory usage: 1.6+ KB\n"
     ]
    }
   ],
   "source": [
    "#выведем общую информацию по посетителям\n",
    "visitors.info()"
   ]
  },
  {
   "cell_type": "code",
   "execution_count": 13,
   "metadata": {},
   "outputs": [],
   "source": [
    "# преобразование даты \n",
    "orders['date'] = pd.to_datetime(orders['date']). dt.date\n",
    "visitors['date'] = pd.to_datetime(visitors['date']). dt.date"
   ]
  },
  {
   "cell_type": "code",
   "execution_count": 14,
   "metadata": {},
   "outputs": [
    {
     "data": {
      "text/plain": [
       "0"
      ]
     },
     "execution_count": 14,
     "metadata": {},
     "output_type": "execute_result"
    }
   ],
   "source": [
    "# проверим на наличие явных дубликатов\n",
    "orders.duplicated().sum()"
   ]
  },
  {
   "cell_type": "code",
   "execution_count": 15,
   "metadata": {},
   "outputs": [
    {
     "data": {
      "text/plain": [
       "0"
      ]
     },
     "execution_count": 15,
     "metadata": {},
     "output_type": "execute_result"
    }
   ],
   "source": [
    "# проверим на наличие явных дубликатов\n",
    "visitors.duplicated().sum()"
   ]
  },
  {
   "cell_type": "code",
   "execution_count": 16,
   "metadata": {},
   "outputs": [
    {
     "name": "stdout",
     "output_type": "stream",
     "text": [
      "group\n",
      "A    557\n",
      "B    640\n",
      "Name: visitorId, dtype: int64\n"
     ]
    }
   ],
   "source": [
    "# посмотрим сколько у нас групп в А/В-тесте и количество пользователей  в каждой группе по таблице с заказами.\n",
    "print(orders.groupby('group')['visitorId'].count())"
   ]
  },
  {
   "cell_type": "code",
   "execution_count": 45,
   "metadata": {},
   "outputs": [
    {
     "data": {
      "text/plain": [
       "group    58\n",
       "dtype: int64"
      ]
     },
     "execution_count": 45,
     "metadata": {},
     "output_type": "execute_result"
    }
   ],
   "source": [
    "#посмотрим не попадают ли какие-то пользователи в обе группы - по таблице с заказами.\n",
    "orders.groupby('visitorId').agg({'group' : 'nunique'}).query('group>1').count()"
   ]
  },
  {
   "cell_type": "markdown",
   "metadata": {},
   "source": [
    "Пересечения в группах есть,причиной может быть сбой в системе или какие-то внешние факторы, оставим как есть."
   ]
  },
  {
   "cell_type": "code",
   "execution_count": 18,
   "metadata": {},
   "outputs": [
    {
     "name": "stdout",
     "output_type": "stream",
     "text": [
      "Начало теста:  2019-08-01   Конец теста:  2019-08-31\n"
     ]
    }
   ],
   "source": [
    "# узнаем дату начала и окончания теста\n",
    "print('Начало теста: ',orders['date'].min(),'  Конец теста: ',orders['date'].max())"
   ]
  },
  {
   "cell_type": "markdown",
   "metadata": {},
   "source": [
    "Вывод: мы изучили данные,пропусков и явных дубликатов не обнаружили, у столбцов с датами изменили тип данных. Узнали что в тесте 2 группы - \"А\" и \"В\", изучили временной интервал,тест проводился в течении месяца. Данные к работе готовы."
   ]
  },
  {
   "cell_type": "markdown",
   "metadata": {},
   "source": [
    "Построим график кумулятивной выручки по группам.Для этого нужно собрать кумулятивные данные. Объявим датафрейм cumulativeData со столбцами: \n",
    "date — дата;\n",
    "group — группа A/B-теста (A или B);\n",
    "orders — кумулятивное количество заказов на указанную дату в указанной группе;\n",
    "buyers — кумулятивное количество пользователей, совершивших хотя бы один заказ, на указанную дату в указанной группе;\n",
    "revenue — кумулятивная выручка на указанную дату в указанной группе (средний чек);\n",
    "visitors — кумулятивное количество посетителей интернет-магазина на указанную дату в определённой группе."
   ]
  },
  {
   "cell_type": "code",
   "execution_count": 19,
   "metadata": {},
   "outputs": [],
   "source": [
    "# создаем массив уникальных пар значений дат и групп теста,избавимся от дубликатов\n",
    "datesGroups = orders[['date','group']].drop_duplicates()"
   ]
  },
  {
   "cell_type": "code",
   "execution_count": 20,
   "metadata": {},
   "outputs": [],
   "source": [
    "# агрегируем данные о заказах и вычислим максимальную дату\n",
    "ordersAggregated=datesGroups.apply(lambda x: orders[np.logical_and(orders['date'] <= x['date'], orders['group'] == x['group'])]\\\n",
    ".agg({'date' : 'max', 'group' : 'max', 'transactionId' : 'nunique', 'visitorId' : 'nunique', 'revenue' : 'sum'}), axis=1)\\\n",
    ".sort_values(by=['date','group'])"
   ]
  },
  {
   "cell_type": "markdown",
   "metadata": {},
   "source": [
    "Аналогично получим агрегированные кумулятивные по дням данные о посетителях интернет-магазина."
   ]
  },
  {
   "cell_type": "code",
   "execution_count": 21,
   "metadata": {},
   "outputs": [],
   "source": [
    "visitorsAggregated = datesGroups.apply(lambda x: visitors[np.logical_and(visitors['date'] <= x['date'],\\\n",
    "visitors['group'] == x['group'])].agg({'date' : 'max', 'group' : 'max', 'visitors' : 'sum'}), axis=1)\\\n",
    ".sort_values(by=['date','group'])"
   ]
  },
  {
   "cell_type": "markdown",
   "metadata": {},
   "source": [
    "Объединим обе таблицы в одну с понятными названиями столбцов: "
   ]
  },
  {
   "cell_type": "code",
   "execution_count": 22,
   "metadata": {},
   "outputs": [
    {
     "name": "stdout",
     "output_type": "stream",
     "text": [
      "         date group  orders  buyers  revenue  visitors\n",
      "0  2019-08-01     A      24      20   148579       719\n",
      "1  2019-08-01     B      21      20   101217       713\n",
      "2  2019-08-02     A      44      38   242401      1338\n",
      "3  2019-08-02     B      45      43   266748      1294\n",
      "4  2019-08-03     A      68      62   354874      1845\n"
     ]
    }
   ],
   "source": [
    "# создаем массив уникальных пар значений дат и групп теста\n",
    "datesGroups = orders[['date','group']].drop_duplicates()\n",
    "\n",
    "# получаем агрегированные кумулятивные по дням данные о заказах \n",
    "ordersAggregated =datesGroups.apply(lambda x:orders[np.logical_and(orders['date'] <= x['date'], orders['group'] == x['group'])]\\\n",
    ".agg({'date' : 'max', 'group' : 'max', 'transactionId' : 'nunique', 'visitorId' : 'nunique', 'revenue' : 'sum'}), axis=1)\\\n",
    ".sort_values(by=['date','group'])\n",
    "\n",
    "# получаем агрегированные кумулятивные по дням данные о посетителях интернет-магазина \n",
    "visitorsAggregated = datesGroups.apply(lambda x: visitors[np.logical_and(visitors['date'] <= x['date'],\\\n",
    " visitors['group'] == x['group'])].agg({'date' : 'max', 'group' : 'max', 'visitors' : 'sum'}), axis=1)\\\n",
    ".sort_values(by=['date','group'])\n",
    "\n",
    "# объединяем кумулятивные данные в одной таблице и присваиваем ее столбцам понятные названия\n",
    "cumulativeData = ordersAggregated.merge(visitorsAggregated, left_on=['date', 'group'], right_on=['date', 'group'])\n",
    "cumulativeData.columns = ['date', 'group', 'orders', 'buyers', 'revenue', 'visitors']\n",
    "\n",
    "print(cumulativeData.head(5))"
   ]
  },
  {
   "cell_type": "code",
   "execution_count": 23,
   "metadata": {},
   "outputs": [
    {
     "name": "stdout",
     "output_type": "stream",
     "text": [
      "Начало теста:  2019-08-01   Конец теста:  2019-08-31\n"
     ]
    }
   ],
   "source": [
    "# прверим совпадают ли даты начала и конца теста в исходных данных и в cumulativeData\n",
    "print('Начало теста: ',cumulativeData['date'].min(),'  Конец теста: ',cumulativeData['date'].max())"
   ]
  },
  {
   "cell_type": "markdown",
   "metadata": {},
   "source": [
    "Построим графики кумулятивной выручки по дням и группам A/B-тестирования:"
   ]
  },
  {
   "cell_type": "code",
   "execution_count": 24,
   "metadata": {},
   "outputs": [
    {
     "data": {
      "image/png": "[encoded data removed]",
      "text/plain": [
       "<Figure size 1080x576 with 1 Axes>"
      ]
     },
     "metadata": {
      "needs_background": "light"
     },
     "output_type": "display_data"
    }
   ],
   "source": [
    "# датафрейм с кумулятивным количеством заказов и кумулятивной выручкой по дням в группе А\n",
    "cumulativeRevenueA = cumulativeData[cumulativeData['group']=='A'][['date','revenue', 'orders']]\n",
    "\n",
    "# датафрейм с кумулятивным количеством заказов и кумулятивной выручкой по дням в группе B\n",
    "cumulativeRevenueB = cumulativeData[cumulativeData['group']=='B'][['date','revenue', 'orders']]\n",
    "\n",
    "# Строим график выручки группы А и группы B\n",
    "plt.figure(figsize = (15,8));\n",
    "plt.title('График кумулятивной выручки по группам');\n",
    "plt.xlabel('Дата');\n",
    "plt.ylabel('Выручка');\n",
    "\n",
    "plt.plot(cumulativeRevenueA['date'], cumulativeRevenueA['revenue'], label='A')\n",
    "plt.plot(cumulativeRevenueB['date'], cumulativeRevenueB['revenue'], label='B')\n",
    "plt.xticks(rotation=45);\n",
    "plt.legend();"
   ]
  },
  {
   "cell_type": "markdown",
   "metadata": {},
   "source": [
    "Выручка почти равномерно увеличивается в течение всего теста. Сегмент В вырвался вперед и продолжил лидировать до конца теста. Это может сигнализировать о всплесках числа заказов, либо о появлении очень дорогих заказов в выборке."
   ]
  },
  {
   "cell_type": "markdown",
   "metadata": {},
   "source": [
    "Построим **графики среднего чека по группам** — разделим кумулятивную выручку на кумулятивное число заказов:\n"
   ]
  },
  {
   "cell_type": "code",
   "execution_count": 25,
   "metadata": {},
   "outputs": [
    {
     "data": {
      "image/png": "[encoded data removed]",
      "text/plain": [
       "<Figure size 1080x576 with 1 Axes>"
      ]
     },
     "metadata": {
      "needs_background": "light"
     },
     "output_type": "display_data"
    }
   ],
   "source": [
    "plt.figure(figsize = (15,8));\n",
    "plt.title('График кумулятивного среднего чека по группам');\n",
    "plt.xlabel('Дата');\n",
    "plt.ylabel('Средний чек');\n",
    "plt.plot(cumulativeRevenueA['date'], cumulativeRevenueA['revenue']/cumulativeRevenueA['orders'], label='A')\n",
    "plt.plot(cumulativeRevenueB['date'], cumulativeRevenueB['revenue']/cumulativeRevenueB['orders'], label='B')\n",
    "plt.xticks(rotation=45);\n",
    "plt.legend();"
   ]
  },
  {
   "cell_type": "markdown",
   "metadata": {},
   "source": [
    "Средний чек тоже становится равномерным ближе к концу теста. Резкие всплески в группе В,возможно, в группу B во второй половине теста попали крупные заказы. "
   ]
  },
  {
   "cell_type": "markdown",
   "metadata": {},
   "source": [
    "Построим **график относительного изменения кумулятивного среднего чека группы B к группе A**. "
   ]
  },
  {
   "cell_type": "code",
   "execution_count": 26,
   "metadata": {},
   "outputs": [
    {
     "data": {
      "image/png": "[encoded data removed]",
      "text/plain": [
       "<Figure size 1080x576 with 1 Axes>"
      ]
     },
     "metadata": {
      "needs_background": "light"
     },
     "output_type": "display_data"
    }
   ],
   "source": [
    "# собираем данные в одном датафрейме\n",
    "mergedCumulativeRevenue = cumulativeRevenueA.merge(cumulativeRevenueB, left_on='date', right_on='date', how='left',\\\n",
    "                                                   suffixes=['A', 'B'])\n",
    "\n",
    "# cтроим отношение средних чеков\n",
    "plt.figure(figsize = (15,8));\n",
    "plt.title('График относительного изменения кумулятивного среднего чека группы B к группе A');\n",
    "plt.xlabel('Дата');\n",
    "plt.ylabel('Разница в средних чеках');\n",
    "plt.plot(mergedCumulativeRevenue['date'], (mergedCumulativeRevenue['revenueB']/mergedCumulativeRevenue['ordersB'])\\\n",
    "         /(mergedCumulativeRevenue['revenueA']/mergedCumulativeRevenue['ordersA'])-1)\n",
    "\n",
    "# добавляем ось X\n",
    "plt.axhline(y=0, color='black', linestyle='--');\n",
    "plt.xticks(rotation=45);\n"
   ]
  },
  {
   "cell_type": "markdown",
   "metadata": {},
   "source": [
    "Результаты теста резко и значительно менялись в несколько дат.Видимо там спрятались крупные заказы и выбросы."
   ]
  },
  {
   "cell_type": "markdown",
   "metadata": {},
   "source": [
    "Построим **график кумулятивного среднего количества заказов на посетителя по группам**."
   ]
  },
  {
   "cell_type": "code",
   "execution_count": 27,
   "metadata": {},
   "outputs": [
    {
     "data": {
      "image/png": "[encoded data removed]",
      "text/plain": [
       "<Figure size 1080x576 with 1 Axes>"
      ]
     },
     "metadata": {
      "needs_background": "light"
     },
     "output_type": "display_data"
    }
   ],
   "source": [
    "# считаем кумулятивную конверсию\n",
    "cumulativeData['conversion'] = cumulativeData['orders']/cumulativeData['visitors']\n",
    "\n",
    "# отделяем данные по группе A\n",
    "cumulativeDataA = cumulativeData[cumulativeData['group']=='A']\n",
    "\n",
    "# отделяем данные по группе B\n",
    "cumulativeDataB = cumulativeData[cumulativeData['group']=='B']\n",
    "\n",
    "# строим графики\n",
    "plt.figure(figsize = (15,8));\n",
    "plt.title('График кумулятивного среднего количества заказов на посетителя по группам');\n",
    "plt.xlabel('Дата');\n",
    "plt.ylabel('Выручка');\n",
    "plt.plot(cumulativeDataA['date'], cumulativeDataA['conversion'], label='A')\n",
    "plt.plot(cumulativeDataB['date'], cumulativeDataB['conversion'], label='B')\n",
    "plt.legend();\n",
    "plt.xticks(rotation=45);\n"
   ]
  },
  {
   "cell_type": "markdown",
   "metadata": {},
   "source": [
    "По графику конверсия группы B почти в начале теста вырвалась вперед и зафиксировалась."
   ]
  },
  {
   "cell_type": "markdown",
   "metadata": {},
   "source": [
    "Построим **график относительного изменения кумулятивного среднего количества заказов на посетителя группы B к группе A**. "
   ]
  },
  {
   "cell_type": "code",
   "execution_count": 28,
   "metadata": {},
   "outputs": [
    {
     "data": {
      "image/png": "[encoded data removed]",
      "text/plain": [
       "<Figure size 1080x576 with 1 Axes>"
      ]
     },
     "metadata": {
      "needs_background": "light"
     },
     "output_type": "display_data"
    }
   ],
   "source": [
    "mergedCumulativeConversions = cumulativeDataA[['date','conversion']]\\\n",
    ".merge(cumulativeDataB[['date','conversion']], left_on='date', right_on='date', how='left', suffixes=['A', 'B'])\n",
    "\n",
    "plt.figure(figsize = (15,8));\n",
    "plt.title('График относительного изменения кумулятивного среднего количества заказов на посетителя группы B к группе A');\n",
    "plt.xlabel('Дата');\n",
    "plt.ylabel('Разница в количестве заказов');\n",
    "plt.plot(mergedCumulativeConversions['date'], mergedCumulativeConversions['conversionB']\\\n",
    "         /mergedCumulativeConversions['conversionA']-1);\n",
    "\n",
    "plt.axhline(y=0, color='black', linestyle='--')\n",
    "plt.axhline(y=-0.1, color='grey', linestyle='--')\n",
    "plt.xticks(rotation=45);"
   ]
  },
  {
   "cell_type": "markdown",
   "metadata": {},
   "source": [
    "Почти с самого начала группа B лидирует по конверсии и имеет тенденцию к улучшению."
   ]
  },
  {
   "cell_type": "markdown",
   "metadata": {},
   "source": [
    "<a id='2.2'></a>\n",
    "#### Анализ выбросов и всплесков.\n"
   ]
  },
  {
   "cell_type": "markdown",
   "metadata": {},
   "source": [
    "Построим точечный график количества заказов по пользователям. Для этого сначала подсчитаем количество заказов по пользователям и посмотрим на результат."
   ]
  },
  {
   "cell_type": "code",
   "execution_count": 29,
   "metadata": {},
   "outputs": [
    {
     "name": "stdout",
     "output_type": "stream",
     "text": [
      "       visitorId  orders\n",
      "1023  4256040402      11\n",
      "591   2458001652      11\n",
      "569   2378935119       9\n",
      "487   2038680547       8\n",
      "44     199603092       5\n",
      "744   3062433592       5\n",
      "55     237748145       5\n",
      "917   3803269165       5\n",
      "299   1230306981       5\n",
      "897   3717692402       5\n"
     ]
    }
   ],
   "source": [
    "ordersByUsers = (\n",
    "    orders.groupby('visitorId', as_index=False)\n",
    "    .agg({'transactionId': 'nunique'})\n",
    ")\n",
    "\n",
    "ordersByUsers.columns = ['visitorId', 'orders']\n",
    "\n",
    "print(ordersByUsers.sort_values(by='orders', ascending=False).head(10)) "
   ]
  },
  {
   "cell_type": "markdown",
   "metadata": {},
   "source": [
    "Есть пользователи, которые совершали 5, 8, 9 и 11 заказов. Значительно больше, чем обычный пользователь за неделю."
   ]
  },
  {
   "cell_type": "code",
   "execution_count": 30,
   "metadata": {},
   "outputs": [
    {
     "data": {
      "image/png": "[encoded data removed]",
      "text/plain": [
       "<Figure size 720x360 with 1 Axes>"
      ]
     },
     "metadata": {
      "needs_background": "light"
     },
     "output_type": "display_data"
    }
   ],
   "source": [
    "x_values = pd.Series(range(0,len(ordersByUsers)))\n",
    "plt.figure(figsize = (10,5));\n",
    "plt.title('График количества заказов по пользователям');\n",
    "plt.xlabel('Количество пользователей');\n",
    "plt.ylabel('Количество заказов');\n",
    "plt.scatter(x_values, ordersByUsers['orders']);"
   ]
  },
  {
   "cell_type": "markdown",
   "metadata": {},
   "source": [
    "Пользователей заказавших более двух раз, совсем мало. "
   ]
  },
  {
   "cell_type": "markdown",
   "metadata": {},
   "source": [
    "Посчитаем 95-й и 99-й перцентили количества заказов на пользователя."
   ]
  },
  {
   "cell_type": "code",
   "execution_count": 31,
   "metadata": {},
   "outputs": [
    {
     "data": {
      "text/plain": [
       "array([2., 4.])"
      ]
     },
     "execution_count": 31,
     "metadata": {},
     "output_type": "execute_result"
    }
   ],
   "source": [
    "np.percentile(ordersByUsers['orders'], [95, 99])"
   ]
  },
  {
   "cell_type": "markdown",
   "metadata": {},
   "source": [
    "Не более 5% пользователей оформляли больше чем 2 заказа. И 1% пользователей заказывали более 4 раз. \n",
    "Разумно выбрать 4 заказа на одного пользователя за верхнюю границу числа заказов, и отсеять аномальных пользователей по ней. "
   ]
  },
  {
   "cell_type": "markdown",
   "metadata": {},
   "source": [
    "Построим точечный график стоимостей заказов. "
   ]
  },
  {
   "cell_type": "code",
   "execution_count": 32,
   "metadata": {},
   "outputs": [
    {
     "data": {
      "image/png": "[encoded data removed]",
      "text/plain": [
       "<Figure size 720x360 with 1 Axes>"
      ]
     },
     "metadata": {
      "needs_background": "light"
     },
     "output_type": "display_data"
    }
   ],
   "source": [
    "x_values = pd.Series(range(0,len(orders['revenue'])))\n",
    "plt.figure(figsize = (10,5));\n",
    "plt.title('График стоимостей заказов');\n",
    "plt.xlabel('Количество пользователей');\n",
    "plt.ylabel('Стоимость заказа');\n",
    "plt.scatter(x_values, orders['revenue']);"
   ]
  },
  {
   "cell_type": "markdown",
   "metadata": {},
   "source": [
    "На этом графике мы видим только 2 аномальных заказа. "
   ]
  },
  {
   "cell_type": "code",
   "execution_count": 33,
   "metadata": {},
   "outputs": [
    {
     "data": {
      "image/png": "[encoded data removed]",
      "text/plain": [
       "<Figure size 720x360 with 1 Axes>"
      ]
     },
     "metadata": {
      "needs_background": "light"
     },
     "output_type": "display_data"
    }
   ],
   "source": [
    "# добавим еще один график, ограничив значения по оси Y\n",
    "x_values = pd.Series(range(0,len(orders['revenue'])))\n",
    "plt.figure(figsize = (10,5));\n",
    "plt.title('График стоимостей заказов');\n",
    "plt.xlabel('Количество пользователей');\n",
    "plt.ylabel('Стоимость заказа');\n",
    "plt.scatter(x_values, orders['revenue']);\n",
    "plt.ylim(0,100000);"
   ]
  },
  {
   "cell_type": "markdown",
   "metadata": {},
   "source": [
    "По графику видно, что сумма большинства заказов меньше 20000-25000 рублей. Рассчитаем 95 и 99 перцентиль стоимости заказов, чтобы сделать выводы."
   ]
  },
  {
   "cell_type": "code",
   "execution_count": 34,
   "metadata": {},
   "outputs": [
    {
     "data": {
      "text/plain": [
       "array([28000. , 58233.2])"
      ]
     },
     "execution_count": 34,
     "metadata": {},
     "output_type": "execute_result"
    }
   ],
   "source": [
    "np.percentile(orders['revenue'], [95, 99])"
   ]
  },
  {
   "cell_type": "markdown",
   "metadata": {},
   "source": [
    "Не более 5% заказов дороже 28000 рублей и не более 1% дороже 58233 рублей."
   ]
  },
  {
   "cell_type": "markdown",
   "metadata": {},
   "source": [
    "Примем за аномальных пользователей тех, кто совершил от 4 заказов или совершил заказ дороже 58 233 рублей. Так мы уберём 1% пользователей с наибольшим числом заказов и  1%  пользователей с дорогими заказами. "
   ]
  },
  {
   "cell_type": "markdown",
   "metadata": {},
   "source": [
    "<a id='2.3'></a>\n",
    "#### Статистическая значимость.\n"
   ]
  },
  {
   "cell_type": "markdown",
   "metadata": {},
   "source": [
    "Посчитаем статистическую значимость различий в среднем количестве заказов на посетителя между группами по «сырым» данным.Сформулируем гипотезы. **Нулевая**: различий в среднем количестве заказов между группами нет. **Альтернативная**: различия в среднем между группами есть."
   ]
  },
  {
   "cell_type": "markdown",
   "metadata": {},
   "source": [
    "Подготовим данные."
   ]
  },
  {
   "cell_type": "code",
   "execution_count": 35,
   "metadata": {},
   "outputs": [
    {
     "name": "stdout",
     "output_type": "stream",
     "text": [
      "         date  ordersPerDateA  revenuePerDateA  ordersPerDateB  \\\n",
      "0  2019-08-01              24           148579              21   \n",
      "1  2019-08-02              20            93822              24   \n",
      "2  2019-08-03              24           112473              16   \n",
      "3  2019-08-04              16            70825              17   \n",
      "4  2019-08-05              25           124218              23   \n",
      "\n",
      "   revenuePerDateB  ordersCummulativeA  revenueCummulativeA  \\\n",
      "0           101217                  24               148579   \n",
      "1           165531                  44               242401   \n",
      "2           114248                  68               354874   \n",
      "3           108571                  84               425699   \n",
      "4            92428                 109               549917   \n",
      "\n",
      "   ordersCummulativeB  revenueCummulativeB  visitorsPerDateA  \\\n",
      "0                  21               101217               719   \n",
      "1                  45               266748               619   \n",
      "2                  61               380996               507   \n",
      "3                  78               489567               717   \n",
      "4                 101               581995               756   \n",
      "\n",
      "   visitorsPerDateB  visitorsCummulativeA  visitorsCummulativeB  \n",
      "0               713                   719                   713  \n",
      "1               581                  1338                  1294  \n",
      "2               509                  1845                  1803  \n",
      "3               770                  2562                  2573  \n",
      "4               707                  3318                  3280  \n"
     ]
    }
   ],
   "source": [
    "visitorsADaily = visitors[visitors['group'] == 'A'][['date', 'visitors']]\n",
    "visitorsADaily.columns = ['date', 'visitorsPerDateA']\n",
    "\n",
    "visitorsACummulative = visitorsADaily.apply(\n",
    "    lambda x: visitorsADaily[visitorsADaily['date'] <= x['date']].agg(\n",
    "        {'date': 'max', 'visitorsPerDateA': 'sum'}\n",
    "    ),\n",
    "    axis=1,\n",
    ")\n",
    "visitorsACummulative.columns = ['date', 'visitorsCummulativeA']\n",
    "\n",
    "visitorsBDaily = visitors[visitors['group'] == 'B'][['date', 'visitors']]\n",
    "visitorsBDaily.columns = ['date', 'visitorsPerDateB']\n",
    "\n",
    "visitorsBCummulative = visitorsBDaily.apply(\n",
    "    lambda x: visitorsBDaily[visitorsBDaily['date'] <= x['date']].agg(\n",
    "        {'date': 'max', 'visitorsPerDateB': 'sum'}\n",
    "    ),\n",
    "    axis=1,\n",
    ")\n",
    "visitorsBCummulative.columns = ['date', 'visitorsCummulativeB']\n",
    " \n",
    "ordersADaily = (\n",
    "    orders[orders['group'] == 'A'][['date', 'transactionId', 'visitorId', 'revenue']]\n",
    "    .groupby('date', as_index=False)\n",
    "    .agg({'transactionId': pd.Series.nunique, 'revenue': 'sum'})\n",
    ")\n",
    "ordersADaily.columns = ['date', 'ordersPerDateA', 'revenuePerDateA']\n",
    "\n",
    "ordersACummulative = ordersADaily.apply(\n",
    "    lambda x: ordersADaily[ordersADaily['date'] <= x['date']].agg(\n",
    "        {'date': 'max', 'ordersPerDateA': 'sum', 'revenuePerDateA': 'sum'}\n",
    "    ),\n",
    "    axis=1,\n",
    ").sort_values(by=['date'])\n",
    "ordersACummulative.columns = [\n",
    "    'date',\n",
    "    'ordersCummulativeA',\n",
    "    'revenueCummulativeA',\n",
    "]\n",
    "\n",
    "ordersBDaily = (\n",
    "    orders[orders['group'] == 'B'][['date', 'transactionId', 'visitorId', 'revenue']]\n",
    "    .groupby('date', as_index=False)\n",
    "    .agg({'transactionId': pd.Series.nunique, 'revenue': 'sum'})\n",
    ")\n",
    "ordersBDaily.columns = ['date', 'ordersPerDateB', 'revenuePerDateB']\n",
    "\n",
    "ordersBCummulative = ordersBDaily.apply(\n",
    "    lambda x: ordersBDaily[ordersBDaily['date'] <= x['date']].agg(\n",
    "        {'date': 'max', 'ordersPerDateB': 'sum', 'revenuePerDateB': 'sum'}\n",
    "    ),\n",
    "    axis=1,\n",
    ").sort_values(by=['date'])\n",
    "ordersBCummulative.columns = [\n",
    "    'date',\n",
    "    'ordersCummulativeB',\n",
    "    'revenueCummulativeB',\n",
    "]\n",
    "\n",
    "data = (\n",
    "    ordersADaily.merge(\n",
    "        ordersBDaily, left_on='date', right_on='date', how='left'\n",
    "    )\n",
    "    .merge(ordersACummulative, left_on='date', right_on='date', how='left')\n",
    "    .merge(ordersBCummulative, left_on='date', right_on='date', how='left')\n",
    "    .merge(visitorsADaily, left_on='date', right_on='date', how='left')\n",
    "    .merge(visitorsBDaily, left_on='date', right_on='date', how='left')\n",
    "    .merge(visitorsACummulative, left_on='date', right_on='date', how='left')\n",
    "    .merge(visitorsBCummulative, left_on='date', right_on='date', how='left')\n",
    ")\n",
    "\n",
    "print(data.head(5))"
   ]
  },
  {
   "cell_type": "markdown",
   "metadata": {},
   "source": [
    "Теперь можем посчитать статистическую значимость различия в среднем количестве заказов между группами.\n",
    "Создадим переменные ordersByUsersA и ordersByUsersB со столбцами ['userId', 'orders']. В них для пользователей, которые заказывали хотя бы 1 раз, укажем число совершённых заказов. "
   ]
  },
  {
   "cell_type": "code",
   "execution_count": 36,
   "metadata": {},
   "outputs": [],
   "source": [
    "ordersByUsersA = (\n",
    "    orders[orders['group'] == 'A']\n",
    "    .groupby('visitorId', as_index=False)\n",
    "    .agg({'transactionId': pd.Series.nunique})\n",
    ")\n",
    "ordersByUsersA.columns = ['userId', 'orders']\n",
    "\n",
    "ordersByUsersB = (\n",
    "    orders[orders['group'] == 'B']\n",
    "    .groupby('visitorId', as_index=False)\n",
    "    .agg({'transactionId': pd.Series.nunique})\n",
    ")\n",
    "ordersByUsersB.columns = ['userId', 'orders']"
   ]
  },
  {
   "cell_type": "markdown",
   "metadata": {},
   "source": [
    "Объявим переменные sampleA и sampleB, в которых пользователям из разных групп будет соответствовать количество заказов. Тем, кто ничего не заказал, будут соответствовать нули."
   ]
  },
  {
   "cell_type": "code",
   "execution_count": 37,
   "metadata": {},
   "outputs": [],
   "source": [
    "sampleA = pd.concat([ordersByUsersA['orders'],pd.Series(0, index=np.arange(data['visitorsPerDateA'].sum() \\\n",
    " - len(ordersByUsersA['orders'])), name='orders')],axis=0)\n",
    "\n",
    "sampleB = pd.concat([ordersByUsersB['orders'],pd.Series(0, index=np.arange(data['visitorsPerDateB'].sum()\\\n",
    " - len(ordersByUsersB['orders'])), name='orders')],axis=0)"
   ]
  },
  {
   "cell_type": "markdown",
   "metadata": {},
   "source": [
    "Выведем относительный прирост среднего числа заказов группы B,  округлим до трёх знаков после запятой."
   ]
  },
  {
   "cell_type": "code",
   "execution_count": 38,
   "metadata": {
    "scrolled": true
   },
   "outputs": [
    {
     "name": "stdout",
     "output_type": "stream",
     "text": [
      "p_value: 0.017\n",
      "Относительное различие в среднем числе заказов: 0.138\n"
     ]
    }
   ],
   "source": [
    "print('p_value:',\"{0:.3f}\".format(stats.mannwhitneyu(sampleA, sampleB)[1]))\n",
    "\n",
    "print('Относительное различие в среднем числе заказов:',\"{0:.3f}\".format(sampleB.mean() / sampleA.mean() - 1))\n"
   ]
  },
  {
   "cell_type": "markdown",
   "metadata": {},
   "source": [
    "Вывод: Анализ \"сырых данных\" сообщает,что в среднем количестве заказов между группами есть статистически значимые различия. \n",
    "Первое число — p-value = 0.017 меньше 0.05. Значит, нулевую гипотезу о том, что статистически значимых различий в среднем числе заказов между группами нет, отвергаем. \n",
    "Относительный выигрыш группы B равен 13.8%. "
   ]
  },
  {
   "cell_type": "markdown",
   "metadata": {},
   "source": [
    "Теперь проверим статистическую значимость различий в среднем чеке между сегментами. **Нулевая гипотеза**: различий в среднем чеке между группами нет. **Альтернативная гипотеза**: различия в среднем чеке между группами есть. \n",
    "Чтобы рассчитать статистическую значимость различий в среднем чеке, передадим критерию mannwhitneyu() данные о выручке с заказов. \n",
    "А ещё найдём относительные различия в среднем чеке между группами:"
   ]
  },
  {
   "cell_type": "code",
   "execution_count": 39,
   "metadata": {},
   "outputs": [
    {
     "name": "stdout",
     "output_type": "stream",
     "text": [
      "p_value: 0.729\n",
      "Относительное различие в среднем чеке: 0.259\n"
     ]
    }
   ],
   "source": [
    "print('p_value:','{0:.3f}'\n",
    "      .format(stats.mannwhitneyu(orders[orders['group']=='A']['revenue'],orders[orders['group']=='B']['revenue'])[1]))\n",
    "print('Относительное различие в среднем чеке:','{0:.3f}'\n",
    "      .format(orders[orders['group']=='B']['revenue'].mean()/orders[orders['group']=='A']['revenue'].mean()-1))"
   ]
  },
  {
   "cell_type": "markdown",
   "metadata": {},
   "source": [
    "P-value значительно больше 0.05 мы не можем отвергнуть нулевую гипотезу, в среднем чеке нет различий.  При этом средний чек группы B значительно выше среднего чека группы A. Поскольку относительное различие среднего чека между сегментами составляет 25,9%, наблюдаемые различия не являются значимыми при таком уровне значимости, а следовательно были получены случайно."
   ]
  },
  {
   "cell_type": "markdown",
   "metadata": {},
   "source": [
    "Посчитаем статистическую значимость различий в среднем количестве заказов на посетителя между группами по «очищенным» данным."
   ]
  },
  {
   "cell_type": "markdown",
   "metadata": {},
   "source": [
    "До этого мы нашли  95-й и 99-й перцентили средних чеков, они равны 28000 и 58233 рублям. А 95-й и 99-й перцентили количества заказов на одного пользователя равны 2 и 4 заказа на пользователя. Сделаем срезы пользователей с числом заказов больше 4 — usersWithManyOrders и пользователей, совершивших заказы дороже 58233 — usersWithExpensiveOrders. Объединим их в таблице abnormalUsers. "
   ]
  },
  {
   "cell_type": "code",
   "execution_count": 40,
   "metadata": {},
   "outputs": [
    {
     "name": "stdout",
     "output_type": "stream",
     "text": [
      "1099     148427295\n",
      "949      887908475\n",
      "744      888512513\n",
      "1103    1164614297\n",
      "1136    1307669133\n",
      "dtype: int64\n",
      "15\n"
     ]
    }
   ],
   "source": [
    "usersWithManyOrders = pd.concat(\n",
    "    [\n",
    "        ordersByUsersA[ordersByUsersA['orders'] > ordersByUsers['orders']. quantile (.99)]['userId'],\n",
    "        ordersByUsersB[ordersByUsersB['orders'] > ordersByUsers['orders']. quantile (.99)]['userId'],\n",
    "    ],\n",
    "    axis=0,\n",
    ")\n",
    "usersWithExpensiveOrders = orders[orders['revenue'] > orders['revenue']. quantile (.99)]['visitorId']\n",
    "abnormalUsers = (\n",
    "    pd.concat([usersWithManyOrders, usersWithExpensiveOrders], axis=0)\n",
    "    .drop_duplicates()\n",
    "    .sort_values()\n",
    ")\n",
    "print(abnormalUsers.head(5))\n",
    "print(abnormalUsers.shape[0])"
   ]
  },
  {
   "cell_type": "markdown",
   "metadata": {},
   "source": [
    "Всего 15 аномальных пользователей."
   ]
  },
  {
   "cell_type": "markdown",
   "metadata": {},
   "source": [
    "Посчитаем статистическую значимость различий в среднем количестве заказов между группами теста по очищенным данным.Сформулируем гипотезы. **Нулевая**: различий в среднем количестве заказов между группами нет. **Альтернативная**: различия в среднем между группами есть. Сначала подготовим выборки количества заказов по пользователям по группам теста:"
   ]
  },
  {
   "cell_type": "code",
   "execution_count": 41,
   "metadata": {},
   "outputs": [],
   "source": [
    "sampleAFiltered = pd.concat(\n",
    "    [\n",
    "        ordersByUsersA[\n",
    "            np.logical_not(ordersByUsersA['userId'].isin(abnormalUsers))\n",
    "        ]['orders'],\n",
    "        pd.Series(\n",
    "            0,\n",
    "            index=np.arange(\n",
    "                data['visitorsPerDateA'].sum() - len(ordersByUsersA['orders'])\n",
    "            ),\n",
    "            name='orders',\n",
    "        ),\n",
    "    ],\n",
    "    axis=0,\n",
    ")\n",
    "\n",
    "sampleBFiltered = pd.concat(\n",
    "    [\n",
    "        ordersByUsersB[\n",
    "            np.logical_not(ordersByUsersB['userId'].isin(abnormalUsers))\n",
    "        ]['orders'],\n",
    "        pd.Series(\n",
    "            0,\n",
    "            index=np.arange(\n",
    "                data['visitorsPerDateB'].sum() - len(ordersByUsersB['orders'])\n",
    "            ),\n",
    "            name='orders',\n",
    "        ),\n",
    "    ],\n",
    "    axis=0,\n",
    ")"
   ]
  },
  {
   "cell_type": "code",
   "execution_count": 42,
   "metadata": {},
   "outputs": [
    {
     "name": "stdout",
     "output_type": "stream",
     "text": [
      "p_value: 0.014\n",
      "Относительное различие в среднем числе заказов: 0.153\n"
     ]
    }
   ],
   "source": [
    "print('p_value:','{0:.3f}'.format(stats.mannwhitneyu(sampleAFiltered, sampleBFiltered)[1]))\n",
    "print('Относительное различие в среднем числе заказов:','{0:.3f}'.format(sampleBFiltered.mean()/sampleAFiltered.mean()-1))"
   ]
  },
  {
   "cell_type": "markdown",
   "metadata": {},
   "source": [
    "Результаты по среднему количеству заказов не изменились,p-value = 0.014 меньше 0.05  Нулевую гипотезу о том, что статистически значимых различий в среднем числе заказов между группами нет, отвергаем.Относительный выигрыш группы B равен 15,3%. "
   ]
  },
  {
   "cell_type": "markdown",
   "metadata": {},
   "source": [
    "Посмотрим изменились ли результаты по среднему чеку?**Нулевая гипотеза**: различий в среднем чеке между группами нет. **Альтернативная гипотеза**: различия в среднем чеке между группами есть. "
   ]
  },
  {
   "cell_type": "code",
   "execution_count": 44,
   "metadata": {},
   "outputs": [
    {
     "name": "stdout",
     "output_type": "stream",
     "text": [
      "p_value: 0.851\n",
      "Относительное различие в среднем чеке: -0.006\n"
     ]
    }
   ],
   "source": [
    "print('p_value:',\n",
    "    '{0:.3f}'.format(\n",
    "        stats.mannwhitneyu(\n",
    "            orders[\n",
    "                np.logical_and(\n",
    "                    orders['group'] == 'A',\n",
    "                    np.logical_not(orders['visitorId'].isin(abnormalUsers)),\n",
    "                )\n",
    "            ]['revenue'],\n",
    "            orders[\n",
    "                np.logical_and(\n",
    "                    orders['group'] == 'B',\n",
    "                    np.logical_not(orders['visitorId'].isin(abnormalUsers)),\n",
    "                )\n",
    "            ]['revenue'],\n",
    "        )[1]\n",
    "    )\n",
    ")\n",
    "\n",
    "print('Относительное различие в среднем чеке:',\n",
    "    \"{0:.3f}\".format(\n",
    "        orders[\n",
    "            np.logical_and(\n",
    "                orders['group'] == 'B',\n",
    "                np.logical_not(orders['visitorId'].isin(abnormalUsers)),\n",
    "            )\n",
    "        ]['revenue'].mean()\n",
    "        / orders[\n",
    "            np.logical_and(\n",
    "                orders['group'] == 'A',\n",
    "                np.logical_not(orders['visitorId'].isin(abnormalUsers)),\n",
    "            )\n",
    "        ]['revenue'].mean()\n",
    "        - 1\n",
    "    )\n",
    ")"
   ]
  },
  {
   "cell_type": "markdown",
   "metadata": {},
   "source": [
    "P-value увеличился 0,851 > 0.05, не получилось отвергнуть нулевую гипотезу,статистически значимых различий в среднем чеке между группами нет. Но средний чек группы B стал ниже среднего чека группы A на 0,6%."
   ]
  },
  {
   "cell_type": "markdown",
   "metadata": {},
   "source": [
    "<a id='3'></a>\n",
    "### Общий вывод по А/В-тесту.\n"
   ]
  },
  {
   "cell_type": "markdown",
   "metadata": {},
   "source": [
    "\n",
    "**Итоги**:\n",
    "- Есть статистически значимые различия по среднему количеству заказов между группами и по «сырым», и по данным после фильтрации аномалий;\n",
    "- Нет статистически значимого различия по среднему чеку между группами. Однако после удаления аномалий разница между сегментами сократилась.\n",
    "- График различия конверсии между группами сообщает, что результаты группы B лучше группы A и есть тенденция к улучшению.\n",
    "- График различия среднего чека колеблется. Сделать из этого графика определённые выводы нельзя.\n",
    "\n",
    "Исходя из обнаруженных фактов, тест следует остановить и признать его успешным. При имеющихся данных сегмент B  лучше сегмента A. "
   ]
  }
 ],
 "metadata": {
  "ExecuteTimeLog": [
   {
    "duration": 2191,
    "start_time": "2023-05-11T08:25:03.863Z"
   },
   {
    "duration": 152,
    "start_time": "2023-05-11T08:28:34.290Z"
   },
   {
    "duration": 86,
    "start_time": "2023-05-11T08:28:47.363Z"
   },
   {
    "duration": 28,
    "start_time": "2023-05-11T08:28:51.018Z"
   },
   {
    "duration": 39,
    "start_time": "2023-05-11T08:29:07.082Z"
   },
   {
    "duration": 32,
    "start_time": "2023-05-11T08:29:17.739Z"
   },
   {
    "duration": 32,
    "start_time": "2023-05-11T08:29:27.243Z"
   },
   {
    "duration": 14,
    "start_time": "2023-05-11T08:32:00.285Z"
   },
   {
    "duration": 31,
    "start_time": "2023-05-11T08:32:33.120Z"
   },
   {
    "duration": 10,
    "start_time": "2023-05-11T08:43:48.311Z"
   },
   {
    "duration": 5,
    "start_time": "2023-05-11T08:47:03.942Z"
   },
   {
    "duration": 9,
    "start_time": "2023-05-11T08:47:54.621Z"
   },
   {
    "duration": 9,
    "start_time": "2023-05-11T08:49:41.078Z"
   },
   {
    "duration": 4,
    "start_time": "2023-05-11T08:53:52.348Z"
   },
   {
    "duration": 4,
    "start_time": "2023-05-11T08:54:50.756Z"
   },
   {
    "duration": 12,
    "start_time": "2023-05-11T08:55:15.107Z"
   },
   {
    "duration": 66,
    "start_time": "2023-05-11T08:57:49.238Z"
   },
   {
    "duration": 121,
    "start_time": "2023-05-11T10:59:38.339Z"
   },
   {
    "duration": 55,
    "start_time": "2023-05-11T10:59:51.003Z"
   },
   {
    "duration": 58,
    "start_time": "2023-05-11T11:08:28.262Z"
   },
   {
    "duration": 54,
    "start_time": "2023-05-11T11:08:34.190Z"
   },
   {
    "duration": 98,
    "start_time": "2023-05-11T11:11:34.551Z"
   },
   {
    "duration": 31,
    "start_time": "2023-05-11T11:11:43.935Z"
   },
   {
    "duration": 32,
    "start_time": "2023-05-11T11:11:47.671Z"
   },
   {
    "duration": 8,
    "start_time": "2023-05-11T11:17:44.438Z"
   },
   {
    "duration": 185,
    "start_time": "2023-05-11T11:19:32.145Z"
   },
   {
    "duration": 114,
    "start_time": "2023-05-11T11:20:07.477Z"
   },
   {
    "duration": 167,
    "start_time": "2023-05-11T11:22:04.101Z"
   },
   {
    "duration": 402,
    "start_time": "2023-05-11T11:22:20.173Z"
   },
   {
    "duration": 111,
    "start_time": "2023-05-11T11:22:39.582Z"
   },
   {
    "duration": 221,
    "start_time": "2023-05-11T11:22:50.686Z"
   },
   {
    "duration": 182,
    "start_time": "2023-05-11T11:23:30.374Z"
   },
   {
    "duration": 160,
    "start_time": "2023-05-11T11:23:49.102Z"
   },
   {
    "duration": 115,
    "start_time": "2023-05-11T11:25:08.880Z"
   },
   {
    "duration": 99,
    "start_time": "2023-05-11T11:34:11.718Z"
   },
   {
    "duration": 243,
    "start_time": "2023-05-11T11:35:21.422Z"
   },
   {
    "duration": 252,
    "start_time": "2023-05-11T11:36:02.182Z"
   },
   {
    "duration": 10,
    "start_time": "2023-05-11T11:41:41.947Z"
   },
   {
    "duration": 8,
    "start_time": "2023-05-11T11:42:59.146Z"
   },
   {
    "duration": 10,
    "start_time": "2023-05-11T11:43:08.257Z"
   },
   {
    "duration": 686,
    "start_time": "2023-05-11T11:48:44.094Z"
   },
   {
    "duration": 60,
    "start_time": "2023-05-11T11:49:49.593Z"
   },
   {
    "duration": 1273,
    "start_time": "2023-05-11T11:49:56.032Z"
   },
   {
    "duration": 8,
    "start_time": "2023-05-11T12:28:53.195Z"
   },
   {
    "duration": 8,
    "start_time": "2023-05-11T12:29:24.322Z"
   },
   {
    "duration": 9,
    "start_time": "2023-05-11T12:29:33.536Z"
   },
   {
    "duration": 9,
    "start_time": "2023-05-11T12:32:41.688Z"
   },
   {
    "duration": 9,
    "start_time": "2023-05-11T12:32:50.038Z"
   },
   {
    "duration": 6,
    "start_time": "2023-05-11T12:37:33.051Z"
   },
   {
    "duration": 5,
    "start_time": "2023-05-11T12:37:47.018Z"
   },
   {
    "duration": 145,
    "start_time": "2023-05-11T12:37:48.777Z"
   },
   {
    "duration": 112,
    "start_time": "2023-05-11T12:37:51.505Z"
   },
   {
    "duration": 239,
    "start_time": "2023-05-11T12:37:55.314Z"
   },
   {
    "duration": 240,
    "start_time": "2023-05-11T12:38:00.930Z"
   },
   {
    "duration": 164,
    "start_time": "2023-05-11T12:39:22.684Z"
   },
   {
    "duration": 164,
    "start_time": "2023-05-11T12:41:50.293Z"
   },
   {
    "duration": 166,
    "start_time": "2023-05-11T12:41:55.917Z"
   },
   {
    "duration": 163,
    "start_time": "2023-05-11T12:42:03.040Z"
   },
   {
    "duration": 164,
    "start_time": "2023-05-11T12:42:15.981Z"
   },
   {
    "duration": 1519,
    "start_time": "2023-05-11T12:42:23.022Z"
   },
   {
    "duration": 37,
    "start_time": "2023-05-11T12:42:24.542Z"
   },
   {
    "duration": 15,
    "start_time": "2023-05-11T12:42:24.581Z"
   },
   {
    "duration": 20,
    "start_time": "2023-05-11T12:42:24.599Z"
   },
   {
    "duration": 23,
    "start_time": "2023-05-11T12:42:24.621Z"
   },
   {
    "duration": 24,
    "start_time": "2023-05-11T12:42:24.646Z"
   },
   {
    "duration": 26,
    "start_time": "2023-05-11T12:42:24.672Z"
   },
   {
    "duration": 24,
    "start_time": "2023-05-11T12:42:24.700Z"
   },
   {
    "duration": 58,
    "start_time": "2023-05-11T12:42:24.727Z"
   },
   {
    "duration": 22,
    "start_time": "2023-05-11T12:42:24.788Z"
   },
   {
    "duration": 11,
    "start_time": "2023-05-11T12:42:24.812Z"
   },
   {
    "duration": 16,
    "start_time": "2023-05-11T12:42:24.826Z"
   },
   {
    "duration": 7,
    "start_time": "2023-05-11T12:42:24.843Z"
   },
   {
    "duration": 20,
    "start_time": "2023-05-11T12:42:24.851Z"
   },
   {
    "duration": 156,
    "start_time": "2023-05-11T12:42:24.872Z"
   },
   {
    "duration": 112,
    "start_time": "2023-05-11T12:42:25.030Z"
   },
   {
    "duration": 274,
    "start_time": "2023-05-11T12:42:25.144Z"
   },
   {
    "duration": 250,
    "start_time": "2023-05-11T12:42:25.419Z"
   },
   {
    "duration": 181,
    "start_time": "2023-05-11T12:42:32.709Z"
   },
   {
    "duration": 153,
    "start_time": "2023-05-11T12:42:43.623Z"
   },
   {
    "duration": 173,
    "start_time": "2023-05-11T12:49:38.212Z"
   },
   {
    "duration": 167,
    "start_time": "2023-05-11T12:49:58.476Z"
   },
   {
    "duration": 285,
    "start_time": "2023-05-11T12:51:49.683Z"
   },
   {
    "duration": 188,
    "start_time": "2023-05-11T12:52:00.115Z"
   },
   {
    "duration": 159,
    "start_time": "2023-05-11T12:52:26.388Z"
   },
   {
    "duration": 226,
    "start_time": "2023-05-11T12:52:32.812Z"
   },
   {
    "duration": 165,
    "start_time": "2023-05-11T12:52:40.348Z"
   },
   {
    "duration": 166,
    "start_time": "2023-05-11T12:52:49.500Z"
   },
   {
    "duration": 238,
    "start_time": "2023-05-11T12:55:18.336Z"
   },
   {
    "duration": 164,
    "start_time": "2023-05-11T12:55:29.759Z"
   },
   {
    "duration": 176,
    "start_time": "2023-05-11T13:02:03.989Z"
   },
   {
    "duration": 153,
    "start_time": "2023-05-11T13:02:10.489Z"
   },
   {
    "duration": 159,
    "start_time": "2023-05-11T13:02:31.570Z"
   },
   {
    "duration": 236,
    "start_time": "2023-05-11T13:05:19.067Z"
   },
   {
    "duration": 265,
    "start_time": "2023-05-11T13:05:27.587Z"
   },
   {
    "duration": 329,
    "start_time": "2023-05-11T13:05:48.564Z"
   },
   {
    "duration": 312,
    "start_time": "2023-05-11T13:11:39.391Z"
   },
   {
    "duration": 165,
    "start_time": "2023-05-11T13:12:24.249Z"
   },
   {
    "duration": 327,
    "start_time": "2023-05-11T13:13:16.106Z"
   },
   {
    "duration": 320,
    "start_time": "2023-05-11T13:24:14.607Z"
   },
   {
    "duration": 156,
    "start_time": "2023-05-11T13:24:35.056Z"
   },
   {
    "duration": 150,
    "start_time": "2023-05-11T13:24:47.295Z"
   },
   {
    "duration": 182,
    "start_time": "2023-05-11T13:24:53.350Z"
   },
   {
    "duration": 154,
    "start_time": "2023-05-11T13:25:11.551Z"
   },
   {
    "duration": 260,
    "start_time": "2023-05-11T13:25:35.863Z"
   },
   {
    "duration": 266,
    "start_time": "2023-05-11T13:25:56.841Z"
   },
   {
    "duration": 165,
    "start_time": "2023-05-11T13:26:46.169Z"
   },
   {
    "duration": 279,
    "start_time": "2023-05-11T13:28:03.218Z"
   },
   {
    "duration": 307,
    "start_time": "2023-05-11T13:28:45.755Z"
   },
   {
    "duration": 361,
    "start_time": "2023-05-11T13:29:03.875Z"
   },
   {
    "duration": 314,
    "start_time": "2023-05-11T13:30:01.131Z"
   },
   {
    "duration": 318,
    "start_time": "2023-05-11T13:30:34.499Z"
   },
   {
    "duration": 222,
    "start_time": "2023-05-11T13:31:16.715Z"
   },
   {
    "duration": 222,
    "start_time": "2023-05-11T13:32:01.543Z"
   },
   {
    "duration": 297,
    "start_time": "2023-05-11T13:32:41.271Z"
   },
   {
    "duration": 207,
    "start_time": "2023-05-11T13:34:28.165Z"
   },
   {
    "duration": 165,
    "start_time": "2023-05-11T13:40:06.569Z"
   },
   {
    "duration": 174,
    "start_time": "2023-05-11T13:40:31.193Z"
   },
   {
    "duration": 283,
    "start_time": "2023-05-11T13:41:59.386Z"
   },
   {
    "duration": 286,
    "start_time": "2023-05-11T13:42:41.842Z"
   },
   {
    "duration": 301,
    "start_time": "2023-05-11T13:47:16.125Z"
   },
   {
    "duration": 295,
    "start_time": "2023-05-11T14:25:08.576Z"
   },
   {
    "duration": 396,
    "start_time": "2023-05-11T14:25:23.370Z"
   },
   {
    "duration": 355,
    "start_time": "2023-05-11T14:25:43.812Z"
   },
   {
    "duration": 328,
    "start_time": "2023-05-11T14:26:04.629Z"
   },
   {
    "duration": 235,
    "start_time": "2023-05-11T14:27:02.177Z"
   },
   {
    "duration": 12,
    "start_time": "2023-05-11T15:35:35.432Z"
   },
   {
    "duration": 11,
    "start_time": "2023-05-11T15:35:49.531Z"
   },
   {
    "duration": 13,
    "start_time": "2023-05-11T15:35:51.873Z"
   },
   {
    "duration": 11,
    "start_time": "2023-05-11T15:36:50.705Z"
   },
   {
    "duration": 11,
    "start_time": "2023-05-11T15:36:54.354Z"
   },
   {
    "duration": 15,
    "start_time": "2023-05-11T15:37:24.891Z"
   },
   {
    "duration": 1184,
    "start_time": "2023-05-11T15:37:31.575Z"
   },
   {
    "duration": 38,
    "start_time": "2023-05-11T15:37:32.761Z"
   },
   {
    "duration": 10,
    "start_time": "2023-05-11T15:37:32.800Z"
   },
   {
    "duration": 12,
    "start_time": "2023-05-11T15:37:32.812Z"
   },
   {
    "duration": 13,
    "start_time": "2023-05-11T15:37:32.825Z"
   },
   {
    "duration": 15,
    "start_time": "2023-05-11T15:37:32.840Z"
   },
   {
    "duration": 6,
    "start_time": "2023-05-11T15:37:32.857Z"
   },
   {
    "duration": 15,
    "start_time": "2023-05-11T15:37:32.865Z"
   },
   {
    "duration": 51,
    "start_time": "2023-05-11T15:37:32.881Z"
   },
   {
    "duration": 21,
    "start_time": "2023-05-11T15:37:32.934Z"
   },
   {
    "duration": 9,
    "start_time": "2023-05-11T15:37:32.957Z"
   },
   {
    "duration": 15,
    "start_time": "2023-05-11T15:37:32.967Z"
   },
   {
    "duration": 8,
    "start_time": "2023-05-11T15:37:32.983Z"
   },
   {
    "duration": 11,
    "start_time": "2023-05-11T15:37:32.992Z"
   },
   {
    "duration": 154,
    "start_time": "2023-05-11T15:37:33.004Z"
   },
   {
    "duration": 117,
    "start_time": "2023-05-11T15:37:33.159Z"
   },
   {
    "duration": 258,
    "start_time": "2023-05-11T15:37:33.278Z"
   },
   {
    "duration": 322,
    "start_time": "2023-05-11T15:37:33.538Z"
   },
   {
    "duration": 230,
    "start_time": "2023-05-11T15:37:33.861Z"
   },
   {
    "duration": 359,
    "start_time": "2023-05-11T15:37:34.093Z"
   },
   {
    "duration": 243,
    "start_time": "2023-05-11T15:37:34.453Z"
   },
   {
    "duration": 375,
    "start_time": "2023-05-11T15:37:34.698Z"
   },
   {
    "duration": 115,
    "start_time": "2023-05-11T15:37:35.074Z"
   },
   {
    "duration": 12,
    "start_time": "2023-05-11T15:38:57.445Z"
   },
   {
    "duration": 15,
    "start_time": "2023-05-11T15:39:54.968Z"
   },
   {
    "duration": 2012,
    "start_time": "2023-05-11T15:40:25.659Z"
   },
   {
    "duration": 36,
    "start_time": "2023-05-11T15:40:27.673Z"
   },
   {
    "duration": 9,
    "start_time": "2023-05-11T15:40:27.711Z"
   },
   {
    "duration": 8,
    "start_time": "2023-05-11T15:40:27.722Z"
   },
   {
    "duration": 8,
    "start_time": "2023-05-11T15:40:27.732Z"
   },
   {
    "duration": 14,
    "start_time": "2023-05-11T15:40:27.741Z"
   },
   {
    "duration": 16,
    "start_time": "2023-05-11T15:40:27.757Z"
   },
   {
    "duration": 11,
    "start_time": "2023-05-11T15:40:27.776Z"
   },
   {
    "duration": 45,
    "start_time": "2023-05-11T15:40:27.789Z"
   },
   {
    "duration": 21,
    "start_time": "2023-05-11T15:40:27.837Z"
   },
   {
    "duration": 9,
    "start_time": "2023-05-11T15:40:27.860Z"
   },
   {
    "duration": 11,
    "start_time": "2023-05-11T15:40:27.870Z"
   },
   {
    "duration": 7,
    "start_time": "2023-05-11T15:40:27.883Z"
   },
   {
    "duration": 7,
    "start_time": "2023-05-11T15:40:27.891Z"
   },
   {
    "duration": 159,
    "start_time": "2023-05-11T15:40:27.900Z"
   },
   {
    "duration": 120,
    "start_time": "2023-05-11T15:40:28.061Z"
   },
   {
    "duration": 266,
    "start_time": "2023-05-11T15:40:28.182Z"
   },
   {
    "duration": 318,
    "start_time": "2023-05-11T15:40:28.449Z"
   },
   {
    "duration": 230,
    "start_time": "2023-05-11T15:40:28.769Z"
   },
   {
    "duration": 340,
    "start_time": "2023-05-11T15:40:29.001Z"
   },
   {
    "duration": 254,
    "start_time": "2023-05-11T15:40:29.343Z"
   },
   {
    "duration": 336,
    "start_time": "2023-05-11T15:40:29.599Z"
   },
   {
    "duration": 117,
    "start_time": "2023-05-11T15:40:29.936Z"
   },
   {
    "duration": 9,
    "start_time": "2023-05-11T15:42:04.954Z"
   },
   {
    "duration": 9,
    "start_time": "2023-05-11T15:42:31.763Z"
   },
   {
    "duration": 62,
    "start_time": "2023-05-11T18:09:47.594Z"
   },
   {
    "duration": 3,
    "start_time": "2023-05-11T18:11:59.952Z"
   },
   {
    "duration": 55,
    "start_time": "2023-05-11T18:11:59.958Z"
   },
   {
    "duration": 12,
    "start_time": "2023-05-11T18:12:00.016Z"
   },
   {
    "duration": 10,
    "start_time": "2023-05-11T18:12:00.032Z"
   },
   {
    "duration": 13,
    "start_time": "2023-05-11T18:12:00.044Z"
   },
   {
    "duration": 98,
    "start_time": "2023-05-11T18:12:00.059Z"
   },
   {
    "duration": 108,
    "start_time": "2023-05-11T18:12:00.159Z"
   },
   {
    "duration": 169,
    "start_time": "2023-05-11T18:12:00.269Z"
   },
   {
    "duration": 103,
    "start_time": "2023-05-11T18:12:00.440Z"
   },
   {
    "duration": 23,
    "start_time": "2023-05-11T18:12:00.545Z"
   },
   {
    "duration": 23,
    "start_time": "2023-05-11T18:12:00.570Z"
   },
   {
    "duration": 24,
    "start_time": "2023-05-11T18:12:00.600Z"
   },
   {
    "duration": 27,
    "start_time": "2023-05-11T18:12:00.626Z"
   },
   {
    "duration": 54,
    "start_time": "2023-05-11T18:12:00.655Z"
   },
   {
    "duration": 219,
    "start_time": "2023-05-11T18:12:00.711Z"
   },
   {
    "duration": 148,
    "start_time": "2023-05-11T18:12:00.932Z"
   },
   {
    "duration": 316,
    "start_time": "2023-05-11T18:12:01.082Z"
   },
   {
    "duration": 287,
    "start_time": "2023-05-11T18:12:01.400Z"
   },
   {
    "duration": 413,
    "start_time": "2023-05-11T18:12:01.690Z"
   },
   {
    "duration": 388,
    "start_time": "2023-05-11T18:12:02.105Z"
   },
   {
    "duration": 300,
    "start_time": "2023-05-11T18:12:02.495Z"
   },
   {
    "duration": 365,
    "start_time": "2023-05-11T18:12:02.797Z"
   },
   {
    "duration": 21,
    "start_time": "2023-05-11T18:12:03.164Z"
   },
   {
    "duration": 163,
    "start_time": "2023-05-11T18:12:03.187Z"
   },
   {
    "duration": 139,
    "start_time": "2023-05-11T18:12:27.746Z"
   },
   {
    "duration": 5,
    "start_time": "2023-05-11T18:15:25.698Z"
   },
   {
    "duration": 6,
    "start_time": "2023-05-11T18:15:33.043Z"
   },
   {
    "duration": 942,
    "start_time": "2023-05-11T18:27:43.986Z"
   },
   {
    "duration": 163,
    "start_time": "2023-05-11T19:04:23.845Z"
   },
   {
    "duration": 7,
    "start_time": "2023-05-11T19:07:58.352Z"
   },
   {
    "duration": 56,
    "start_time": "2023-05-12T06:34:24.103Z"
   },
   {
    "duration": 1240,
    "start_time": "2023-05-12T06:34:32.208Z"
   },
   {
    "duration": 64,
    "start_time": "2023-05-12T06:34:33.450Z"
   },
   {
    "duration": 11,
    "start_time": "2023-05-12T06:34:33.516Z"
   },
   {
    "duration": 18,
    "start_time": "2023-05-12T06:34:33.530Z"
   },
   {
    "duration": 5,
    "start_time": "2023-05-12T06:34:33.550Z"
   },
   {
    "duration": 14,
    "start_time": "2023-05-12T06:34:33.557Z"
   },
   {
    "duration": 8,
    "start_time": "2023-05-12T06:34:33.573Z"
   },
   {
    "duration": 9,
    "start_time": "2023-05-12T06:34:33.583Z"
   },
   {
    "duration": 80,
    "start_time": "2023-05-12T06:34:33.594Z"
   },
   {
    "duration": 58,
    "start_time": "2023-05-12T06:34:33.677Z"
   },
   {
    "duration": 12,
    "start_time": "2023-05-12T06:34:33.736Z"
   },
   {
    "duration": 13,
    "start_time": "2023-05-12T06:34:33.750Z"
   },
   {
    "duration": 12,
    "start_time": "2023-05-12T06:34:33.765Z"
   },
   {
    "duration": 6,
    "start_time": "2023-05-12T06:34:33.779Z"
   },
   {
    "duration": 146,
    "start_time": "2023-05-12T06:34:33.787Z"
   },
   {
    "duration": 118,
    "start_time": "2023-05-12T06:34:33.935Z"
   },
   {
    "duration": 260,
    "start_time": "2023-05-12T06:34:34.055Z"
   },
   {
    "duration": 284,
    "start_time": "2023-05-12T06:34:34.316Z"
   },
   {
    "duration": 235,
    "start_time": "2023-05-12T06:34:34.602Z"
   },
   {
    "duration": 356,
    "start_time": "2023-05-12T06:34:34.838Z"
   },
   {
    "duration": 241,
    "start_time": "2023-05-12T06:34:35.196Z"
   },
   {
    "duration": 303,
    "start_time": "2023-05-12T06:34:35.439Z"
   },
   {
    "duration": 12,
    "start_time": "2023-05-12T06:34:35.744Z"
   },
   {
    "duration": 115,
    "start_time": "2023-05-12T06:34:35.758Z"
   },
   {
    "duration": 5,
    "start_time": "2023-05-12T06:34:35.875Z"
   },
   {
    "duration": 138,
    "start_time": "2023-05-12T06:34:35.882Z"
   },
   {
    "duration": 5,
    "start_time": "2023-05-12T06:34:36.022Z"
   },
   {
    "duration": 122,
    "start_time": "2023-05-12T06:38:11.563Z"
   },
   {
    "duration": 74,
    "start_time": "2023-05-12T07:08:08.125Z"
   },
   {
    "duration": 10,
    "start_time": "2023-05-12T07:13:03.084Z"
   },
   {
    "duration": 6,
    "start_time": "2023-05-12T07:14:52.414Z"
   },
   {
    "duration": 240,
    "start_time": "2023-05-12T07:15:14.624Z"
   },
   {
    "duration": 235,
    "start_time": "2023-05-12T07:17:00.927Z"
   },
   {
    "duration": 365,
    "start_time": "2023-05-12T07:20:54.118Z"
   },
   {
    "duration": 337,
    "start_time": "2023-05-12T07:21:42.511Z"
   },
   {
    "duration": 314,
    "start_time": "2023-05-12T07:22:04.439Z"
   },
   {
    "duration": 202,
    "start_time": "2023-05-12T08:57:37.946Z"
   },
   {
    "duration": 146,
    "start_time": "2023-05-12T08:59:57.185Z"
   },
   {
    "duration": 6,
    "start_time": "2023-05-12T09:01:57.362Z"
   },
   {
    "duration": 129,
    "start_time": "2023-05-12T09:03:13.152Z"
   },
   {
    "duration": 13,
    "start_time": "2023-05-12T09:05:20.820Z"
   },
   {
    "duration": 13,
    "start_time": "2023-05-12T09:05:24.728Z"
   },
   {
    "duration": 1142,
    "start_time": "2023-05-12T09:05:34.143Z"
   },
   {
    "duration": 41,
    "start_time": "2023-05-12T09:05:35.287Z"
   },
   {
    "duration": 15,
    "start_time": "2023-05-12T09:05:35.330Z"
   },
   {
    "duration": 6,
    "start_time": "2023-05-12T09:05:35.347Z"
   },
   {
    "duration": 24,
    "start_time": "2023-05-12T09:05:35.355Z"
   },
   {
    "duration": 42,
    "start_time": "2023-05-12T09:05:35.381Z"
   },
   {
    "duration": 9,
    "start_time": "2023-05-12T09:05:35.425Z"
   },
   {
    "duration": 33,
    "start_time": "2023-05-12T09:05:35.437Z"
   },
   {
    "duration": 58,
    "start_time": "2023-05-12T09:05:35.472Z"
   },
   {
    "duration": 28,
    "start_time": "2023-05-12T09:05:35.536Z"
   },
   {
    "duration": 9,
    "start_time": "2023-05-12T09:05:35.566Z"
   },
   {
    "duration": 20,
    "start_time": "2023-05-12T09:05:35.577Z"
   },
   {
    "duration": 40,
    "start_time": "2023-05-12T09:05:35.599Z"
   },
   {
    "duration": 16,
    "start_time": "2023-05-12T09:05:35.643Z"
   },
   {
    "duration": 224,
    "start_time": "2023-05-12T09:05:35.660Z"
   },
   {
    "duration": 119,
    "start_time": "2023-05-12T09:05:35.885Z"
   },
   {
    "duration": 270,
    "start_time": "2023-05-12T09:05:36.009Z"
   },
   {
    "duration": 341,
    "start_time": "2023-05-12T09:05:36.281Z"
   },
   {
    "duration": 245,
    "start_time": "2023-05-12T09:05:36.626Z"
   },
   {
    "duration": 395,
    "start_time": "2023-05-12T09:05:36.873Z"
   },
   {
    "duration": 291,
    "start_time": "2023-05-12T09:05:37.270Z"
   },
   {
    "duration": 319,
    "start_time": "2023-05-12T09:05:37.563Z"
   },
   {
    "duration": 9,
    "start_time": "2023-05-12T09:05:37.884Z"
   },
   {
    "duration": 133,
    "start_time": "2023-05-12T09:05:37.895Z"
   },
   {
    "duration": 10,
    "start_time": "2023-05-12T09:05:38.030Z"
   },
   {
    "duration": 124,
    "start_time": "2023-05-12T09:05:38.042Z"
   },
   {
    "duration": 5,
    "start_time": "2023-05-12T09:05:38.168Z"
   },
   {
    "duration": 195,
    "start_time": "2023-05-12T09:05:38.176Z"
   },
   {
    "duration": 149,
    "start_time": "2023-05-12T09:05:38.372Z"
   },
   {
    "duration": 12,
    "start_time": "2023-05-12T09:05:38.528Z"
   },
   {
    "duration": 99,
    "start_time": "2023-05-12T09:05:38.541Z"
   },
   {
    "duration": 6,
    "start_time": "2023-05-12T09:05:59.031Z"
   },
   {
    "duration": 1087,
    "start_time": "2023-05-12T09:06:04.892Z"
   },
   {
    "duration": 40,
    "start_time": "2023-05-12T09:06:05.981Z"
   },
   {
    "duration": 11,
    "start_time": "2023-05-12T09:06:06.026Z"
   },
   {
    "duration": 53,
    "start_time": "2023-05-12T09:06:06.039Z"
   },
   {
    "duration": 45,
    "start_time": "2023-05-12T09:06:06.094Z"
   },
   {
    "duration": 37,
    "start_time": "2023-05-12T09:06:06.140Z"
   },
   {
    "duration": 44,
    "start_time": "2023-05-12T09:06:06.178Z"
   },
   {
    "duration": 33,
    "start_time": "2023-05-12T09:06:06.231Z"
   },
   {
    "duration": 106,
    "start_time": "2023-05-12T09:06:06.265Z"
   },
   {
    "duration": 20,
    "start_time": "2023-05-12T09:06:06.376Z"
   },
   {
    "duration": 20,
    "start_time": "2023-05-12T09:06:06.397Z"
   },
   {
    "duration": 17,
    "start_time": "2023-05-12T09:06:06.419Z"
   },
   {
    "duration": 12,
    "start_time": "2023-05-12T09:06:06.440Z"
   },
   {
    "duration": 16,
    "start_time": "2023-05-12T09:06:06.453Z"
   },
   {
    "duration": 189,
    "start_time": "2023-05-12T09:06:06.471Z"
   },
   {
    "duration": 116,
    "start_time": "2023-05-12T09:06:06.661Z"
   },
   {
    "duration": 260,
    "start_time": "2023-05-12T09:06:06.779Z"
   },
   {
    "duration": 310,
    "start_time": "2023-05-12T09:06:07.041Z"
   },
   {
    "duration": 223,
    "start_time": "2023-05-12T09:06:07.353Z"
   },
   {
    "duration": 367,
    "start_time": "2023-05-12T09:06:07.578Z"
   },
   {
    "duration": 289,
    "start_time": "2023-05-12T09:06:07.946Z"
   },
   {
    "duration": 307,
    "start_time": "2023-05-12T09:06:08.237Z"
   },
   {
    "duration": 9,
    "start_time": "2023-05-12T09:06:08.546Z"
   },
   {
    "duration": 126,
    "start_time": "2023-05-12T09:06:08.556Z"
   },
   {
    "duration": 4,
    "start_time": "2023-05-12T09:06:08.684Z"
   },
   {
    "duration": 149,
    "start_time": "2023-05-12T09:06:08.690Z"
   },
   {
    "duration": 4,
    "start_time": "2023-05-12T09:06:08.841Z"
   },
   {
    "duration": 218,
    "start_time": "2023-05-12T09:06:08.848Z"
   },
   {
    "duration": 170,
    "start_time": "2023-05-12T09:06:09.068Z"
   },
   {
    "duration": 6,
    "start_time": "2023-05-12T09:06:09.239Z"
   },
   {
    "duration": 104,
    "start_time": "2023-05-12T09:06:09.246Z"
   },
   {
    "duration": 3,
    "start_time": "2023-05-12T09:06:51.637Z"
   },
   {
    "duration": 20,
    "start_time": "2023-05-12T09:06:56.045Z"
   },
   {
    "duration": 13,
    "start_time": "2023-05-12T09:10:02.685Z"
   },
   {
    "duration": 1942,
    "start_time": "2023-05-12T09:20:00.948Z"
   },
   {
    "duration": 1469,
    "start_time": "2023-05-12T09:20:26.366Z"
   },
   {
    "duration": 1416,
    "start_time": "2023-05-12T09:20:56.624Z"
   },
   {
    "duration": 1456,
    "start_time": "2023-05-12T09:21:32.923Z"
   },
   {
    "duration": 1065,
    "start_time": "2023-05-12T09:21:41.050Z"
   },
   {
    "duration": 34,
    "start_time": "2023-05-12T09:21:42.124Z"
   },
   {
    "duration": 10,
    "start_time": "2023-05-12T09:21:42.159Z"
   },
   {
    "duration": 12,
    "start_time": "2023-05-12T09:21:42.170Z"
   },
   {
    "duration": 10,
    "start_time": "2023-05-12T09:21:42.184Z"
   },
   {
    "duration": 24,
    "start_time": "2023-05-12T09:21:42.196Z"
   },
   {
    "duration": 13,
    "start_time": "2023-05-12T09:21:42.222Z"
   },
   {
    "duration": 16,
    "start_time": "2023-05-12T09:21:42.237Z"
   },
   {
    "duration": 36,
    "start_time": "2023-05-12T09:21:42.255Z"
   },
   {
    "duration": 30,
    "start_time": "2023-05-12T09:21:42.293Z"
   },
   {
    "duration": 14,
    "start_time": "2023-05-12T09:21:42.325Z"
   },
   {
    "duration": 10,
    "start_time": "2023-05-12T09:21:42.340Z"
   },
   {
    "duration": 7,
    "start_time": "2023-05-12T09:21:42.351Z"
   },
   {
    "duration": 6,
    "start_time": "2023-05-12T09:21:42.361Z"
   },
   {
    "duration": 195,
    "start_time": "2023-05-12T09:21:42.368Z"
   },
   {
    "duration": 165,
    "start_time": "2023-05-12T09:21:42.565Z"
   },
   {
    "duration": 283,
    "start_time": "2023-05-12T09:21:42.735Z"
   },
   {
    "duration": 313,
    "start_time": "2023-05-12T09:21:43.029Z"
   },
   {
    "duration": 232,
    "start_time": "2023-05-12T09:21:43.344Z"
   },
   {
    "duration": 366,
    "start_time": "2023-05-12T09:21:43.578Z"
   },
   {
    "duration": 271,
    "start_time": "2023-05-12T09:21:43.946Z"
   },
   {
    "duration": 326,
    "start_time": "2023-05-12T09:21:44.219Z"
   },
   {
    "duration": 11,
    "start_time": "2023-05-12T09:21:44.546Z"
   },
   {
    "duration": 128,
    "start_time": "2023-05-12T09:21:44.559Z"
   },
   {
    "duration": 6,
    "start_time": "2023-05-12T09:21:44.689Z"
   },
   {
    "duration": 143,
    "start_time": "2023-05-12T09:21:44.696Z"
   },
   {
    "duration": 5,
    "start_time": "2023-05-12T09:21:44.841Z"
   },
   {
    "duration": 223,
    "start_time": "2023-05-12T09:21:44.847Z"
   },
   {
    "duration": 156,
    "start_time": "2023-05-12T09:21:45.072Z"
   },
   {
    "duration": 13,
    "start_time": "2023-05-12T09:21:45.229Z"
   },
   {
    "duration": 26,
    "start_time": "2023-05-12T09:21:45.244Z"
   },
   {
    "duration": 11,
    "start_time": "2023-05-12T09:21:45.272Z"
   },
   {
    "duration": 1597,
    "start_time": "2023-05-12T09:21:45.285Z"
   },
   {
    "duration": 133,
    "start_time": "2023-05-12T09:22:12.864Z"
   },
   {
    "duration": 1523,
    "start_time": "2023-05-12T09:22:17.258Z"
   },
   {
    "duration": 1040,
    "start_time": "2023-05-12T09:23:03.657Z"
   },
   {
    "duration": 58,
    "start_time": "2023-05-12T09:23:04.698Z"
   },
   {
    "duration": 9,
    "start_time": "2023-05-12T09:23:04.758Z"
   },
   {
    "duration": 14,
    "start_time": "2023-05-12T09:23:04.768Z"
   },
   {
    "duration": 7,
    "start_time": "2023-05-12T09:23:04.783Z"
   },
   {
    "duration": 11,
    "start_time": "2023-05-12T09:23:04.792Z"
   },
   {
    "duration": 16,
    "start_time": "2023-05-12T09:23:04.805Z"
   },
   {
    "duration": 14,
    "start_time": "2023-05-12T09:23:04.824Z"
   },
   {
    "duration": 35,
    "start_time": "2023-05-12T09:23:04.843Z"
   },
   {
    "duration": 17,
    "start_time": "2023-05-12T09:23:04.880Z"
   },
   {
    "duration": 11,
    "start_time": "2023-05-12T09:23:04.898Z"
   },
   {
    "duration": 25,
    "start_time": "2023-05-12T09:23:04.911Z"
   },
   {
    "duration": 15,
    "start_time": "2023-05-12T09:23:04.940Z"
   },
   {
    "duration": 6,
    "start_time": "2023-05-12T09:23:04.956Z"
   },
   {
    "duration": 156,
    "start_time": "2023-05-12T09:23:04.963Z"
   },
   {
    "duration": 121,
    "start_time": "2023-05-12T09:23:05.127Z"
   },
   {
    "duration": 254,
    "start_time": "2023-05-12T09:23:05.249Z"
   },
   {
    "duration": 308,
    "start_time": "2023-05-12T09:23:05.506Z"
   },
   {
    "duration": 231,
    "start_time": "2023-05-12T09:23:05.816Z"
   },
   {
    "duration": 314,
    "start_time": "2023-05-12T09:23:06.049Z"
   },
   {
    "duration": 288,
    "start_time": "2023-05-12T09:23:06.365Z"
   },
   {
    "duration": 299,
    "start_time": "2023-05-12T09:23:06.654Z"
   },
   {
    "duration": 9,
    "start_time": "2023-05-12T09:23:06.955Z"
   },
   {
    "duration": 126,
    "start_time": "2023-05-12T09:23:06.965Z"
   },
   {
    "duration": 20,
    "start_time": "2023-05-12T09:23:07.093Z"
   },
   {
    "duration": 139,
    "start_time": "2023-05-12T09:23:07.117Z"
   },
   {
    "duration": 7,
    "start_time": "2023-05-12T09:23:07.258Z"
   },
   {
    "duration": 213,
    "start_time": "2023-05-12T09:23:07.269Z"
   },
   {
    "duration": 157,
    "start_time": "2023-05-12T09:23:07.484Z"
   },
   {
    "duration": 7,
    "start_time": "2023-05-12T09:23:07.646Z"
   },
   {
    "duration": 31,
    "start_time": "2023-05-12T09:23:07.655Z"
   },
   {
    "duration": 8,
    "start_time": "2023-05-12T09:23:07.688Z"
   },
   {
    "duration": 1605,
    "start_time": "2023-05-12T09:23:07.698Z"
   },
   {
    "duration": 9,
    "start_time": "2023-05-12T09:24:35.086Z"
   },
   {
    "duration": 11,
    "start_time": "2023-05-12T09:26:50.240Z"
   },
   {
    "duration": 24,
    "start_time": "2023-05-12T09:27:03.081Z"
   },
   {
    "duration": 1556,
    "start_time": "2023-05-12T09:28:22.896Z"
   },
   {
    "duration": 16,
    "start_time": "2023-05-12T09:29:43.851Z"
   },
   {
    "duration": 164,
    "start_time": "2023-05-12T10:15:18.856Z"
   },
   {
    "duration": 7,
    "start_time": "2023-05-12T10:15:25.646Z"
   },
   {
    "duration": 27,
    "start_time": "2023-05-12T10:15:28.263Z"
   },
   {
    "duration": 6,
    "start_time": "2023-05-12T10:16:13.436Z"
   },
   {
    "duration": 10,
    "start_time": "2023-05-12T10:21:16.778Z"
   },
   {
    "duration": 10,
    "start_time": "2023-05-12T10:28:35.249Z"
   },
   {
    "duration": 9,
    "start_time": "2023-05-12T10:29:51.480Z"
   },
   {
    "duration": 20,
    "start_time": "2023-05-12T10:30:11.464Z"
   },
   {
    "duration": 21,
    "start_time": "2023-05-12T10:32:46.124Z"
   },
   {
    "duration": 1322,
    "start_time": "2023-05-12T17:58:56.583Z"
   },
   {
    "duration": 40,
    "start_time": "2023-05-12T17:58:57.907Z"
   },
   {
    "duration": 18,
    "start_time": "2023-05-12T17:58:57.948Z"
   },
   {
    "duration": 55,
    "start_time": "2023-05-12T17:58:57.970Z"
   },
   {
    "duration": 49,
    "start_time": "2023-05-12T17:58:58.027Z"
   },
   {
    "duration": 59,
    "start_time": "2023-05-12T17:58:58.079Z"
   },
   {
    "duration": 38,
    "start_time": "2023-05-12T17:58:58.141Z"
   },
   {
    "duration": 48,
    "start_time": "2023-05-12T17:58:58.182Z"
   },
   {
    "duration": 82,
    "start_time": "2023-05-12T17:58:58.232Z"
   },
   {
    "duration": 23,
    "start_time": "2023-05-12T17:58:58.317Z"
   },
   {
    "duration": 21,
    "start_time": "2023-05-12T17:58:58.342Z"
   },
   {
    "duration": 63,
    "start_time": "2023-05-12T17:58:58.366Z"
   },
   {
    "duration": 79,
    "start_time": "2023-05-12T17:58:58.432Z"
   },
   {
    "duration": 68,
    "start_time": "2023-05-12T17:58:58.513Z"
   },
   {
    "duration": 191,
    "start_time": "2023-05-12T17:58:58.583Z"
   },
   {
    "duration": 174,
    "start_time": "2023-05-12T17:58:58.776Z"
   },
   {
    "duration": 324,
    "start_time": "2023-05-12T17:58:58.953Z"
   },
   {
    "duration": 361,
    "start_time": "2023-05-12T17:58:59.279Z"
   },
   {
    "duration": 316,
    "start_time": "2023-05-12T17:58:59.642Z"
   },
   {
    "duration": 363,
    "start_time": "2023-05-12T17:58:59.961Z"
   },
   {
    "duration": 311,
    "start_time": "2023-05-12T17:59:00.326Z"
   },
   {
    "duration": 389,
    "start_time": "2023-05-12T17:59:00.639Z"
   },
   {
    "duration": 21,
    "start_time": "2023-05-12T17:59:01.031Z"
   },
   {
    "duration": 281,
    "start_time": "2023-05-12T17:59:01.054Z"
   },
   {
    "duration": 25,
    "start_time": "2023-05-12T17:59:01.338Z"
   },
   {
    "duration": 265,
    "start_time": "2023-05-12T17:59:01.365Z"
   },
   {
    "duration": 14,
    "start_time": "2023-05-12T17:59:01.632Z"
   },
   {
    "duration": 292,
    "start_time": "2023-05-12T17:59:01.650Z"
   },
   {
    "duration": 181,
    "start_time": "2023-05-12T17:59:01.946Z"
   },
   {
    "duration": 7,
    "start_time": "2023-05-12T17:59:02.130Z"
   },
   {
    "duration": 85,
    "start_time": "2023-05-12T17:59:02.146Z"
   },
   {
    "duration": 13,
    "start_time": "2023-05-12T17:59:02.233Z"
   },
   {
    "duration": 70,
    "start_time": "2023-05-12T17:59:02.248Z"
   },
   {
    "duration": 28,
    "start_time": "2023-05-12T17:59:02.321Z"
   },
   {
    "duration": 69,
    "start_time": "2023-05-12T17:59:02.351Z"
   },
   {
    "duration": 21,
    "start_time": "2023-05-12T17:59:02.422Z"
   },
   {
    "duration": 145,
    "start_time": "2023-05-13T06:58:33.408Z"
   },
   {
    "duration": 3648,
    "start_time": "2023-05-13T06:58:41.483Z"
   },
   {
    "duration": 218,
    "start_time": "2023-05-13T06:58:45.143Z"
   },
   {
    "duration": 23,
    "start_time": "2023-05-13T06:58:45.363Z"
   },
   {
    "duration": 116,
    "start_time": "2023-05-13T06:58:45.387Z"
   },
   {
    "duration": 121,
    "start_time": "2023-05-13T06:58:45.509Z"
   },
   {
    "duration": 159,
    "start_time": "2023-05-13T06:58:45.639Z"
   },
   {
    "duration": 86,
    "start_time": "2023-05-13T06:58:45.808Z"
   },
   {
    "duration": 148,
    "start_time": "2023-05-13T06:58:45.902Z"
   },
   {
    "duration": 396,
    "start_time": "2023-05-13T06:58:46.061Z"
   },
   {
    "duration": 215,
    "start_time": "2023-05-13T06:58:46.463Z"
   },
   {
    "duration": 59,
    "start_time": "2023-05-13T06:58:46.683Z"
   },
   {
    "duration": 126,
    "start_time": "2023-05-13T06:58:46.756Z"
   },
   {
    "duration": 82,
    "start_time": "2023-05-13T06:58:46.891Z"
   },
   {
    "duration": 137,
    "start_time": "2023-05-13T06:58:46.996Z"
   },
   {
    "duration": 489,
    "start_time": "2023-05-13T06:58:47.141Z"
   },
   {
    "duration": 188,
    "start_time": "2023-05-13T06:58:47.637Z"
   },
   {
    "duration": 442,
    "start_time": "2023-05-13T06:58:47.832Z"
   },
   {
    "duration": 626,
    "start_time": "2023-05-13T06:58:48.280Z"
   },
   {
    "duration": 390,
    "start_time": "2023-05-13T06:58:48.912Z"
   },
   {
    "duration": 533,
    "start_time": "2023-05-13T06:58:49.307Z"
   },
   {
    "duration": 360,
    "start_time": "2023-05-13T06:58:49.846Z"
   },
   {
    "duration": 554,
    "start_time": "2023-05-13T06:58:50.207Z"
   },
   {
    "duration": 19,
    "start_time": "2023-05-13T06:58:50.766Z"
   },
   {
    "duration": 301,
    "start_time": "2023-05-13T06:58:50.789Z"
   },
   {
    "duration": 8,
    "start_time": "2023-05-13T06:58:51.094Z"
   },
   {
    "duration": 326,
    "start_time": "2023-05-13T06:58:51.112Z"
   },
   {
    "duration": 8,
    "start_time": "2023-05-13T06:58:51.442Z"
   },
   {
    "duration": 563,
    "start_time": "2023-05-13T06:58:51.453Z"
   },
   {
    "duration": 224,
    "start_time": "2023-05-13T06:58:52.030Z"
   },
   {
    "duration": 34,
    "start_time": "2023-05-13T06:58:52.272Z"
   },
   {
    "duration": 164,
    "start_time": "2023-05-13T06:58:52.322Z"
   },
   {
    "duration": 65,
    "start_time": "2023-05-13T06:58:52.507Z"
   },
   {
    "duration": 185,
    "start_time": "2023-05-13T06:58:52.588Z"
   },
   {
    "duration": 168,
    "start_time": "2023-05-13T06:58:52.782Z"
   },
   {
    "duration": 269,
    "start_time": "2023-05-13T06:58:52.955Z"
   },
   {
    "duration": 140,
    "start_time": "2023-05-13T06:58:53.230Z"
   },
   {
    "duration": 218,
    "start_time": "2023-05-13T07:02:17.745Z"
   },
   {
    "duration": 228,
    "start_time": "2023-05-13T07:02:24.305Z"
   },
   {
    "duration": 70,
    "start_time": "2023-05-13T07:10:47.612Z"
   },
   {
    "duration": 50,
    "start_time": "2023-05-13T07:11:02.388Z"
   },
   {
    "duration": 60,
    "start_time": "2023-05-13T07:11:11.829Z"
   },
   {
    "duration": 18,
    "start_time": "2023-05-13T07:12:04.480Z"
   },
   {
    "duration": 34,
    "start_time": "2023-05-13T07:12:50.780Z"
   },
   {
    "duration": 29,
    "start_time": "2023-05-13T07:14:26.779Z"
   },
   {
    "duration": 13,
    "start_time": "2023-05-13T07:15:11.663Z"
   },
   {
    "duration": 199,
    "start_time": "2023-05-13T07:18:19.075Z"
   },
   {
    "duration": 74,
    "start_time": "2023-05-13T11:11:11.422Z"
   },
   {
    "duration": 1468,
    "start_time": "2023-05-13T11:11:18.050Z"
   },
   {
    "duration": 116,
    "start_time": "2023-05-13T11:11:19.522Z"
   },
   {
    "duration": 14,
    "start_time": "2023-05-13T11:11:19.640Z"
   },
   {
    "duration": 10,
    "start_time": "2023-05-13T11:11:19.656Z"
   },
   {
    "duration": 8,
    "start_time": "2023-05-13T11:11:19.668Z"
   },
   {
    "duration": 15,
    "start_time": "2023-05-13T11:11:19.678Z"
   },
   {
    "duration": 45,
    "start_time": "2023-05-13T11:11:19.694Z"
   },
   {
    "duration": 15,
    "start_time": "2023-05-13T11:11:19.741Z"
   },
   {
    "duration": 196,
    "start_time": "2023-05-13T11:11:19.758Z"
   },
   {
    "duration": 96,
    "start_time": "2023-05-13T11:11:19.956Z"
   },
   {
    "duration": 11,
    "start_time": "2023-05-13T11:11:20.054Z"
   },
   {
    "duration": 17,
    "start_time": "2023-05-13T11:11:20.067Z"
   },
   {
    "duration": 51,
    "start_time": "2023-05-13T11:11:20.086Z"
   },
   {
    "duration": 136,
    "start_time": "2023-05-13T11:11:20.140Z"
   },
   {
    "duration": 0,
    "start_time": "2023-05-13T11:11:20.278Z"
   },
   {
    "duration": 0,
    "start_time": "2023-05-13T11:11:20.281Z"
   },
   {
    "duration": 0,
    "start_time": "2023-05-13T11:11:20.283Z"
   },
   {
    "duration": 0,
    "start_time": "2023-05-13T11:11:20.284Z"
   },
   {
    "duration": 0,
    "start_time": "2023-05-13T11:11:20.285Z"
   },
   {
    "duration": 0,
    "start_time": "2023-05-13T11:11:20.305Z"
   },
   {
    "duration": 0,
    "start_time": "2023-05-13T11:11:20.306Z"
   },
   {
    "duration": 0,
    "start_time": "2023-05-13T11:11:20.307Z"
   },
   {
    "duration": 0,
    "start_time": "2023-05-13T11:11:20.308Z"
   },
   {
    "duration": 0,
    "start_time": "2023-05-13T11:11:20.309Z"
   },
   {
    "duration": 0,
    "start_time": "2023-05-13T11:11:20.310Z"
   },
   {
    "duration": 0,
    "start_time": "2023-05-13T11:11:20.310Z"
   },
   {
    "duration": 0,
    "start_time": "2023-05-13T11:11:20.312Z"
   },
   {
    "duration": 0,
    "start_time": "2023-05-13T11:11:20.313Z"
   },
   {
    "duration": 0,
    "start_time": "2023-05-13T11:11:20.314Z"
   },
   {
    "duration": 0,
    "start_time": "2023-05-13T11:11:20.315Z"
   },
   {
    "duration": 0,
    "start_time": "2023-05-13T11:11:20.316Z"
   },
   {
    "duration": 0,
    "start_time": "2023-05-13T11:11:20.317Z"
   },
   {
    "duration": 0,
    "start_time": "2023-05-13T11:11:20.318Z"
   },
   {
    "duration": 0,
    "start_time": "2023-05-13T11:11:20.319Z"
   },
   {
    "duration": 0,
    "start_time": "2023-05-13T11:11:20.320Z"
   },
   {
    "duration": 0,
    "start_time": "2023-05-13T11:11:20.321Z"
   },
   {
    "duration": 0,
    "start_time": "2023-05-13T11:11:20.322Z"
   },
   {
    "duration": 12,
    "start_time": "2023-05-13T11:13:09.625Z"
   },
   {
    "duration": 8,
    "start_time": "2023-05-13T11:13:36.831Z"
   },
   {
    "duration": 5,
    "start_time": "2023-05-13T12:49:14.543Z"
   },
   {
    "duration": 93,
    "start_time": "2023-05-13T12:50:36.692Z"
   },
   {
    "duration": 4,
    "start_time": "2023-05-13T12:50:46.052Z"
   },
   {
    "duration": 4,
    "start_time": "2023-05-13T12:53:44.894Z"
   },
   {
    "duration": 7,
    "start_time": "2023-05-13T12:54:57.045Z"
   },
   {
    "duration": 6,
    "start_time": "2023-05-13T12:55:35.221Z"
   },
   {
    "duration": 7,
    "start_time": "2023-05-13T12:55:51.997Z"
   },
   {
    "duration": 11,
    "start_time": "2023-05-13T12:57:42.369Z"
   },
   {
    "duration": 5,
    "start_time": "2023-05-13T12:57:53.165Z"
   },
   {
    "duration": 5,
    "start_time": "2023-05-13T13:06:47.337Z"
   },
   {
    "duration": 1071,
    "start_time": "2023-05-13T13:07:12.072Z"
   },
   {
    "duration": 37,
    "start_time": "2023-05-13T13:07:13.144Z"
   },
   {
    "duration": 11,
    "start_time": "2023-05-13T13:07:13.182Z"
   },
   {
    "duration": 30,
    "start_time": "2023-05-13T13:07:13.195Z"
   },
   {
    "duration": 8,
    "start_time": "2023-05-13T13:07:13.228Z"
   },
   {
    "duration": 14,
    "start_time": "2023-05-13T13:07:13.238Z"
   },
   {
    "duration": 6,
    "start_time": "2023-05-13T13:07:13.254Z"
   },
   {
    "duration": 24,
    "start_time": "2023-05-13T13:07:13.262Z"
   },
   {
    "duration": 57,
    "start_time": "2023-05-13T13:07:13.288Z"
   },
   {
    "duration": 21,
    "start_time": "2023-05-13T13:07:13.347Z"
   },
   {
    "duration": 12,
    "start_time": "2023-05-13T13:07:13.370Z"
   },
   {
    "duration": 12,
    "start_time": "2023-05-13T13:07:13.383Z"
   },
   {
    "duration": 24,
    "start_time": "2023-05-13T13:07:13.399Z"
   },
   {
    "duration": 20,
    "start_time": "2023-05-13T13:07:13.428Z"
   },
   {
    "duration": 7,
    "start_time": "2023-05-13T13:07:13.449Z"
   },
   {
    "duration": 18,
    "start_time": "2023-05-13T13:07:13.458Z"
   },
   {
    "duration": 7,
    "start_time": "2023-05-13T13:07:13.477Z"
   },
   {
    "duration": 7,
    "start_time": "2023-05-13T13:07:13.486Z"
   },
   {
    "duration": 35,
    "start_time": "2023-05-13T13:07:13.495Z"
   },
   {
    "duration": 176,
    "start_time": "2023-05-13T13:07:13.531Z"
   },
   {
    "duration": 125,
    "start_time": "2023-05-13T13:07:13.709Z"
   },
   {
    "duration": 274,
    "start_time": "2023-05-13T13:07:13.836Z"
   },
   {
    "duration": 324,
    "start_time": "2023-05-13T13:07:14.111Z"
   },
   {
    "duration": 256,
    "start_time": "2023-05-13T13:07:14.437Z"
   },
   {
    "duration": 357,
    "start_time": "2023-05-13T13:07:14.695Z"
   },
   {
    "duration": 319,
    "start_time": "2023-05-13T13:07:15.054Z"
   },
   {
    "duration": 374,
    "start_time": "2023-05-13T13:07:15.375Z"
   },
   {
    "duration": 11,
    "start_time": "2023-05-13T13:07:15.750Z"
   },
   {
    "duration": 122,
    "start_time": "2023-05-13T13:07:15.762Z"
   },
   {
    "duration": 16,
    "start_time": "2023-05-13T13:07:15.886Z"
   },
   {
    "duration": 136,
    "start_time": "2023-05-13T13:07:15.911Z"
   },
   {
    "duration": 6,
    "start_time": "2023-05-13T13:07:16.048Z"
   },
   {
    "duration": 251,
    "start_time": "2023-05-13T13:07:16.056Z"
   },
   {
    "duration": 143,
    "start_time": "2023-05-13T13:07:16.308Z"
   },
   {
    "duration": 6,
    "start_time": "2023-05-13T13:07:16.453Z"
   },
   {
    "duration": 27,
    "start_time": "2023-05-13T13:07:16.460Z"
   },
   {
    "duration": 18,
    "start_time": "2023-05-13T13:07:16.499Z"
   },
   {
    "duration": 11,
    "start_time": "2023-05-13T13:07:16.520Z"
   },
   {
    "duration": 10,
    "start_time": "2023-05-13T13:07:16.533Z"
   },
   {
    "duration": 28,
    "start_time": "2023-05-13T13:07:16.544Z"
   },
   {
    "duration": 27,
    "start_time": "2023-05-13T13:07:16.575Z"
   },
   {
    "duration": 4,
    "start_time": "2023-05-13T13:08:30.570Z"
   },
   {
    "duration": 22,
    "start_time": "2023-05-13T13:16:31.925Z"
   },
   {
    "duration": 13,
    "start_time": "2023-05-13T13:16:48.027Z"
   },
   {
    "duration": 6,
    "start_time": "2023-05-13T13:19:01.428Z"
   },
   {
    "duration": 22,
    "start_time": "2023-05-13T13:19:11.887Z"
   },
   {
    "duration": 16,
    "start_time": "2023-05-13T13:22:48.031Z"
   },
   {
    "duration": 6,
    "start_time": "2023-05-13T13:36:29.041Z"
   },
   {
    "duration": 6,
    "start_time": "2023-05-13T13:36:31.555Z"
   },
   {
    "duration": 6,
    "start_time": "2023-05-13T13:36:38.160Z"
   },
   {
    "duration": 10,
    "start_time": "2023-05-13T13:36:38.248Z"
   },
   {
    "duration": 6,
    "start_time": "2023-05-13T13:37:09.490Z"
   },
   {
    "duration": 11,
    "start_time": "2023-05-13T13:38:54.721Z"
   },
   {
    "duration": 16,
    "start_time": "2023-05-13T13:39:22.248Z"
   },
   {
    "duration": 5,
    "start_time": "2023-05-13T13:46:59.343Z"
   },
   {
    "duration": 5,
    "start_time": "2023-05-13T13:50:25.684Z"
   },
   {
    "duration": 236,
    "start_time": "2023-05-13T14:02:12.357Z"
   },
   {
    "duration": 304,
    "start_time": "2023-05-13T14:02:40.028Z"
   },
   {
    "duration": 240,
    "start_time": "2023-05-13T14:05:16.937Z"
   },
   {
    "duration": 349,
    "start_time": "2023-05-13T14:06:40.919Z"
   },
   {
    "duration": 343,
    "start_time": "2023-05-13T14:07:20.322Z"
   },
   {
    "duration": 316,
    "start_time": "2023-05-13T14:08:23.135Z"
   },
   {
    "duration": 246,
    "start_time": "2023-05-13T14:08:44.982Z"
   },
   {
    "duration": 265,
    "start_time": "2023-05-13T14:09:09.985Z"
   },
   {
    "duration": 331,
    "start_time": "2023-05-13T14:09:24.226Z"
   },
   {
    "duration": 323,
    "start_time": "2023-05-13T14:17:40.020Z"
   },
   {
    "duration": 344,
    "start_time": "2023-05-13T14:18:13.015Z"
   },
   {
    "duration": 122,
    "start_time": "2023-05-13T14:22:32.557Z"
   },
   {
    "duration": 295,
    "start_time": "2023-05-13T14:22:56.774Z"
   },
   {
    "duration": 141,
    "start_time": "2023-05-13T14:23:05.240Z"
   },
   {
    "duration": 138,
    "start_time": "2023-05-13T14:23:08.707Z"
   },
   {
    "duration": 150,
    "start_time": "2023-05-13T14:23:18.740Z"
   },
   {
    "duration": 138,
    "start_time": "2023-05-13T14:23:25.816Z"
   },
   {
    "duration": 128,
    "start_time": "2023-05-13T14:23:33.136Z"
   },
   {
    "duration": 137,
    "start_time": "2023-05-13T14:23:42.383Z"
   },
   {
    "duration": 154,
    "start_time": "2023-05-13T14:24:44.114Z"
   },
   {
    "duration": 146,
    "start_time": "2023-05-13T14:52:40.215Z"
   },
   {
    "duration": 150,
    "start_time": "2023-05-13T14:52:48.511Z"
   },
   {
    "duration": 144,
    "start_time": "2023-05-13T14:54:49.537Z"
   },
   {
    "duration": 159,
    "start_time": "2023-05-13T14:55:27.637Z"
   },
   {
    "duration": 150,
    "start_time": "2023-05-13T14:55:33.542Z"
   },
   {
    "duration": 6,
    "start_time": "2023-05-13T14:58:16.816Z"
   },
   {
    "duration": 66,
    "start_time": "2023-05-13T14:58:54.177Z"
   },
   {
    "duration": 49,
    "start_time": "2023-05-13T14:58:58.417Z"
   },
   {
    "duration": 156,
    "start_time": "2023-05-13T15:01:55.022Z"
   },
   {
    "duration": 1058,
    "start_time": "2023-05-13T15:02:05.378Z"
   },
   {
    "duration": 37,
    "start_time": "2023-05-13T15:02:06.438Z"
   },
   {
    "duration": 10,
    "start_time": "2023-05-13T15:02:06.477Z"
   },
   {
    "duration": 40,
    "start_time": "2023-05-13T15:02:06.488Z"
   },
   {
    "duration": 16,
    "start_time": "2023-05-13T15:02:06.530Z"
   },
   {
    "duration": 26,
    "start_time": "2023-05-13T15:02:06.548Z"
   },
   {
    "duration": 13,
    "start_time": "2023-05-13T15:02:06.576Z"
   },
   {
    "duration": 39,
    "start_time": "2023-05-13T15:02:06.591Z"
   },
   {
    "duration": 69,
    "start_time": "2023-05-13T15:02:06.633Z"
   },
   {
    "duration": 24,
    "start_time": "2023-05-13T15:02:06.709Z"
   },
   {
    "duration": 15,
    "start_time": "2023-05-13T15:02:06.735Z"
   },
   {
    "duration": 34,
    "start_time": "2023-05-13T15:02:06.753Z"
   },
   {
    "duration": 41,
    "start_time": "2023-05-13T15:02:06.790Z"
   },
   {
    "duration": 19,
    "start_time": "2023-05-13T15:02:06.833Z"
   },
   {
    "duration": 14,
    "start_time": "2023-05-13T15:02:06.854Z"
   },
   {
    "duration": 31,
    "start_time": "2023-05-13T15:02:06.869Z"
   },
   {
    "duration": 36,
    "start_time": "2023-05-13T15:02:06.906Z"
   },
   {
    "duration": 9,
    "start_time": "2023-05-13T15:02:06.944Z"
   },
   {
    "duration": 11,
    "start_time": "2023-05-13T15:02:06.955Z"
   },
   {
    "duration": 172,
    "start_time": "2023-05-13T15:02:06.968Z"
   },
   {
    "duration": 119,
    "start_time": "2023-05-13T15:02:07.141Z"
   },
   {
    "duration": 264,
    "start_time": "2023-05-13T15:02:07.261Z"
   },
   {
    "duration": 4,
    "start_time": "2023-05-13T15:02:07.527Z"
   },
   {
    "duration": 322,
    "start_time": "2023-05-13T15:02:07.533Z"
   },
   {
    "duration": 232,
    "start_time": "2023-05-13T15:02:07.858Z"
   },
   {
    "duration": 362,
    "start_time": "2023-05-13T15:02:08.096Z"
   },
   {
    "duration": 273,
    "start_time": "2023-05-13T15:02:08.460Z"
   },
   {
    "duration": 310,
    "start_time": "2023-05-13T15:02:08.736Z"
   },
   {
    "duration": 8,
    "start_time": "2023-05-13T15:02:09.048Z"
   },
   {
    "duration": 159,
    "start_time": "2023-05-13T15:02:09.058Z"
   },
   {
    "duration": 5,
    "start_time": "2023-05-13T15:02:09.218Z"
   },
   {
    "duration": 163,
    "start_time": "2023-05-13T15:02:09.224Z"
   },
   {
    "duration": 157,
    "start_time": "2023-05-13T15:02:09.389Z"
   },
   {
    "duration": 6,
    "start_time": "2023-05-13T15:02:09.547Z"
   },
   {
    "duration": 153,
    "start_time": "2023-05-13T15:02:09.555Z"
   },
   {
    "duration": 1128,
    "start_time": "2023-05-13T15:02:09.710Z"
   },
   {
    "duration": 0,
    "start_time": "2023-05-13T15:02:10.839Z"
   },
   {
    "duration": 0,
    "start_time": "2023-05-13T15:02:10.841Z"
   },
   {
    "duration": 0,
    "start_time": "2023-05-13T15:02:10.842Z"
   },
   {
    "duration": 0,
    "start_time": "2023-05-13T15:02:10.843Z"
   },
   {
    "duration": 0,
    "start_time": "2023-05-13T15:02:10.845Z"
   },
   {
    "duration": 0,
    "start_time": "2023-05-13T15:02:10.846Z"
   },
   {
    "duration": 152,
    "start_time": "2023-05-13T15:03:37.041Z"
   },
   {
    "duration": 1044,
    "start_time": "2023-05-13T15:03:39.216Z"
   },
   {
    "duration": 1100,
    "start_time": "2023-05-13T15:04:04.219Z"
   },
   {
    "duration": 37,
    "start_time": "2023-05-13T15:04:05.321Z"
   },
   {
    "duration": 9,
    "start_time": "2023-05-13T15:04:05.360Z"
   },
   {
    "duration": 5,
    "start_time": "2023-05-13T15:04:05.371Z"
   },
   {
    "duration": 11,
    "start_time": "2023-05-13T15:04:05.378Z"
   },
   {
    "duration": 54,
    "start_time": "2023-05-13T15:04:05.392Z"
   },
   {
    "duration": 8,
    "start_time": "2023-05-13T15:04:05.448Z"
   },
   {
    "duration": 14,
    "start_time": "2023-05-13T15:04:05.457Z"
   },
   {
    "duration": 56,
    "start_time": "2023-05-13T15:04:05.473Z"
   },
   {
    "duration": 19,
    "start_time": "2023-05-13T15:04:05.531Z"
   },
   {
    "duration": 11,
    "start_time": "2023-05-13T15:04:05.552Z"
   },
   {
    "duration": 18,
    "start_time": "2023-05-13T15:04:05.565Z"
   },
   {
    "duration": 28,
    "start_time": "2023-05-13T15:04:05.584Z"
   },
   {
    "duration": 31,
    "start_time": "2023-05-13T15:04:05.614Z"
   },
   {
    "duration": 10,
    "start_time": "2023-05-13T15:04:05.646Z"
   },
   {
    "duration": 9,
    "start_time": "2023-05-13T15:04:05.657Z"
   },
   {
    "duration": 22,
    "start_time": "2023-05-13T15:04:05.667Z"
   },
   {
    "duration": 26,
    "start_time": "2023-05-13T15:04:05.690Z"
   },
   {
    "duration": 15,
    "start_time": "2023-05-13T15:04:05.717Z"
   },
   {
    "duration": 158,
    "start_time": "2023-05-13T15:04:05.734Z"
   },
   {
    "duration": 114,
    "start_time": "2023-05-13T15:04:05.894Z"
   },
   {
    "duration": 261,
    "start_time": "2023-05-13T15:04:06.009Z"
   },
   {
    "duration": 3,
    "start_time": "2023-05-13T15:04:06.271Z"
   },
   {
    "duration": 310,
    "start_time": "2023-05-13T15:04:06.276Z"
   },
   {
    "duration": 286,
    "start_time": "2023-05-13T15:04:06.588Z"
   },
   {
    "duration": 365,
    "start_time": "2023-05-13T15:04:06.876Z"
   },
   {
    "duration": 319,
    "start_time": "2023-05-13T15:04:07.242Z"
   },
   {
    "duration": 356,
    "start_time": "2023-05-13T15:04:07.564Z"
   },
   {
    "duration": 10,
    "start_time": "2023-05-13T15:04:07.922Z"
   },
   {
    "duration": 143,
    "start_time": "2023-05-13T15:04:07.933Z"
   },
   {
    "duration": 5,
    "start_time": "2023-05-13T15:04:08.077Z"
   },
   {
    "duration": 159,
    "start_time": "2023-05-13T15:04:08.084Z"
   },
   {
    "duration": 147,
    "start_time": "2023-05-13T15:04:08.244Z"
   },
   {
    "duration": 13,
    "start_time": "2023-05-13T15:04:08.393Z"
   },
   {
    "duration": 269,
    "start_time": "2023-05-13T15:04:08.408Z"
   },
   {
    "duration": 136,
    "start_time": "2023-05-13T15:04:08.679Z"
   },
   {
    "duration": 6,
    "start_time": "2023-05-13T15:04:08.817Z"
   },
   {
    "duration": 24,
    "start_time": "2023-05-13T15:04:08.824Z"
   },
   {
    "duration": 9,
    "start_time": "2023-05-13T15:04:08.850Z"
   },
   {
    "duration": 17,
    "start_time": "2023-05-13T15:04:08.861Z"
   },
   {
    "duration": 32,
    "start_time": "2023-05-13T15:04:08.879Z"
   },
   {
    "duration": 30,
    "start_time": "2023-05-13T15:04:08.913Z"
   },
   {
    "duration": 13,
    "start_time": "2023-05-13T15:04:08.945Z"
   },
   {
    "duration": 10,
    "start_time": "2023-05-13T15:44:42.125Z"
   },
   {
    "duration": 98,
    "start_time": "2023-05-13T15:45:25.718Z"
   },
   {
    "duration": 81,
    "start_time": "2023-05-13T15:45:46.262Z"
   },
   {
    "duration": 71,
    "start_time": "2023-05-13T15:46:01.895Z"
   },
   {
    "duration": 48,
    "start_time": "2023-05-13T15:46:11.542Z"
   },
   {
    "duration": 9,
    "start_time": "2023-05-13T15:46:27.846Z"
   },
   {
    "duration": 10,
    "start_time": "2023-05-13T15:46:43.031Z"
   },
   {
    "duration": 10,
    "start_time": "2023-05-13T15:49:28.945Z"
   },
   {
    "duration": 47,
    "start_time": "2023-05-13T15:51:05.509Z"
   },
   {
    "duration": 98,
    "start_time": "2023-05-13T15:52:59.728Z"
   },
   {
    "duration": 19,
    "start_time": "2023-05-13T15:53:46.497Z"
   },
   {
    "duration": 13,
    "start_time": "2023-05-13T15:53:55.825Z"
   },
   {
    "duration": 9,
    "start_time": "2023-05-13T15:58:17.319Z"
   },
   {
    "duration": 1118,
    "start_time": "2023-05-13T17:29:01.763Z"
   },
   {
    "duration": 61,
    "start_time": "2023-05-13T17:29:02.883Z"
   },
   {
    "duration": 10,
    "start_time": "2023-05-13T17:29:02.946Z"
   },
   {
    "duration": 16,
    "start_time": "2023-05-13T17:29:02.958Z"
   },
   {
    "duration": 20,
    "start_time": "2023-05-13T17:29:02.975Z"
   },
   {
    "duration": 57,
    "start_time": "2023-05-13T17:29:02.997Z"
   },
   {
    "duration": 19,
    "start_time": "2023-05-13T17:29:03.056Z"
   },
   {
    "duration": 24,
    "start_time": "2023-05-13T17:29:03.076Z"
   },
   {
    "duration": 76,
    "start_time": "2023-05-13T17:29:03.110Z"
   },
   {
    "duration": 48,
    "start_time": "2023-05-13T17:29:03.188Z"
   },
   {
    "duration": 9,
    "start_time": "2023-05-13T17:29:03.237Z"
   },
   {
    "duration": 17,
    "start_time": "2023-05-13T17:29:03.248Z"
   },
   {
    "duration": 20,
    "start_time": "2023-05-13T17:29:03.267Z"
   },
   {
    "duration": 57,
    "start_time": "2023-05-13T17:29:03.288Z"
   },
   {
    "duration": 8,
    "start_time": "2023-05-13T17:29:03.346Z"
   },
   {
    "duration": 15,
    "start_time": "2023-05-13T17:29:03.355Z"
   },
   {
    "duration": 12,
    "start_time": "2023-05-13T17:29:03.373Z"
   },
   {
    "duration": 4,
    "start_time": "2023-05-13T17:29:03.387Z"
   },
   {
    "duration": 56,
    "start_time": "2023-05-13T17:29:03.393Z"
   },
   {
    "duration": 207,
    "start_time": "2023-05-13T17:29:03.450Z"
   },
   {
    "duration": 121,
    "start_time": "2023-05-13T17:29:03.659Z"
   },
   {
    "duration": 300,
    "start_time": "2023-05-13T17:29:03.781Z"
   },
   {
    "duration": 4,
    "start_time": "2023-05-13T17:29:04.083Z"
   },
   {
    "duration": 367,
    "start_time": "2023-05-13T17:29:04.088Z"
   },
   {
    "duration": 257,
    "start_time": "2023-05-13T17:29:04.457Z"
   },
   {
    "duration": 358,
    "start_time": "2023-05-13T17:29:04.716Z"
   },
   {
    "duration": 314,
    "start_time": "2023-05-13T17:29:05.076Z"
   },
   {
    "duration": 427,
    "start_time": "2023-05-13T17:29:05.395Z"
   },
   {
    "duration": 12,
    "start_time": "2023-05-13T17:29:05.827Z"
   },
   {
    "duration": 137,
    "start_time": "2023-05-13T17:29:05.841Z"
   },
   {
    "duration": 5,
    "start_time": "2023-05-13T17:29:05.980Z"
   },
   {
    "duration": 176,
    "start_time": "2023-05-13T17:29:05.987Z"
   },
   {
    "duration": 168,
    "start_time": "2023-05-13T17:29:06.165Z"
   },
   {
    "duration": 5,
    "start_time": "2023-05-13T17:29:06.335Z"
   },
   {
    "duration": 322,
    "start_time": "2023-05-13T17:29:06.343Z"
   },
   {
    "duration": 152,
    "start_time": "2023-05-13T17:29:06.667Z"
   },
   {
    "duration": 15,
    "start_time": "2023-05-13T17:29:06.822Z"
   },
   {
    "duration": 24,
    "start_time": "2023-05-13T17:29:06.839Z"
   },
   {
    "duration": 9,
    "start_time": "2023-05-13T17:29:06.865Z"
   },
   {
    "duration": 14,
    "start_time": "2023-05-13T17:29:06.875Z"
   },
   {
    "duration": 43,
    "start_time": "2023-05-13T17:29:06.891Z"
   },
   {
    "duration": 39,
    "start_time": "2023-05-13T17:29:06.937Z"
   },
   {
    "duration": 16,
    "start_time": "2023-05-13T17:29:06.978Z"
   },
   {
    "duration": 10,
    "start_time": "2023-05-13T17:38:10.829Z"
   },
   {
    "duration": 105,
    "start_time": "2023-05-13T17:39:27.808Z"
   },
   {
    "duration": 5,
    "start_time": "2023-05-13T17:40:43.470Z"
   },
   {
    "duration": 12,
    "start_time": "2023-05-13T17:40:58.107Z"
   },
   {
    "duration": 8,
    "start_time": "2023-05-13T17:44:14.067Z"
   },
   {
    "duration": 10,
    "start_time": "2023-05-13T17:48:37.481Z"
   },
   {
    "duration": 11,
    "start_time": "2023-05-13T17:48:47.160Z"
   },
   {
    "duration": 1111,
    "start_time": "2023-05-13T17:49:06.949Z"
   },
   {
    "duration": 52,
    "start_time": "2023-05-13T17:49:08.062Z"
   },
   {
    "duration": 11,
    "start_time": "2023-05-13T17:49:08.116Z"
   },
   {
    "duration": 8,
    "start_time": "2023-05-13T17:49:08.130Z"
   },
   {
    "duration": 11,
    "start_time": "2023-05-13T17:49:08.140Z"
   },
   {
    "duration": 12,
    "start_time": "2023-05-13T17:49:08.153Z"
   },
   {
    "duration": 6,
    "start_time": "2023-05-13T17:49:08.166Z"
   },
   {
    "duration": 11,
    "start_time": "2023-05-13T17:49:08.174Z"
   },
   {
    "duration": 66,
    "start_time": "2023-05-13T17:49:08.187Z"
   },
   {
    "duration": 24,
    "start_time": "2023-05-13T17:49:08.256Z"
   },
   {
    "duration": 11,
    "start_time": "2023-05-13T17:49:08.282Z"
   },
   {
    "duration": 29,
    "start_time": "2023-05-13T17:49:08.295Z"
   },
   {
    "duration": 16,
    "start_time": "2023-05-13T17:49:08.325Z"
   },
   {
    "duration": 9,
    "start_time": "2023-05-13T17:49:08.342Z"
   },
   {
    "duration": 5,
    "start_time": "2023-05-13T17:49:08.353Z"
   },
   {
    "duration": 5,
    "start_time": "2023-05-13T17:49:08.360Z"
   },
   {
    "duration": 14,
    "start_time": "2023-05-13T17:49:08.367Z"
   },
   {
    "duration": 4,
    "start_time": "2023-05-13T17:49:08.382Z"
   },
   {
    "duration": 19,
    "start_time": "2023-05-13T17:49:08.387Z"
   },
   {
    "duration": 168,
    "start_time": "2023-05-13T17:49:08.407Z"
   },
   {
    "duration": 113,
    "start_time": "2023-05-13T17:49:08.577Z"
   },
   {
    "duration": 272,
    "start_time": "2023-05-13T17:49:08.691Z"
   },
   {
    "duration": 5,
    "start_time": "2023-05-13T17:49:08.964Z"
   },
   {
    "duration": 334,
    "start_time": "2023-05-13T17:49:08.970Z"
   },
   {
    "duration": 244,
    "start_time": "2023-05-13T17:49:09.310Z"
   },
   {
    "duration": 336,
    "start_time": "2023-05-13T17:49:09.555Z"
   },
   {
    "duration": 294,
    "start_time": "2023-05-13T17:49:09.899Z"
   },
   {
    "duration": 362,
    "start_time": "2023-05-13T17:49:10.196Z"
   },
   {
    "duration": 11,
    "start_time": "2023-05-13T17:49:10.560Z"
   },
   {
    "duration": 164,
    "start_time": "2023-05-13T17:49:10.573Z"
   },
   {
    "duration": 6,
    "start_time": "2023-05-13T17:49:10.739Z"
   },
   {
    "duration": 176,
    "start_time": "2023-05-13T17:49:10.747Z"
   },
   {
    "duration": 162,
    "start_time": "2023-05-13T17:49:10.925Z"
   },
   {
    "duration": 15,
    "start_time": "2023-05-13T17:49:11.088Z"
   },
   {
    "duration": 286,
    "start_time": "2023-05-13T17:49:11.109Z"
   },
   {
    "duration": 153,
    "start_time": "2023-05-13T17:49:11.398Z"
   },
   {
    "duration": 5,
    "start_time": "2023-05-13T17:49:11.553Z"
   },
   {
    "duration": 28,
    "start_time": "2023-05-13T17:49:11.560Z"
   },
   {
    "duration": 15,
    "start_time": "2023-05-13T17:49:11.600Z"
   },
   {
    "duration": 18,
    "start_time": "2023-05-13T17:49:11.617Z"
   },
   {
    "duration": 10,
    "start_time": "2023-05-13T17:49:11.637Z"
   },
   {
    "duration": 65,
    "start_time": "2023-05-13T17:49:11.649Z"
   },
   {
    "duration": 19,
    "start_time": "2023-05-13T17:49:11.716Z"
   },
   {
    "duration": 13,
    "start_time": "2023-05-13T17:53:02.818Z"
   },
   {
    "duration": 10,
    "start_time": "2023-05-13T18:35:58.023Z"
   }
  ],
  "kernelspec": {
   "display_name": "Python 3 (ipykernel)",
   "language": "python",
   "name": "python3"
  },
  "language_info": {
   "codemirror_mode": {
    "name": "ipython",
    "version": 3
   },
   "file_extension": ".py",
   "mimetype": "text/x-python",
   "name": "python",
   "nbconvert_exporter": "python",
   "pygments_lexer": "ipython3",
   "version": "3.10.9"
  },
  "toc": {
   "base_numbering": 1,
   "nav_menu": {},
   "number_sections": true,
   "sideBar": true,
   "skip_h1_title": true,
   "title_cell": "Table of Contents",
   "title_sidebar": "Contents",
   "toc_cell": false,
   "toc_position": {},
   "toc_section_display": true,
   "toc_window_display": false
  }
 },
 "nbformat": 4,
 "nbformat_minor": 2
}
