{
 "cells": [
  {
   "cell_type": "markdown",
   "metadata": {},
   "source": [
    "# Исследование объявлений о продаже квартир\n",
    "\n",
    "В нашем распоряжении данные сервиса Яндекс.Недвижимость — архив объявлений о продаже квартир в Санкт-Петербурге и соседних населённых пунктов за несколько лет. Нужно научиться определять рыночную стоимость объектов недвижимости. Ваша задача — установить параметры. Это позволит построить автоматизированную систему: она отследит аномалии и мошенническую деятельность. \n",
    "\n",
    "По каждой квартире на продажу доступны два вида данных. Первые вписаны пользователем, вторые — получены автоматически на основе картографических данных. Например, расстояние до центра, аэропорта, ближайшего парка и водоёма. "
   ]
  },
  {
   "cell_type": "markdown",
   "metadata": {},
   "source": [
    "### Откроем файл с данными и изучим общую информацию. "
   ]
  },
  {
   "cell_type": "code",
   "execution_count": 1,
   "metadata": {},
   "outputs": [
    {
     "data": {
      "text/html": [
       "<div>\n",
       "<style scoped>\n",
       "    .dataframe tbody tr th:only-of-type {\n",
       "        vertical-align: middle;\n",
       "    }\n",
       "\n",
       "    .dataframe tbody tr th {\n",
       "        vertical-align: top;\n",
       "    }\n",
       "\n",
       "    .dataframe thead th {\n",
       "        text-align: right;\n",
       "    }\n",
       "</style>\n",
       "<table border=\"1\" class=\"dataframe\">\n",
       "  <thead>\n",
       "    <tr style=\"text-align: right;\">\n",
       "      <th></th>\n",
       "      <th>total_images</th>\n",
       "      <th>last_price</th>\n",
       "      <th>total_area</th>\n",
       "      <th>first_day_exposition</th>\n",
       "      <th>rooms</th>\n",
       "      <th>ceiling_height</th>\n",
       "      <th>floors_total</th>\n",
       "      <th>living_area</th>\n",
       "      <th>floor</th>\n",
       "      <th>is_apartment</th>\n",
       "      <th>studio</th>\n",
       "      <th>open_plan</th>\n",
       "      <th>kitchen_area</th>\n",
       "      <th>balcony</th>\n",
       "      <th>locality_name</th>\n",
       "      <th>airports_nearest</th>\n",
       "      <th>cityCenters_nearest</th>\n",
       "      <th>parks_around3000</th>\n",
       "      <th>parks_nearest</th>\n",
       "      <th>ponds_around3000</th>\n",
       "      <th>ponds_nearest</th>\n",
       "      <th>days_exposition</th>\n",
       "    </tr>\n",
       "  </thead>\n",
       "  <tbody>\n",
       "    <tr>\n",
       "      <th>0</th>\n",
       "      <td>20</td>\n",
       "      <td>13000000.0</td>\n",
       "      <td>108.00</td>\n",
       "      <td>2019-03-07T00:00:00</td>\n",
       "      <td>3</td>\n",
       "      <td>2.70</td>\n",
       "      <td>16.0</td>\n",
       "      <td>51.00</td>\n",
       "      <td>8</td>\n",
       "      <td>NaN</td>\n",
       "      <td>False</td>\n",
       "      <td>False</td>\n",
       "      <td>25.00</td>\n",
       "      <td>NaN</td>\n",
       "      <td>Санкт-Петербург</td>\n",
       "      <td>18863.0</td>\n",
       "      <td>16028.0</td>\n",
       "      <td>1.0</td>\n",
       "      <td>482.0</td>\n",
       "      <td>2.0</td>\n",
       "      <td>755.0</td>\n",
       "      <td>NaN</td>\n",
       "    </tr>\n",
       "    <tr>\n",
       "      <th>1</th>\n",
       "      <td>7</td>\n",
       "      <td>3350000.0</td>\n",
       "      <td>40.40</td>\n",
       "      <td>2018-12-04T00:00:00</td>\n",
       "      <td>1</td>\n",
       "      <td>NaN</td>\n",
       "      <td>11.0</td>\n",
       "      <td>18.60</td>\n",
       "      <td>1</td>\n",
       "      <td>NaN</td>\n",
       "      <td>False</td>\n",
       "      <td>False</td>\n",
       "      <td>11.00</td>\n",
       "      <td>2.0</td>\n",
       "      <td>посёлок Шушары</td>\n",
       "      <td>12817.0</td>\n",
       "      <td>18603.0</td>\n",
       "      <td>0.0</td>\n",
       "      <td>NaN</td>\n",
       "      <td>0.0</td>\n",
       "      <td>NaN</td>\n",
       "      <td>81.0</td>\n",
       "    </tr>\n",
       "    <tr>\n",
       "      <th>2</th>\n",
       "      <td>10</td>\n",
       "      <td>5196000.0</td>\n",
       "      <td>56.00</td>\n",
       "      <td>2015-08-20T00:00:00</td>\n",
       "      <td>2</td>\n",
       "      <td>NaN</td>\n",
       "      <td>5.0</td>\n",
       "      <td>34.30</td>\n",
       "      <td>4</td>\n",
       "      <td>NaN</td>\n",
       "      <td>False</td>\n",
       "      <td>False</td>\n",
       "      <td>8.30</td>\n",
       "      <td>0.0</td>\n",
       "      <td>Санкт-Петербург</td>\n",
       "      <td>21741.0</td>\n",
       "      <td>13933.0</td>\n",
       "      <td>1.0</td>\n",
       "      <td>90.0</td>\n",
       "      <td>2.0</td>\n",
       "      <td>574.0</td>\n",
       "      <td>558.0</td>\n",
       "    </tr>\n",
       "    <tr>\n",
       "      <th>3</th>\n",
       "      <td>0</td>\n",
       "      <td>64900000.0</td>\n",
       "      <td>159.00</td>\n",
       "      <td>2015-07-24T00:00:00</td>\n",
       "      <td>3</td>\n",
       "      <td>NaN</td>\n",
       "      <td>14.0</td>\n",
       "      <td>NaN</td>\n",
       "      <td>9</td>\n",
       "      <td>NaN</td>\n",
       "      <td>False</td>\n",
       "      <td>False</td>\n",
       "      <td>NaN</td>\n",
       "      <td>0.0</td>\n",
       "      <td>Санкт-Петербург</td>\n",
       "      <td>28098.0</td>\n",
       "      <td>6800.0</td>\n",
       "      <td>2.0</td>\n",
       "      <td>84.0</td>\n",
       "      <td>3.0</td>\n",
       "      <td>234.0</td>\n",
       "      <td>424.0</td>\n",
       "    </tr>\n",
       "    <tr>\n",
       "      <th>4</th>\n",
       "      <td>2</td>\n",
       "      <td>10000000.0</td>\n",
       "      <td>100.00</td>\n",
       "      <td>2018-06-19T00:00:00</td>\n",
       "      <td>2</td>\n",
       "      <td>3.03</td>\n",
       "      <td>14.0</td>\n",
       "      <td>32.00</td>\n",
       "      <td>13</td>\n",
       "      <td>NaN</td>\n",
       "      <td>False</td>\n",
       "      <td>False</td>\n",
       "      <td>41.00</td>\n",
       "      <td>NaN</td>\n",
       "      <td>Санкт-Петербург</td>\n",
       "      <td>31856.0</td>\n",
       "      <td>8098.0</td>\n",
       "      <td>2.0</td>\n",
       "      <td>112.0</td>\n",
       "      <td>1.0</td>\n",
       "      <td>48.0</td>\n",
       "      <td>121.0</td>\n",
       "    </tr>\n",
       "    <tr>\n",
       "      <th>5</th>\n",
       "      <td>10</td>\n",
       "      <td>2890000.0</td>\n",
       "      <td>30.40</td>\n",
       "      <td>2018-09-10T00:00:00</td>\n",
       "      <td>1</td>\n",
       "      <td>NaN</td>\n",
       "      <td>12.0</td>\n",
       "      <td>14.40</td>\n",
       "      <td>5</td>\n",
       "      <td>NaN</td>\n",
       "      <td>False</td>\n",
       "      <td>False</td>\n",
       "      <td>9.10</td>\n",
       "      <td>NaN</td>\n",
       "      <td>городской посёлок Янино-1</td>\n",
       "      <td>NaN</td>\n",
       "      <td>NaN</td>\n",
       "      <td>NaN</td>\n",
       "      <td>NaN</td>\n",
       "      <td>NaN</td>\n",
       "      <td>NaN</td>\n",
       "      <td>55.0</td>\n",
       "    </tr>\n",
       "    <tr>\n",
       "      <th>6</th>\n",
       "      <td>6</td>\n",
       "      <td>3700000.0</td>\n",
       "      <td>37.30</td>\n",
       "      <td>2017-11-02T00:00:00</td>\n",
       "      <td>1</td>\n",
       "      <td>NaN</td>\n",
       "      <td>26.0</td>\n",
       "      <td>10.60</td>\n",
       "      <td>6</td>\n",
       "      <td>NaN</td>\n",
       "      <td>False</td>\n",
       "      <td>False</td>\n",
       "      <td>14.40</td>\n",
       "      <td>1.0</td>\n",
       "      <td>посёлок Парголово</td>\n",
       "      <td>52996.0</td>\n",
       "      <td>19143.0</td>\n",
       "      <td>0.0</td>\n",
       "      <td>NaN</td>\n",
       "      <td>0.0</td>\n",
       "      <td>NaN</td>\n",
       "      <td>155.0</td>\n",
       "    </tr>\n",
       "    <tr>\n",
       "      <th>7</th>\n",
       "      <td>5</td>\n",
       "      <td>7915000.0</td>\n",
       "      <td>71.60</td>\n",
       "      <td>2019-04-18T00:00:00</td>\n",
       "      <td>2</td>\n",
       "      <td>NaN</td>\n",
       "      <td>24.0</td>\n",
       "      <td>NaN</td>\n",
       "      <td>22</td>\n",
       "      <td>NaN</td>\n",
       "      <td>False</td>\n",
       "      <td>False</td>\n",
       "      <td>18.90</td>\n",
       "      <td>2.0</td>\n",
       "      <td>Санкт-Петербург</td>\n",
       "      <td>23982.0</td>\n",
       "      <td>11634.0</td>\n",
       "      <td>0.0</td>\n",
       "      <td>NaN</td>\n",
       "      <td>0.0</td>\n",
       "      <td>NaN</td>\n",
       "      <td>NaN</td>\n",
       "    </tr>\n",
       "    <tr>\n",
       "      <th>8</th>\n",
       "      <td>20</td>\n",
       "      <td>2900000.0</td>\n",
       "      <td>33.16</td>\n",
       "      <td>2018-05-23T00:00:00</td>\n",
       "      <td>1</td>\n",
       "      <td>NaN</td>\n",
       "      <td>27.0</td>\n",
       "      <td>15.43</td>\n",
       "      <td>26</td>\n",
       "      <td>NaN</td>\n",
       "      <td>False</td>\n",
       "      <td>False</td>\n",
       "      <td>8.81</td>\n",
       "      <td>NaN</td>\n",
       "      <td>посёлок Мурино</td>\n",
       "      <td>NaN</td>\n",
       "      <td>NaN</td>\n",
       "      <td>NaN</td>\n",
       "      <td>NaN</td>\n",
       "      <td>NaN</td>\n",
       "      <td>NaN</td>\n",
       "      <td>189.0</td>\n",
       "    </tr>\n",
       "    <tr>\n",
       "      <th>9</th>\n",
       "      <td>18</td>\n",
       "      <td>5400000.0</td>\n",
       "      <td>61.00</td>\n",
       "      <td>2017-02-26T00:00:00</td>\n",
       "      <td>3</td>\n",
       "      <td>2.50</td>\n",
       "      <td>9.0</td>\n",
       "      <td>43.60</td>\n",
       "      <td>7</td>\n",
       "      <td>NaN</td>\n",
       "      <td>False</td>\n",
       "      <td>False</td>\n",
       "      <td>6.50</td>\n",
       "      <td>2.0</td>\n",
       "      <td>Санкт-Петербург</td>\n",
       "      <td>50898.0</td>\n",
       "      <td>15008.0</td>\n",
       "      <td>0.0</td>\n",
       "      <td>NaN</td>\n",
       "      <td>0.0</td>\n",
       "      <td>NaN</td>\n",
       "      <td>289.0</td>\n",
       "    </tr>\n",
       "  </tbody>\n",
       "</table>\n",
       "</div>"
      ],
      "text/plain": [
       "   total_images  last_price  total_area first_day_exposition  rooms  \\\n",
       "0            20  13000000.0      108.00  2019-03-07T00:00:00      3   \n",
       "1             7   3350000.0       40.40  2018-12-04T00:00:00      1   \n",
       "2            10   5196000.0       56.00  2015-08-20T00:00:00      2   \n",
       "3             0  64900000.0      159.00  2015-07-24T00:00:00      3   \n",
       "4             2  10000000.0      100.00  2018-06-19T00:00:00      2   \n",
       "5            10   2890000.0       30.40  2018-09-10T00:00:00      1   \n",
       "6             6   3700000.0       37.30  2017-11-02T00:00:00      1   \n",
       "7             5   7915000.0       71.60  2019-04-18T00:00:00      2   \n",
       "8            20   2900000.0       33.16  2018-05-23T00:00:00      1   \n",
       "9            18   5400000.0       61.00  2017-02-26T00:00:00      3   \n",
       "\n",
       "   ceiling_height  floors_total  living_area  floor is_apartment  studio  \\\n",
       "0            2.70          16.0        51.00      8          NaN   False   \n",
       "1             NaN          11.0        18.60      1          NaN   False   \n",
       "2             NaN           5.0        34.30      4          NaN   False   \n",
       "3             NaN          14.0          NaN      9          NaN   False   \n",
       "4            3.03          14.0        32.00     13          NaN   False   \n",
       "5             NaN          12.0        14.40      5          NaN   False   \n",
       "6             NaN          26.0        10.60      6          NaN   False   \n",
       "7             NaN          24.0          NaN     22          NaN   False   \n",
       "8             NaN          27.0        15.43     26          NaN   False   \n",
       "9            2.50           9.0        43.60      7          NaN   False   \n",
       "\n",
       "   open_plan  kitchen_area  balcony              locality_name  \\\n",
       "0      False         25.00      NaN            Санкт-Петербург   \n",
       "1      False         11.00      2.0             посёлок Шушары   \n",
       "2      False          8.30      0.0            Санкт-Петербург   \n",
       "3      False           NaN      0.0            Санкт-Петербург   \n",
       "4      False         41.00      NaN            Санкт-Петербург   \n",
       "5      False          9.10      NaN  городской посёлок Янино-1   \n",
       "6      False         14.40      1.0          посёлок Парголово   \n",
       "7      False         18.90      2.0            Санкт-Петербург   \n",
       "8      False          8.81      NaN             посёлок Мурино   \n",
       "9      False          6.50      2.0            Санкт-Петербург   \n",
       "\n",
       "   airports_nearest  cityCenters_nearest  parks_around3000  parks_nearest  \\\n",
       "0           18863.0              16028.0               1.0          482.0   \n",
       "1           12817.0              18603.0               0.0            NaN   \n",
       "2           21741.0              13933.0               1.0           90.0   \n",
       "3           28098.0               6800.0               2.0           84.0   \n",
       "4           31856.0               8098.0               2.0          112.0   \n",
       "5               NaN                  NaN               NaN            NaN   \n",
       "6           52996.0              19143.0               0.0            NaN   \n",
       "7           23982.0              11634.0               0.0            NaN   \n",
       "8               NaN                  NaN               NaN            NaN   \n",
       "9           50898.0              15008.0               0.0            NaN   \n",
       "\n",
       "   ponds_around3000  ponds_nearest  days_exposition  \n",
       "0               2.0          755.0              NaN  \n",
       "1               0.0            NaN             81.0  \n",
       "2               2.0          574.0            558.0  \n",
       "3               3.0          234.0            424.0  \n",
       "4               1.0           48.0            121.0  \n",
       "5               NaN            NaN             55.0  \n",
       "6               0.0            NaN            155.0  \n",
       "7               0.0            NaN              NaN  \n",
       "8               NaN            NaN            189.0  \n",
       "9               0.0            NaN            289.0  "
      ]
     },
     "execution_count": 1,
     "metadata": {},
     "output_type": "execute_result"
    }
   ],
   "source": [
    "#откроем файл и посмотрим первые 10 строк, импортируем библиотеки\n",
    "import pandas as pd\n",
    "import matplotlib.pyplot as plt\n",
    "import seaborn as sns\n",
    "import numpy as np\n",
    "data = pd.read_csv('/datasets/spb.csv', sep='\\t')\n",
    "pd.set_option('display.max_columns', None)\n",
    "data.head(10)"
   ]
  },
  {
   "cell_type": "code",
   "execution_count": 2,
   "metadata": {},
   "outputs": [
    {
     "name": "stdout",
     "output_type": "stream",
     "text": [
      "<class 'pandas.core.frame.DataFrame'>\n",
      "RangeIndex: 23699 entries, 0 to 23698\n",
      "Data columns (total 22 columns):\n",
      " #   Column                Non-Null Count  Dtype  \n",
      "---  ------                --------------  -----  \n",
      " 0   total_images          23699 non-null  int64  \n",
      " 1   last_price            23699 non-null  float64\n",
      " 2   total_area            23699 non-null  float64\n",
      " 3   first_day_exposition  23699 non-null  object \n",
      " 4   rooms                 23699 non-null  int64  \n",
      " 5   ceiling_height        14504 non-null  float64\n",
      " 6   floors_total          23613 non-null  float64\n",
      " 7   living_area           21796 non-null  float64\n",
      " 8   floor                 23699 non-null  int64  \n",
      " 9   is_apartment          2775 non-null   object \n",
      " 10  studio                23699 non-null  bool   \n",
      " 11  open_plan             23699 non-null  bool   \n",
      " 12  kitchen_area          21421 non-null  float64\n",
      " 13  balcony               12180 non-null  float64\n",
      " 14  locality_name         23650 non-null  object \n",
      " 15  airports_nearest      18157 non-null  float64\n",
      " 16  cityCenters_nearest   18180 non-null  float64\n",
      " 17  parks_around3000      18181 non-null  float64\n",
      " 18  parks_nearest         8079 non-null   float64\n",
      " 19  ponds_around3000      18181 non-null  float64\n",
      " 20  ponds_nearest         9110 non-null   float64\n",
      " 21  days_exposition       20518 non-null  float64\n",
      "dtypes: bool(2), float64(14), int64(3), object(3)\n",
      "memory usage: 3.7+ MB\n"
     ]
    }
   ],
   "source": [
    "#выведем общую информацию\n",
    "data.info()"
   ]
  },
  {
   "cell_type": "code",
   "execution_count": 3,
   "metadata": {},
   "outputs": [
    {
     "data": {
      "image/png": "[encoded data removed]",
      "text/plain": [
       "<Figure size 1080x1440 with 20 Axes>"
      ]
     },
     "metadata": {
      "needs_background": "light"
     },
     "output_type": "display_data"
    }
   ],
   "source": [
    "data.hist(figsize=(15, 20));"
   ]
  },
  {
   "cell_type": "markdown",
   "metadata": {},
   "source": [
    "Всего у нас 23699 записи. В общей информации о данных можно увидеть очень много NaN в таблице,есть проблемы с типами данных.По ряду признаков есть аномальные значения. В дальнейшем будем смотреть, что можно исправить."
   ]
  },
  {
   "cell_type": "markdown",
   "metadata": {},
   "source": [
    "### Предобработка данных"
   ]
  },
  {
   "cell_type": "markdown",
   "metadata": {},
   "source": [
    "Приступим к обработке данных. Для начала приведем в порядок названия столбцов."
   ]
  },
  {
   "cell_type": "code",
   "execution_count": 4,
   "metadata": {
    "scrolled": true
   },
   "outputs": [
    {
     "data": {
      "text/plain": [
       "Index(['total_images', 'last_price', 'total_area', 'first_day_exposition',\n",
       "       'rooms', 'ceiling_height', 'floors_total', 'living_area', 'floor',\n",
       "       'is_apartment', 'is_studio', 'open_plan', 'kitchen_area', 'balcony',\n",
       "       'locality_name', 'airports_nearest', 'city_centers_nearest',\n",
       "       'parks_around_3000', 'parks_nearest', 'ponds_around_3000',\n",
       "       'ponds_nearest', 'days_exposition'],\n",
       "      dtype='object')"
      ]
     },
     "execution_count": 4,
     "metadata": {},
     "output_type": "execute_result"
    }
   ],
   "source": [
    "data = data.rename(columns={'studio':'is_studio',\n",
    "                            'cityCenters_nearest':'city_centers_nearest',\n",
    "                            'parks_around3000':'parks_around_3000',\n",
    "                            'ponds_around3000':'ponds_around_3000'\n",
    "                           })\n",
    "#проверим переименование стобцов\n",
    "data.columns"
   ]
  },
  {
   "cell_type": "markdown",
   "metadata": {},
   "source": [
    "Для того чтобы с таблицей было удобно работать, лучше поменять положение столбцов."
   ]
  },
  {
   "cell_type": "code",
   "execution_count": 5,
   "metadata": {},
   "outputs": [
    {
     "data": {
      "text/html": [
       "<div>\n",
       "<style scoped>\n",
       "    .dataframe tbody tr th:only-of-type {\n",
       "        vertical-align: middle;\n",
       "    }\n",
       "\n",
       "    .dataframe tbody tr th {\n",
       "        vertical-align: top;\n",
       "    }\n",
       "\n",
       "    .dataframe thead th {\n",
       "        text-align: right;\n",
       "    }\n",
       "</style>\n",
       "<table border=\"1\" class=\"dataframe\">\n",
       "  <thead>\n",
       "    <tr style=\"text-align: right;\">\n",
       "      <th></th>\n",
       "      <th>locality_name</th>\n",
       "      <th>total_area</th>\n",
       "      <th>living_area</th>\n",
       "      <th>kitchen_area</th>\n",
       "      <th>rooms</th>\n",
       "      <th>balcony</th>\n",
       "      <th>floor</th>\n",
       "      <th>ceiling_height</th>\n",
       "      <th>floors_total</th>\n",
       "      <th>open_plan</th>\n",
       "      <th>is_apartment</th>\n",
       "      <th>is_studio</th>\n",
       "      <th>total_images</th>\n",
       "      <th>last_price</th>\n",
       "      <th>first_day_exposition</th>\n",
       "      <th>days_exposition</th>\n",
       "      <th>city_centers_nearest</th>\n",
       "      <th>airports_nearest</th>\n",
       "      <th>parks_around_3000</th>\n",
       "      <th>parks_nearest</th>\n",
       "      <th>ponds_around_3000</th>\n",
       "      <th>ponds_nearest</th>\n",
       "    </tr>\n",
       "  </thead>\n",
       "  <tbody>\n",
       "    <tr>\n",
       "      <th>21424</th>\n",
       "      <td>Санкт-Петербург</td>\n",
       "      <td>118.9</td>\n",
       "      <td>82.4</td>\n",
       "      <td>11.5</td>\n",
       "      <td>4</td>\n",
       "      <td>NaN</td>\n",
       "      <td>2</td>\n",
       "      <td>3.40</td>\n",
       "      <td>6.0</td>\n",
       "      <td>False</td>\n",
       "      <td>NaN</td>\n",
       "      <td>False</td>\n",
       "      <td>13</td>\n",
       "      <td>21000000.0</td>\n",
       "      <td>2017-11-27T00:00:00</td>\n",
       "      <td>13.0</td>\n",
       "      <td>4950.0</td>\n",
       "      <td>26248.0</td>\n",
       "      <td>3.0</td>\n",
       "      <td>330.0</td>\n",
       "      <td>1.0</td>\n",
       "      <td>181.0</td>\n",
       "    </tr>\n",
       "    <tr>\n",
       "      <th>5247</th>\n",
       "      <td>посёлок Парголово</td>\n",
       "      <td>40.0</td>\n",
       "      <td>16.7</td>\n",
       "      <td>10.0</td>\n",
       "      <td>1</td>\n",
       "      <td>NaN</td>\n",
       "      <td>14</td>\n",
       "      <td>NaN</td>\n",
       "      <td>26.0</td>\n",
       "      <td>False</td>\n",
       "      <td>NaN</td>\n",
       "      <td>False</td>\n",
       "      <td>11</td>\n",
       "      <td>3300000.0</td>\n",
       "      <td>2018-01-09T00:00:00</td>\n",
       "      <td>84.0</td>\n",
       "      <td>18006.0</td>\n",
       "      <td>53791.0</td>\n",
       "      <td>1.0</td>\n",
       "      <td>733.0</td>\n",
       "      <td>3.0</td>\n",
       "      <td>865.0</td>\n",
       "    </tr>\n",
       "    <tr>\n",
       "      <th>11226</th>\n",
       "      <td>Санкт-Петербург</td>\n",
       "      <td>98.0</td>\n",
       "      <td>57.3</td>\n",
       "      <td>15.9</td>\n",
       "      <td>4</td>\n",
       "      <td>NaN</td>\n",
       "      <td>2</td>\n",
       "      <td>3.50</td>\n",
       "      <td>6.0</td>\n",
       "      <td>False</td>\n",
       "      <td>NaN</td>\n",
       "      <td>False</td>\n",
       "      <td>2</td>\n",
       "      <td>9200000.0</td>\n",
       "      <td>2018-11-15T00:00:00</td>\n",
       "      <td>10.0</td>\n",
       "      <td>4194.0</td>\n",
       "      <td>31215.0</td>\n",
       "      <td>1.0</td>\n",
       "      <td>83.0</td>\n",
       "      <td>3.0</td>\n",
       "      <td>498.0</td>\n",
       "    </tr>\n",
       "    <tr>\n",
       "      <th>5734</th>\n",
       "      <td>посёлок Парголово</td>\n",
       "      <td>41.0</td>\n",
       "      <td>18.0</td>\n",
       "      <td>10.9</td>\n",
       "      <td>1</td>\n",
       "      <td>2.0</td>\n",
       "      <td>18</td>\n",
       "      <td>NaN</td>\n",
       "      <td>24.0</td>\n",
       "      <td>False</td>\n",
       "      <td>NaN</td>\n",
       "      <td>False</td>\n",
       "      <td>9</td>\n",
       "      <td>3650000.0</td>\n",
       "      <td>2018-08-05T00:00:00</td>\n",
       "      <td>45.0</td>\n",
       "      <td>19501.0</td>\n",
       "      <td>53325.0</td>\n",
       "      <td>0.0</td>\n",
       "      <td>NaN</td>\n",
       "      <td>1.0</td>\n",
       "      <td>654.0</td>\n",
       "    </tr>\n",
       "    <tr>\n",
       "      <th>10866</th>\n",
       "      <td>Санкт-Петербург</td>\n",
       "      <td>58.0</td>\n",
       "      <td>39.5</td>\n",
       "      <td>6.5</td>\n",
       "      <td>3</td>\n",
       "      <td>1.0</td>\n",
       "      <td>7</td>\n",
       "      <td>2.55</td>\n",
       "      <td>9.0</td>\n",
       "      <td>False</td>\n",
       "      <td>NaN</td>\n",
       "      <td>False</td>\n",
       "      <td>10</td>\n",
       "      <td>4250000.0</td>\n",
       "      <td>2018-04-02T00:00:00</td>\n",
       "      <td>92.0</td>\n",
       "      <td>15618.0</td>\n",
       "      <td>21324.0</td>\n",
       "      <td>0.0</td>\n",
       "      <td>NaN</td>\n",
       "      <td>2.0</td>\n",
       "      <td>545.0</td>\n",
       "    </tr>\n",
       "    <tr>\n",
       "      <th>1417</th>\n",
       "      <td>Санкт-Петербург</td>\n",
       "      <td>41.8</td>\n",
       "      <td>18.6</td>\n",
       "      <td>7.7</td>\n",
       "      <td>1</td>\n",
       "      <td>NaN</td>\n",
       "      <td>18</td>\n",
       "      <td>NaN</td>\n",
       "      <td>23.0</td>\n",
       "      <td>False</td>\n",
       "      <td>NaN</td>\n",
       "      <td>False</td>\n",
       "      <td>0</td>\n",
       "      <td>6200000.0</td>\n",
       "      <td>2018-07-23T00:00:00</td>\n",
       "      <td>10.0</td>\n",
       "      <td>13145.0</td>\n",
       "      <td>43269.0</td>\n",
       "      <td>1.0</td>\n",
       "      <td>417.0</td>\n",
       "      <td>0.0</td>\n",
       "      <td>NaN</td>\n",
       "    </tr>\n",
       "    <tr>\n",
       "      <th>9362</th>\n",
       "      <td>Санкт-Петербург</td>\n",
       "      <td>108.0</td>\n",
       "      <td>39.0</td>\n",
       "      <td>36.0</td>\n",
       "      <td>3</td>\n",
       "      <td>1.0</td>\n",
       "      <td>5</td>\n",
       "      <td>2.70</td>\n",
       "      <td>17.0</td>\n",
       "      <td>False</td>\n",
       "      <td>NaN</td>\n",
       "      <td>False</td>\n",
       "      <td>19</td>\n",
       "      <td>11990000.0</td>\n",
       "      <td>2017-09-03T00:00:00</td>\n",
       "      <td>32.0</td>\n",
       "      <td>12665.0</td>\n",
       "      <td>14741.0</td>\n",
       "      <td>0.0</td>\n",
       "      <td>NaN</td>\n",
       "      <td>0.0</td>\n",
       "      <td>NaN</td>\n",
       "    </tr>\n",
       "    <tr>\n",
       "      <th>19913</th>\n",
       "      <td>Санкт-Петербург</td>\n",
       "      <td>79.0</td>\n",
       "      <td>41.9</td>\n",
       "      <td>18.0</td>\n",
       "      <td>2</td>\n",
       "      <td>2.0</td>\n",
       "      <td>9</td>\n",
       "      <td>3.00</td>\n",
       "      <td>23.0</td>\n",
       "      <td>False</td>\n",
       "      <td>NaN</td>\n",
       "      <td>False</td>\n",
       "      <td>7</td>\n",
       "      <td>10260000.0</td>\n",
       "      <td>2017-01-31T00:00:00</td>\n",
       "      <td>NaN</td>\n",
       "      <td>12398.0</td>\n",
       "      <td>40584.0</td>\n",
       "      <td>3.0</td>\n",
       "      <td>447.0</td>\n",
       "      <td>0.0</td>\n",
       "      <td>NaN</td>\n",
       "    </tr>\n",
       "    <tr>\n",
       "      <th>13147</th>\n",
       "      <td>Санкт-Петербург</td>\n",
       "      <td>41.9</td>\n",
       "      <td>29.9</td>\n",
       "      <td>5.1</td>\n",
       "      <td>3</td>\n",
       "      <td>NaN</td>\n",
       "      <td>2</td>\n",
       "      <td>2.50</td>\n",
       "      <td>5.0</td>\n",
       "      <td>False</td>\n",
       "      <td>NaN</td>\n",
       "      <td>False</td>\n",
       "      <td>12</td>\n",
       "      <td>4000000.0</td>\n",
       "      <td>2017-11-23T00:00:00</td>\n",
       "      <td>294.0</td>\n",
       "      <td>11670.0</td>\n",
       "      <td>10429.0</td>\n",
       "      <td>0.0</td>\n",
       "      <td>NaN</td>\n",
       "      <td>1.0</td>\n",
       "      <td>920.0</td>\n",
       "    </tr>\n",
       "    <tr>\n",
       "      <th>5289</th>\n",
       "      <td>Санкт-Петербург</td>\n",
       "      <td>49.0</td>\n",
       "      <td>NaN</td>\n",
       "      <td>NaN</td>\n",
       "      <td>2</td>\n",
       "      <td>NaN</td>\n",
       "      <td>2</td>\n",
       "      <td>2.70</td>\n",
       "      <td>4.0</td>\n",
       "      <td>False</td>\n",
       "      <td>NaN</td>\n",
       "      <td>False</td>\n",
       "      <td>20</td>\n",
       "      <td>4960000.0</td>\n",
       "      <td>2017-03-22T00:00:00</td>\n",
       "      <td>516.0</td>\n",
       "      <td>6177.0</td>\n",
       "      <td>21341.0</td>\n",
       "      <td>2.0</td>\n",
       "      <td>341.0</td>\n",
       "      <td>1.0</td>\n",
       "      <td>325.0</td>\n",
       "    </tr>\n",
       "  </tbody>\n",
       "</table>\n",
       "</div>"
      ],
      "text/plain": [
       "           locality_name  total_area  living_area  kitchen_area  rooms  \\\n",
       "21424    Санкт-Петербург       118.9         82.4          11.5      4   \n",
       "5247   посёлок Парголово        40.0         16.7          10.0      1   \n",
       "11226    Санкт-Петербург        98.0         57.3          15.9      4   \n",
       "5734   посёлок Парголово        41.0         18.0          10.9      1   \n",
       "10866    Санкт-Петербург        58.0         39.5           6.5      3   \n",
       "1417     Санкт-Петербург        41.8         18.6           7.7      1   \n",
       "9362     Санкт-Петербург       108.0         39.0          36.0      3   \n",
       "19913    Санкт-Петербург        79.0         41.9          18.0      2   \n",
       "13147    Санкт-Петербург        41.9         29.9           5.1      3   \n",
       "5289     Санкт-Петербург        49.0          NaN           NaN      2   \n",
       "\n",
       "       balcony  floor  ceiling_height  floors_total  open_plan is_apartment  \\\n",
       "21424      NaN      2            3.40           6.0      False          NaN   \n",
       "5247       NaN     14             NaN          26.0      False          NaN   \n",
       "11226      NaN      2            3.50           6.0      False          NaN   \n",
       "5734       2.0     18             NaN          24.0      False          NaN   \n",
       "10866      1.0      7            2.55           9.0      False          NaN   \n",
       "1417       NaN     18             NaN          23.0      False          NaN   \n",
       "9362       1.0      5            2.70          17.0      False          NaN   \n",
       "19913      2.0      9            3.00          23.0      False          NaN   \n",
       "13147      NaN      2            2.50           5.0      False          NaN   \n",
       "5289       NaN      2            2.70           4.0      False          NaN   \n",
       "\n",
       "       is_studio  total_images  last_price first_day_exposition  \\\n",
       "21424      False            13  21000000.0  2017-11-27T00:00:00   \n",
       "5247       False            11   3300000.0  2018-01-09T00:00:00   \n",
       "11226      False             2   9200000.0  2018-11-15T00:00:00   \n",
       "5734       False             9   3650000.0  2018-08-05T00:00:00   \n",
       "10866      False            10   4250000.0  2018-04-02T00:00:00   \n",
       "1417       False             0   6200000.0  2018-07-23T00:00:00   \n",
       "9362       False            19  11990000.0  2017-09-03T00:00:00   \n",
       "19913      False             7  10260000.0  2017-01-31T00:00:00   \n",
       "13147      False            12   4000000.0  2017-11-23T00:00:00   \n",
       "5289       False            20   4960000.0  2017-03-22T00:00:00   \n",
       "\n",
       "       days_exposition  city_centers_nearest  airports_nearest  \\\n",
       "21424             13.0                4950.0           26248.0   \n",
       "5247              84.0               18006.0           53791.0   \n",
       "11226             10.0                4194.0           31215.0   \n",
       "5734              45.0               19501.0           53325.0   \n",
       "10866             92.0               15618.0           21324.0   \n",
       "1417              10.0               13145.0           43269.0   \n",
       "9362              32.0               12665.0           14741.0   \n",
       "19913              NaN               12398.0           40584.0   \n",
       "13147            294.0               11670.0           10429.0   \n",
       "5289             516.0                6177.0           21341.0   \n",
       "\n",
       "       parks_around_3000  parks_nearest  ponds_around_3000  ponds_nearest  \n",
       "21424                3.0          330.0                1.0          181.0  \n",
       "5247                 1.0          733.0                3.0          865.0  \n",
       "11226                1.0           83.0                3.0          498.0  \n",
       "5734                 0.0            NaN                1.0          654.0  \n",
       "10866                0.0            NaN                2.0          545.0  \n",
       "1417                 1.0          417.0                0.0            NaN  \n",
       "9362                 0.0            NaN                0.0            NaN  \n",
       "19913                3.0          447.0                0.0            NaN  \n",
       "13147                0.0            NaN                1.0          920.0  \n",
       "5289                 2.0          341.0                1.0          325.0  "
      ]
     },
     "execution_count": 5,
     "metadata": {},
     "output_type": "execute_result"
    }
   ],
   "source": [
    "data = data[[\n",
    " 'locality_name',  \n",
    " 'total_area',\n",
    " 'living_area',\n",
    " 'kitchen_area',\n",
    " 'rooms',\n",
    " 'balcony',\n",
    " 'floor',\n",
    " 'ceiling_height',  \n",
    " 'floors_total',\n",
    " 'open_plan',\n",
    " 'is_apartment',\n",
    " 'is_studio',\n",
    " 'total_images',\n",
    " 'last_price',\n",
    " 'first_day_exposition',\n",
    " 'days_exposition',\n",
    " 'city_centers_nearest',\n",
    " 'airports_nearest',\n",
    " 'parks_around_3000',\n",
    " 'parks_nearest',\n",
    " 'ponds_around_3000',\n",
    " 'ponds_nearest'\n",
    "]]\n",
    "data.sample(10)"
   ]
  },
  {
   "cell_type": "code",
   "execution_count": 6,
   "metadata": {},
   "outputs": [
    {
     "data": {
      "text/plain": [
       "0"
      ]
     },
     "execution_count": 6,
     "metadata": {},
     "output_type": "execute_result"
    }
   ],
   "source": [
    "#проверим есть ли дубликаты\n",
    "data.duplicated().sum()"
   ]
  },
  {
   "cell_type": "code",
   "execution_count": 7,
   "metadata": {},
   "outputs": [
    {
     "data": {
      "text/plain": [
       "open_plan                   0\n",
       "total_area                  0\n",
       "first_day_exposition        0\n",
       "last_price                  0\n",
       "rooms                       0\n",
       "total_images                0\n",
       "floor                       0\n",
       "is_studio                   0\n",
       "locality_name              49\n",
       "floors_total               86\n",
       "living_area              1903\n",
       "kitchen_area             2278\n",
       "days_exposition          3181\n",
       "ponds_around_3000        5518\n",
       "parks_around_3000        5518\n",
       "city_centers_nearest     5519\n",
       "airports_nearest         5542\n",
       "ceiling_height           9195\n",
       "balcony                 11519\n",
       "ponds_nearest           14589\n",
       "parks_nearest           15620\n",
       "is_apartment            20924\n",
       "dtype: int64"
      ]
     },
     "execution_count": 7,
     "metadata": {},
     "output_type": "execute_result"
    }
   ],
   "source": [
    "#подсчитаем пропуски\n",
    "data.isna().sum().sort_values()"
   ]
  },
  {
   "cell_type": "markdown",
   "metadata": {},
   "source": [
    "Пропуски отмечены в 14 столбцах из 22. Пропуски могут появиться от того, что не все поля обязательны для заполнения поэтому их оставили просто пустыми. Очень много пропусков в столбцах с расстоянием до города, до парка, до водоема, я думаю это связано с тем, что люди не заполнили эти строки, потому что просто не знали этих данных или посчитали их не такими важными.\n",
    "Для некоторых пропущенных значений можно предположить логичную замену. Например, если человек не указал число балконов — скорее всего, в квартире их нет. Такие пропуски можно заменить на 0."
   ]
  },
  {
   "cell_type": "code",
   "execution_count": 8,
   "metadata": {},
   "outputs": [],
   "source": [
    "#заменим пропуски в столбце \"balcony\"\n",
    "data['balcony'] = data['balcony'].fillna(0)\n",
    "#сразу изменим тип данных на int\n",
    "data['balcony'] = data['balcony'].astype('int')"
   ]
  },
  {
   "cell_type": "markdown",
   "metadata": {},
   "source": [
    "Очень много пропусков в столбце 'ceiling_height' - высота потолков."
   ]
  },
  {
   "cell_type": "code",
   "execution_count": 9,
   "metadata": {},
   "outputs": [
    {
     "data": {
      "text/plain": [
       "count    14504.000000\n",
       "mean         2.771499\n",
       "std          1.261056\n",
       "min          1.000000\n",
       "25%          2.520000\n",
       "50%          2.650000\n",
       "75%          2.800000\n",
       "max        100.000000\n",
       "Name: ceiling_height, dtype: float64"
      ]
     },
     "execution_count": 9,
     "metadata": {},
     "output_type": "execute_result"
    }
   ],
   "source": [
    "data['ceiling_height'].describe()"
   ]
  },
  {
   "cell_type": "markdown",
   "metadata": {},
   "source": [
    "Разброс значений не большой, но есть и аномальные значения, как потолок 100 м. Заполним средним значением, так как в большинстве квартир высота потолков стандартная."
   ]
  },
  {
   "cell_type": "code",
   "execution_count": 10,
   "metadata": {},
   "outputs": [
    {
     "data": {
      "text/plain": [
       "0"
      ]
     },
     "execution_count": 10,
     "metadata": {},
     "output_type": "execute_result"
    }
   ],
   "source": [
    "#заменим пропуски на медианное значение\n",
    "data['ceiling_height'].fillna(data['ceiling_height'].median(), inplace=True)\n",
    "#проверим пропуски\n",
    "data['ceiling_height'].isna().sum()"
   ]
  },
  {
   "cell_type": "code",
   "execution_count": 11,
   "metadata": {},
   "outputs": [],
   "source": [
    "#заменим пропуски в столбце \"is_apartment\" на False \n",
    "data['is_apartment'] = data['is_apartment'].fillna(value=False)\n",
    "#удалим строки без города, такие обьявления не информативны\n",
    "data = data.dropna(subset=['locality_name'])"
   ]
  },
  {
   "cell_type": "code",
   "execution_count": 12,
   "metadata": {},
   "outputs": [],
   "source": [
    "#заменим пропуски в living_area и в kitchen_area. Думаю, что жилая площадь и площадь кухни связаны с общей площадью, \n",
    "#поэтому посчитаем  в среднем долю жилой площади и кухни от общей площади. \n",
    "#Зная, общую площадь, долю площади кухни и долю жилой площади можно найти вероятную площадь кухни и жилой площади\n",
    "mean_living_area = data['living_area'].mean()/data['total_area'].mean()\n",
    "mean_kitchen_area = data['kitchen_area'].mean()/data['total_area'].mean()\n",
    "data['living_area'].fillna(mean_living_area*data['total_area'],inplace=True)\n",
    "data['kitchen_area'].fillna(mean_kitchen_area*data['total_area'],inplace=True)"
   ]
  },
  {
   "cell_type": "markdown",
   "metadata": {},
   "source": [
    "Не для всех пропусков можно найти логичную замену, оставим эти значения пустыми. Пропуски — тоже важный сигнал, который нужно учитывать. \n",
    "Далее рассмотрим типы данных в столбцах и если это будет необходимо, изменим их. "
   ]
  },
  {
   "cell_type": "code",
   "execution_count": 13,
   "metadata": {},
   "outputs": [],
   "source": [
    "#first_day_exposition - тип данных object, изменим на  datetime\n",
    "data['first_day_exposition']= pd.to_datetime(data['first_day_exposition'],format ='%Y-%m-%dT%H:%M:%S')\n",
    "#изменим last_price на целочисленный тип, так как копейки в цене не нужны\n",
    "data['last_price'] = data['last_price'].astype('int')"
   ]
  },
  {
   "cell_type": "markdown",
   "metadata": {},
   "source": [
    "Перейдем к устранению неявных дубликатов. Посмотрим на уникальные значения в столбце с названиями."
   ]
  },
  {
   "cell_type": "code",
   "execution_count": 14,
   "metadata": {},
   "outputs": [],
   "source": [
    "data['locality_name'].unique()\n",
    "#для начала заменим букву ё на е\n",
    "data['locality_name'] = data['locality_name'].str.replace('ё','е', regex=True)\n",
    "# далее изменим все обозначения одного и того же типа населенного пункта\n",
    "data['locality_name'] = data['locality_name'].str.replace('поселок городского типа','поселок', regex=True)\n",
    "data['locality_name'] = data['locality_name'].str.replace('городской поселок','поселок', regex=True)\n",
    "data['locality_name'] = data['locality_name'].str.replace('поселок станции','поселок', regex=True)"
   ]
  },
  {
   "cell_type": "code",
   "execution_count": 15,
   "metadata": {},
   "outputs": [],
   "source": [
    "data['ceiling_height'].unique()\n",
    "# в столбце 'ceiling_height' встречаются аномальные значения, высота потолков- 25,32,27 метров. Заменим их.\n",
    "for i in data['ceiling_height']:\n",
    "    if i >= 10:\n",
    "         data['ceiling_height'] = data['ceiling_height'].replace({i: i/10})"
   ]
  },
  {
   "cell_type": "code",
   "execution_count": 16,
   "metadata": {},
   "outputs": [
    {
     "data": {
      "text/plain": [
       "array([ 2.7 ,  2.65,  3.03,  2.5 ,  2.67,  2.56,  3.05,  2.75,  2.6 ,\n",
       "        2.9 ,  2.8 ,  2.55,  3.  ,  3.2 ,  2.61,  3.25,  3.45,  2.77,\n",
       "        2.85,  2.64,  2.57,  4.15,  3.5 ,  3.3 ,  2.71,  4.  ,  2.47,\n",
       "        2.73,  2.84,  3.1 ,  2.34,  3.4 ,  3.06,  2.72,  2.54,  2.51,\n",
       "        2.78,  2.76,  2.58,  3.7 ,  2.52,  5.2 ,  2.87,  2.66,  2.59,\n",
       "        2.  ,  2.45,  3.6 ,  2.92,  3.11,  3.13,  3.8 ,  3.15,  3.55,\n",
       "        3.16,  3.62,  3.12,  2.53,  2.74,  2.96,  2.46,  5.3 ,  5.  ,\n",
       "        2.79,  2.95,  4.06,  2.94,  3.82,  3.54,  3.53,  2.83,  4.7 ,\n",
       "        2.4 ,  3.38,  3.01,  5.6 ,  3.65,  3.9 ,  3.18,  3.35,  2.3 ,\n",
       "        3.57,  2.48,  2.62,  2.82,  3.98,  2.63,  3.83,  3.52,  3.95,\n",
       "        3.75,  2.88,  3.67,  3.87,  3.66,  3.85,  3.86,  4.19,  3.24,\n",
       "        4.8 ,  4.5 ,  4.2 ,  3.36,  3.08,  3.68,  3.07,  3.37,  3.09,\n",
       "        8.  ,  3.26,  3.34,  2.81,  3.44,  2.97,  3.14,  4.37,  2.68,\n",
       "        3.22,  3.27,  4.1 ,  2.93,  3.46,  3.47,  3.33,  3.63,  3.32,\n",
       "        1.2 ,  8.3 ,  2.98,  2.86,  3.17,  4.4 ,  3.28,  3.04,  4.45,\n",
       "        5.5 ,  3.84,  3.23,  3.02,  3.21,  3.43,  3.78,  4.3 ,  3.39,\n",
       "        2.69,  3.31,  4.65,  3.56,  2.2 ,  3.51,  3.93,  3.42,  2.99,\n",
       "        3.49,  1.4 ,  4.14,  2.91,  3.88,  1.75,  4.25,  3.29,  2.25,\n",
       "        3.76,  3.69,  6.  ,  2.26,  2.89,  3.58,  5.8 ,  2.49,  4.9 ,\n",
       "        3.48,  1.03,  1.  , 10.  ,  3.59])"
      ]
     },
     "execution_count": 16,
     "metadata": {},
     "output_type": "execute_result"
    }
   ],
   "source": [
    "#проверим изменилась ли высота потолков\n",
    "data['ceiling_height'].unique()"
   ]
  },
  {
   "cell_type": "code",
   "execution_count": 17,
   "metadata": {},
   "outputs": [
    {
     "data": {
      "text/plain": [
       "array([ 3,  1,  2,  4,  5,  6,  0,  7, 11,  8, 14, 10, 15,  9, 19, 16, 12])"
      ]
     },
     "execution_count": 17,
     "metadata": {},
     "output_type": "execute_result"
    }
   ],
   "source": [
    "#посмотрим на стобец rooms \n",
    "data['rooms'].unique()"
   ]
  },
  {
   "cell_type": "code",
   "execution_count": 18,
   "metadata": {},
   "outputs": [
    {
     "data": {
      "text/plain": [
       "array([3, 1, 2, 4, 5, 6, 0, 7, 8, 9])"
      ]
     },
     "execution_count": 18,
     "metadata": {},
     "output_type": "execute_result"
    }
   ],
   "source": [
    "#удалим квартиры с большим количеством комнат(больше 10)\n",
    "data = data[data['rooms']<10]\n",
    "data['rooms'].unique()"
   ]
  },
  {
   "cell_type": "code",
   "execution_count": 19,
   "metadata": {},
   "outputs": [
    {
     "data": {
      "text/plain": [
       "locality_name               0\n",
       "first_day_exposition        0\n",
       "last_price                  0\n",
       "total_images                0\n",
       "is_studio                   0\n",
       "open_plan                   0\n",
       "ceiling_height              0\n",
       "is_apartment                0\n",
       "balcony                     0\n",
       "rooms                       0\n",
       "kitchen_area                0\n",
       "living_area                 0\n",
       "total_area                  0\n",
       "floor                       0\n",
       "floors_total               85\n",
       "days_exposition          3178\n",
       "ponds_around_3000        5510\n",
       "parks_around_3000        5510\n",
       "city_centers_nearest     5511\n",
       "airports_nearest         5534\n",
       "ponds_nearest           14561\n",
       "parks_nearest           15582\n",
       "dtype: int64"
      ]
     },
     "execution_count": 19,
     "metadata": {},
     "output_type": "execute_result"
    }
   ],
   "source": [
    "#отобразим конечный результат предообработки\n",
    "data.isna().sum().sort_values()"
   ]
  },
  {
   "cell_type": "markdown",
   "metadata": {},
   "source": [
    "Для работы с таблицей мы заменили названия столбцов, поменяли их местами. Убрали дубликаты в столбце с названиями населенных пунктов,также убрали аномальные значения в некоторых столбцах, частично заполнили пропуски в данных, это в далнейшем упростит анализ."
   ]
  },
  {
   "cell_type": "markdown",
   "metadata": {},
   "source": [
    "### Посчитаем и добавим в таблицу новые столбцы"
   ]
  },
  {
   "cell_type": "markdown",
   "metadata": {},
   "source": [
    "Добавим в таблицу новые столбцы со следующими параметрами:\n",
    "цена одного квадратного метра;\n",
    "день недели публикации объявления (0 — понедельник, 1 — вторник и так далее);\n",
    "месяц публикации объявления;\n",
    "год публикации объявления;\n",
    "тип этажа квартиры (значения — «‎первый», «последний», «другой»);\n",
    "расстояние до центра города в километрах (переведите из м в км и округлите до целых значений)."
   ]
  },
  {
   "cell_type": "code",
   "execution_count": 20,
   "metadata": {},
   "outputs": [],
   "source": [
    "# посчитаем и создадим столбец цена одного квадратного метра\n",
    "data['price_km'] = data['last_price']/data['total_area']\n",
    "# создадим столбцы день недели,месяц,год публикации объявления\n",
    "data['weekday'] = data['first_day_exposition'].dt.weekday\n",
    "data['month'] = data['first_day_exposition'].dt.month\n",
    "data['year'] = data['first_day_exposition'].dt.year"
   ]
  },
  {
   "cell_type": "code",
   "execution_count": 21,
   "metadata": {
    "scrolled": true
   },
   "outputs": [],
   "source": [
    "#разобьем по категориям этаж квартиры(первый,последний, другой)\n",
    "def categorize_floor(row):\n",
    "    floors_total = row['floors_total']\n",
    "    floor = row['floor']\n",
    "    if floor == 1:\n",
    "        return 'первый'\n",
    "    elif floor == floors_total:\n",
    "        return 'последний'\n",
    "    else:\n",
    "        return 'другой'\n",
    "data['floor_category'] = data.apply(categorize_floor,axis=1)       "
   ]
  },
  {
   "cell_type": "code",
   "execution_count": 22,
   "metadata": {},
   "outputs": [],
   "source": [
    "#создадим столбец расстояние до центра города в километрах\n",
    "data['city_centers_km'] = data['city_centers_nearest']/1000\n",
    "data['city_centers_km'] = round(data['city_centers_km'],0)"
   ]
  },
  {
   "cell_type": "markdown",
   "metadata": {},
   "source": [
    "### Исследовательский анализ данных"
   ]
  },
  {
   "cell_type": "markdown",
   "metadata": {},
   "source": [
    "Изучим следующие параметры объектов:\n",
    "общая площадь;\n",
    "жилая площадь;\n",
    "площадь кухни;\n",
    "цена объекта;\n",
    "количество комнат;\n",
    "высота потолков;\n",
    "этаж квартиры;\n",
    "тип этажа квартиры («первый», «последний», «другой»);\n",
    "общее количество этажей в доме;\n",
    "расстояние до центра города в метрах;\n",
    "расстояние до ближайшего аэропорта;\n",
    "расстояние до ближайшего парка;\n",
    "день и месяц публикации объявления.\n",
    "А также построим отдельные гистограммы для каждого из параметров."
   ]
  },
  {
   "cell_type": "code",
   "execution_count": 23,
   "metadata": {},
   "outputs": [
    {
     "data": {
      "text/html": [
       "<div>\n",
       "<style scoped>\n",
       "    .dataframe tbody tr th:only-of-type {\n",
       "        vertical-align: middle;\n",
       "    }\n",
       "\n",
       "    .dataframe tbody tr th {\n",
       "        vertical-align: top;\n",
       "    }\n",
       "\n",
       "    .dataframe thead th {\n",
       "        text-align: right;\n",
       "    }\n",
       "</style>\n",
       "<table border=\"1\" class=\"dataframe\">\n",
       "  <thead>\n",
       "    <tr style=\"text-align: right;\">\n",
       "      <th></th>\n",
       "      <th>total_area</th>\n",
       "      <th>living_area</th>\n",
       "      <th>kitchen_area</th>\n",
       "      <th>last_price</th>\n",
       "      <th>rooms</th>\n",
       "      <th>ceiling_height</th>\n",
       "      <th>floor</th>\n",
       "      <th>floors_total</th>\n",
       "      <th>city_centers_nearest</th>\n",
       "      <th>airports_nearest</th>\n",
       "      <th>parks_nearest</th>\n",
       "      <th>weekday</th>\n",
       "      <th>month</th>\n",
       "    </tr>\n",
       "  </thead>\n",
       "  <tbody>\n",
       "    <tr>\n",
       "      <th>count</th>\n",
       "      <td>23639.000000</td>\n",
       "      <td>23639.000000</td>\n",
       "      <td>23639.000000</td>\n",
       "      <td>2.363900e+04</td>\n",
       "      <td>23639.000000</td>\n",
       "      <td>23639.000000</td>\n",
       "      <td>23639.000000</td>\n",
       "      <td>23554.000000</td>\n",
       "      <td>18128.000000</td>\n",
       "      <td>18105.000000</td>\n",
       "      <td>8057.000000</td>\n",
       "      <td>23639.000000</td>\n",
       "      <td>23639.000000</td>\n",
       "    </tr>\n",
       "    <tr>\n",
       "      <th>mean</th>\n",
       "      <td>60.192182</td>\n",
       "      <td>34.496224</td>\n",
       "      <td>10.491311</td>\n",
       "      <td>6.513357e+06</td>\n",
       "      <td>2.065062</td>\n",
       "      <td>2.697496</td>\n",
       "      <td>5.893312</td>\n",
       "      <td>10.677507</td>\n",
       "      <td>14203.362092</td>\n",
       "      <td>28806.155869</td>\n",
       "      <td>490.837036</td>\n",
       "      <td>2.568679</td>\n",
       "      <td>6.401963</td>\n",
       "    </tr>\n",
       "    <tr>\n",
       "      <th>std</th>\n",
       "      <td>34.824049</td>\n",
       "      <td>21.905932</td>\n",
       "      <td>5.970389</td>\n",
       "      <td>1.054652e+07</td>\n",
       "      <td>1.051470</td>\n",
       "      <td>0.237387</td>\n",
       "      <td>4.882531</td>\n",
       "      <td>6.594773</td>\n",
       "      <td>8606.224819</td>\n",
       "      <td>12639.588433</td>\n",
       "      <td>342.657345</td>\n",
       "      <td>1.788720</td>\n",
       "      <td>3.491293</td>\n",
       "    </tr>\n",
       "    <tr>\n",
       "      <th>min</th>\n",
       "      <td>12.000000</td>\n",
       "      <td>2.000000</td>\n",
       "      <td>1.300000</td>\n",
       "      <td>1.219000e+04</td>\n",
       "      <td>0.000000</td>\n",
       "      <td>1.000000</td>\n",
       "      <td>1.000000</td>\n",
       "      <td>1.000000</td>\n",
       "      <td>181.000000</td>\n",
       "      <td>0.000000</td>\n",
       "      <td>1.000000</td>\n",
       "      <td>0.000000</td>\n",
       "      <td>1.000000</td>\n",
       "    </tr>\n",
       "    <tr>\n",
       "      <th>25%</th>\n",
       "      <td>40.000000</td>\n",
       "      <td>19.000000</td>\n",
       "      <td>7.000000</td>\n",
       "      <td>3.400000e+06</td>\n",
       "      <td>1.000000</td>\n",
       "      <td>2.600000</td>\n",
       "      <td>2.000000</td>\n",
       "      <td>5.000000</td>\n",
       "      <td>9256.250000</td>\n",
       "      <td>18574.000000</td>\n",
       "      <td>288.000000</td>\n",
       "      <td>1.000000</td>\n",
       "      <td>3.000000</td>\n",
       "    </tr>\n",
       "    <tr>\n",
       "      <th>50%</th>\n",
       "      <td>52.000000</td>\n",
       "      <td>30.000000</td>\n",
       "      <td>9.000000</td>\n",
       "      <td>4.646000e+06</td>\n",
       "      <td>2.000000</td>\n",
       "      <td>2.650000</td>\n",
       "      <td>4.000000</td>\n",
       "      <td>9.000000</td>\n",
       "      <td>13107.000000</td>\n",
       "      <td>26758.000000</td>\n",
       "      <td>454.000000</td>\n",
       "      <td>3.000000</td>\n",
       "      <td>6.000000</td>\n",
       "    </tr>\n",
       "    <tr>\n",
       "      <th>75%</th>\n",
       "      <td>69.700000</td>\n",
       "      <td>42.100000</td>\n",
       "      <td>12.000000</td>\n",
       "      <td>6.790000e+06</td>\n",
       "      <td>3.000000</td>\n",
       "      <td>2.700000</td>\n",
       "      <td>8.000000</td>\n",
       "      <td>16.000000</td>\n",
       "      <td>16293.000000</td>\n",
       "      <td>37310.000000</td>\n",
       "      <td>612.000000</td>\n",
       "      <td>4.000000</td>\n",
       "      <td>10.000000</td>\n",
       "    </tr>\n",
       "    <tr>\n",
       "      <th>max</th>\n",
       "      <td>631.200000</td>\n",
       "      <td>360.305780</td>\n",
       "      <td>107.000000</td>\n",
       "      <td>7.630000e+08</td>\n",
       "      <td>9.000000</td>\n",
       "      <td>10.000000</td>\n",
       "      <td>33.000000</td>\n",
       "      <td>60.000000</td>\n",
       "      <td>65968.000000</td>\n",
       "      <td>84869.000000</td>\n",
       "      <td>3190.000000</td>\n",
       "      <td>6.000000</td>\n",
       "      <td>12.000000</td>\n",
       "    </tr>\n",
       "  </tbody>\n",
       "</table>\n",
       "</div>"
      ],
      "text/plain": [
       "         total_area   living_area  kitchen_area    last_price         rooms  \\\n",
       "count  23639.000000  23639.000000  23639.000000  2.363900e+04  23639.000000   \n",
       "mean      60.192182     34.496224     10.491311  6.513357e+06      2.065062   \n",
       "std       34.824049     21.905932      5.970389  1.054652e+07      1.051470   \n",
       "min       12.000000      2.000000      1.300000  1.219000e+04      0.000000   \n",
       "25%       40.000000     19.000000      7.000000  3.400000e+06      1.000000   \n",
       "50%       52.000000     30.000000      9.000000  4.646000e+06      2.000000   \n",
       "75%       69.700000     42.100000     12.000000  6.790000e+06      3.000000   \n",
       "max      631.200000    360.305780    107.000000  7.630000e+08      9.000000   \n",
       "\n",
       "       ceiling_height         floor  floors_total  city_centers_nearest  \\\n",
       "count    23639.000000  23639.000000  23554.000000          18128.000000   \n",
       "mean         2.697496      5.893312     10.677507          14203.362092   \n",
       "std          0.237387      4.882531      6.594773           8606.224819   \n",
       "min          1.000000      1.000000      1.000000            181.000000   \n",
       "25%          2.600000      2.000000      5.000000           9256.250000   \n",
       "50%          2.650000      4.000000      9.000000          13107.000000   \n",
       "75%          2.700000      8.000000     16.000000          16293.000000   \n",
       "max         10.000000     33.000000     60.000000          65968.000000   \n",
       "\n",
       "       airports_nearest  parks_nearest       weekday         month  \n",
       "count      18105.000000    8057.000000  23639.000000  23639.000000  \n",
       "mean       28806.155869     490.837036      2.568679      6.401963  \n",
       "std        12639.588433     342.657345      1.788720      3.491293  \n",
       "min            0.000000       1.000000      0.000000      1.000000  \n",
       "25%        18574.000000     288.000000      1.000000      3.000000  \n",
       "50%        26758.000000     454.000000      3.000000      6.000000  \n",
       "75%        37310.000000     612.000000      4.000000     10.000000  \n",
       "max        84869.000000    3190.000000      6.000000     12.000000  "
      ]
     },
     "execution_count": 23,
     "metadata": {},
     "output_type": "execute_result"
    }
   ],
   "source": [
    "data[['total_area','living_area','kitchen_area','last_price','rooms','ceiling_height','floor','floor_category','floors_total','city_centers_nearest','airports_nearest','parks_nearest','weekday','month']].describe()"
   ]
  },
  {
   "cell_type": "code",
   "execution_count": 24,
   "metadata": {},
   "outputs": [
    {
     "data": {
      "image/png": "[encoded data removed]",
      "text/plain": [
       "<Figure size 432x288 with 1 Axes>"
      ]
     },
     "metadata": {
      "needs_background": "light"
     },
     "output_type": "display_data"
    }
   ],
   "source": [
    "data.hist('total_area',bins=150,range=(20,150));\n",
    "plt.title('Распределение объявлений в зависимости от площади квартиры');"
   ]
  },
  {
   "cell_type": "code",
   "execution_count": 25,
   "metadata": {},
   "outputs": [
    {
     "data": {
      "image/png": "[encoded data removed]",
      "text/plain": [
       "<Figure size 432x288 with 1 Axes>"
      ]
     },
     "metadata": {
      "needs_background": "light"
     },
     "output_type": "display_data"
    }
   ],
   "source": [
    "data.hist('living_area',bins=50,range=(10,100));\n",
    "plt.title('Распределение объявлений в зависимости от жилой площади квартиры');"
   ]
  },
  {
   "cell_type": "code",
   "execution_count": 26,
   "metadata": {},
   "outputs": [
    {
     "data": {
      "image/png": "[encoded data removed]",
      "text/plain": [
       "<Figure size 432x288 with 1 Axes>"
      ]
     },
     "metadata": {
      "needs_background": "light"
     },
     "output_type": "display_data"
    }
   ],
   "source": [
    "data.hist('kitchen_area',bins=50,range=(3,40));\n",
    "plt.title('Распределение объявлений в зависимости от площади кухни');"
   ]
  },
  {
   "cell_type": "code",
   "execution_count": 27,
   "metadata": {},
   "outputs": [
    {
     "data": {
      "image/png": "[encoded data removed]",
      "text/plain": [
       "<Figure size 432x288 with 1 Axes>"
      ]
     },
     "metadata": {
      "needs_background": "light"
     },
     "output_type": "display_data"
    }
   ],
   "source": [
    "data['last_price_mln'] = data['last_price'] / 1000000\n",
    "data.hist('last_price_mln',bins=10,range=(1,7));\n",
    "plt.title('Распределение объявлений в зависимости от стоимости квартиры');"
   ]
  },
  {
   "cell_type": "code",
   "execution_count": 28,
   "metadata": {},
   "outputs": [
    {
     "data": {
      "image/png": "[encoded data removed]",
      "text/plain": [
       "<Figure size 432x288 with 1 Axes>"
      ]
     },
     "metadata": {
      "needs_background": "light"
     },
     "output_type": "display_data"
    }
   ],
   "source": [
    "data.hist('rooms',bins=10,range=(1,10));\n",
    "plt.title('Распределение объявлений по количеству комнат в квартире');"
   ]
  },
  {
   "cell_type": "code",
   "execution_count": 29,
   "metadata": {},
   "outputs": [
    {
     "data": {
      "image/png": "[encoded data removed]",
      "text/plain": [
       "<Figure size 432x288 with 1 Axes>"
      ]
     },
     "metadata": {
      "needs_background": "light"
     },
     "output_type": "display_data"
    }
   ],
   "source": [
    "data.hist('ceiling_height',bins=10,range=(1,6));\n",
    "plt.title('Распределение объявлений в зависимости от высоты потолков');"
   ]
  },
  {
   "cell_type": "code",
   "execution_count": 30,
   "metadata": {},
   "outputs": [
    {
     "data": {
      "image/png": "[encoded data removed]",
      "text/plain": [
       "<Figure size 432x288 with 1 Axes>"
      ]
     },
     "metadata": {
      "needs_background": "light"
     },
     "output_type": "display_data"
    }
   ],
   "source": [
    "data.hist('floor',bins=15,range=(1,33));\n",
    "plt.title('Распределение объявлений в зависимости от этажа квартиры');"
   ]
  },
  {
   "cell_type": "code",
   "execution_count": 31,
   "metadata": {},
   "outputs": [
    {
     "data": {
      "image/png": "[encoded data removed]",
      "text/plain": [
       "<Figure size 432x288 with 1 Axes>"
      ]
     },
     "metadata": {
      "needs_background": "light"
     },
     "output_type": "display_data"
    }
   ],
   "source": [
    "data.hist('floors_total',bins=10,range=(1,30));\n",
    "plt.title('Распределение объявлений в зависимости от этажности дома');"
   ]
  },
  {
   "cell_type": "code",
   "execution_count": 32,
   "metadata": {},
   "outputs": [
    {
     "data": {
      "image/png": "[encoded data removed]",
      "text/plain": [
       "<Figure size 432x288 with 1 Axes>"
      ]
     },
     "metadata": {
      "needs_background": "light"
     },
     "output_type": "display_data"
    }
   ],
   "source": [
    "data['floor_category'].value_counts().plot(kind='bar',grid=True,style='o-');\n",
    "plt.title('Распределение объявлений по категории этажа');"
   ]
  },
  {
   "cell_type": "code",
   "execution_count": 33,
   "metadata": {},
   "outputs": [
    {
     "data": {
      "image/png": "[encoded data removed]",
      "text/plain": [
       "<Figure size 432x288 with 1 Axes>"
      ]
     },
     "metadata": {
      "needs_background": "light"
     },
     "output_type": "display_data"
    }
   ],
   "source": [
    "data.hist('city_centers_nearest',bins=10,range=(180,66000));\n",
    "plt.title('Распределение объявлений в зависимости от расстояния до центра города');"
   ]
  },
  {
   "cell_type": "code",
   "execution_count": 34,
   "metadata": {
    "scrolled": true
   },
   "outputs": [
    {
     "data": {
      "image/png": "[encoded data removed]",
      "text/plain": [
       "<Figure size 432x288 with 1 Axes>"
      ]
     },
     "metadata": {
      "needs_background": "light"
     },
     "output_type": "display_data"
    }
   ],
   "source": [
    "data.hist('airports_nearest',bins=10,range=(0,85000));\n",
    "plt.title('Распределение объявлений в зависимости от расстояния до аэропорта');"
   ]
  },
  {
   "cell_type": "code",
   "execution_count": 35,
   "metadata": {},
   "outputs": [
    {
     "data": {
      "image/png": "[encoded data removed]",
      "text/plain": [
       "<Figure size 432x288 with 1 Axes>"
      ]
     },
     "metadata": {
      "needs_background": "light"
     },
     "output_type": "display_data"
    }
   ],
   "source": [
    "data.hist('parks_nearest',bins=10,range=(0,3190));\n",
    "plt.title('Распределение объявлений в зависимости от расстояния до ближайшего парка');"
   ]
  },
  {
   "cell_type": "code",
   "execution_count": 36,
   "metadata": {},
   "outputs": [
    {
     "data": {
      "image/png": "[encoded data removed]",
      "text/plain": [
       "<Figure size 432x288 with 1 Axes>"
      ]
     },
     "metadata": {
      "needs_background": "light"
     },
     "output_type": "display_data"
    }
   ],
   "source": [
    "data.hist('weekday',bins=50,range=(0,6));\n",
    "plt.title('Распределение объявлений в зависимости от дня публикации');"
   ]
  },
  {
   "cell_type": "code",
   "execution_count": 37,
   "metadata": {},
   "outputs": [
    {
     "data": {
      "image/png": "[encoded data removed]",
      "text/plain": [
       "<Figure size 432x288 with 1 Axes>"
      ]
     },
     "metadata": {
      "needs_background": "light"
     },
     "output_type": "display_data"
    }
   ],
   "source": [
    "data.hist('month',bins=50,range=(0,12));\n",
    "plt.title('Распределение объявлений в зависимости от месяца публикации');"
   ]
  },
  {
   "cell_type": "markdown",
   "metadata": {},
   "source": [
    "Изучив данные и гистограммы, можно сделать следующие выводы.\n",
    "Основная масса объявлений с квартирами от 30 до 70 кв.м. Рассматривая график распределения частоты объявлений от размеры жилой площади, видим два пика (самые популярные наиболее встречающиеся варианты обявлений) - около 18 кв.м, 30 кв.м и 40 кв.м. В целом основная масса объявлений имеет варианты жилой площади от 10 до 50 метров. Размер кухни от 7 до 12 кв.м. Большая часть квартир находится в диапазоне от 3 до 5 млн. рублей. Чаще всего объявления с о продаже одно- двух- и трехкомнатных квартир. Объявления с большим количеством комнат встречаются значительно реже. Большинство вариантов имеют высоту потолков от 2 до 3 метров. Чаще встречаются объявления с квартирами с 1 по 5 этаж. Это соответствует частоте выборки по этажности домов где 5 чаще всего встречаются дома 5 этажей, 9 и 16 - классические постройки. Больше всего объявлений с квартирами не на первом и не на последнем этажах. Основная масса объявлений о квартирах в пределах 2 км от центра города и от 2 до 5 км от аэропорта. В выходные объявление выставляются значительно (порядка в два раза) реже чем в любой рабочий день с понедельника по пятницу. Анализирую график частоты публикации объявлений по месяцев наблюдаем сезонность, так наблюдаются пики в феврале, марте и апреле - предвещая спад летом и далее второй нарастающий пик уже осенью сентябрь, октябрь, ноябрь.\n"
   ]
  },
  {
   "cell_type": "code",
   "execution_count": 38,
   "metadata": {},
   "outputs": [
    {
     "data": {
      "text/html": [
       "<div>\n",
       "<style scoped>\n",
       "    .dataframe tbody tr th:only-of-type {\n",
       "        vertical-align: middle;\n",
       "    }\n",
       "\n",
       "    .dataframe tbody tr th {\n",
       "        vertical-align: top;\n",
       "    }\n",
       "\n",
       "    .dataframe thead th {\n",
       "        text-align: right;\n",
       "    }\n",
       "</style>\n",
       "<table border=\"1\" class=\"dataframe\">\n",
       "  <thead>\n",
       "    <tr style=\"text-align: right;\">\n",
       "      <th></th>\n",
       "      <th>days_exposition</th>\n",
       "    </tr>\n",
       "  </thead>\n",
       "  <tbody>\n",
       "    <tr>\n",
       "      <th>count</th>\n",
       "      <td>20461.000000</td>\n",
       "    </tr>\n",
       "    <tr>\n",
       "      <th>mean</th>\n",
       "      <td>180.685450</td>\n",
       "    </tr>\n",
       "    <tr>\n",
       "      <th>std</th>\n",
       "      <td>219.610102</td>\n",
       "    </tr>\n",
       "    <tr>\n",
       "      <th>min</th>\n",
       "      <td>1.000000</td>\n",
       "    </tr>\n",
       "    <tr>\n",
       "      <th>25%</th>\n",
       "      <td>45.000000</td>\n",
       "    </tr>\n",
       "    <tr>\n",
       "      <th>50%</th>\n",
       "      <td>95.000000</td>\n",
       "    </tr>\n",
       "    <tr>\n",
       "      <th>75%</th>\n",
       "      <td>231.000000</td>\n",
       "    </tr>\n",
       "    <tr>\n",
       "      <th>max</th>\n",
       "      <td>1580.000000</td>\n",
       "    </tr>\n",
       "  </tbody>\n",
       "</table>\n",
       "</div>"
      ],
      "text/plain": [
       "       days_exposition\n",
       "count     20461.000000\n",
       "mean        180.685450\n",
       "std         219.610102\n",
       "min           1.000000\n",
       "25%          45.000000\n",
       "50%          95.000000\n",
       "75%         231.000000\n",
       "max        1580.000000"
      ]
     },
     "execution_count": 38,
     "metadata": {},
     "output_type": "execute_result"
    }
   ],
   "source": [
    "#Изучим,как быстро продавались квартиры (столбец days_exposition).\n",
    "data[['days_exposition']].describe()"
   ]
  },
  {
   "cell_type": "code",
   "execution_count": 39,
   "metadata": {
    "scrolled": true
   },
   "outputs": [
    {
     "data": {
      "text/plain": [
       "181"
      ]
     },
     "execution_count": 39,
     "metadata": {},
     "output_type": "execute_result"
    }
   ],
   "source": [
    "round(data['days_exposition'].mean())"
   ]
  },
  {
   "cell_type": "code",
   "execution_count": 40,
   "metadata": {},
   "outputs": [
    {
     "data": {
      "text/plain": [
       "95"
      ]
     },
     "execution_count": 40,
     "metadata": {},
     "output_type": "execute_result"
    }
   ],
   "source": [
    "round(data['days_exposition'].median())"
   ]
  },
  {
   "cell_type": "code",
   "execution_count": 41,
   "metadata": {
    "scrolled": true
   },
   "outputs": [
    {
     "data": {
      "image/png": "[encoded data removed]",
      "text/plain": [
       "<Figure size 432x288 with 1 Axes>"
      ]
     },
     "metadata": {
      "needs_background": "light"
     },
     "output_type": "display_data"
    }
   ],
   "source": [
    "data.hist('days_exposition',bins=50,range=(0,1500));\n",
    "plt.title('Распределение объявлений в зависимости от стоимости квартиры');"
   ]
  },
  {
   "cell_type": "markdown",
   "metadata": {},
   "source": [
    "Медианное время продажи квартиры - 95 дня, среднее значение 181 дней. 25% всех квартир продается в течении 45 дней - будем считать это быстрой продажей. Следующие 50% квартир продаются от 45 до 95 дней что будем считать обычной длительностью продажи. Оставшиейся 25% продаются от 231 дня - будем считать долгой продажей."
   ]
  },
  {
   "cell_type": "code",
   "execution_count": 42,
   "metadata": {},
   "outputs": [
    {
     "data": {
      "image/png": "[encoded data removed]",
      "text/plain": [
       "<Figure size 432x288 with 1 Axes>"
      ]
     },
     "metadata": {
      "needs_background": "light"
     },
     "output_type": "display_data"
    }
   ],
   "source": [
    "#посмотрим на диапазон публикаций от 0 до 100 дней\n",
    "data.query('days_exposition <=100').hist('days_exposition',bins=50,range=(0,100));"
   ]
  },
  {
   "cell_type": "markdown",
   "metadata": {},
   "source": [
    "Из графика видим два пика когда снимаются объявления - 45 и 60 дней соотвественно - это может быть связано с работой платформы объявлений. Либо заканчивается период публикации либо объявление падает в списке очень далеко и начинает быть редко просматриваемым. Как следствие продавец может снять старое объявление и подать новое тем самым повысив его просматриваемость."
   ]
  },
  {
   "cell_type": "markdown",
   "metadata": {},
   "source": [
    "Какие факторы больше всего влияют на общую (полную) стоимость объекта? Для этого изучим, зависит ли цена от:\n",
    "общей площади;\n",
    "жилой площади;\n",
    "площади кухни;\n",
    "количества комнат;\n",
    "этажа, на котором расположена квартира (первый, последний, другой);\n",
    "даты размещения (день недели, месяц, год).\n"
   ]
  },
  {
   "cell_type": "code",
   "execution_count": 43,
   "metadata": {},
   "outputs": [
    {
     "data": {
      "text/html": [
       "<div>\n",
       "<style scoped>\n",
       "    .dataframe tbody tr th:only-of-type {\n",
       "        vertical-align: middle;\n",
       "    }\n",
       "\n",
       "    .dataframe tbody tr th {\n",
       "        vertical-align: top;\n",
       "    }\n",
       "\n",
       "    .dataframe thead th {\n",
       "        text-align: right;\n",
       "    }\n",
       "</style>\n",
       "<table border=\"1\" class=\"dataframe\">\n",
       "  <thead>\n",
       "    <tr style=\"text-align: right;\">\n",
       "      <th></th>\n",
       "      <th>last_price</th>\n",
       "    </tr>\n",
       "    <tr>\n",
       "      <th>total_area</th>\n",
       "      <th></th>\n",
       "    </tr>\n",
       "  </thead>\n",
       "  <tbody>\n",
       "    <tr>\n",
       "      <th>12.0</th>\n",
       "      <td>2400000.0</td>\n",
       "    </tr>\n",
       "    <tr>\n",
       "      <th>13.0</th>\n",
       "      <td>2350000.0</td>\n",
       "    </tr>\n",
       "    <tr>\n",
       "      <th>13.2</th>\n",
       "      <td>1686000.0</td>\n",
       "    </tr>\n",
       "    <tr>\n",
       "      <th>14.0</th>\n",
       "      <td>1190000.0</td>\n",
       "    </tr>\n",
       "    <tr>\n",
       "      <th>15.0</th>\n",
       "      <td>1725000.0</td>\n",
       "    </tr>\n",
       "    <tr>\n",
       "      <th>...</th>\n",
       "      <td>...</td>\n",
       "    </tr>\n",
       "    <tr>\n",
       "      <th>507.0</th>\n",
       "      <td>84000000.0</td>\n",
       "    </tr>\n",
       "    <tr>\n",
       "      <th>517.0</th>\n",
       "      <td>50000000.0</td>\n",
       "    </tr>\n",
       "    <tr>\n",
       "      <th>618.0</th>\n",
       "      <td>300000000.0</td>\n",
       "    </tr>\n",
       "    <tr>\n",
       "      <th>631.0</th>\n",
       "      <td>140000000.0</td>\n",
       "    </tr>\n",
       "    <tr>\n",
       "      <th>631.2</th>\n",
       "      <td>140000000.0</td>\n",
       "    </tr>\n",
       "  </tbody>\n",
       "</table>\n",
       "<p>2172 rows × 1 columns</p>\n",
       "</div>"
      ],
      "text/plain": [
       "             last_price\n",
       "total_area             \n",
       "12.0          2400000.0\n",
       "13.0          2350000.0\n",
       "13.2          1686000.0\n",
       "14.0          1190000.0\n",
       "15.0          1725000.0\n",
       "...                 ...\n",
       "507.0        84000000.0\n",
       "517.0        50000000.0\n",
       "618.0       300000000.0\n",
       "631.0       140000000.0\n",
       "631.2       140000000.0\n",
       "\n",
       "[2172 rows x 1 columns]"
      ]
     },
     "execution_count": 43,
     "metadata": {},
     "output_type": "execute_result"
    },
    {
     "data": {
      "image/png": "[encoded data removed]",
      "text/plain": [
       "<Figure size 720x360 with 1 Axes>"
      ]
     },
     "metadata": {
      "needs_background": "light"
     },
     "output_type": "display_data"
    }
   ],
   "source": [
    "#Изучим зависимость цены от общей площади квартиры, для этого создадим сводную таблицу.\n",
    "data.pivot_table(index='total_area',values='last_price').plot(grid=True,style='o-',figsize=(10,5))\n",
    "data.pivot_table(index='total_area',values='last_price')"
   ]
  },
  {
   "cell_type": "code",
   "execution_count": 44,
   "metadata": {},
   "outputs": [
    {
     "data": {
      "text/plain": [
       "0.6438473696701817"
      ]
     },
     "execution_count": 44,
     "metadata": {},
     "output_type": "execute_result"
    }
   ],
   "source": [
    "data['total_area'].corr(data['last_price'])"
   ]
  },
  {
   "cell_type": "markdown",
   "metadata": {},
   "source": [
    "Из графика выше видно, что зависимость цены квартиры от ее площади линейна в диапазоне до 400 кв м, процент корреляции высокий. "
   ]
  },
  {
   "cell_type": "code",
   "execution_count": 45,
   "metadata": {},
   "outputs": [
    {
     "data": {
      "image/png": "[encoded data removed]",
      "text/plain": [
       "<Figure size 720x360 with 1 Axes>"
      ]
     },
     "metadata": {
      "needs_background": "light"
     },
     "output_type": "display_data"
    }
   ],
   "source": [
    "#Изучим зависимость цены от жилой площади квартиры, для этого создадим сводную таблицу.\n",
    "data.pivot_table(index='living_area',values='last_price').plot(grid=True,style='o',figsize=(10,5));\n"
   ]
  },
  {
   "cell_type": "markdown",
   "metadata": {},
   "source": [
    "Аналогично предыдущей зависимости (цена - общая площадь), чем больше жилая площадь, тем выше цена. Квартиры с жилой площадью более 200 кв м имееют уже менее слабую зависимость цены от жилой площади."
   ]
  },
  {
   "cell_type": "code",
   "execution_count": 46,
   "metadata": {},
   "outputs": [
    {
     "data": {
      "image/png": "[encoded data removed]",
      "text/plain": [
       "<Figure size 720x360 with 1 Axes>"
      ]
     },
     "metadata": {
      "needs_background": "light"
     },
     "output_type": "display_data"
    }
   ],
   "source": [
    "#Изучим зависимость цены от площади кухни, для этого создадим сводную таблицу.\n",
    "data.pivot_table(index='kitchen_area',values='last_price').plot(grid=True,style='o',figsize=(10,5));"
   ]
  },
  {
   "cell_type": "markdown",
   "metadata": {},
   "source": [
    "Аналогично двум предыдущим графикам зависимости цены от площади, чем больше площадь кухни, тем выше цена."
   ]
  },
  {
   "cell_type": "code",
   "execution_count": 47,
   "metadata": {},
   "outputs": [
    {
     "data": {
      "image/png": "[encoded data removed]",
      "text/plain": [
       "<Figure size 720x360 with 1 Axes>"
      ]
     },
     "metadata": {
      "needs_background": "light"
     },
     "output_type": "display_data"
    }
   ],
   "source": [
    "#Изучим зависимость цены от количества комнат, для этого создадим сводную таблицу. Для расчета возьмем квартиры с комнатами  \n",
    "data.pivot_table(index='rooms',values='last_price').plot(grid=True,style='-',figsize=(10,5));"
   ]
  },
  {
   "cell_type": "markdown",
   "metadata": {},
   "source": [
    "Очевидно, чем больше комнат, тем выше цена. Из графика видно, что цена сильнее всего растет при увеличении комнат с 3 до 4 и с 4 до 6."
   ]
  },
  {
   "cell_type": "code",
   "execution_count": 48,
   "metadata": {},
   "outputs": [
    {
     "data": {
      "image/png": "[encoded data removed]",
      "text/plain": [
       "<Figure size 360x360 with 1 Axes>"
      ]
     },
     "metadata": {
      "needs_background": "light"
     },
     "output_type": "display_data"
    }
   ],
   "source": [
    "#Изучим зависимость цены от этажности, для этого создадим сводную таблицу.\n",
    "data.pivot_table(index='floor_category',values='last_price').plot(grid=True,style='o-',figsize=(5,5));"
   ]
  },
  {
   "cell_type": "markdown",
   "metadata": {},
   "source": [
    "Из графика видно, что квартиры на первом этаже самые дешевые."
   ]
  },
  {
   "cell_type": "markdown",
   "metadata": {},
   "source": [
    "Посмотрим на зависимость цены от дня, месяца и года публикации."
   ]
  },
  {
   "cell_type": "code",
   "execution_count": 49,
   "metadata": {},
   "outputs": [
    {
     "data": {
      "image/png": "[encoded data removed]",
      "text/plain": [
       "<Figure size 360x360 with 1 Axes>"
      ]
     },
     "metadata": {
      "needs_background": "light"
     },
     "output_type": "display_data"
    }
   ],
   "source": [
    "#Изучим зависимость цены от дня публикации квартиры, для этого создадим сводную таблицу.\n",
    "data.pivot_table(index='weekday',values='last_price').plot(grid=True,style='-',figsize=(5,5));"
   ]
  },
  {
   "cell_type": "code",
   "execution_count": 50,
   "metadata": {},
   "outputs": [
    {
     "data": {
      "image/png": "[encoded data removed]",
      "text/plain": [
       "<Figure size 360x360 with 1 Axes>"
      ]
     },
     "metadata": {
      "needs_background": "light"
     },
     "output_type": "display_data"
    }
   ],
   "source": [
    "#Изучим зависимость цены от месяца публикации квартиры, для этого создадим сводную таблицу.\n",
    "data.pivot_table(index='month',values='last_price').plot(grid=True,style='-',figsize=(5,5));"
   ]
  },
  {
   "cell_type": "code",
   "execution_count": 51,
   "metadata": {},
   "outputs": [
    {
     "data": {
      "image/png": "[encoded data removed]",
      "text/plain": [
       "<Figure size 360x360 with 1 Axes>"
      ]
     },
     "metadata": {
      "needs_background": "light"
     },
     "output_type": "display_data"
    }
   ],
   "source": [
    "#Изучим зависимость цены от года публикации квартиры, для этого создадим сводную таблицу.\n",
    "data.pivot_table(index='year',values='last_price').plot(grid=True,style='-',figsize=(5,5));"
   ]
  },
  {
   "cell_type": "markdown",
   "metadata": {},
   "source": [
    "День недели: дороже всего квартиры, опубликованные в субботу, дешевле всего - в воскресенье.\n",
    "Месяц: дороже всего квартиры, продающиеся в апреле и сентябре, дешевле всего - летом. На рынке недвижимости, как и во многих других сферах присутствует сезонность - в начале лета мы видим наименьшее предложение по стоимости недвижимости.\n",
    "Год: квартиры очень сильно подешевели в 2016-2018 годах, но в 2019 году цены снова стали повышаться."
   ]
  },
  {
   "cell_type": "markdown",
   "metadata": {},
   "source": [
    "Далее посчитаем среднюю цену одного квадратного метра в 10 населённых пунктах с наибольшим числом объявлений. Выделите населённые пункты с самой высокой и низкой стоимостью квадратного метра. "
   ]
  },
  {
   "cell_type": "code",
   "execution_count": 52,
   "metadata": {},
   "outputs": [
    {
     "data": {
      "image/png": "[encoded data removed]",
      "text/plain": [
       "<Figure size 432x288 with 1 Axes>"
      ]
     },
     "metadata": {
      "needs_background": "light"
     },
     "output_type": "display_data"
    }
   ],
   "source": [
    "data_ten = data['locality_name'].value_counts().head(10)\n",
    "data_ten.plot(kind='bar',grid=True,style='o-');"
   ]
  },
  {
   "cell_type": "code",
   "execution_count": 53,
   "metadata": {},
   "outputs": [
    {
     "data": {
      "text/html": [
       "<div>\n",
       "<style scoped>\n",
       "    .dataframe tbody tr th:only-of-type {\n",
       "        vertical-align: middle;\n",
       "    }\n",
       "\n",
       "    .dataframe tbody tr th {\n",
       "        vertical-align: top;\n",
       "    }\n",
       "\n",
       "    .dataframe thead th {\n",
       "        text-align: right;\n",
       "    }\n",
       "</style>\n",
       "<table border=\"1\" class=\"dataframe\">\n",
       "  <thead>\n",
       "    <tr style=\"text-align: right;\">\n",
       "      <th></th>\n",
       "      <th>price_km</th>\n",
       "    </tr>\n",
       "    <tr>\n",
       "      <th>locality_name</th>\n",
       "      <th></th>\n",
       "    </tr>\n",
       "  </thead>\n",
       "  <tbody>\n",
       "    <tr>\n",
       "      <th>Санкт-Петербург</th>\n",
       "      <td>114833.088420</td>\n",
       "    </tr>\n",
       "    <tr>\n",
       "      <th>Пушкин</th>\n",
       "      <td>103125.819291</td>\n",
       "    </tr>\n",
       "    <tr>\n",
       "      <th>деревня Кудрово</th>\n",
       "      <td>92473.547576</td>\n",
       "    </tr>\n",
       "    <tr>\n",
       "      <th>поселок Парголово</th>\n",
       "      <td>90175.913458</td>\n",
       "    </tr>\n",
       "    <tr>\n",
       "      <th>поселок Мурино</th>\n",
       "      <td>85681.762601</td>\n",
       "    </tr>\n",
       "    <tr>\n",
       "      <th>поселок Шушары</th>\n",
       "      <td>78677.364217</td>\n",
       "    </tr>\n",
       "    <tr>\n",
       "      <th>Колпино</th>\n",
       "      <td>75424.579098</td>\n",
       "    </tr>\n",
       "    <tr>\n",
       "      <th>Гатчина</th>\n",
       "      <td>68746.146763</td>\n",
       "    </tr>\n",
       "    <tr>\n",
       "      <th>Всеволожск</th>\n",
       "      <td>68654.473986</td>\n",
       "    </tr>\n",
       "    <tr>\n",
       "      <th>Выборг</th>\n",
       "      <td>58141.909153</td>\n",
       "    </tr>\n",
       "  </tbody>\n",
       "</table>\n",
       "</div>"
      ],
      "text/plain": [
       "                        price_km\n",
       "locality_name                   \n",
       "Санкт-Петербург    114833.088420\n",
       "Пушкин             103125.819291\n",
       "деревня Кудрово     92473.547576\n",
       "поселок Парголово   90175.913458\n",
       "поселок Мурино      85681.762601\n",
       "поселок Шушары      78677.364217\n",
       "Колпино             75424.579098\n",
       "Гатчина             68746.146763\n",
       "Всеволожск          68654.473986\n",
       "Выборг              58141.909153"
      ]
     },
     "execution_count": 53,
     "metadata": {},
     "output_type": "execute_result"
    }
   ],
   "source": [
    "data_ten_price_metr = data.query('locality_name in @data_ten.index').pivot_table(index='locality_name',values='price_km',aggfunc='mean')\n",
    "data_ten_price_metr.sort_values(by='price_km',ascending=False)"
   ]
  },
  {
   "cell_type": "markdown",
   "metadata": {},
   "source": [
    "Cамая высокая стоимость квадратного метра  из 10 населённых пунктов с самым большим количеством объявлений в Санкт-Петербурге, тогда как самая низкая стоимость в Выборге."
   ]
  },
  {
   "cell_type": "markdown",
   "metadata": {},
   "source": [
    "Теперь выделим квартиры только в Санкт-Петербурге и вычислим среднюю цену каждого километра. Проанализируем, как стоимость объектов зависит от расстояния до центра города."
   ]
  },
  {
   "cell_type": "code",
   "execution_count": 54,
   "metadata": {},
   "outputs": [
    {
     "data": {
      "text/html": [
       "<div>\n",
       "<style scoped>\n",
       "    .dataframe tbody tr th:only-of-type {\n",
       "        vertical-align: middle;\n",
       "    }\n",
       "\n",
       "    .dataframe tbody tr th {\n",
       "        vertical-align: top;\n",
       "    }\n",
       "\n",
       "    .dataframe thead th {\n",
       "        text-align: right;\n",
       "    }\n",
       "</style>\n",
       "<table border=\"1\" class=\"dataframe\">\n",
       "  <thead>\n",
       "    <tr style=\"text-align: right;\">\n",
       "      <th></th>\n",
       "      <th>locality_name</th>\n",
       "      <th>total_area</th>\n",
       "      <th>living_area</th>\n",
       "      <th>kitchen_area</th>\n",
       "      <th>rooms</th>\n",
       "      <th>balcony</th>\n",
       "      <th>floor</th>\n",
       "      <th>ceiling_height</th>\n",
       "      <th>floors_total</th>\n",
       "      <th>open_plan</th>\n",
       "      <th>is_apartment</th>\n",
       "      <th>is_studio</th>\n",
       "      <th>total_images</th>\n",
       "      <th>last_price</th>\n",
       "      <th>first_day_exposition</th>\n",
       "      <th>days_exposition</th>\n",
       "      <th>city_centers_nearest</th>\n",
       "      <th>airports_nearest</th>\n",
       "      <th>parks_around_3000</th>\n",
       "      <th>parks_nearest</th>\n",
       "      <th>ponds_around_3000</th>\n",
       "      <th>ponds_nearest</th>\n",
       "      <th>price_km</th>\n",
       "      <th>weekday</th>\n",
       "      <th>month</th>\n",
       "      <th>year</th>\n",
       "      <th>floor_category</th>\n",
       "      <th>city_centers_km</th>\n",
       "      <th>last_price_mln</th>\n",
       "    </tr>\n",
       "  </thead>\n",
       "  <tbody>\n",
       "    <tr>\n",
       "      <th>0</th>\n",
       "      <td>Санкт-Петербург</td>\n",
       "      <td>108.00</td>\n",
       "      <td>51.000000</td>\n",
       "      <td>25.000000</td>\n",
       "      <td>3</td>\n",
       "      <td>0</td>\n",
       "      <td>8</td>\n",
       "      <td>2.70</td>\n",
       "      <td>16.0</td>\n",
       "      <td>False</td>\n",
       "      <td>False</td>\n",
       "      <td>False</td>\n",
       "      <td>20</td>\n",
       "      <td>13000000</td>\n",
       "      <td>2019-03-07</td>\n",
       "      <td>NaN</td>\n",
       "      <td>16028.0</td>\n",
       "      <td>18863.0</td>\n",
       "      <td>1.0</td>\n",
       "      <td>482.0</td>\n",
       "      <td>2.0</td>\n",
       "      <td>755.0</td>\n",
       "      <td>120370.370370</td>\n",
       "      <td>3</td>\n",
       "      <td>3</td>\n",
       "      <td>2019</td>\n",
       "      <td>другой</td>\n",
       "      <td>16.0</td>\n",
       "      <td>13.000</td>\n",
       "    </tr>\n",
       "    <tr>\n",
       "      <th>2</th>\n",
       "      <td>Санкт-Петербург</td>\n",
       "      <td>56.00</td>\n",
       "      <td>34.300000</td>\n",
       "      <td>8.300000</td>\n",
       "      <td>2</td>\n",
       "      <td>0</td>\n",
       "      <td>4</td>\n",
       "      <td>2.65</td>\n",
       "      <td>5.0</td>\n",
       "      <td>False</td>\n",
       "      <td>False</td>\n",
       "      <td>False</td>\n",
       "      <td>10</td>\n",
       "      <td>5196000</td>\n",
       "      <td>2015-08-20</td>\n",
       "      <td>558.0</td>\n",
       "      <td>13933.0</td>\n",
       "      <td>21741.0</td>\n",
       "      <td>1.0</td>\n",
       "      <td>90.0</td>\n",
       "      <td>2.0</td>\n",
       "      <td>574.0</td>\n",
       "      <td>92785.714286</td>\n",
       "      <td>3</td>\n",
       "      <td>8</td>\n",
       "      <td>2015</td>\n",
       "      <td>другой</td>\n",
       "      <td>14.0</td>\n",
       "      <td>5.196</td>\n",
       "    </tr>\n",
       "    <tr>\n",
       "      <th>3</th>\n",
       "      <td>Санкт-Петербург</td>\n",
       "      <td>159.00</td>\n",
       "      <td>90.790205</td>\n",
       "      <td>27.848234</td>\n",
       "      <td>3</td>\n",
       "      <td>0</td>\n",
       "      <td>9</td>\n",
       "      <td>2.65</td>\n",
       "      <td>14.0</td>\n",
       "      <td>False</td>\n",
       "      <td>False</td>\n",
       "      <td>False</td>\n",
       "      <td>0</td>\n",
       "      <td>64900000</td>\n",
       "      <td>2015-07-24</td>\n",
       "      <td>424.0</td>\n",
       "      <td>6800.0</td>\n",
       "      <td>28098.0</td>\n",
       "      <td>2.0</td>\n",
       "      <td>84.0</td>\n",
       "      <td>3.0</td>\n",
       "      <td>234.0</td>\n",
       "      <td>408176.100629</td>\n",
       "      <td>4</td>\n",
       "      <td>7</td>\n",
       "      <td>2015</td>\n",
       "      <td>другой</td>\n",
       "      <td>7.0</td>\n",
       "      <td>64.900</td>\n",
       "    </tr>\n",
       "    <tr>\n",
       "      <th>4</th>\n",
       "      <td>Санкт-Петербург</td>\n",
       "      <td>100.00</td>\n",
       "      <td>32.000000</td>\n",
       "      <td>41.000000</td>\n",
       "      <td>2</td>\n",
       "      <td>0</td>\n",
       "      <td>13</td>\n",
       "      <td>3.03</td>\n",
       "      <td>14.0</td>\n",
       "      <td>False</td>\n",
       "      <td>False</td>\n",
       "      <td>False</td>\n",
       "      <td>2</td>\n",
       "      <td>10000000</td>\n",
       "      <td>2018-06-19</td>\n",
       "      <td>121.0</td>\n",
       "      <td>8098.0</td>\n",
       "      <td>31856.0</td>\n",
       "      <td>2.0</td>\n",
       "      <td>112.0</td>\n",
       "      <td>1.0</td>\n",
       "      <td>48.0</td>\n",
       "      <td>100000.000000</td>\n",
       "      <td>1</td>\n",
       "      <td>6</td>\n",
       "      <td>2018</td>\n",
       "      <td>другой</td>\n",
       "      <td>8.0</td>\n",
       "      <td>10.000</td>\n",
       "    </tr>\n",
       "    <tr>\n",
       "      <th>7</th>\n",
       "      <td>Санкт-Петербург</td>\n",
       "      <td>71.60</td>\n",
       "      <td>40.884142</td>\n",
       "      <td>18.900000</td>\n",
       "      <td>2</td>\n",
       "      <td>2</td>\n",
       "      <td>22</td>\n",
       "      <td>2.65</td>\n",
       "      <td>24.0</td>\n",
       "      <td>False</td>\n",
       "      <td>False</td>\n",
       "      <td>False</td>\n",
       "      <td>5</td>\n",
       "      <td>7915000</td>\n",
       "      <td>2019-04-18</td>\n",
       "      <td>NaN</td>\n",
       "      <td>11634.0</td>\n",
       "      <td>23982.0</td>\n",
       "      <td>0.0</td>\n",
       "      <td>NaN</td>\n",
       "      <td>0.0</td>\n",
       "      <td>NaN</td>\n",
       "      <td>110544.692737</td>\n",
       "      <td>3</td>\n",
       "      <td>4</td>\n",
       "      <td>2019</td>\n",
       "      <td>другой</td>\n",
       "      <td>12.0</td>\n",
       "      <td>7.915</td>\n",
       "    </tr>\n",
       "    <tr>\n",
       "      <th>...</th>\n",
       "      <td>...</td>\n",
       "      <td>...</td>\n",
       "      <td>...</td>\n",
       "      <td>...</td>\n",
       "      <td>...</td>\n",
       "      <td>...</td>\n",
       "      <td>...</td>\n",
       "      <td>...</td>\n",
       "      <td>...</td>\n",
       "      <td>...</td>\n",
       "      <td>...</td>\n",
       "      <td>...</td>\n",
       "      <td>...</td>\n",
       "      <td>...</td>\n",
       "      <td>...</td>\n",
       "      <td>...</td>\n",
       "      <td>...</td>\n",
       "      <td>...</td>\n",
       "      <td>...</td>\n",
       "      <td>...</td>\n",
       "      <td>...</td>\n",
       "      <td>...</td>\n",
       "      <td>...</td>\n",
       "      <td>...</td>\n",
       "      <td>...</td>\n",
       "      <td>...</td>\n",
       "      <td>...</td>\n",
       "      <td>...</td>\n",
       "      <td>...</td>\n",
       "    </tr>\n",
       "    <tr>\n",
       "      <th>23689</th>\n",
       "      <td>Санкт-Петербург</td>\n",
       "      <td>35.30</td>\n",
       "      <td>16.300000</td>\n",
       "      <td>9.100000</td>\n",
       "      <td>1</td>\n",
       "      <td>2</td>\n",
       "      <td>4</td>\n",
       "      <td>2.86</td>\n",
       "      <td>15.0</td>\n",
       "      <td>False</td>\n",
       "      <td>False</td>\n",
       "      <td>False</td>\n",
       "      <td>13</td>\n",
       "      <td>3550000</td>\n",
       "      <td>2018-02-28</td>\n",
       "      <td>29.0</td>\n",
       "      <td>16081.0</td>\n",
       "      <td>17284.0</td>\n",
       "      <td>1.0</td>\n",
       "      <td>353.0</td>\n",
       "      <td>2.0</td>\n",
       "      <td>652.0</td>\n",
       "      <td>100566.572238</td>\n",
       "      <td>2</td>\n",
       "      <td>2</td>\n",
       "      <td>2018</td>\n",
       "      <td>другой</td>\n",
       "      <td>16.0</td>\n",
       "      <td>3.550</td>\n",
       "    </tr>\n",
       "    <tr>\n",
       "      <th>23690</th>\n",
       "      <td>Санкт-Петербург</td>\n",
       "      <td>52.00</td>\n",
       "      <td>31.000000</td>\n",
       "      <td>6.000000</td>\n",
       "      <td>2</td>\n",
       "      <td>0</td>\n",
       "      <td>2</td>\n",
       "      <td>2.65</td>\n",
       "      <td>5.0</td>\n",
       "      <td>False</td>\n",
       "      <td>False</td>\n",
       "      <td>False</td>\n",
       "      <td>3</td>\n",
       "      <td>5500000</td>\n",
       "      <td>2018-07-19</td>\n",
       "      <td>15.0</td>\n",
       "      <td>6263.0</td>\n",
       "      <td>20151.0</td>\n",
       "      <td>1.0</td>\n",
       "      <td>300.0</td>\n",
       "      <td>0.0</td>\n",
       "      <td>NaN</td>\n",
       "      <td>105769.230769</td>\n",
       "      <td>3</td>\n",
       "      <td>7</td>\n",
       "      <td>2018</td>\n",
       "      <td>другой</td>\n",
       "      <td>6.0</td>\n",
       "      <td>5.500</td>\n",
       "    </tr>\n",
       "    <tr>\n",
       "      <th>23691</th>\n",
       "      <td>Санкт-Петербург</td>\n",
       "      <td>72.90</td>\n",
       "      <td>40.300000</td>\n",
       "      <td>10.600000</td>\n",
       "      <td>2</td>\n",
       "      <td>1</td>\n",
       "      <td>7</td>\n",
       "      <td>2.75</td>\n",
       "      <td>25.0</td>\n",
       "      <td>False</td>\n",
       "      <td>False</td>\n",
       "      <td>False</td>\n",
       "      <td>11</td>\n",
       "      <td>9470000</td>\n",
       "      <td>2016-10-13</td>\n",
       "      <td>519.0</td>\n",
       "      <td>4489.0</td>\n",
       "      <td>19424.0</td>\n",
       "      <td>0.0</td>\n",
       "      <td>NaN</td>\n",
       "      <td>1.0</td>\n",
       "      <td>806.0</td>\n",
       "      <td>129903.978052</td>\n",
       "      <td>3</td>\n",
       "      <td>10</td>\n",
       "      <td>2016</td>\n",
       "      <td>другой</td>\n",
       "      <td>4.0</td>\n",
       "      <td>9.470</td>\n",
       "    </tr>\n",
       "    <tr>\n",
       "      <th>23694</th>\n",
       "      <td>Санкт-Петербург</td>\n",
       "      <td>133.81</td>\n",
       "      <td>73.300000</td>\n",
       "      <td>13.830000</td>\n",
       "      <td>3</td>\n",
       "      <td>0</td>\n",
       "      <td>3</td>\n",
       "      <td>3.70</td>\n",
       "      <td>5.0</td>\n",
       "      <td>False</td>\n",
       "      <td>False</td>\n",
       "      <td>False</td>\n",
       "      <td>9</td>\n",
       "      <td>9700000</td>\n",
       "      <td>2017-03-21</td>\n",
       "      <td>NaN</td>\n",
       "      <td>4232.0</td>\n",
       "      <td>24665.0</td>\n",
       "      <td>1.0</td>\n",
       "      <td>796.0</td>\n",
       "      <td>3.0</td>\n",
       "      <td>381.0</td>\n",
       "      <td>72490.845228</td>\n",
       "      <td>1</td>\n",
       "      <td>3</td>\n",
       "      <td>2017</td>\n",
       "      <td>другой</td>\n",
       "      <td>4.0</td>\n",
       "      <td>9.700</td>\n",
       "    </tr>\n",
       "    <tr>\n",
       "      <th>23697</th>\n",
       "      <td>Санкт-Петербург</td>\n",
       "      <td>76.75</td>\n",
       "      <td>43.824831</td>\n",
       "      <td>23.300000</td>\n",
       "      <td>2</td>\n",
       "      <td>2</td>\n",
       "      <td>12</td>\n",
       "      <td>3.00</td>\n",
       "      <td>17.0</td>\n",
       "      <td>False</td>\n",
       "      <td>False</td>\n",
       "      <td>False</td>\n",
       "      <td>13</td>\n",
       "      <td>11475000</td>\n",
       "      <td>2017-03-28</td>\n",
       "      <td>602.0</td>\n",
       "      <td>10364.0</td>\n",
       "      <td>39140.0</td>\n",
       "      <td>2.0</td>\n",
       "      <td>173.0</td>\n",
       "      <td>3.0</td>\n",
       "      <td>196.0</td>\n",
       "      <td>149511.400651</td>\n",
       "      <td>1</td>\n",
       "      <td>3</td>\n",
       "      <td>2017</td>\n",
       "      <td>другой</td>\n",
       "      <td>10.0</td>\n",
       "      <td>11.475</td>\n",
       "    </tr>\n",
       "  </tbody>\n",
       "</table>\n",
       "<p>15710 rows × 29 columns</p>\n",
       "</div>"
      ],
      "text/plain": [
       "         locality_name  total_area  living_area  kitchen_area  rooms  balcony  \\\n",
       "0      Санкт-Петербург      108.00    51.000000     25.000000      3        0   \n",
       "2      Санкт-Петербург       56.00    34.300000      8.300000      2        0   \n",
       "3      Санкт-Петербург      159.00    90.790205     27.848234      3        0   \n",
       "4      Санкт-Петербург      100.00    32.000000     41.000000      2        0   \n",
       "7      Санкт-Петербург       71.60    40.884142     18.900000      2        2   \n",
       "...                ...         ...          ...           ...    ...      ...   \n",
       "23689  Санкт-Петербург       35.30    16.300000      9.100000      1        2   \n",
       "23690  Санкт-Петербург       52.00    31.000000      6.000000      2        0   \n",
       "23691  Санкт-Петербург       72.90    40.300000     10.600000      2        1   \n",
       "23694  Санкт-Петербург      133.81    73.300000     13.830000      3        0   \n",
       "23697  Санкт-Петербург       76.75    43.824831     23.300000      2        2   \n",
       "\n",
       "       floor  ceiling_height  floors_total  open_plan  is_apartment  \\\n",
       "0          8            2.70          16.0      False         False   \n",
       "2          4            2.65           5.0      False         False   \n",
       "3          9            2.65          14.0      False         False   \n",
       "4         13            3.03          14.0      False         False   \n",
       "7         22            2.65          24.0      False         False   \n",
       "...      ...             ...           ...        ...           ...   \n",
       "23689      4            2.86          15.0      False         False   \n",
       "23690      2            2.65           5.0      False         False   \n",
       "23691      7            2.75          25.0      False         False   \n",
       "23694      3            3.70           5.0      False         False   \n",
       "23697     12            3.00          17.0      False         False   \n",
       "\n",
       "       is_studio  total_images  last_price first_day_exposition  \\\n",
       "0          False            20    13000000           2019-03-07   \n",
       "2          False            10     5196000           2015-08-20   \n",
       "3          False             0    64900000           2015-07-24   \n",
       "4          False             2    10000000           2018-06-19   \n",
       "7          False             5     7915000           2019-04-18   \n",
       "...          ...           ...         ...                  ...   \n",
       "23689      False            13     3550000           2018-02-28   \n",
       "23690      False             3     5500000           2018-07-19   \n",
       "23691      False            11     9470000           2016-10-13   \n",
       "23694      False             9     9700000           2017-03-21   \n",
       "23697      False            13    11475000           2017-03-28   \n",
       "\n",
       "       days_exposition  city_centers_nearest  airports_nearest  \\\n",
       "0                  NaN               16028.0           18863.0   \n",
       "2                558.0               13933.0           21741.0   \n",
       "3                424.0                6800.0           28098.0   \n",
       "4                121.0                8098.0           31856.0   \n",
       "7                  NaN               11634.0           23982.0   \n",
       "...                ...                   ...               ...   \n",
       "23689             29.0               16081.0           17284.0   \n",
       "23690             15.0                6263.0           20151.0   \n",
       "23691            519.0                4489.0           19424.0   \n",
       "23694              NaN                4232.0           24665.0   \n",
       "23697            602.0               10364.0           39140.0   \n",
       "\n",
       "       parks_around_3000  parks_nearest  ponds_around_3000  ponds_nearest  \\\n",
       "0                    1.0          482.0                2.0          755.0   \n",
       "2                    1.0           90.0                2.0          574.0   \n",
       "3                    2.0           84.0                3.0          234.0   \n",
       "4                    2.0          112.0                1.0           48.0   \n",
       "7                    0.0            NaN                0.0            NaN   \n",
       "...                  ...            ...                ...            ...   \n",
       "23689                1.0          353.0                2.0          652.0   \n",
       "23690                1.0          300.0                0.0            NaN   \n",
       "23691                0.0            NaN                1.0          806.0   \n",
       "23694                1.0          796.0                3.0          381.0   \n",
       "23697                2.0          173.0                3.0          196.0   \n",
       "\n",
       "            price_km  weekday  month  year floor_category  city_centers_km  \\\n",
       "0      120370.370370        3      3  2019         другой             16.0   \n",
       "2       92785.714286        3      8  2015         другой             14.0   \n",
       "3      408176.100629        4      7  2015         другой              7.0   \n",
       "4      100000.000000        1      6  2018         другой              8.0   \n",
       "7      110544.692737        3      4  2019         другой             12.0   \n",
       "...              ...      ...    ...   ...            ...              ...   \n",
       "23689  100566.572238        2      2  2018         другой             16.0   \n",
       "23690  105769.230769        3      7  2018         другой              6.0   \n",
       "23691  129903.978052        3     10  2016         другой              4.0   \n",
       "23694   72490.845228        1      3  2017         другой              4.0   \n",
       "23697  149511.400651        1      3  2017         другой             10.0   \n",
       "\n",
       "       last_price_mln  \n",
       "0              13.000  \n",
       "2               5.196  \n",
       "3              64.900  \n",
       "4              10.000  \n",
       "7               7.915  \n",
       "...               ...  \n",
       "23689           3.550  \n",
       "23690           5.500  \n",
       "23691           9.470  \n",
       "23694           9.700  \n",
       "23697          11.475  \n",
       "\n",
       "[15710 rows x 29 columns]"
      ]
     },
     "execution_count": 54,
     "metadata": {},
     "output_type": "execute_result"
    }
   ],
   "source": [
    "#выделим квартиры в Санкт-Петербурге\n",
    "spb = data.query('locality_name == \"Санкт-Петербург\"')\n",
    "spb"
   ]
  },
  {
   "cell_type": "code",
   "execution_count": 55,
   "metadata": {},
   "outputs": [
    {
     "data": {
      "text/html": [
       "<div>\n",
       "<style scoped>\n",
       "    .dataframe tbody tr th:only-of-type {\n",
       "        vertical-align: middle;\n",
       "    }\n",
       "\n",
       "    .dataframe tbody tr th {\n",
       "        vertical-align: top;\n",
       "    }\n",
       "\n",
       "    .dataframe thead th {\n",
       "        text-align: right;\n",
       "    }\n",
       "</style>\n",
       "<table border=\"1\" class=\"dataframe\">\n",
       "  <thead>\n",
       "    <tr style=\"text-align: right;\">\n",
       "      <th></th>\n",
       "      <th>price_km</th>\n",
       "    </tr>\n",
       "    <tr>\n",
       "      <th>city_centers_km</th>\n",
       "      <th></th>\n",
       "    </tr>\n",
       "  </thead>\n",
       "  <tbody>\n",
       "    <tr>\n",
       "      <th>0.0</th>\n",
       "      <td>245833.530289</td>\n",
       "    </tr>\n",
       "    <tr>\n",
       "      <th>1.0</th>\n",
       "      <td>177042.004282</td>\n",
       "    </tr>\n",
       "    <tr>\n",
       "      <th>2.0</th>\n",
       "      <td>157981.901071</td>\n",
       "    </tr>\n",
       "    <tr>\n",
       "      <th>3.0</th>\n",
       "      <td>121462.305957</td>\n",
       "    </tr>\n",
       "    <tr>\n",
       "      <th>4.0</th>\n",
       "      <td>133392.085203</td>\n",
       "    </tr>\n",
       "    <tr>\n",
       "      <th>5.0</th>\n",
       "      <td>140620.697212</td>\n",
       "    </tr>\n",
       "    <tr>\n",
       "      <th>6.0</th>\n",
       "      <td>151012.193621</td>\n",
       "    </tr>\n",
       "    <tr>\n",
       "      <th>7.0</th>\n",
       "      <td>156176.879664</td>\n",
       "    </tr>\n",
       "    <tr>\n",
       "      <th>8.0</th>\n",
       "      <td>125193.805256</td>\n",
       "    </tr>\n",
       "    <tr>\n",
       "      <th>9.0</th>\n",
       "      <td>113131.041911</td>\n",
       "    </tr>\n",
       "    <tr>\n",
       "      <th>10.0</th>\n",
       "      <td>112727.516925</td>\n",
       "    </tr>\n",
       "    <tr>\n",
       "      <th>11.0</th>\n",
       "      <td>108630.835324</td>\n",
       "    </tr>\n",
       "    <tr>\n",
       "      <th>12.0</th>\n",
       "      <td>107503.145511</td>\n",
       "    </tr>\n",
       "    <tr>\n",
       "      <th>13.0</th>\n",
       "      <td>108148.127854</td>\n",
       "    </tr>\n",
       "    <tr>\n",
       "      <th>14.0</th>\n",
       "      <td>104252.385047</td>\n",
       "    </tr>\n",
       "    <tr>\n",
       "      <th>15.0</th>\n",
       "      <td>104231.976184</td>\n",
       "    </tr>\n",
       "    <tr>\n",
       "      <th>16.0</th>\n",
       "      <td>100542.613949</td>\n",
       "    </tr>\n",
       "    <tr>\n",
       "      <th>17.0</th>\n",
       "      <td>96597.652408</td>\n",
       "    </tr>\n",
       "    <tr>\n",
       "      <th>18.0</th>\n",
       "      <td>96362.263941</td>\n",
       "    </tr>\n",
       "    <tr>\n",
       "      <th>19.0</th>\n",
       "      <td>98652.736027</td>\n",
       "    </tr>\n",
       "    <tr>\n",
       "      <th>20.0</th>\n",
       "      <td>103045.181922</td>\n",
       "    </tr>\n",
       "    <tr>\n",
       "      <th>21.0</th>\n",
       "      <td>94469.584582</td>\n",
       "    </tr>\n",
       "    <tr>\n",
       "      <th>22.0</th>\n",
       "      <td>91330.425050</td>\n",
       "    </tr>\n",
       "    <tr>\n",
       "      <th>23.0</th>\n",
       "      <td>91828.517765</td>\n",
       "    </tr>\n",
       "    <tr>\n",
       "      <th>24.0</th>\n",
       "      <td>85736.904595</td>\n",
       "    </tr>\n",
       "    <tr>\n",
       "      <th>25.0</th>\n",
       "      <td>91531.371618</td>\n",
       "    </tr>\n",
       "    <tr>\n",
       "      <th>26.0</th>\n",
       "      <td>89285.876593</td>\n",
       "    </tr>\n",
       "    <tr>\n",
       "      <th>27.0</th>\n",
       "      <td>132115.709459</td>\n",
       "    </tr>\n",
       "    <tr>\n",
       "      <th>28.0</th>\n",
       "      <td>81161.915320</td>\n",
       "    </tr>\n",
       "    <tr>\n",
       "      <th>29.0</th>\n",
       "      <td>72953.365445</td>\n",
       "    </tr>\n",
       "  </tbody>\n",
       "</table>\n",
       "</div>"
      ],
      "text/plain": [
       "                      price_km\n",
       "city_centers_km               \n",
       "0.0              245833.530289\n",
       "1.0              177042.004282\n",
       "2.0              157981.901071\n",
       "3.0              121462.305957\n",
       "4.0              133392.085203\n",
       "5.0              140620.697212\n",
       "6.0              151012.193621\n",
       "7.0              156176.879664\n",
       "8.0              125193.805256\n",
       "9.0              113131.041911\n",
       "10.0             112727.516925\n",
       "11.0             108630.835324\n",
       "12.0             107503.145511\n",
       "13.0             108148.127854\n",
       "14.0             104252.385047\n",
       "15.0             104231.976184\n",
       "16.0             100542.613949\n",
       "17.0              96597.652408\n",
       "18.0              96362.263941\n",
       "19.0              98652.736027\n",
       "20.0             103045.181922\n",
       "21.0              94469.584582\n",
       "22.0              91330.425050\n",
       "23.0              91828.517765\n",
       "24.0              85736.904595\n",
       "25.0              91531.371618\n",
       "26.0              89285.876593\n",
       "27.0             132115.709459\n",
       "28.0              81161.915320\n",
       "29.0              72953.365445"
      ]
     },
     "execution_count": 55,
     "metadata": {},
     "output_type": "execute_result"
    }
   ],
   "source": [
    "spb_km = spb.pivot_table(index='city_centers_km',values='price_km',aggfunc='mean')\n",
    "spb_km"
   ]
  },
  {
   "cell_type": "code",
   "execution_count": 56,
   "metadata": {},
   "outputs": [
    {
     "data": {
      "image/png": "[encoded data removed]",
      "text/plain": [
       "<Figure size 720x360 with 1 Axes>"
      ]
     },
     "metadata": {
      "needs_background": "light"
     },
     "output_type": "display_data"
    }
   ],
   "source": [
    "spb_km.plot(grid=True, style='o-', xlim=(0,15), figsize=(10, 5));"
   ]
  },
  {
   "cell_type": "markdown",
   "metadata": {},
   "source": [
    "Вывод: Цена квартир находщихся рядом с центорм (до 2х км) сильно зависит от ее удаленности, так у центра квартиры значительно дороже, чем более удаленые. При удаленности квартиры от 4 км такая зависимость значительно снижается и почти не влияет на цену. "
   ]
  },
  {
   "cell_type": "markdown",
   "metadata": {},
   "source": [
    "### Общий вывод"
   ]
  },
  {
   "cell_type": "markdown",
   "metadata": {},
   "source": [
    "Мы изучили архив объявлений за несколько лет о продаже квартир в Санкт-Петербурге и соседних населённых пунктах.В ходе работы была произведена предобработка данных, пропусков и замена типов данных в таблице,были определены аномалии, уникальные значения в столбцах и устранены неявные дубликаты.Посчитали и добавили в таблицу цену одного квадратного метра жилья, вывели из даты дни недели, месяцы и года размещения объявлений, добавили категории по этажам (значения — «первый», «последний», «другой»),расстояние до центра города в километрах. Изучили следующие параметры  - общая площадь,жилая площадь,площадь кухни,цена объекта,количество комнат,высота потолков,этаж квартиры,день и месяц публикации объявления. Установили связь между разными параметрами и построили гистограммы.\n",
    "На основе анализа данных пришли к выводу:\n",
    "что на стоимость квартиры больше всего влияют общая площадь квартиры, в т.ч.жилая площадь и площадь кухни,количество комнат, этаж квартиры(первый этаж значительно дешевле остальных вариантов), близость к центру(чем ближе к центру, тем дороже квартира). Квартиры в Санк-Петербурге стоят дороже, чем в пригороде. Если говорить о сроке продаж,то в  основном квартиры продаются за 95 дней. Квартиры в Санк-Петербурге стоят дороже, чем в пригороде.Летом цены на квартиры несколько снижаются, а осенью и зимой - растут."
   ]
  }
 ],
 "metadata": {
  "ExecuteTimeLog": [
   {
    "duration": 687,
    "start_time": "2023-02-16T07:51:03.888Z"
   },
   {
    "duration": 17,
    "start_time": "2023-02-16T07:52:36.208Z"
   },
   {
    "duration": 2537,
    "start_time": "2023-02-16T07:54:01.970Z"
   },
   {
    "duration": 485,
    "start_time": "2023-02-16T09:15:51.476Z"
   },
   {
    "duration": 14,
    "start_time": "2023-02-16T09:15:51.963Z"
   },
   {
    "duration": 2316,
    "start_time": "2023-02-16T09:15:51.979Z"
   },
   {
    "duration": 6,
    "start_time": "2023-02-16T09:40:33.980Z"
   },
   {
    "duration": 8,
    "start_time": "2023-02-16T09:42:22.556Z"
   },
   {
    "duration": 76,
    "start_time": "2023-02-16T10:38:05.693Z"
   },
   {
    "duration": 25,
    "start_time": "2023-02-16T10:38:15.145Z"
   },
   {
    "duration": 27,
    "start_time": "2023-02-16T10:39:58.573Z"
   },
   {
    "duration": 13,
    "start_time": "2023-02-16T10:40:10.351Z"
   },
   {
    "duration": 9,
    "start_time": "2023-02-16T10:40:44.148Z"
   },
   {
    "duration": 9,
    "start_time": "2023-02-16T10:41:09.101Z"
   },
   {
    "duration": 5,
    "start_time": "2023-02-16T11:02:20.236Z"
   },
   {
    "duration": 11,
    "start_time": "2023-02-16T11:02:37.461Z"
   },
   {
    "duration": 7,
    "start_time": "2023-02-16T11:02:45.434Z"
   },
   {
    "duration": 16,
    "start_time": "2023-02-16T11:20:23.129Z"
   },
   {
    "duration": 561,
    "start_time": "2023-02-16T11:21:01.926Z"
   },
   {
    "duration": 17,
    "start_time": "2023-02-16T11:21:02.490Z"
   },
   {
    "duration": 2426,
    "start_time": "2023-02-16T11:21:02.509Z"
   },
   {
    "duration": 8,
    "start_time": "2023-02-16T11:21:04.937Z"
   },
   {
    "duration": 86,
    "start_time": "2023-02-16T11:21:04.948Z"
   },
   {
    "duration": 0,
    "start_time": "2023-02-16T11:21:05.036Z"
   },
   {
    "duration": 0,
    "start_time": "2023-02-16T11:21:05.036Z"
   },
   {
    "duration": 0,
    "start_time": "2023-02-16T11:21:05.038Z"
   },
   {
    "duration": 17,
    "start_time": "2023-02-16T11:22:39.579Z"
   },
   {
    "duration": 8,
    "start_time": "2023-02-16T11:22:59.613Z"
   },
   {
    "duration": 10,
    "start_time": "2023-02-16T11:23:02.022Z"
   },
   {
    "duration": 41,
    "start_time": "2023-02-16T11:23:25.057Z"
   },
   {
    "duration": 14,
    "start_time": "2023-02-16T11:25:00.874Z"
   },
   {
    "duration": 8,
    "start_time": "2023-02-16T11:35:29.117Z"
   },
   {
    "duration": 10,
    "start_time": "2023-02-16T12:01:11.673Z"
   },
   {
    "duration": 51,
    "start_time": "2023-02-16T12:06:47.441Z"
   },
   {
    "duration": 8,
    "start_time": "2023-02-16T12:17:43.883Z"
   },
   {
    "duration": 62,
    "start_time": "2023-02-16T12:17:56.553Z"
   },
   {
    "duration": 3,
    "start_time": "2023-02-16T12:18:29.403Z"
   },
   {
    "duration": 5,
    "start_time": "2023-02-16T12:18:41.376Z"
   },
   {
    "duration": 1087,
    "start_time": "2023-02-16T12:18:58.295Z"
   },
   {
    "duration": 6,
    "start_time": "2023-02-16T12:19:09.673Z"
   },
   {
    "duration": 68,
    "start_time": "2023-02-16T12:19:56.336Z"
   },
   {
    "duration": 8,
    "start_time": "2023-02-16T12:39:22.822Z"
   },
   {
    "duration": 5,
    "start_time": "2023-02-16T12:39:38.086Z"
   },
   {
    "duration": 6,
    "start_time": "2023-02-16T12:40:03.980Z"
   },
   {
    "duration": 5,
    "start_time": "2023-02-16T12:41:27.063Z"
   },
   {
    "duration": 5,
    "start_time": "2023-02-16T12:41:48.127Z"
   },
   {
    "duration": 97,
    "start_time": "2023-02-16T16:15:27.073Z"
   },
   {
    "duration": 680,
    "start_time": "2023-02-16T16:15:33.791Z"
   },
   {
    "duration": 17,
    "start_time": "2023-02-16T16:15:34.480Z"
   },
   {
    "duration": 2669,
    "start_time": "2023-02-16T16:15:34.499Z"
   },
   {
    "duration": 12,
    "start_time": "2023-02-16T16:15:37.170Z"
   },
   {
    "duration": 56,
    "start_time": "2023-02-16T16:15:37.184Z"
   },
   {
    "duration": 35,
    "start_time": "2023-02-16T16:15:37.242Z"
   },
   {
    "duration": 14,
    "start_time": "2023-02-16T16:15:37.279Z"
   },
   {
    "duration": 15,
    "start_time": "2023-02-16T16:15:37.295Z"
   },
   {
    "duration": 39,
    "start_time": "2023-02-16T16:15:37.311Z"
   },
   {
    "duration": 5,
    "start_time": "2023-02-16T16:15:37.353Z"
   },
   {
    "duration": 6,
    "start_time": "2023-02-16T16:15:37.359Z"
   },
   {
    "duration": 45,
    "start_time": "2023-02-17T06:47:44.584Z"
   },
   {
    "duration": 740,
    "start_time": "2023-02-17T06:47:50.832Z"
   },
   {
    "duration": 14,
    "start_time": "2023-02-17T06:47:51.574Z"
   },
   {
    "duration": 2355,
    "start_time": "2023-02-17T06:47:51.590Z"
   },
   {
    "duration": 10,
    "start_time": "2023-02-17T06:47:53.948Z"
   },
   {
    "duration": 31,
    "start_time": "2023-02-17T06:47:53.960Z"
   },
   {
    "duration": 28,
    "start_time": "2023-02-17T06:47:53.993Z"
   },
   {
    "duration": 10,
    "start_time": "2023-02-17T06:47:54.023Z"
   },
   {
    "duration": 5,
    "start_time": "2023-02-17T06:47:54.035Z"
   },
   {
    "duration": 12,
    "start_time": "2023-02-17T06:47:54.041Z"
   },
   {
    "duration": 39,
    "start_time": "2023-02-17T06:47:54.055Z"
   },
   {
    "duration": 33,
    "start_time": "2023-02-17T06:55:38.479Z"
   },
   {
    "duration": 999,
    "start_time": "2023-02-17T07:02:20.811Z"
   },
   {
    "duration": 6,
    "start_time": "2023-02-17T07:02:45.235Z"
   },
   {
    "duration": 5,
    "start_time": "2023-02-17T07:04:20.156Z"
   },
   {
    "duration": 5,
    "start_time": "2023-02-17T07:04:23.122Z"
   },
   {
    "duration": 3,
    "start_time": "2023-02-17T07:04:46.277Z"
   },
   {
    "duration": 6,
    "start_time": "2023-02-17T07:07:55.133Z"
   },
   {
    "duration": 16,
    "start_time": "2023-02-17T07:14:16.963Z"
   },
   {
    "duration": 9,
    "start_time": "2023-02-17T07:14:34.138Z"
   },
   {
    "duration": 2,
    "start_time": "2023-02-17T07:51:03.907Z"
   },
   {
    "duration": 5,
    "start_time": "2023-02-17T08:00:38.639Z"
   },
   {
    "duration": 9,
    "start_time": "2023-02-17T08:05:24.194Z"
   },
   {
    "duration": 10,
    "start_time": "2023-02-17T08:05:46.119Z"
   },
   {
    "duration": 7,
    "start_time": "2023-02-17T08:06:39.164Z"
   },
   {
    "duration": 9,
    "start_time": "2023-02-17T08:06:41.618Z"
   },
   {
    "duration": 9,
    "start_time": "2023-02-17T08:06:45.171Z"
   },
   {
    "duration": 7,
    "start_time": "2023-02-17T08:13:49.791Z"
   },
   {
    "duration": 796,
    "start_time": "2023-02-17T08:23:07.339Z"
   },
   {
    "duration": 8,
    "start_time": "2023-02-17T08:24:14.556Z"
   },
   {
    "duration": 12,
    "start_time": "2023-02-17T08:25:26.358Z"
   },
   {
    "duration": 17,
    "start_time": "2023-02-17T08:25:35.277Z"
   },
   {
    "duration": 11,
    "start_time": "2023-02-17T08:25:45.790Z"
   },
   {
    "duration": 22,
    "start_time": "2023-02-17T08:51:03.782Z"
   },
   {
    "duration": 94,
    "start_time": "2023-02-17T08:51:15.685Z"
   },
   {
    "duration": 510,
    "start_time": "2023-02-17T08:51:36.738Z"
   },
   {
    "duration": 18,
    "start_time": "2023-02-17T08:51:37.251Z"
   },
   {
    "duration": 2219,
    "start_time": "2023-02-17T08:51:37.270Z"
   },
   {
    "duration": 8,
    "start_time": "2023-02-17T08:51:39.492Z"
   },
   {
    "duration": 41,
    "start_time": "2023-02-17T08:51:39.502Z"
   },
   {
    "duration": 26,
    "start_time": "2023-02-17T08:51:39.545Z"
   },
   {
    "duration": 9,
    "start_time": "2023-02-17T08:51:39.593Z"
   },
   {
    "duration": 12,
    "start_time": "2023-02-17T08:51:39.603Z"
   },
   {
    "duration": 11,
    "start_time": "2023-02-17T08:51:39.616Z"
   },
   {
    "duration": 9,
    "start_time": "2023-02-17T08:51:39.629Z"
   },
   {
    "duration": 14,
    "start_time": "2023-02-17T08:51:39.640Z"
   },
   {
    "duration": 13,
    "start_time": "2023-02-17T08:51:39.655Z"
   },
   {
    "duration": 660,
    "start_time": "2023-02-17T08:51:39.691Z"
   },
   {
    "duration": 674,
    "start_time": "2023-02-17T08:51:46.031Z"
   },
   {
    "duration": 558,
    "start_time": "2023-02-17T08:53:26.411Z"
   },
   {
    "duration": 25,
    "start_time": "2023-02-17T08:54:01.568Z"
   },
   {
    "duration": 23,
    "start_time": "2023-02-17T08:55:11.145Z"
   },
   {
    "duration": 13,
    "start_time": "2023-02-17T08:55:19.599Z"
   },
   {
    "duration": 11,
    "start_time": "2023-02-17T08:55:26.800Z"
   },
   {
    "duration": 10,
    "start_time": "2023-02-17T08:55:36.728Z"
   },
   {
    "duration": 12,
    "start_time": "2023-02-17T08:58:02.509Z"
   },
   {
    "duration": 12,
    "start_time": "2023-02-17T09:08:03.631Z"
   },
   {
    "duration": 9,
    "start_time": "2023-02-17T09:14:53.029Z"
   },
   {
    "duration": 7,
    "start_time": "2023-02-17T09:15:16.334Z"
   },
   {
    "duration": 13,
    "start_time": "2023-02-17T09:17:23.674Z"
   },
   {
    "duration": 18,
    "start_time": "2023-02-17T09:17:53.017Z"
   },
   {
    "duration": 17,
    "start_time": "2023-02-17T09:18:04.914Z"
   },
   {
    "duration": 17,
    "start_time": "2023-02-17T09:18:32.516Z"
   },
   {
    "duration": 66,
    "start_time": "2023-02-17T09:50:09.497Z"
   },
   {
    "duration": 59,
    "start_time": "2023-02-17T09:50:42.492Z"
   },
   {
    "duration": 56,
    "start_time": "2023-02-17T09:50:52.346Z"
   },
   {
    "duration": 50,
    "start_time": "2023-02-17T09:54:43.637Z"
   },
   {
    "duration": 56,
    "start_time": "2023-02-17T09:56:37.449Z"
   },
   {
    "duration": 47,
    "start_time": "2023-02-17T09:56:44.487Z"
   },
   {
    "duration": 7,
    "start_time": "2023-02-17T09:56:57.582Z"
   },
   {
    "duration": 9,
    "start_time": "2023-02-17T09:57:15.478Z"
   },
   {
    "duration": 7,
    "start_time": "2023-02-17T09:57:32.071Z"
   },
   {
    "duration": 10,
    "start_time": "2023-02-17T09:58:35.610Z"
   },
   {
    "duration": 8,
    "start_time": "2023-02-17T09:59:47.730Z"
   },
   {
    "duration": 6,
    "start_time": "2023-02-17T10:04:49.259Z"
   },
   {
    "duration": 12,
    "start_time": "2023-02-17T10:09:11.448Z"
   },
   {
    "duration": 5,
    "start_time": "2023-02-17T10:09:30.462Z"
   },
   {
    "duration": 7,
    "start_time": "2023-02-17T10:09:59.247Z"
   },
   {
    "duration": 6,
    "start_time": "2023-02-17T10:10:13.135Z"
   },
   {
    "duration": 5,
    "start_time": "2023-02-17T10:10:41.096Z"
   },
   {
    "duration": 6,
    "start_time": "2023-02-17T10:22:49.807Z"
   },
   {
    "duration": 6,
    "start_time": "2023-02-17T10:23:28.254Z"
   },
   {
    "duration": 10,
    "start_time": "2023-02-17T10:23:42.463Z"
   },
   {
    "duration": 536,
    "start_time": "2023-02-17T11:37:53.462Z"
   },
   {
    "duration": 16,
    "start_time": "2023-02-17T11:37:53.999Z"
   },
   {
    "duration": 2273,
    "start_time": "2023-02-17T11:37:54.016Z"
   },
   {
    "duration": 10,
    "start_time": "2023-02-17T11:37:56.291Z"
   },
   {
    "duration": 40,
    "start_time": "2023-02-17T11:37:56.303Z"
   },
   {
    "duration": 25,
    "start_time": "2023-02-17T11:37:56.345Z"
   },
   {
    "duration": 10,
    "start_time": "2023-02-17T11:37:56.392Z"
   },
   {
    "duration": 7,
    "start_time": "2023-02-17T11:37:56.403Z"
   },
   {
    "duration": 10,
    "start_time": "2023-02-17T11:37:56.411Z"
   },
   {
    "duration": 15,
    "start_time": "2023-02-17T11:37:56.424Z"
   },
   {
    "duration": 21,
    "start_time": "2023-02-17T11:37:56.441Z"
   },
   {
    "duration": 11,
    "start_time": "2023-02-17T11:37:56.463Z"
   },
   {
    "duration": 34,
    "start_time": "2023-02-17T11:37:56.475Z"
   },
   {
    "duration": 50,
    "start_time": "2023-02-17T11:37:56.510Z"
   },
   {
    "duration": 12,
    "start_time": "2023-02-17T11:37:56.562Z"
   },
   {
    "duration": 17,
    "start_time": "2023-02-17T11:37:56.575Z"
   },
   {
    "duration": 14,
    "start_time": "2023-02-17T11:37:56.593Z"
   },
   {
    "duration": 157,
    "start_time": "2023-02-17T12:18:12.352Z"
   },
   {
    "duration": 94,
    "start_time": "2023-02-17T12:18:26.714Z"
   },
   {
    "duration": 812,
    "start_time": "2023-02-17T12:18:46.591Z"
   },
   {
    "duration": 159,
    "start_time": "2023-02-17T12:19:14.226Z"
   },
   {
    "duration": 3,
    "start_time": "2023-02-17T12:20:01.058Z"
   },
   {
    "duration": 87,
    "start_time": "2023-02-17T12:20:05.356Z"
   },
   {
    "duration": 525,
    "start_time": "2023-02-17T12:20:13.961Z"
   },
   {
    "duration": 15,
    "start_time": "2023-02-17T12:20:14.491Z"
   },
   {
    "duration": 2313,
    "start_time": "2023-02-17T12:20:14.508Z"
   },
   {
    "duration": 8,
    "start_time": "2023-02-17T12:20:16.824Z"
   },
   {
    "duration": 66,
    "start_time": "2023-02-17T12:20:16.833Z"
   },
   {
    "duration": 25,
    "start_time": "2023-02-17T12:20:16.901Z"
   },
   {
    "duration": 10,
    "start_time": "2023-02-17T12:20:16.928Z"
   },
   {
    "duration": 7,
    "start_time": "2023-02-17T12:20:16.940Z"
   },
   {
    "duration": 14,
    "start_time": "2023-02-17T12:20:16.948Z"
   },
   {
    "duration": 28,
    "start_time": "2023-02-17T12:20:16.965Z"
   },
   {
    "duration": 14,
    "start_time": "2023-02-17T12:20:16.995Z"
   },
   {
    "duration": 16,
    "start_time": "2023-02-17T12:20:17.010Z"
   },
   {
    "duration": 20,
    "start_time": "2023-02-17T12:20:17.028Z"
   },
   {
    "duration": 61,
    "start_time": "2023-02-17T12:20:17.050Z"
   },
   {
    "duration": 13,
    "start_time": "2023-02-17T12:20:17.113Z"
   },
   {
    "duration": 8,
    "start_time": "2023-02-17T12:20:17.127Z"
   },
   {
    "duration": 10,
    "start_time": "2023-02-17T12:20:17.136Z"
   },
   {
    "duration": 13,
    "start_time": "2023-02-17T12:20:17.147Z"
   },
   {
    "duration": 32,
    "start_time": "2023-02-17T12:20:17.161Z"
   },
   {
    "duration": 171,
    "start_time": "2023-02-17T12:20:17.195Z"
   },
   {
    "duration": 51,
    "start_time": "2023-02-17T12:23:06.642Z"
   },
   {
    "duration": 48,
    "start_time": "2023-02-17T12:23:16.795Z"
   },
   {
    "duration": 94,
    "start_time": "2023-02-17T12:23:30.276Z"
   },
   {
    "duration": 4,
    "start_time": "2023-02-17T12:24:41.610Z"
   },
   {
    "duration": 369,
    "start_time": "2023-02-17T12:24:45.395Z"
   },
   {
    "duration": 6,
    "start_time": "2023-02-17T12:25:01.995Z"
   },
   {
    "duration": 5,
    "start_time": "2023-02-17T12:25:17.379Z"
   },
   {
    "duration": 269,
    "start_time": "2023-02-17T12:25:24.138Z"
   },
   {
    "duration": 98,
    "start_time": "2023-02-17T12:39:29.521Z"
   },
   {
    "duration": 5,
    "start_time": "2023-02-17T12:39:35.346Z"
   },
   {
    "duration": 8,
    "start_time": "2023-02-17T12:39:43.577Z"
   },
   {
    "duration": 8,
    "start_time": "2023-02-17T12:40:56.709Z"
   },
   {
    "duration": 7,
    "start_time": "2023-02-17T12:40:58.907Z"
   },
   {
    "duration": 7,
    "start_time": "2023-02-17T12:41:39.724Z"
   },
   {
    "duration": 11,
    "start_time": "2023-02-17T12:41:47.194Z"
   },
   {
    "duration": 8,
    "start_time": "2023-02-17T12:42:01.611Z"
   },
   {
    "duration": 8,
    "start_time": "2023-02-17T12:42:07.819Z"
   },
   {
    "duration": 5,
    "start_time": "2023-02-17T12:42:16.946Z"
   },
   {
    "duration": 6,
    "start_time": "2023-02-17T12:42:26.035Z"
   },
   {
    "duration": 5,
    "start_time": "2023-02-17T12:42:44.178Z"
   },
   {
    "duration": 6,
    "start_time": "2023-02-17T12:42:49.666Z"
   },
   {
    "duration": 6,
    "start_time": "2023-02-17T12:43:01.522Z"
   },
   {
    "duration": 5,
    "start_time": "2023-02-17T12:43:18.235Z"
   },
   {
    "duration": 7,
    "start_time": "2023-02-17T12:43:33.827Z"
   },
   {
    "duration": 11,
    "start_time": "2023-02-17T13:01:25.943Z"
   },
   {
    "duration": 5,
    "start_time": "2023-02-17T13:01:44.176Z"
   },
   {
    "duration": 4,
    "start_time": "2023-02-17T13:01:53.006Z"
   },
   {
    "duration": 6,
    "start_time": "2023-02-17T13:01:54.678Z"
   },
   {
    "duration": 5,
    "start_time": "2023-02-17T13:07:58.218Z"
   },
   {
    "duration": 6,
    "start_time": "2023-02-17T13:08:00.140Z"
   },
   {
    "duration": 7,
    "start_time": "2023-02-17T13:08:12.579Z"
   },
   {
    "duration": 7,
    "start_time": "2023-02-17T13:08:36.811Z"
   },
   {
    "duration": 7,
    "start_time": "2023-02-17T13:15:53.937Z"
   },
   {
    "duration": 953,
    "start_time": "2023-02-17T13:40:04.261Z"
   },
   {
    "duration": 55,
    "start_time": "2023-02-17T13:41:30.046Z"
   },
   {
    "duration": 6,
    "start_time": "2023-02-17T14:00:36.641Z"
   },
   {
    "duration": 122,
    "start_time": "2023-02-17T14:10:33.658Z"
   },
   {
    "duration": 232,
    "start_time": "2023-02-17T14:11:14.329Z"
   },
   {
    "duration": 254,
    "start_time": "2023-02-17T14:11:38.961Z"
   },
   {
    "duration": 321,
    "start_time": "2023-02-17T14:11:58.050Z"
   },
   {
    "duration": 241,
    "start_time": "2023-02-17T14:12:53.300Z"
   },
   {
    "duration": 180,
    "start_time": "2023-02-17T14:13:04.466Z"
   },
   {
    "duration": 133,
    "start_time": "2023-02-17T14:13:09.322Z"
   },
   {
    "duration": 160,
    "start_time": "2023-02-17T14:13:17.850Z"
   },
   {
    "duration": 1479,
    "start_time": "2023-02-17T14:13:24.537Z"
   },
   {
    "duration": 246,
    "start_time": "2023-02-17T14:13:29.714Z"
   },
   {
    "duration": 202,
    "start_time": "2023-02-17T14:13:35.082Z"
   },
   {
    "duration": 150,
    "start_time": "2023-02-17T14:13:41.538Z"
   },
   {
    "duration": 385,
    "start_time": "2023-02-17T14:13:56.107Z"
   },
   {
    "duration": 129,
    "start_time": "2023-02-17T14:14:04.738Z"
   },
   {
    "duration": 194,
    "start_time": "2023-02-17T14:14:10.770Z"
   },
   {
    "duration": 195,
    "start_time": "2023-02-17T14:15:38.212Z"
   },
   {
    "duration": 219,
    "start_time": "2023-02-17T14:44:14.078Z"
   },
   {
    "duration": 222,
    "start_time": "2023-02-17T14:45:11.590Z"
   },
   {
    "duration": 507,
    "start_time": "2023-02-17T14:45:24.950Z"
   },
   {
    "duration": 17,
    "start_time": "2023-02-17T14:45:25.459Z"
   },
   {
    "duration": 2383,
    "start_time": "2023-02-17T14:45:25.478Z"
   },
   {
    "duration": 8,
    "start_time": "2023-02-17T14:45:27.864Z"
   },
   {
    "duration": 39,
    "start_time": "2023-02-17T14:45:27.874Z"
   },
   {
    "duration": 25,
    "start_time": "2023-02-17T14:45:27.915Z"
   },
   {
    "duration": 8,
    "start_time": "2023-02-17T14:45:27.942Z"
   },
   {
    "duration": 9,
    "start_time": "2023-02-17T14:45:27.952Z"
   },
   {
    "duration": 38,
    "start_time": "2023-02-17T14:45:27.963Z"
   },
   {
    "duration": 8,
    "start_time": "2023-02-17T14:45:28.004Z"
   },
   {
    "duration": 16,
    "start_time": "2023-02-17T14:45:28.014Z"
   },
   {
    "duration": 20,
    "start_time": "2023-02-17T14:45:28.032Z"
   },
   {
    "duration": 13,
    "start_time": "2023-02-17T14:45:28.053Z"
   },
   {
    "duration": 63,
    "start_time": "2023-02-17T14:45:28.068Z"
   },
   {
    "duration": 12,
    "start_time": "2023-02-17T14:45:28.133Z"
   },
   {
    "duration": 5,
    "start_time": "2023-02-17T14:45:28.147Z"
   },
   {
    "duration": 16,
    "start_time": "2023-02-17T14:45:28.154Z"
   },
   {
    "duration": 42,
    "start_time": "2023-02-17T14:45:28.172Z"
   },
   {
    "duration": 286,
    "start_time": "2023-02-17T14:45:28.216Z"
   },
   {
    "duration": 8,
    "start_time": "2023-02-17T14:45:28.504Z"
   },
   {
    "duration": 7,
    "start_time": "2023-02-17T14:45:28.514Z"
   },
   {
    "duration": 73,
    "start_time": "2023-02-17T14:45:28.523Z"
   },
   {
    "duration": 205,
    "start_time": "2023-02-17T14:45:28.598Z"
   },
   {
    "duration": 213,
    "start_time": "2023-02-17T14:45:28.805Z"
   },
   {
    "duration": 338,
    "start_time": "2023-02-17T14:45:54.067Z"
   },
   {
    "duration": 401,
    "start_time": "2023-02-17T14:46:15.295Z"
   },
   {
    "duration": 217,
    "start_time": "2023-02-17T14:46:21.350Z"
   },
   {
    "duration": 197,
    "start_time": "2023-02-17T14:48:08.618Z"
   },
   {
    "duration": 243,
    "start_time": "2023-02-17T14:48:17.634Z"
   },
   {
    "duration": 228,
    "start_time": "2023-02-17T14:48:22.457Z"
   },
   {
    "duration": 189,
    "start_time": "2023-02-17T14:48:30.131Z"
   },
   {
    "duration": 159,
    "start_time": "2023-02-17T14:48:54.338Z"
   },
   {
    "duration": 193,
    "start_time": "2023-02-17T14:51:41.355Z"
   },
   {
    "duration": 276,
    "start_time": "2023-02-17T14:51:55.924Z"
   },
   {
    "duration": 149,
    "start_time": "2023-02-17T14:52:05.459Z"
   },
   {
    "duration": 215,
    "start_time": "2023-02-17T14:52:40.157Z"
   },
   {
    "duration": 157,
    "start_time": "2023-02-17T14:52:45.566Z"
   },
   {
    "duration": 176,
    "start_time": "2023-02-17T14:52:51.573Z"
   },
   {
    "duration": 344,
    "start_time": "2023-02-17T14:52:56.638Z"
   },
   {
    "duration": 189,
    "start_time": "2023-02-17T14:53:02.971Z"
   },
   {
    "duration": 239,
    "start_time": "2023-02-17T14:53:10.412Z"
   },
   {
    "duration": 180,
    "start_time": "2023-02-17T14:54:15.649Z"
   },
   {
    "duration": 138,
    "start_time": "2023-02-17T14:54:22.334Z"
   },
   {
    "duration": 157,
    "start_time": "2023-02-17T14:54:31.917Z"
   },
   {
    "duration": 197,
    "start_time": "2023-02-17T14:54:36.805Z"
   },
   {
    "duration": 144,
    "start_time": "2023-02-17T14:54:40.510Z"
   },
   {
    "duration": 180,
    "start_time": "2023-02-17T14:54:50.630Z"
   },
   {
    "duration": 153,
    "start_time": "2023-02-17T14:55:53.581Z"
   },
   {
    "duration": 85,
    "start_time": "2023-02-17T14:56:07.231Z"
   },
   {
    "duration": 194,
    "start_time": "2023-02-17T14:56:22.993Z"
   },
   {
    "duration": 407,
    "start_time": "2023-02-17T14:56:31.046Z"
   },
   {
    "duration": 145,
    "start_time": "2023-02-17T14:56:36.622Z"
   },
   {
    "duration": 140,
    "start_time": "2023-02-17T14:56:48.739Z"
   },
   {
    "duration": 195,
    "start_time": "2023-02-17T14:57:52.850Z"
   },
   {
    "duration": 128,
    "start_time": "2023-02-17T14:58:03.447Z"
   },
   {
    "duration": 201,
    "start_time": "2023-02-17T15:00:22.820Z"
   },
   {
    "duration": 152,
    "start_time": "2023-02-17T15:00:37.931Z"
   },
   {
    "duration": 178,
    "start_time": "2023-02-17T15:01:11.896Z"
   },
   {
    "duration": 159,
    "start_time": "2023-02-17T15:01:17.081Z"
   },
   {
    "duration": 190,
    "start_time": "2023-02-17T15:01:58.763Z"
   },
   {
    "duration": 180,
    "start_time": "2023-02-17T15:02:06.099Z"
   },
   {
    "duration": 259,
    "start_time": "2023-02-17T15:02:12.497Z"
   },
   {
    "duration": 176,
    "start_time": "2023-02-17T15:02:18.578Z"
   },
   {
    "duration": 357,
    "start_time": "2023-02-17T15:02:31.010Z"
   },
   {
    "duration": 175,
    "start_time": "2023-02-17T15:27:53.901Z"
   },
   {
    "duration": 52,
    "start_time": "2023-02-17T15:38:05.738Z"
   },
   {
    "duration": 55,
    "start_time": "2023-02-17T15:38:19.130Z"
   },
   {
    "duration": 13,
    "start_time": "2023-02-17T15:38:54.492Z"
   },
   {
    "duration": 4,
    "start_time": "2023-02-17T16:17:13.566Z"
   },
   {
    "duration": 5,
    "start_time": "2023-02-17T16:17:34.268Z"
   },
   {
    "duration": 6,
    "start_time": "2023-02-17T16:17:57.229Z"
   },
   {
    "duration": 5,
    "start_time": "2023-02-17T16:18:06.430Z"
   },
   {
    "duration": 9,
    "start_time": "2023-02-17T16:18:14.545Z"
   },
   {
    "duration": 223,
    "start_time": "2023-02-17T16:19:34.390Z"
   },
   {
    "duration": 264,
    "start_time": "2023-02-17T16:19:40.408Z"
   },
   {
    "duration": 154,
    "start_time": "2023-02-17T16:19:44.718Z"
   },
   {
    "duration": 164,
    "start_time": "2023-02-17T16:19:49.998Z"
   },
   {
    "duration": 170,
    "start_time": "2023-02-17T16:19:58.992Z"
   },
   {
    "duration": 213,
    "start_time": "2023-02-17T16:20:03.894Z"
   },
   {
    "duration": 253,
    "start_time": "2023-02-17T16:20:27.391Z"
   },
   {
    "duration": 155,
    "start_time": "2023-02-17T16:20:33.263Z"
   },
   {
    "duration": 260,
    "start_time": "2023-02-17T16:21:57.367Z"
   },
   {
    "duration": 474,
    "start_time": "2023-02-17T16:22:10.311Z"
   },
   {
    "duration": 247,
    "start_time": "2023-02-17T16:22:21.064Z"
   },
   {
    "duration": 170,
    "start_time": "2023-02-17T16:22:33.303Z"
   },
   {
    "duration": 189,
    "start_time": "2023-02-17T16:22:53.265Z"
   },
   {
    "duration": 194,
    "start_time": "2023-02-17T16:23:02.850Z"
   },
   {
    "duration": 131,
    "start_time": "2023-02-17T16:56:58.400Z"
   },
   {
    "duration": 151,
    "start_time": "2023-02-17T16:57:08.175Z"
   },
   {
    "duration": 167,
    "start_time": "2023-02-17T16:57:16.752Z"
   },
   {
    "duration": 137,
    "start_time": "2023-02-17T16:57:24.577Z"
   },
   {
    "duration": 125,
    "start_time": "2023-02-17T16:58:17.377Z"
   },
   {
    "duration": 136,
    "start_time": "2023-02-17T16:58:22.404Z"
   },
   {
    "duration": 16,
    "start_time": "2023-02-17T17:03:15.287Z"
   },
   {
    "duration": 149,
    "start_time": "2023-02-17T17:03:25.843Z"
   },
   {
    "duration": 141,
    "start_time": "2023-02-17T17:04:33.110Z"
   },
   {
    "duration": 142,
    "start_time": "2023-02-17T17:05:09.574Z"
   },
   {
    "duration": 167,
    "start_time": "2023-02-17T17:06:15.893Z"
   },
   {
    "duration": 147,
    "start_time": "2023-02-17T17:19:02.043Z"
   },
   {
    "duration": 160,
    "start_time": "2023-02-17T17:19:31.524Z"
   },
   {
    "duration": 135,
    "start_time": "2023-02-17T17:20:08.404Z"
   },
   {
    "duration": 149,
    "start_time": "2023-02-17T17:22:20.047Z"
   },
   {
    "duration": 128,
    "start_time": "2023-02-17T17:23:37.934Z"
   },
   {
    "duration": 173,
    "start_time": "2023-02-17T17:23:51.144Z"
   },
   {
    "duration": 17,
    "start_time": "2023-02-17T17:24:22.640Z"
   },
   {
    "duration": 217,
    "start_time": "2023-02-17T17:24:40.536Z"
   },
   {
    "duration": 261,
    "start_time": "2023-02-17T17:25:05.919Z"
   },
   {
    "duration": 247,
    "start_time": "2023-02-17T17:25:12.677Z"
   },
   {
    "duration": 211,
    "start_time": "2023-02-17T17:25:17.911Z"
   },
   {
    "duration": 9,
    "start_time": "2023-02-17T17:26:34.671Z"
   },
   {
    "duration": 207,
    "start_time": "2023-02-17T17:26:52.336Z"
   },
   {
    "duration": 351,
    "start_time": "2023-02-17T17:26:59.415Z"
   },
   {
    "duration": 162,
    "start_time": "2023-02-17T17:27:05.639Z"
   },
   {
    "duration": 20,
    "start_time": "2023-02-17T17:33:33.034Z"
   },
   {
    "duration": 20,
    "start_time": "2023-02-17T17:34:40.468Z"
   },
   {
    "duration": 150,
    "start_time": "2023-02-17T17:35:32.044Z"
   },
   {
    "duration": 610,
    "start_time": "2023-02-18T05:43:30.422Z"
   },
   {
    "duration": 19,
    "start_time": "2023-02-18T05:43:31.035Z"
   },
   {
    "duration": 2450,
    "start_time": "2023-02-18T05:43:31.056Z"
   },
   {
    "duration": 8,
    "start_time": "2023-02-18T05:43:33.508Z"
   },
   {
    "duration": 35,
    "start_time": "2023-02-18T05:43:33.518Z"
   },
   {
    "duration": 24,
    "start_time": "2023-02-18T05:43:33.554Z"
   },
   {
    "duration": 9,
    "start_time": "2023-02-18T05:43:33.579Z"
   },
   {
    "duration": 6,
    "start_time": "2023-02-18T05:43:33.590Z"
   },
   {
    "duration": 12,
    "start_time": "2023-02-18T05:43:33.597Z"
   },
   {
    "duration": 6,
    "start_time": "2023-02-18T05:43:33.612Z"
   },
   {
    "duration": 39,
    "start_time": "2023-02-18T05:43:33.619Z"
   },
   {
    "duration": 7,
    "start_time": "2023-02-18T05:43:33.660Z"
   },
   {
    "duration": 9,
    "start_time": "2023-02-18T05:43:33.668Z"
   },
   {
    "duration": 44,
    "start_time": "2023-02-18T05:43:33.679Z"
   },
   {
    "duration": 37,
    "start_time": "2023-02-18T05:43:33.725Z"
   },
   {
    "duration": 5,
    "start_time": "2023-02-18T05:43:33.764Z"
   },
   {
    "duration": 10,
    "start_time": "2023-02-18T05:43:33.771Z"
   },
   {
    "duration": 15,
    "start_time": "2023-02-18T05:43:33.784Z"
   },
   {
    "duration": 302,
    "start_time": "2023-02-18T05:43:33.801Z"
   },
   {
    "duration": 7,
    "start_time": "2023-02-18T05:43:34.105Z"
   },
   {
    "duration": 5,
    "start_time": "2023-02-18T05:43:34.113Z"
   },
   {
    "duration": 61,
    "start_time": "2023-02-18T05:43:34.120Z"
   },
   {
    "duration": 191,
    "start_time": "2023-02-18T05:43:34.183Z"
   },
   {
    "duration": 270,
    "start_time": "2023-02-18T05:43:34.375Z"
   },
   {
    "duration": 198,
    "start_time": "2023-02-18T05:43:34.647Z"
   },
   {
    "duration": 145,
    "start_time": "2023-02-18T05:43:34.846Z"
   },
   {
    "duration": 214,
    "start_time": "2023-02-18T05:43:34.993Z"
   },
   {
    "duration": 169,
    "start_time": "2023-02-18T05:43:35.211Z"
   },
   {
    "duration": 155,
    "start_time": "2023-02-18T05:43:35.382Z"
   },
   {
    "duration": 154,
    "start_time": "2023-02-18T05:43:35.539Z"
   },
   {
    "duration": 161,
    "start_time": "2023-02-18T05:43:35.695Z"
   },
   {
    "duration": 144,
    "start_time": "2023-02-18T05:43:35.858Z"
   },
   {
    "duration": 203,
    "start_time": "2023-02-18T05:43:36.003Z"
   },
   {
    "duration": 301,
    "start_time": "2023-02-18T05:43:36.208Z"
   },
   {
    "duration": 13,
    "start_time": "2023-02-18T05:43:36.511Z"
   },
   {
    "duration": 4,
    "start_time": "2023-02-18T05:43:36.526Z"
   },
   {
    "duration": 25,
    "start_time": "2023-02-18T05:43:36.531Z"
   },
   {
    "duration": 218,
    "start_time": "2023-02-18T05:43:36.558Z"
   },
   {
    "duration": 161,
    "start_time": "2023-02-18T05:43:36.777Z"
   },
   {
    "duration": 194,
    "start_time": "2023-02-18T05:43:36.939Z"
   },
   {
    "duration": 171,
    "start_time": "2023-02-18T05:43:37.135Z"
   },
   {
    "duration": 213,
    "start_time": "2023-02-18T05:43:37.307Z"
   },
   {
    "duration": 149,
    "start_time": "2023-02-18T05:43:37.522Z"
   },
   {
    "duration": 158,
    "start_time": "2023-02-18T05:43:37.673Z"
   },
   {
    "duration": 722,
    "start_time": "2023-02-18T09:27:40.480Z"
   },
   {
    "duration": 14,
    "start_time": "2023-02-18T09:27:41.203Z"
   },
   {
    "duration": 2176,
    "start_time": "2023-02-18T09:27:41.218Z"
   },
   {
    "duration": 8,
    "start_time": "2023-02-18T09:27:43.396Z"
   },
   {
    "duration": 32,
    "start_time": "2023-02-18T09:27:43.405Z"
   },
   {
    "duration": 24,
    "start_time": "2023-02-18T09:27:43.439Z"
   },
   {
    "duration": 8,
    "start_time": "2023-02-18T09:27:43.464Z"
   },
   {
    "duration": 5,
    "start_time": "2023-02-18T09:27:43.473Z"
   },
   {
    "duration": 8,
    "start_time": "2023-02-18T09:27:43.479Z"
   },
   {
    "duration": 5,
    "start_time": "2023-02-18T09:27:43.490Z"
   },
   {
    "duration": 11,
    "start_time": "2023-02-18T09:27:43.497Z"
   },
   {
    "duration": 38,
    "start_time": "2023-02-18T09:27:43.510Z"
   },
   {
    "duration": 8,
    "start_time": "2023-02-18T09:27:43.549Z"
   },
   {
    "duration": 43,
    "start_time": "2023-02-18T09:27:43.559Z"
   },
   {
    "duration": 11,
    "start_time": "2023-02-18T09:27:43.604Z"
   },
   {
    "duration": 4,
    "start_time": "2023-02-18T09:27:43.617Z"
   },
   {
    "duration": 26,
    "start_time": "2023-02-18T09:27:43.623Z"
   },
   {
    "duration": 12,
    "start_time": "2023-02-18T09:27:43.650Z"
   },
   {
    "duration": 263,
    "start_time": "2023-02-18T09:27:43.663Z"
   },
   {
    "duration": 6,
    "start_time": "2023-02-18T09:27:43.927Z"
   },
   {
    "duration": 8,
    "start_time": "2023-02-18T09:27:43.934Z"
   },
   {
    "duration": 46,
    "start_time": "2023-02-18T09:27:43.948Z"
   },
   {
    "duration": 187,
    "start_time": "2023-02-18T09:27:43.995Z"
   },
   {
    "duration": 237,
    "start_time": "2023-02-18T09:27:44.184Z"
   },
   {
    "duration": 158,
    "start_time": "2023-02-18T09:27:44.422Z"
   },
   {
    "duration": 129,
    "start_time": "2023-02-18T09:27:44.582Z"
   },
   {
    "duration": 180,
    "start_time": "2023-02-18T09:27:44.712Z"
   },
   {
    "duration": 129,
    "start_time": "2023-02-18T09:27:44.895Z"
   },
   {
    "duration": 139,
    "start_time": "2023-02-18T09:27:45.025Z"
   },
   {
    "duration": 164,
    "start_time": "2023-02-18T09:27:45.166Z"
   },
   {
    "duration": 150,
    "start_time": "2023-02-18T09:27:45.332Z"
   },
   {
    "duration": 109,
    "start_time": "2023-02-18T09:27:45.485Z"
   },
   {
    "duration": 152,
    "start_time": "2023-02-18T09:27:45.596Z"
   },
   {
    "duration": 244,
    "start_time": "2023-02-18T09:27:45.749Z"
   },
   {
    "duration": 12,
    "start_time": "2023-02-18T09:27:45.994Z"
   },
   {
    "duration": 32,
    "start_time": "2023-02-18T09:27:46.008Z"
   },
   {
    "duration": 20,
    "start_time": "2023-02-18T09:27:46.041Z"
   },
   {
    "duration": 184,
    "start_time": "2023-02-18T09:27:46.063Z"
   },
   {
    "duration": 121,
    "start_time": "2023-02-18T09:27:46.249Z"
   },
   {
    "duration": 139,
    "start_time": "2023-02-18T09:27:46.371Z"
   },
   {
    "duration": 121,
    "start_time": "2023-02-18T09:27:46.511Z"
   },
   {
    "duration": 137,
    "start_time": "2023-02-18T09:27:46.634Z"
   },
   {
    "duration": 126,
    "start_time": "2023-02-18T09:27:46.773Z"
   },
   {
    "duration": 126,
    "start_time": "2023-02-18T09:27:46.901Z"
   },
   {
    "duration": 11,
    "start_time": "2023-02-18T09:48:33.879Z"
   },
   {
    "duration": 8,
    "start_time": "2023-02-18T09:49:14.939Z"
   },
   {
    "duration": 147,
    "start_time": "2023-02-18T09:56:58.130Z"
   },
   {
    "duration": 213,
    "start_time": "2023-02-18T10:10:58.013Z"
   },
   {
    "duration": 523,
    "start_time": "2023-02-18T10:12:46.221Z"
   },
   {
    "duration": 13,
    "start_time": "2023-02-18T10:12:46.745Z"
   },
   {
    "duration": 1912,
    "start_time": "2023-02-18T10:12:46.759Z"
   },
   {
    "duration": 8,
    "start_time": "2023-02-18T10:12:48.672Z"
   },
   {
    "duration": 32,
    "start_time": "2023-02-18T10:12:48.682Z"
   },
   {
    "duration": 23,
    "start_time": "2023-02-18T10:12:48.715Z"
   },
   {
    "duration": 8,
    "start_time": "2023-02-18T10:12:48.748Z"
   },
   {
    "duration": 7,
    "start_time": "2023-02-18T10:12:48.757Z"
   },
   {
    "duration": 11,
    "start_time": "2023-02-18T10:12:48.765Z"
   },
   {
    "duration": 5,
    "start_time": "2023-02-18T10:12:48.778Z"
   },
   {
    "duration": 15,
    "start_time": "2023-02-18T10:12:48.784Z"
   },
   {
    "duration": 5,
    "start_time": "2023-02-18T10:12:48.800Z"
   },
   {
    "duration": 17,
    "start_time": "2023-02-18T10:12:48.807Z"
   },
   {
    "duration": 63,
    "start_time": "2023-02-18T10:12:48.826Z"
   },
   {
    "duration": 11,
    "start_time": "2023-02-18T10:12:48.890Z"
   },
   {
    "duration": 5,
    "start_time": "2023-02-18T10:12:48.902Z"
   },
   {
    "duration": 9,
    "start_time": "2023-02-18T10:12:48.908Z"
   },
   {
    "duration": 30,
    "start_time": "2023-02-18T10:12:48.919Z"
   },
   {
    "duration": 258,
    "start_time": "2023-02-18T10:12:48.950Z"
   },
   {
    "duration": 6,
    "start_time": "2023-02-18T10:12:49.210Z"
   },
   {
    "duration": 4,
    "start_time": "2023-02-18T10:12:49.218Z"
   },
   {
    "duration": 58,
    "start_time": "2023-02-18T10:12:49.223Z"
   },
   {
    "duration": 167,
    "start_time": "2023-02-18T10:12:49.282Z"
   },
   {
    "duration": 176,
    "start_time": "2023-02-18T10:12:49.450Z"
   },
   {
    "duration": 222,
    "start_time": "2023-02-18T10:12:49.628Z"
   },
   {
    "duration": 132,
    "start_time": "2023-02-18T10:12:49.852Z"
   },
   {
    "duration": 134,
    "start_time": "2023-02-18T10:12:49.986Z"
   },
   {
    "duration": 132,
    "start_time": "2023-02-18T10:12:50.123Z"
   },
   {
    "duration": 130,
    "start_time": "2023-02-18T10:12:50.256Z"
   },
   {
    "duration": 132,
    "start_time": "2023-02-18T10:12:50.387Z"
   },
   {
    "duration": 130,
    "start_time": "2023-02-18T10:12:50.521Z"
   },
   {
    "duration": 116,
    "start_time": "2023-02-18T10:12:50.652Z"
   },
   {
    "duration": 167,
    "start_time": "2023-02-18T10:12:50.770Z"
   },
   {
    "duration": 174,
    "start_time": "2023-02-18T10:12:50.938Z"
   },
   {
    "duration": 11,
    "start_time": "2023-02-18T10:12:51.114Z"
   },
   {
    "duration": 4,
    "start_time": "2023-02-18T10:12:51.126Z"
   },
   {
    "duration": 17,
    "start_time": "2023-02-18T10:12:51.131Z"
   },
   {
    "duration": 172,
    "start_time": "2023-02-18T10:12:51.150Z"
   },
   {
    "duration": 201,
    "start_time": "2023-02-18T10:12:51.324Z"
   },
   {
    "duration": 141,
    "start_time": "2023-02-18T10:12:51.527Z"
   },
   {
    "duration": 125,
    "start_time": "2023-02-18T10:12:51.670Z"
   },
   {
    "duration": 162,
    "start_time": "2023-02-18T10:12:51.797Z"
   },
   {
    "duration": 129,
    "start_time": "2023-02-18T10:12:51.960Z"
   },
   {
    "duration": 135,
    "start_time": "2023-02-18T10:12:52.091Z"
   },
   {
    "duration": 282,
    "start_time": "2023-02-18T10:50:11.886Z"
   },
   {
    "duration": 317,
    "start_time": "2023-02-18T10:50:25.355Z"
   },
   {
    "duration": 292,
    "start_time": "2023-02-18T10:51:37.077Z"
   },
   {
    "duration": 158,
    "start_time": "2023-02-18T10:51:49.365Z"
   },
   {
    "duration": 280,
    "start_time": "2023-02-18T10:52:04.630Z"
   },
   {
    "duration": 147,
    "start_time": "2023-02-18T10:52:15.403Z"
   },
   {
    "duration": 126,
    "start_time": "2023-02-18T10:52:25.753Z"
   },
   {
    "duration": 191,
    "start_time": "2023-02-18T10:52:34.099Z"
   },
   {
    "duration": 285,
    "start_time": "2023-02-18T10:54:29.719Z"
   },
   {
    "duration": 170,
    "start_time": "2023-02-18T10:58:51.280Z"
   },
   {
    "duration": 309,
    "start_time": "2023-02-18T10:59:00.774Z"
   },
   {
    "duration": 165,
    "start_time": "2023-02-18T10:59:06.207Z"
   },
   {
    "duration": 213,
    "start_time": "2023-02-18T11:01:00.928Z"
   },
   {
    "duration": 114,
    "start_time": "2023-02-18T11:01:07.962Z"
   },
   {
    "duration": 134,
    "start_time": "2023-02-18T11:01:16.087Z"
   },
   {
    "duration": 128,
    "start_time": "2023-02-18T11:03:23.438Z"
   },
   {
    "duration": 108,
    "start_time": "2023-02-18T11:05:01.026Z"
   },
   {
    "duration": 102,
    "start_time": "2023-02-18T11:05:07.685Z"
   },
   {
    "duration": 124,
    "start_time": "2023-02-18T11:05:12.918Z"
   },
   {
    "duration": 129,
    "start_time": "2023-02-18T11:05:22.707Z"
   },
   {
    "duration": 126,
    "start_time": "2023-02-18T11:05:31.650Z"
   },
   {
    "duration": 119,
    "start_time": "2023-02-18T11:05:51.931Z"
   },
   {
    "duration": 170,
    "start_time": "2023-02-18T11:07:13.292Z"
   },
   {
    "duration": 137,
    "start_time": "2023-02-18T11:07:21.622Z"
   },
   {
    "duration": 82,
    "start_time": "2023-02-18T11:51:10.561Z"
   },
   {
    "duration": 166,
    "start_time": "2023-02-18T11:51:42.644Z"
   },
   {
    "duration": 162,
    "start_time": "2023-02-18T11:51:49.241Z"
   },
   {
    "duration": 154,
    "start_time": "2023-02-18T11:52:58.113Z"
   },
   {
    "duration": 159,
    "start_time": "2023-02-18T11:53:01.096Z"
   },
   {
    "duration": 190,
    "start_time": "2023-02-18T11:57:20.469Z"
   },
   {
    "duration": 652,
    "start_time": "2023-02-18T11:57:35.168Z"
   },
   {
    "duration": 32,
    "start_time": "2023-02-18T11:57:35.822Z"
   },
   {
    "duration": 2534,
    "start_time": "2023-02-18T11:57:35.857Z"
   },
   {
    "duration": 10,
    "start_time": "2023-02-18T11:57:38.394Z"
   },
   {
    "duration": 41,
    "start_time": "2023-02-18T11:57:38.405Z"
   },
   {
    "duration": 33,
    "start_time": "2023-02-18T11:57:38.448Z"
   },
   {
    "duration": 11,
    "start_time": "2023-02-18T11:57:38.483Z"
   },
   {
    "duration": 6,
    "start_time": "2023-02-18T11:57:38.496Z"
   },
   {
    "duration": 12,
    "start_time": "2023-02-18T11:57:38.503Z"
   },
   {
    "duration": 39,
    "start_time": "2023-02-18T11:57:38.517Z"
   },
   {
    "duration": 26,
    "start_time": "2023-02-18T11:57:38.559Z"
   },
   {
    "duration": 8,
    "start_time": "2023-02-18T11:57:38.586Z"
   },
   {
    "duration": 10,
    "start_time": "2023-02-18T11:57:38.595Z"
   },
   {
    "duration": 78,
    "start_time": "2023-02-18T11:57:38.607Z"
   },
   {
    "duration": 12,
    "start_time": "2023-02-18T11:57:38.687Z"
   },
   {
    "duration": 6,
    "start_time": "2023-02-18T11:57:38.701Z"
   },
   {
    "duration": 8,
    "start_time": "2023-02-18T11:57:38.709Z"
   },
   {
    "duration": 39,
    "start_time": "2023-02-18T11:57:38.719Z"
   },
   {
    "duration": 310,
    "start_time": "2023-02-18T11:57:38.764Z"
   },
   {
    "duration": 7,
    "start_time": "2023-02-18T11:57:39.076Z"
   },
   {
    "duration": 8,
    "start_time": "2023-02-18T11:57:39.085Z"
   },
   {
    "duration": 75,
    "start_time": "2023-02-18T11:57:39.095Z"
   },
   {
    "duration": 375,
    "start_time": "2023-02-18T11:57:39.172Z"
   },
   {
    "duration": 282,
    "start_time": "2023-02-18T11:57:39.549Z"
   },
   {
    "duration": 254,
    "start_time": "2023-02-18T11:57:39.833Z"
   },
   {
    "duration": 173,
    "start_time": "2023-02-18T11:57:40.089Z"
   },
   {
    "duration": 163,
    "start_time": "2023-02-18T11:57:40.265Z"
   },
   {
    "duration": 185,
    "start_time": "2023-02-18T11:57:40.431Z"
   },
   {
    "duration": 171,
    "start_time": "2023-02-18T11:57:40.618Z"
   },
   {
    "duration": 195,
    "start_time": "2023-02-18T11:57:40.791Z"
   },
   {
    "duration": 171,
    "start_time": "2023-02-18T11:57:40.988Z"
   },
   {
    "duration": 144,
    "start_time": "2023-02-18T11:57:41.162Z"
   },
   {
    "duration": 215,
    "start_time": "2023-02-18T11:57:41.308Z"
   },
   {
    "duration": 216,
    "start_time": "2023-02-18T11:57:41.525Z"
   },
   {
    "duration": 21,
    "start_time": "2023-02-18T11:57:41.747Z"
   },
   {
    "duration": 4,
    "start_time": "2023-02-18T11:57:41.770Z"
   },
   {
    "duration": 6,
    "start_time": "2023-02-18T11:57:41.776Z"
   },
   {
    "duration": 352,
    "start_time": "2023-02-18T11:57:41.783Z"
   },
   {
    "duration": 173,
    "start_time": "2023-02-18T11:57:42.136Z"
   },
   {
    "duration": 202,
    "start_time": "2023-02-18T11:57:42.311Z"
   },
   {
    "duration": 183,
    "start_time": "2023-02-18T11:57:42.515Z"
   },
   {
    "duration": 205,
    "start_time": "2023-02-18T11:57:42.700Z"
   },
   {
    "duration": 175,
    "start_time": "2023-02-18T11:57:42.906Z"
   },
   {
    "duration": 190,
    "start_time": "2023-02-18T11:57:43.083Z"
   },
   {
    "duration": 188,
    "start_time": "2023-02-18T11:57:43.274Z"
   },
   {
    "duration": 171,
    "start_time": "2023-02-18T11:57:43.464Z"
   },
   {
    "duration": 250,
    "start_time": "2023-02-18T11:58:37.048Z"
   },
   {
    "duration": 191,
    "start_time": "2023-02-18T11:58:43.540Z"
   },
   {
    "duration": 168,
    "start_time": "2023-02-18T11:58:48.708Z"
   },
   {
    "duration": 89,
    "start_time": "2023-02-18T12:17:40.200Z"
   },
   {
    "duration": 17,
    "start_time": "2023-02-18T12:17:51.800Z"
   },
   {
    "duration": 17,
    "start_time": "2023-02-18T12:17:54.325Z"
   },
   {
    "duration": 28,
    "start_time": "2023-02-18T12:18:03.071Z"
   },
   {
    "duration": 14,
    "start_time": "2023-02-18T12:20:35.003Z"
   },
   {
    "duration": 519,
    "start_time": "2023-02-18T12:20:40.322Z"
   },
   {
    "duration": 17,
    "start_time": "2023-02-18T12:20:40.843Z"
   },
   {
    "duration": 1957,
    "start_time": "2023-02-18T12:20:40.862Z"
   },
   {
    "duration": 10,
    "start_time": "2023-02-18T12:20:42.821Z"
   },
   {
    "duration": 34,
    "start_time": "2023-02-18T12:20:42.833Z"
   },
   {
    "duration": 25,
    "start_time": "2023-02-18T12:20:42.868Z"
   },
   {
    "duration": 10,
    "start_time": "2023-02-18T12:20:42.895Z"
   },
   {
    "duration": 4,
    "start_time": "2023-02-18T12:20:42.907Z"
   },
   {
    "duration": 11,
    "start_time": "2023-02-18T12:20:42.912Z"
   },
   {
    "duration": 6,
    "start_time": "2023-02-18T12:20:42.948Z"
   },
   {
    "duration": 14,
    "start_time": "2023-02-18T12:20:42.955Z"
   },
   {
    "duration": 5,
    "start_time": "2023-02-18T12:20:42.970Z"
   },
   {
    "duration": 8,
    "start_time": "2023-02-18T12:20:42.977Z"
   },
   {
    "duration": 62,
    "start_time": "2023-02-18T12:20:42.986Z"
   },
   {
    "duration": 11,
    "start_time": "2023-02-18T12:20:43.049Z"
   },
   {
    "duration": 5,
    "start_time": "2023-02-18T12:20:43.061Z"
   },
   {
    "duration": 9,
    "start_time": "2023-02-18T12:20:43.067Z"
   },
   {
    "duration": 12,
    "start_time": "2023-02-18T12:20:43.077Z"
   },
   {
    "duration": 280,
    "start_time": "2023-02-18T12:20:43.091Z"
   },
   {
    "duration": 6,
    "start_time": "2023-02-18T12:20:43.373Z"
   },
   {
    "duration": 6,
    "start_time": "2023-02-18T12:20:43.381Z"
   },
   {
    "duration": 59,
    "start_time": "2023-02-18T12:20:43.388Z"
   },
   {
    "duration": 276,
    "start_time": "2023-02-18T12:20:43.448Z"
   },
   {
    "duration": 234,
    "start_time": "2023-02-18T12:20:43.726Z"
   },
   {
    "duration": 180,
    "start_time": "2023-02-18T12:20:43.962Z"
   },
   {
    "duration": 136,
    "start_time": "2023-02-18T12:20:44.147Z"
   },
   {
    "duration": 146,
    "start_time": "2023-02-18T12:20:44.284Z"
   },
   {
    "duration": 140,
    "start_time": "2023-02-18T12:20:44.434Z"
   },
   {
    "duration": 127,
    "start_time": "2023-02-18T12:20:44.576Z"
   },
   {
    "duration": 137,
    "start_time": "2023-02-18T12:20:44.705Z"
   },
   {
    "duration": 135,
    "start_time": "2023-02-18T12:20:44.843Z"
   },
   {
    "duration": 117,
    "start_time": "2023-02-18T12:20:44.979Z"
   },
   {
    "duration": 167,
    "start_time": "2023-02-18T12:20:45.098Z"
   },
   {
    "duration": 182,
    "start_time": "2023-02-18T12:20:45.266Z"
   },
   {
    "duration": 14,
    "start_time": "2023-02-18T12:20:45.450Z"
   },
   {
    "duration": 9,
    "start_time": "2023-02-18T12:20:45.466Z"
   },
   {
    "duration": 12,
    "start_time": "2023-02-18T12:20:45.477Z"
   },
   {
    "duration": 302,
    "start_time": "2023-02-18T12:20:45.491Z"
   },
   {
    "duration": 143,
    "start_time": "2023-02-18T12:20:45.795Z"
   },
   {
    "duration": 156,
    "start_time": "2023-02-18T12:20:45.940Z"
   },
   {
    "duration": 144,
    "start_time": "2023-02-18T12:20:46.097Z"
   },
   {
    "duration": 160,
    "start_time": "2023-02-18T12:20:46.247Z"
   },
   {
    "duration": 127,
    "start_time": "2023-02-18T12:20:46.408Z"
   },
   {
    "duration": 144,
    "start_time": "2023-02-18T12:20:46.538Z"
   },
   {
    "duration": 142,
    "start_time": "2023-02-18T12:20:46.684Z"
   },
   {
    "duration": 145,
    "start_time": "2023-02-18T12:20:46.827Z"
   },
   {
    "duration": 24,
    "start_time": "2023-02-18T12:20:46.974Z"
   },
   {
    "duration": 24,
    "start_time": "2023-02-18T12:20:49.864Z"
   },
   {
    "duration": 12,
    "start_time": "2023-02-18T12:21:11.152Z"
   },
   {
    "duration": 22,
    "start_time": "2023-02-18T12:22:10.628Z"
   },
   {
    "duration": 13,
    "start_time": "2023-02-18T12:22:53.330Z"
   },
   {
    "duration": 16,
    "start_time": "2023-02-18T12:24:21.047Z"
   },
   {
    "duration": 17,
    "start_time": "2023-02-18T12:24:37.162Z"
   },
   {
    "duration": 38,
    "start_time": "2023-02-18T12:34:30.024Z"
   },
   {
    "duration": 34,
    "start_time": "2023-02-18T12:34:34.847Z"
   },
   {
    "duration": 14,
    "start_time": "2023-02-18T12:34:56.290Z"
   },
   {
    "duration": 20,
    "start_time": "2023-02-18T12:34:58.248Z"
   },
   {
    "duration": 29,
    "start_time": "2023-02-18T12:35:11.240Z"
   },
   {
    "duration": 10,
    "start_time": "2023-02-18T12:37:47.276Z"
   },
   {
    "duration": 32,
    "start_time": "2023-02-18T12:37:55.194Z"
   },
   {
    "duration": 39,
    "start_time": "2023-02-18T12:38:01.990Z"
   },
   {
    "duration": 147,
    "start_time": "2023-02-18T13:00:38.955Z"
   },
   {
    "duration": 159,
    "start_time": "2023-02-18T13:00:51.906Z"
   },
   {
    "duration": 136,
    "start_time": "2023-02-18T13:19:12.555Z"
   },
   {
    "duration": 145,
    "start_time": "2023-02-18T13:20:05.929Z"
   },
   {
    "duration": 73,
    "start_time": "2023-02-18T13:39:13.542Z"
   },
   {
    "duration": 6,
    "start_time": "2023-02-18T13:39:22.089Z"
   },
   {
    "duration": 5,
    "start_time": "2023-02-18T13:39:24.491Z"
   },
   {
    "duration": 7,
    "start_time": "2023-02-18T13:39:33.935Z"
   },
   {
    "duration": 10,
    "start_time": "2023-02-18T13:44:53.082Z"
   },
   {
    "duration": 13,
    "start_time": "2023-02-18T13:45:14.649Z"
   },
   {
    "duration": 20,
    "start_time": "2023-02-18T13:45:46.488Z"
   },
   {
    "duration": 42,
    "start_time": "2023-02-18T13:46:36.033Z"
   },
   {
    "duration": 18,
    "start_time": "2023-02-18T13:46:40.760Z"
   },
   {
    "duration": 36,
    "start_time": "2023-02-18T13:57:21.488Z"
   },
   {
    "duration": 802,
    "start_time": "2023-02-19T06:29:27.999Z"
   },
   {
    "duration": 14,
    "start_time": "2023-02-19T06:29:28.803Z"
   },
   {
    "duration": 2338,
    "start_time": "2023-02-19T06:29:28.818Z"
   },
   {
    "duration": 7,
    "start_time": "2023-02-19T06:29:31.159Z"
   },
   {
    "duration": 64,
    "start_time": "2023-02-19T06:29:31.167Z"
   },
   {
    "duration": 24,
    "start_time": "2023-02-19T06:29:31.232Z"
   },
   {
    "duration": 11,
    "start_time": "2023-02-19T06:29:31.257Z"
   },
   {
    "duration": 15,
    "start_time": "2023-02-19T06:29:31.269Z"
   },
   {
    "duration": 25,
    "start_time": "2023-02-19T06:29:31.285Z"
   },
   {
    "duration": 8,
    "start_time": "2023-02-19T06:29:31.312Z"
   },
   {
    "duration": 24,
    "start_time": "2023-02-19T06:29:31.322Z"
   },
   {
    "duration": 10,
    "start_time": "2023-02-19T06:29:31.347Z"
   },
   {
    "duration": 27,
    "start_time": "2023-02-19T06:29:31.358Z"
   },
   {
    "duration": 48,
    "start_time": "2023-02-19T06:29:31.387Z"
   },
   {
    "duration": 13,
    "start_time": "2023-02-19T06:29:31.436Z"
   },
   {
    "duration": 6,
    "start_time": "2023-02-19T06:29:31.450Z"
   },
   {
    "duration": 12,
    "start_time": "2023-02-19T06:29:31.457Z"
   },
   {
    "duration": 17,
    "start_time": "2023-02-19T06:29:31.471Z"
   },
   {
    "duration": 287,
    "start_time": "2023-02-19T06:29:31.490Z"
   },
   {
    "duration": 7,
    "start_time": "2023-02-19T06:29:31.779Z"
   },
   {
    "duration": 10,
    "start_time": "2023-02-19T06:29:31.788Z"
   },
   {
    "duration": 52,
    "start_time": "2023-02-19T06:29:31.800Z"
   },
   {
    "duration": 375,
    "start_time": "2023-02-19T06:29:31.853Z"
   },
   {
    "duration": 183,
    "start_time": "2023-02-19T06:29:32.229Z"
   },
   {
    "duration": 197,
    "start_time": "2023-02-19T06:29:32.414Z"
   },
   {
    "duration": 145,
    "start_time": "2023-02-19T06:29:32.613Z"
   },
   {
    "duration": 136,
    "start_time": "2023-02-19T06:29:32.767Z"
   },
   {
    "duration": 156,
    "start_time": "2023-02-19T06:29:32.906Z"
   },
   {
    "duration": 132,
    "start_time": "2023-02-19T06:29:33.066Z"
   },
   {
    "duration": 147,
    "start_time": "2023-02-19T06:29:33.199Z"
   },
   {
    "duration": 156,
    "start_time": "2023-02-19T06:29:33.348Z"
   },
   {
    "duration": 134,
    "start_time": "2023-02-19T06:29:33.506Z"
   },
   {
    "duration": 190,
    "start_time": "2023-02-19T06:29:33.642Z"
   },
   {
    "duration": 286,
    "start_time": "2023-02-19T06:29:33.834Z"
   },
   {
    "duration": 13,
    "start_time": "2023-02-19T06:29:34.121Z"
   },
   {
    "duration": 5,
    "start_time": "2023-02-19T06:29:34.136Z"
   },
   {
    "duration": 27,
    "start_time": "2023-02-19T06:29:34.143Z"
   },
   {
    "duration": 242,
    "start_time": "2023-02-19T06:29:34.172Z"
   },
   {
    "duration": 212,
    "start_time": "2023-02-19T06:29:34.416Z"
   },
   {
    "duration": 205,
    "start_time": "2023-02-19T06:29:34.629Z"
   },
   {
    "duration": 212,
    "start_time": "2023-02-19T06:29:34.836Z"
   },
   {
    "duration": 216,
    "start_time": "2023-02-19T06:29:35.051Z"
   },
   {
    "duration": 164,
    "start_time": "2023-02-19T06:29:35.269Z"
   },
   {
    "duration": 170,
    "start_time": "2023-02-19T06:29:35.434Z"
   },
   {
    "duration": 186,
    "start_time": "2023-02-19T06:29:35.606Z"
   },
   {
    "duration": 158,
    "start_time": "2023-02-19T06:29:35.794Z"
   },
   {
    "duration": 17,
    "start_time": "2023-02-19T06:29:35.954Z"
   },
   {
    "duration": 26,
    "start_time": "2023-02-19T06:29:35.973Z"
   },
   {
    "duration": 44,
    "start_time": "2023-02-19T06:29:36.000Z"
   },
   {
    "duration": 18,
    "start_time": "2023-02-19T06:36:13.190Z"
   },
   {
    "duration": 13,
    "start_time": "2023-02-19T06:42:39.796Z"
   },
   {
    "duration": 564,
    "start_time": "2023-02-19T06:43:26.553Z"
   },
   {
    "duration": 13,
    "start_time": "2023-02-19T06:43:27.119Z"
   },
   {
    "duration": 2094,
    "start_time": "2023-02-19T06:43:27.134Z"
   },
   {
    "duration": 7,
    "start_time": "2023-02-19T06:43:29.230Z"
   },
   {
    "duration": 36,
    "start_time": "2023-02-19T06:43:29.239Z"
   },
   {
    "duration": 34,
    "start_time": "2023-02-19T06:43:29.277Z"
   },
   {
    "duration": 9,
    "start_time": "2023-02-19T06:43:29.312Z"
   },
   {
    "duration": 5,
    "start_time": "2023-02-19T06:43:29.323Z"
   },
   {
    "duration": 10,
    "start_time": "2023-02-19T06:43:29.330Z"
   },
   {
    "duration": 27,
    "start_time": "2023-02-19T06:43:29.343Z"
   },
   {
    "duration": 17,
    "start_time": "2023-02-19T06:43:29.372Z"
   },
   {
    "duration": 7,
    "start_time": "2023-02-19T06:43:29.390Z"
   },
   {
    "duration": 11,
    "start_time": "2023-02-19T06:43:29.398Z"
   },
   {
    "duration": 64,
    "start_time": "2023-02-19T06:43:29.410Z"
   },
   {
    "duration": 14,
    "start_time": "2023-02-19T06:43:29.477Z"
   },
   {
    "duration": 5,
    "start_time": "2023-02-19T06:43:29.492Z"
   },
   {
    "duration": 9,
    "start_time": "2023-02-19T06:43:29.499Z"
   },
   {
    "duration": 12,
    "start_time": "2023-02-19T06:43:29.509Z"
   },
   {
    "duration": 301,
    "start_time": "2023-02-19T06:43:29.523Z"
   },
   {
    "duration": 7,
    "start_time": "2023-02-19T06:43:29.825Z"
   },
   {
    "duration": 5,
    "start_time": "2023-02-19T06:43:29.833Z"
   },
   {
    "duration": 68,
    "start_time": "2023-02-19T06:43:29.840Z"
   },
   {
    "duration": 307,
    "start_time": "2023-02-19T06:43:29.909Z"
   },
   {
    "duration": 253,
    "start_time": "2023-02-19T06:43:30.218Z"
   },
   {
    "duration": 205,
    "start_time": "2023-02-19T06:43:30.473Z"
   },
   {
    "duration": 151,
    "start_time": "2023-02-19T06:43:30.680Z"
   },
   {
    "duration": 148,
    "start_time": "2023-02-19T06:43:30.833Z"
   },
   {
    "duration": 155,
    "start_time": "2023-02-19T06:43:30.985Z"
   },
   {
    "duration": 129,
    "start_time": "2023-02-19T06:43:31.141Z"
   },
   {
    "duration": 154,
    "start_time": "2023-02-19T06:43:31.271Z"
   },
   {
    "duration": 145,
    "start_time": "2023-02-19T06:43:31.427Z"
   },
   {
    "duration": 127,
    "start_time": "2023-02-19T06:43:31.574Z"
   },
   {
    "duration": 185,
    "start_time": "2023-02-19T06:43:31.703Z"
   },
   {
    "duration": 178,
    "start_time": "2023-02-19T06:43:31.889Z"
   },
   {
    "duration": 17,
    "start_time": "2023-02-19T06:43:32.069Z"
   },
   {
    "duration": 15,
    "start_time": "2023-02-19T06:43:32.087Z"
   },
   {
    "duration": 26,
    "start_time": "2023-02-19T06:43:32.104Z"
   },
   {
    "duration": 294,
    "start_time": "2023-02-19T06:43:32.132Z"
   },
   {
    "duration": 191,
    "start_time": "2023-02-19T06:43:32.427Z"
   },
   {
    "duration": 185,
    "start_time": "2023-02-19T06:43:32.620Z"
   },
   {
    "duration": 162,
    "start_time": "2023-02-19T06:43:32.807Z"
   },
   {
    "duration": 196,
    "start_time": "2023-02-19T06:43:32.971Z"
   },
   {
    "duration": 165,
    "start_time": "2023-02-19T06:43:33.169Z"
   },
   {
    "duration": 178,
    "start_time": "2023-02-19T06:43:33.336Z"
   },
   {
    "duration": 175,
    "start_time": "2023-02-19T06:43:33.515Z"
   },
   {
    "duration": 159,
    "start_time": "2023-02-19T06:43:33.691Z"
   },
   {
    "duration": 5,
    "start_time": "2023-02-19T06:43:33.852Z"
   },
   {
    "duration": 40,
    "start_time": "2023-02-19T06:43:33.858Z"
   },
   {
    "duration": 37,
    "start_time": "2023-02-19T06:43:33.900Z"
   },
   {
    "duration": 68,
    "start_time": "2023-02-19T06:43:33.939Z"
   },
   {
    "duration": 22,
    "start_time": "2023-02-19T06:44:23.161Z"
   },
   {
    "duration": 4,
    "start_time": "2023-02-19T06:52:14.702Z"
   },
   {
    "duration": 591,
    "start_time": "2023-02-19T06:52:20.461Z"
   },
   {
    "duration": 26,
    "start_time": "2023-02-19T06:52:21.055Z"
   },
   {
    "duration": 2189,
    "start_time": "2023-02-19T06:52:21.083Z"
   },
   {
    "duration": 8,
    "start_time": "2023-02-19T06:52:23.274Z"
   },
   {
    "duration": 32,
    "start_time": "2023-02-19T06:52:23.283Z"
   },
   {
    "duration": 25,
    "start_time": "2023-02-19T06:52:23.316Z"
   },
   {
    "duration": 30,
    "start_time": "2023-02-19T06:52:23.342Z"
   },
   {
    "duration": 5,
    "start_time": "2023-02-19T06:52:23.373Z"
   },
   {
    "duration": 10,
    "start_time": "2023-02-19T06:52:23.379Z"
   },
   {
    "duration": 6,
    "start_time": "2023-02-19T06:52:23.392Z"
   },
   {
    "duration": 22,
    "start_time": "2023-02-19T06:52:23.400Z"
   },
   {
    "duration": 18,
    "start_time": "2023-02-19T06:52:23.423Z"
   },
   {
    "duration": 28,
    "start_time": "2023-02-19T06:52:23.443Z"
   },
   {
    "duration": 53,
    "start_time": "2023-02-19T06:52:23.473Z"
   },
   {
    "duration": 13,
    "start_time": "2023-02-19T06:52:23.528Z"
   },
   {
    "duration": 5,
    "start_time": "2023-02-19T06:52:23.542Z"
   },
   {
    "duration": 8,
    "start_time": "2023-02-19T06:52:23.567Z"
   },
   {
    "duration": 13,
    "start_time": "2023-02-19T06:52:23.576Z"
   },
   {
    "duration": 276,
    "start_time": "2023-02-19T06:52:23.590Z"
   },
   {
    "duration": 5,
    "start_time": "2023-02-19T06:52:23.867Z"
   },
   {
    "duration": 10,
    "start_time": "2023-02-19T06:52:23.873Z"
   },
   {
    "duration": 56,
    "start_time": "2023-02-19T06:52:23.884Z"
   },
   {
    "duration": 293,
    "start_time": "2023-02-19T06:52:23.942Z"
   },
   {
    "duration": 216,
    "start_time": "2023-02-19T06:52:24.236Z"
   },
   {
    "duration": 180,
    "start_time": "2023-02-19T06:52:24.453Z"
   },
   {
    "duration": 134,
    "start_time": "2023-02-19T06:52:24.635Z"
   },
   {
    "duration": 187,
    "start_time": "2023-02-19T06:52:24.771Z"
   },
   {
    "duration": 186,
    "start_time": "2023-02-19T06:52:24.970Z"
   },
   {
    "duration": 129,
    "start_time": "2023-02-19T06:52:25.158Z"
   },
   {
    "duration": 158,
    "start_time": "2023-02-19T06:52:25.288Z"
   },
   {
    "duration": 162,
    "start_time": "2023-02-19T06:52:25.448Z"
   },
   {
    "duration": 125,
    "start_time": "2023-02-19T06:52:25.612Z"
   },
   {
    "duration": 173,
    "start_time": "2023-02-19T06:52:25.738Z"
   },
   {
    "duration": 182,
    "start_time": "2023-02-19T06:52:25.912Z"
   },
   {
    "duration": 13,
    "start_time": "2023-02-19T06:52:26.096Z"
   },
   {
    "duration": 5,
    "start_time": "2023-02-19T06:52:26.110Z"
   },
   {
    "duration": 10,
    "start_time": "2023-02-19T06:52:26.117Z"
   },
   {
    "duration": 278,
    "start_time": "2023-02-19T06:52:26.128Z"
   },
   {
    "duration": 161,
    "start_time": "2023-02-19T06:52:26.407Z"
   },
   {
    "duration": 147,
    "start_time": "2023-02-19T06:52:26.570Z"
   },
   {
    "duration": 166,
    "start_time": "2023-02-19T06:52:26.718Z"
   },
   {
    "duration": 184,
    "start_time": "2023-02-19T06:52:26.886Z"
   },
   {
    "duration": 141,
    "start_time": "2023-02-19T06:52:27.072Z"
   },
   {
    "duration": 154,
    "start_time": "2023-02-19T06:52:27.215Z"
   },
   {
    "duration": 152,
    "start_time": "2023-02-19T06:52:27.370Z"
   },
   {
    "duration": 148,
    "start_time": "2023-02-19T06:52:27.524Z"
   },
   {
    "duration": 6,
    "start_time": "2023-02-19T06:52:27.673Z"
   },
   {
    "duration": 22,
    "start_time": "2023-02-19T06:52:27.680Z"
   },
   {
    "duration": 35,
    "start_time": "2023-02-19T06:52:27.703Z"
   },
   {
    "duration": 16,
    "start_time": "2023-02-19T06:52:27.838Z"
   },
   {
    "duration": 74,
    "start_time": "2023-02-19T06:55:45.404Z"
   },
   {
    "duration": 557,
    "start_time": "2023-02-19T06:55:53.663Z"
   },
   {
    "duration": 13,
    "start_time": "2023-02-19T06:55:54.222Z"
   },
   {
    "duration": 2161,
    "start_time": "2023-02-19T06:55:54.239Z"
   },
   {
    "duration": 7,
    "start_time": "2023-02-19T06:55:56.402Z"
   },
   {
    "duration": 32,
    "start_time": "2023-02-19T06:55:56.411Z"
   },
   {
    "duration": 34,
    "start_time": "2023-02-19T06:55:56.444Z"
   },
   {
    "duration": 8,
    "start_time": "2023-02-19T06:55:56.480Z"
   },
   {
    "duration": 9,
    "start_time": "2023-02-19T06:55:56.489Z"
   },
   {
    "duration": 10,
    "start_time": "2023-02-19T06:55:56.500Z"
   },
   {
    "duration": 6,
    "start_time": "2023-02-19T06:55:56.511Z"
   },
   {
    "duration": 13,
    "start_time": "2023-02-19T06:55:56.519Z"
   },
   {
    "duration": 34,
    "start_time": "2023-02-19T06:55:56.533Z"
   },
   {
    "duration": 9,
    "start_time": "2023-02-19T06:55:56.569Z"
   },
   {
    "duration": 48,
    "start_time": "2023-02-19T06:55:56.579Z"
   },
   {
    "duration": 12,
    "start_time": "2023-02-19T06:55:56.628Z"
   },
   {
    "duration": 26,
    "start_time": "2023-02-19T06:55:56.642Z"
   },
   {
    "duration": 10,
    "start_time": "2023-02-19T06:55:56.670Z"
   },
   {
    "duration": 14,
    "start_time": "2023-02-19T06:55:56.681Z"
   },
   {
    "duration": 299,
    "start_time": "2023-02-19T06:55:56.697Z"
   },
   {
    "duration": 5,
    "start_time": "2023-02-19T06:55:56.998Z"
   },
   {
    "duration": 9,
    "start_time": "2023-02-19T06:55:57.004Z"
   },
   {
    "duration": 63,
    "start_time": "2023-02-19T06:55:57.015Z"
   },
   {
    "duration": 281,
    "start_time": "2023-02-19T06:55:57.079Z"
   },
   {
    "duration": 240,
    "start_time": "2023-02-19T06:55:57.362Z"
   },
   {
    "duration": 183,
    "start_time": "2023-02-19T06:55:57.604Z"
   },
   {
    "duration": 135,
    "start_time": "2023-02-19T06:55:57.789Z"
   },
   {
    "duration": 129,
    "start_time": "2023-02-19T06:55:57.927Z"
   },
   {
    "duration": 155,
    "start_time": "2023-02-19T06:55:58.057Z"
   },
   {
    "duration": 135,
    "start_time": "2023-02-19T06:55:58.213Z"
   },
   {
    "duration": 136,
    "start_time": "2023-02-19T06:55:58.349Z"
   },
   {
    "duration": 134,
    "start_time": "2023-02-19T06:55:58.487Z"
   },
   {
    "duration": 122,
    "start_time": "2023-02-19T06:55:58.622Z"
   },
   {
    "duration": 163,
    "start_time": "2023-02-19T06:55:58.746Z"
   },
   {
    "duration": 170,
    "start_time": "2023-02-19T06:55:58.911Z"
   },
   {
    "duration": 12,
    "start_time": "2023-02-19T06:55:59.082Z"
   },
   {
    "duration": 10,
    "start_time": "2023-02-19T06:55:59.096Z"
   },
   {
    "duration": 8,
    "start_time": "2023-02-19T06:55:59.108Z"
   },
   {
    "duration": 270,
    "start_time": "2023-02-19T06:55:59.117Z"
   },
   {
    "duration": 157,
    "start_time": "2023-02-19T06:55:59.389Z"
   },
   {
    "duration": 161,
    "start_time": "2023-02-19T06:55:59.548Z"
   },
   {
    "duration": 156,
    "start_time": "2023-02-19T06:55:59.711Z"
   },
   {
    "duration": 169,
    "start_time": "2023-02-19T06:55:59.869Z"
   },
   {
    "duration": 151,
    "start_time": "2023-02-19T06:56:00.039Z"
   },
   {
    "duration": 193,
    "start_time": "2023-02-19T06:56:00.191Z"
   },
   {
    "duration": 164,
    "start_time": "2023-02-19T06:56:00.385Z"
   },
   {
    "duration": 167,
    "start_time": "2023-02-19T06:56:00.550Z"
   },
   {
    "duration": 6,
    "start_time": "2023-02-19T06:56:00.718Z"
   },
   {
    "duration": 31,
    "start_time": "2023-02-19T06:56:00.726Z"
   },
   {
    "duration": 38,
    "start_time": "2023-02-19T06:56:00.767Z"
   },
   {
    "duration": 9,
    "start_time": "2023-02-19T06:56:00.807Z"
   },
   {
    "duration": 166,
    "start_time": "2023-02-19T06:56:00.818Z"
   },
   {
    "duration": 9,
    "start_time": "2023-02-19T06:56:29.688Z"
   },
   {
    "duration": 15,
    "start_time": "2023-02-19T06:56:40.392Z"
   },
   {
    "duration": 149,
    "start_time": "2023-02-19T06:58:57.167Z"
   },
   {
    "duration": 5,
    "start_time": "2023-02-19T07:08:50.129Z"
   },
   {
    "duration": 5,
    "start_time": "2023-02-19T07:09:14.289Z"
   },
   {
    "duration": 151,
    "start_time": "2023-02-19T07:39:23.506Z"
   },
   {
    "duration": 190,
    "start_time": "2023-02-19T07:39:49.823Z"
   },
   {
    "duration": 6,
    "start_time": "2023-02-19T07:45:35.870Z"
   },
   {
    "duration": 4,
    "start_time": "2023-02-19T07:53:05.103Z"
   },
   {
    "duration": 140,
    "start_time": "2023-02-19T08:02:05.903Z"
   },
   {
    "duration": 127,
    "start_time": "2023-02-19T08:02:23.039Z"
   },
   {
    "duration": 130,
    "start_time": "2023-02-19T08:07:58.106Z"
   },
   {
    "duration": 642,
    "start_time": "2023-02-19T09:06:34.290Z"
   },
   {
    "duration": 23,
    "start_time": "2023-02-19T09:06:34.935Z"
   },
   {
    "duration": 2453,
    "start_time": "2023-02-19T09:06:34.976Z"
   },
   {
    "duration": 9,
    "start_time": "2023-02-19T09:06:37.432Z"
   },
   {
    "duration": 46,
    "start_time": "2023-02-19T09:06:37.443Z"
   },
   {
    "duration": 35,
    "start_time": "2023-02-19T09:06:37.491Z"
   },
   {
    "duration": 11,
    "start_time": "2023-02-19T09:06:37.527Z"
   },
   {
    "duration": 31,
    "start_time": "2023-02-19T09:06:37.540Z"
   },
   {
    "duration": 12,
    "start_time": "2023-02-19T09:06:37.573Z"
   },
   {
    "duration": 7,
    "start_time": "2023-02-19T09:06:37.589Z"
   },
   {
    "duration": 24,
    "start_time": "2023-02-19T09:06:37.598Z"
   },
   {
    "duration": 7,
    "start_time": "2023-02-19T09:06:37.625Z"
   },
   {
    "duration": 37,
    "start_time": "2023-02-19T09:06:37.634Z"
   },
   {
    "duration": 110,
    "start_time": "2023-02-19T09:06:37.673Z"
   },
   {
    "duration": 18,
    "start_time": "2023-02-19T09:06:37.785Z"
   },
   {
    "duration": 8,
    "start_time": "2023-02-19T09:06:37.805Z"
   },
   {
    "duration": 14,
    "start_time": "2023-02-19T09:06:37.815Z"
   },
   {
    "duration": 41,
    "start_time": "2023-02-19T09:06:37.832Z"
   },
   {
    "duration": 321,
    "start_time": "2023-02-19T09:06:37.875Z"
   },
   {
    "duration": 8,
    "start_time": "2023-02-19T09:06:38.198Z"
   },
   {
    "duration": 8,
    "start_time": "2023-02-19T09:06:38.208Z"
   },
   {
    "duration": 71,
    "start_time": "2023-02-19T09:06:38.217Z"
   },
   {
    "duration": 350,
    "start_time": "2023-02-19T09:06:38.289Z"
   },
   {
    "duration": 289,
    "start_time": "2023-02-19T09:06:38.640Z"
   },
   {
    "duration": 236,
    "start_time": "2023-02-19T09:06:38.931Z"
   },
   {
    "duration": 165,
    "start_time": "2023-02-19T09:06:39.169Z"
   },
   {
    "duration": 181,
    "start_time": "2023-02-19T09:06:39.336Z"
   },
   {
    "duration": 223,
    "start_time": "2023-02-19T09:06:39.522Z"
   },
   {
    "duration": 164,
    "start_time": "2023-02-19T09:06:39.747Z"
   },
   {
    "duration": 197,
    "start_time": "2023-02-19T09:06:39.913Z"
   },
   {
    "duration": 188,
    "start_time": "2023-02-19T09:06:40.112Z"
   },
   {
    "duration": 143,
    "start_time": "2023-02-19T09:06:40.302Z"
   },
   {
    "duration": 335,
    "start_time": "2023-02-19T09:06:40.447Z"
   },
   {
    "duration": 244,
    "start_time": "2023-02-19T09:06:40.796Z"
   },
   {
    "duration": 27,
    "start_time": "2023-02-19T09:06:41.043Z"
   },
   {
    "duration": 12,
    "start_time": "2023-02-19T09:06:41.080Z"
   },
   {
    "duration": 13,
    "start_time": "2023-02-19T09:06:41.094Z"
   },
   {
    "duration": 452,
    "start_time": "2023-02-19T09:06:41.109Z"
   },
   {
    "duration": 255,
    "start_time": "2023-02-19T09:06:41.564Z"
   },
   {
    "duration": 5,
    "start_time": "2023-02-19T09:06:41.821Z"
   },
   {
    "duration": 213,
    "start_time": "2023-02-19T09:06:41.828Z"
   },
   {
    "duration": 186,
    "start_time": "2023-02-19T09:06:42.043Z"
   },
   {
    "duration": 204,
    "start_time": "2023-02-19T09:06:42.231Z"
   },
   {
    "duration": 153,
    "start_time": "2023-02-19T09:06:42.437Z"
   },
   {
    "duration": 196,
    "start_time": "2023-02-19T09:06:42.591Z"
   },
   {
    "duration": 206,
    "start_time": "2023-02-19T09:06:42.789Z"
   },
   {
    "duration": 240,
    "start_time": "2023-02-19T09:06:42.997Z"
   },
   {
    "duration": 8,
    "start_time": "2023-02-19T09:06:43.239Z"
   },
   {
    "duration": 159,
    "start_time": "2023-02-19T09:06:43.249Z"
   },
   {
    "duration": 21,
    "start_time": "2023-02-19T09:06:43.409Z"
   },
   {
    "duration": 73,
    "start_time": "2023-02-19T09:06:43.432Z"
   },
   {
    "duration": 20,
    "start_time": "2023-02-19T09:06:43.508Z"
   },
   {
    "duration": 180,
    "start_time": "2023-02-19T09:06:43.530Z"
   },
   {
    "duration": 925,
    "start_time": "2023-02-19T09:53:40.224Z"
   },
   {
    "duration": 76,
    "start_time": "2023-02-19T09:53:41.152Z"
   },
   {
    "duration": 4691,
    "start_time": "2023-02-19T09:53:41.230Z"
   },
   {
    "duration": 10,
    "start_time": "2023-02-19T09:53:45.923Z"
   },
   {
    "duration": 104,
    "start_time": "2023-02-19T09:53:45.936Z"
   },
   {
    "duration": 80,
    "start_time": "2023-02-19T09:53:46.042Z"
   },
   {
    "duration": 9,
    "start_time": "2023-02-19T09:53:46.124Z"
   },
   {
    "duration": 6,
    "start_time": "2023-02-19T09:53:46.134Z"
   },
   {
    "duration": 10,
    "start_time": "2023-02-19T09:53:46.141Z"
   },
   {
    "duration": 70,
    "start_time": "2023-02-19T09:53:46.152Z"
   },
   {
    "duration": 12,
    "start_time": "2023-02-19T09:53:46.224Z"
   },
   {
    "duration": 8,
    "start_time": "2023-02-19T09:53:46.238Z"
   },
   {
    "duration": 10,
    "start_time": "2023-02-19T09:53:46.247Z"
   },
   {
    "duration": 101,
    "start_time": "2023-02-19T09:53:46.320Z"
   },
   {
    "duration": 16,
    "start_time": "2023-02-19T09:53:46.422Z"
   },
   {
    "duration": 13,
    "start_time": "2023-02-19T09:53:46.440Z"
   },
   {
    "duration": 9,
    "start_time": "2023-02-19T09:53:46.455Z"
   },
   {
    "duration": 60,
    "start_time": "2023-02-19T09:53:46.465Z"
   },
   {
    "duration": 515,
    "start_time": "2023-02-19T09:53:46.527Z"
   },
   {
    "duration": 6,
    "start_time": "2023-02-19T09:53:47.043Z"
   },
   {
    "duration": 6,
    "start_time": "2023-02-19T09:53:47.050Z"
   },
   {
    "duration": 166,
    "start_time": "2023-02-19T09:53:47.057Z"
   },
   {
    "duration": 642,
    "start_time": "2023-02-19T09:53:47.225Z"
   },
   {
    "duration": 519,
    "start_time": "2023-02-19T09:53:47.921Z"
   },
   {
    "duration": 391,
    "start_time": "2023-02-19T09:53:48.442Z"
   },
   {
    "duration": 301,
    "start_time": "2023-02-19T09:53:48.835Z"
   },
   {
    "duration": 285,
    "start_time": "2023-02-19T09:53:49.138Z"
   },
   {
    "duration": 299,
    "start_time": "2023-02-19T09:53:49.424Z"
   },
   {
    "duration": 301,
    "start_time": "2023-02-19T09:53:49.724Z"
   },
   {
    "duration": 325,
    "start_time": "2023-02-19T09:53:50.027Z"
   },
   {
    "duration": 380,
    "start_time": "2023-02-19T09:53:50.355Z"
   },
   {
    "duration": 289,
    "start_time": "2023-02-19T09:53:50.737Z"
   },
   {
    "duration": 252,
    "start_time": "2023-02-19T09:53:51.028Z"
   },
   {
    "duration": 373,
    "start_time": "2023-02-19T09:53:51.282Z"
   },
   {
    "duration": 69,
    "start_time": "2023-02-19T09:53:51.657Z"
   },
   {
    "duration": 28,
    "start_time": "2023-02-19T09:53:51.728Z"
   },
   {
    "duration": 66,
    "start_time": "2023-02-19T09:53:51.758Z"
   },
   {
    "duration": 622,
    "start_time": "2023-02-19T09:53:51.827Z"
   },
   {
    "duration": 374,
    "start_time": "2023-02-19T09:53:52.451Z"
   },
   {
    "duration": 7,
    "start_time": "2023-02-19T09:53:52.827Z"
   },
   {
    "duration": 409,
    "start_time": "2023-02-19T09:53:52.839Z"
   },
   {
    "duration": 302,
    "start_time": "2023-02-19T09:53:53.250Z"
   },
   {
    "duration": 391,
    "start_time": "2023-02-19T09:53:53.554Z"
   },
   {
    "duration": 309,
    "start_time": "2023-02-19T09:53:53.947Z"
   },
   {
    "duration": 466,
    "start_time": "2023-02-19T09:53:54.257Z"
   },
   {
    "duration": 300,
    "start_time": "2023-02-19T09:53:54.725Z"
   },
   {
    "duration": 308,
    "start_time": "2023-02-19T09:53:55.027Z"
   },
   {
    "duration": 5,
    "start_time": "2023-02-19T09:53:55.337Z"
   },
   {
    "duration": 156,
    "start_time": "2023-02-19T09:53:55.344Z"
   },
   {
    "duration": 29,
    "start_time": "2023-02-19T09:53:55.503Z"
   },
   {
    "duration": 37,
    "start_time": "2023-02-19T09:53:55.534Z"
   },
   {
    "duration": 15,
    "start_time": "2023-02-19T09:53:55.572Z"
   },
   {
    "duration": 186,
    "start_time": "2023-02-19T09:53:55.589Z"
   },
   {
    "duration": 15,
    "start_time": "2023-02-19T10:13:37.799Z"
   },
   {
    "duration": 7,
    "start_time": "2023-02-19T10:13:45.304Z"
   },
   {
    "duration": 13,
    "start_time": "2023-02-19T10:14:03.371Z"
   },
   {
    "duration": 86,
    "start_time": "2023-02-19T10:14:07.914Z"
   },
   {
    "duration": 552,
    "start_time": "2023-02-19T10:14:15.494Z"
   },
   {
    "duration": 14,
    "start_time": "2023-02-19T10:14:16.048Z"
   },
   {
    "duration": 2157,
    "start_time": "2023-02-19T10:14:16.064Z"
   },
   {
    "duration": 8,
    "start_time": "2023-02-19T10:14:18.223Z"
   },
   {
    "duration": 36,
    "start_time": "2023-02-19T10:14:18.232Z"
   },
   {
    "duration": 24,
    "start_time": "2023-02-19T10:14:18.269Z"
   },
   {
    "duration": 33,
    "start_time": "2023-02-19T10:14:18.296Z"
   },
   {
    "duration": 22,
    "start_time": "2023-02-19T10:14:18.331Z"
   },
   {
    "duration": 15,
    "start_time": "2023-02-19T10:14:18.354Z"
   },
   {
    "duration": 16,
    "start_time": "2023-02-19T10:14:18.371Z"
   },
   {
    "duration": 16,
    "start_time": "2023-02-19T10:14:18.388Z"
   },
   {
    "duration": 8,
    "start_time": "2023-02-19T10:14:18.406Z"
   },
   {
    "duration": 10,
    "start_time": "2023-02-19T10:14:18.421Z"
   },
   {
    "duration": 53,
    "start_time": "2023-02-19T10:14:18.433Z"
   },
   {
    "duration": 11,
    "start_time": "2023-02-19T10:14:18.488Z"
   },
   {
    "duration": 20,
    "start_time": "2023-02-19T10:14:18.501Z"
   },
   {
    "duration": 18,
    "start_time": "2023-02-19T10:14:18.523Z"
   },
   {
    "duration": 72,
    "start_time": "2023-02-19T10:14:18.543Z"
   },
   {
    "duration": 14,
    "start_time": "2023-02-19T10:14:18.620Z"
   },
   {
    "duration": 280,
    "start_time": "2023-02-19T10:14:18.635Z"
   },
   {
    "duration": 5,
    "start_time": "2023-02-19T10:14:18.917Z"
   },
   {
    "duration": 30,
    "start_time": "2023-02-19T10:14:18.923Z"
   },
   {
    "duration": 51,
    "start_time": "2023-02-19T10:14:18.955Z"
   },
   {
    "duration": 325,
    "start_time": "2023-02-19T10:14:19.008Z"
   },
   {
    "duration": 264,
    "start_time": "2023-02-19T10:14:19.335Z"
   },
   {
    "duration": 207,
    "start_time": "2023-02-19T10:14:19.600Z"
   },
   {
    "duration": 174,
    "start_time": "2023-02-19T10:14:19.809Z"
   },
   {
    "duration": 142,
    "start_time": "2023-02-19T10:14:19.989Z"
   },
   {
    "duration": 162,
    "start_time": "2023-02-19T10:14:20.133Z"
   },
   {
    "duration": 170,
    "start_time": "2023-02-19T10:14:20.297Z"
   },
   {
    "duration": 169,
    "start_time": "2023-02-19T10:14:20.469Z"
   },
   {
    "duration": 156,
    "start_time": "2023-02-19T10:14:20.639Z"
   },
   {
    "duration": 136,
    "start_time": "2023-02-19T10:14:20.797Z"
   },
   {
    "duration": 211,
    "start_time": "2023-02-19T10:14:20.935Z"
   },
   {
    "duration": 192,
    "start_time": "2023-02-19T10:14:21.148Z"
   },
   {
    "duration": 17,
    "start_time": "2023-02-19T10:14:21.341Z"
   },
   {
    "duration": 6,
    "start_time": "2023-02-19T10:14:21.361Z"
   },
   {
    "duration": 14,
    "start_time": "2023-02-19T10:14:21.369Z"
   },
   {
    "duration": 377,
    "start_time": "2023-02-19T10:14:21.385Z"
   },
   {
    "duration": 192,
    "start_time": "2023-02-19T10:14:21.764Z"
   },
   {
    "duration": 7,
    "start_time": "2023-02-19T10:14:21.959Z"
   },
   {
    "duration": 240,
    "start_time": "2023-02-19T10:14:21.968Z"
   },
   {
    "duration": 160,
    "start_time": "2023-02-19T10:14:22.211Z"
   },
   {
    "duration": 175,
    "start_time": "2023-02-19T10:14:22.373Z"
   },
   {
    "duration": 151,
    "start_time": "2023-02-19T10:14:22.550Z"
   },
   {
    "duration": 164,
    "start_time": "2023-02-19T10:14:22.703Z"
   },
   {
    "duration": 160,
    "start_time": "2023-02-19T10:14:22.868Z"
   },
   {
    "duration": 142,
    "start_time": "2023-02-19T10:14:23.030Z"
   },
   {
    "duration": 5,
    "start_time": "2023-02-19T10:14:23.174Z"
   },
   {
    "duration": 148,
    "start_time": "2023-02-19T10:14:23.181Z"
   },
   {
    "duration": 19,
    "start_time": "2023-02-19T10:14:23.331Z"
   },
   {
    "duration": 36,
    "start_time": "2023-02-19T10:14:23.352Z"
   },
   {
    "duration": 35,
    "start_time": "2023-02-19T10:14:23.389Z"
   },
   {
    "duration": 159,
    "start_time": "2023-02-19T10:14:23.426Z"
   },
   {
    "duration": 7,
    "start_time": "2023-02-19T10:19:07.124Z"
   },
   {
    "duration": 7,
    "start_time": "2023-02-19T10:19:11.491Z"
   },
   {
    "duration": 87,
    "start_time": "2023-02-20T08:37:39.494Z"
   },
   {
    "duration": 1336,
    "start_time": "2023-02-20T08:39:09.998Z"
   },
   {
    "duration": 245,
    "start_time": "2023-02-20T08:42:03.698Z"
   },
   {
    "duration": 95,
    "start_time": "2023-02-20T08:42:33.268Z"
   },
   {
    "duration": 129,
    "start_time": "2023-02-20T08:42:46.828Z"
   },
   {
    "duration": 117,
    "start_time": "2023-02-20T08:43:09.916Z"
   },
   {
    "duration": 45,
    "start_time": "2023-02-20T08:46:20.420Z"
   },
   {
    "duration": 47,
    "start_time": "2023-02-20T08:46:27.409Z"
   },
   {
    "duration": 53,
    "start_time": "2023-02-20T08:47:01.025Z"
   },
   {
    "duration": 51,
    "start_time": "2023-02-20T08:47:07.173Z"
   },
   {
    "duration": 2611,
    "start_time": "2023-02-20T08:47:31.969Z"
   },
   {
    "duration": 2726,
    "start_time": "2023-02-20T08:48:02.893Z"
   },
   {
    "duration": 15,
    "start_time": "2023-02-20T08:50:00.267Z"
   },
   {
    "duration": 48,
    "start_time": "2023-02-20T08:53:20.659Z"
   },
   {
    "duration": 820,
    "start_time": "2023-02-20T08:54:08.578Z"
   },
   {
    "duration": 26,
    "start_time": "2023-02-20T08:54:09.400Z"
   },
   {
    "duration": 2220,
    "start_time": "2023-02-20T08:54:09.428Z"
   },
   {
    "duration": 8,
    "start_time": "2023-02-20T08:54:11.651Z"
   },
   {
    "duration": 35,
    "start_time": "2023-02-20T08:54:11.661Z"
   },
   {
    "duration": 28,
    "start_time": "2023-02-20T08:54:11.697Z"
   },
   {
    "duration": 11,
    "start_time": "2023-02-20T08:54:11.727Z"
   },
   {
    "duration": 6,
    "start_time": "2023-02-20T08:54:11.740Z"
   },
   {
    "duration": 13,
    "start_time": "2023-02-20T08:54:11.748Z"
   },
   {
    "duration": 8,
    "start_time": "2023-02-20T08:54:11.765Z"
   },
   {
    "duration": 45,
    "start_time": "2023-02-20T08:54:11.775Z"
   },
   {
    "duration": 10,
    "start_time": "2023-02-20T08:54:11.822Z"
   },
   {
    "duration": 14,
    "start_time": "2023-02-20T08:54:11.834Z"
   },
   {
    "duration": 103,
    "start_time": "2023-02-20T08:54:11.850Z"
   },
   {
    "duration": 15,
    "start_time": "2023-02-20T08:54:11.955Z"
   },
   {
    "duration": 6,
    "start_time": "2023-02-20T08:54:11.972Z"
   },
   {
    "duration": 14,
    "start_time": "2023-02-20T08:54:11.979Z"
   },
   {
    "duration": 36,
    "start_time": "2023-02-20T08:54:11.996Z"
   },
   {
    "duration": 303,
    "start_time": "2023-02-20T08:54:12.034Z"
   },
   {
    "duration": 6,
    "start_time": "2023-02-20T08:54:12.340Z"
   },
   {
    "duration": 74,
    "start_time": "2023-02-20T08:54:12.347Z"
   },
   {
    "duration": 370,
    "start_time": "2023-02-20T08:54:12.424Z"
   },
   {
    "duration": 293,
    "start_time": "2023-02-20T08:54:12.796Z"
   },
   {
    "duration": 230,
    "start_time": "2023-02-20T08:54:13.091Z"
   },
   {
    "duration": 169,
    "start_time": "2023-02-20T08:54:13.323Z"
   },
   {
    "duration": 173,
    "start_time": "2023-02-20T08:54:13.494Z"
   },
   {
    "duration": 216,
    "start_time": "2023-02-20T08:54:13.670Z"
   },
   {
    "duration": 179,
    "start_time": "2023-02-20T08:54:13.892Z"
   },
   {
    "duration": 253,
    "start_time": "2023-02-20T08:54:14.073Z"
   },
   {
    "duration": 228,
    "start_time": "2023-02-20T08:54:14.329Z"
   },
   {
    "duration": 230,
    "start_time": "2023-02-20T08:54:14.559Z"
   },
   {
    "duration": 234,
    "start_time": "2023-02-20T08:54:14.791Z"
   },
   {
    "duration": 251,
    "start_time": "2023-02-20T08:54:15.028Z"
   },
   {
    "duration": 19,
    "start_time": "2023-02-20T08:54:15.281Z"
   },
   {
    "duration": 20,
    "start_time": "2023-02-20T08:54:15.302Z"
   },
   {
    "duration": 9,
    "start_time": "2023-02-20T08:54:15.325Z"
   },
   {
    "duration": 307,
    "start_time": "2023-02-20T08:54:15.336Z"
   },
   {
    "duration": 208,
    "start_time": "2023-02-20T08:54:15.645Z"
   },
   {
    "duration": 8,
    "start_time": "2023-02-20T08:54:15.855Z"
   },
   {
    "duration": 207,
    "start_time": "2023-02-20T08:54:15.865Z"
   },
   {
    "duration": 178,
    "start_time": "2023-02-20T08:54:16.073Z"
   },
   {
    "duration": 222,
    "start_time": "2023-02-20T08:54:16.253Z"
   },
   {
    "duration": 173,
    "start_time": "2023-02-20T08:54:16.476Z"
   },
   {
    "duration": 203,
    "start_time": "2023-02-20T08:54:16.651Z"
   },
   {
    "duration": 183,
    "start_time": "2023-02-20T08:54:16.855Z"
   },
   {
    "duration": 214,
    "start_time": "2023-02-20T08:54:17.040Z"
   },
   {
    "duration": 7,
    "start_time": "2023-02-20T08:54:17.256Z"
   },
   {
    "duration": 183,
    "start_time": "2023-02-20T08:54:17.265Z"
   },
   {
    "duration": 26,
    "start_time": "2023-02-20T08:54:17.451Z"
   },
   {
    "duration": 79,
    "start_time": "2023-02-20T08:54:17.479Z"
   },
   {
    "duration": 17,
    "start_time": "2023-02-20T08:54:17.560Z"
   },
   {
    "duration": 206,
    "start_time": "2023-02-20T08:54:17.580Z"
   },
   {
    "duration": 9,
    "start_time": "2023-02-20T08:57:33.637Z"
   },
   {
    "duration": 784,
    "start_time": "2023-02-20T09:22:11.775Z"
   },
   {
    "duration": 8,
    "start_time": "2023-02-20T09:30:43.157Z"
   },
   {
    "duration": 7,
    "start_time": "2023-02-20T09:30:52.753Z"
   },
   {
    "duration": 6,
    "start_time": "2023-02-20T09:31:05.656Z"
   },
   {
    "duration": 4,
    "start_time": "2023-02-20T09:31:18.000Z"
   },
   {
    "duration": 5,
    "start_time": "2023-02-20T09:31:21.312Z"
   },
   {
    "duration": 2,
    "start_time": "2023-02-20T09:31:32.610Z"
   },
   {
    "duration": 4,
    "start_time": "2023-02-20T09:31:39.889Z"
   },
   {
    "duration": 5,
    "start_time": "2023-02-20T09:32:39.813Z"
   },
   {
    "duration": 1472,
    "start_time": "2023-02-20T09:32:56.815Z"
   },
   {
    "duration": 15,
    "start_time": "2023-02-20T09:32:58.291Z"
   },
   {
    "duration": 2317,
    "start_time": "2023-02-20T09:32:58.309Z"
   },
   {
    "duration": 18,
    "start_time": "2023-02-20T09:33:00.628Z"
   },
   {
    "duration": 55,
    "start_time": "2023-02-20T09:33:00.653Z"
   },
   {
    "duration": 64,
    "start_time": "2023-02-20T09:33:00.709Z"
   },
   {
    "duration": 47,
    "start_time": "2023-02-20T09:33:00.775Z"
   },
   {
    "duration": 59,
    "start_time": "2023-02-20T09:33:00.824Z"
   },
   {
    "duration": 34,
    "start_time": "2023-02-20T09:33:00.886Z"
   },
   {
    "duration": 55,
    "start_time": "2023-02-20T09:33:00.927Z"
   },
   {
    "duration": 33,
    "start_time": "2023-02-20T09:33:00.983Z"
   },
   {
    "duration": 67,
    "start_time": "2023-02-20T09:33:01.017Z"
   },
   {
    "duration": 71,
    "start_time": "2023-02-20T09:33:01.086Z"
   },
   {
    "duration": 119,
    "start_time": "2023-02-20T09:33:01.159Z"
   },
   {
    "duration": 17,
    "start_time": "2023-02-20T09:33:01.280Z"
   },
   {
    "duration": 26,
    "start_time": "2023-02-20T09:33:01.300Z"
   },
   {
    "duration": 41,
    "start_time": "2023-02-20T09:33:01.328Z"
   },
   {
    "duration": 23,
    "start_time": "2023-02-20T09:33:01.371Z"
   },
   {
    "duration": 30,
    "start_time": "2023-02-20T09:33:01.396Z"
   },
   {
    "duration": 54,
    "start_time": "2023-02-20T09:33:01.429Z"
   },
   {
    "duration": 411,
    "start_time": "2023-02-20T09:33:01.485Z"
   },
   {
    "duration": 5,
    "start_time": "2023-02-20T09:33:01.898Z"
   },
   {
    "duration": 124,
    "start_time": "2023-02-20T09:33:01.905Z"
   },
   {
    "duration": 373,
    "start_time": "2023-02-20T09:33:02.032Z"
   },
   {
    "duration": 217,
    "start_time": "2023-02-20T09:33:02.407Z"
   },
   {
    "duration": 217,
    "start_time": "2023-02-20T09:33:02.626Z"
   },
   {
    "duration": 144,
    "start_time": "2023-02-20T09:33:02.854Z"
   },
   {
    "duration": 180,
    "start_time": "2023-02-20T09:33:03.000Z"
   },
   {
    "duration": 348,
    "start_time": "2023-02-20T09:33:03.181Z"
   },
   {
    "duration": 178,
    "start_time": "2023-02-20T09:33:03.540Z"
   },
   {
    "duration": 202,
    "start_time": "2023-02-20T09:33:03.720Z"
   },
   {
    "duration": 171,
    "start_time": "2023-02-20T09:33:03.928Z"
   },
   {
    "duration": 163,
    "start_time": "2023-02-20T09:33:04.101Z"
   },
   {
    "duration": 254,
    "start_time": "2023-02-20T09:33:04.266Z"
   },
   {
    "duration": 254,
    "start_time": "2023-02-20T09:33:04.522Z"
   },
   {
    "duration": 18,
    "start_time": "2023-02-20T09:33:04.778Z"
   },
   {
    "duration": 28,
    "start_time": "2023-02-20T09:33:04.799Z"
   },
   {
    "duration": 39,
    "start_time": "2023-02-20T09:33:04.828Z"
   },
   {
    "duration": 292,
    "start_time": "2023-02-20T09:33:04.869Z"
   },
   {
    "duration": 206,
    "start_time": "2023-02-20T09:33:05.165Z"
   },
   {
    "duration": 5,
    "start_time": "2023-02-20T09:33:05.373Z"
   },
   {
    "duration": 217,
    "start_time": "2023-02-20T09:33:05.380Z"
   },
   {
    "duration": 299,
    "start_time": "2023-02-20T09:33:05.599Z"
   },
   {
    "duration": 203,
    "start_time": "2023-02-20T09:33:05.900Z"
   },
   {
    "duration": 180,
    "start_time": "2023-02-20T09:33:06.105Z"
   },
   {
    "duration": 192,
    "start_time": "2023-02-20T09:33:06.287Z"
   },
   {
    "duration": 190,
    "start_time": "2023-02-20T09:33:06.481Z"
   },
   {
    "duration": 177,
    "start_time": "2023-02-20T09:33:06.673Z"
   },
   {
    "duration": 7,
    "start_time": "2023-02-20T09:33:06.852Z"
   },
   {
    "duration": 197,
    "start_time": "2023-02-20T09:33:06.861Z"
   },
   {
    "duration": 22,
    "start_time": "2023-02-20T09:33:07.060Z"
   },
   {
    "duration": 65,
    "start_time": "2023-02-20T09:33:07.083Z"
   },
   {
    "duration": 21,
    "start_time": "2023-02-20T09:33:07.150Z"
   },
   {
    "duration": 193,
    "start_time": "2023-02-20T09:33:07.173Z"
   },
   {
    "duration": 117,
    "start_time": "2023-02-20T09:34:23.169Z"
   },
   {
    "duration": 1473,
    "start_time": "2023-02-20T09:34:36.054Z"
   },
   {
    "duration": 21,
    "start_time": "2023-02-20T09:34:37.531Z"
   },
   {
    "duration": 2268,
    "start_time": "2023-02-20T09:34:37.554Z"
   },
   {
    "duration": 10,
    "start_time": "2023-02-20T09:34:39.826Z"
   },
   {
    "duration": 57,
    "start_time": "2023-02-20T09:34:39.838Z"
   },
   {
    "duration": 31,
    "start_time": "2023-02-20T09:34:39.897Z"
   },
   {
    "duration": 18,
    "start_time": "2023-02-20T09:34:39.929Z"
   },
   {
    "duration": 9,
    "start_time": "2023-02-20T09:34:39.952Z"
   },
   {
    "duration": 12,
    "start_time": "2023-02-20T09:34:39.963Z"
   },
   {
    "duration": 7,
    "start_time": "2023-02-20T09:34:39.977Z"
   },
   {
    "duration": 12,
    "start_time": "2023-02-20T09:34:39.985Z"
   },
   {
    "duration": 26,
    "start_time": "2023-02-20T09:34:39.999Z"
   },
   {
    "duration": 30,
    "start_time": "2023-02-20T09:34:40.035Z"
   },
   {
    "duration": 47,
    "start_time": "2023-02-20T09:34:40.067Z"
   },
   {
    "duration": 20,
    "start_time": "2023-02-20T09:34:40.116Z"
   },
   {
    "duration": 27,
    "start_time": "2023-02-20T09:34:40.138Z"
   },
   {
    "duration": 10,
    "start_time": "2023-02-20T09:34:40.166Z"
   },
   {
    "duration": 112,
    "start_time": "2023-02-20T09:34:40.177Z"
   },
   {
    "duration": 0,
    "start_time": "2023-02-20T09:34:40.291Z"
   },
   {
    "duration": 0,
    "start_time": "2023-02-20T09:34:40.293Z"
   },
   {
    "duration": 0,
    "start_time": "2023-02-20T09:34:40.293Z"
   },
   {
    "duration": 0,
    "start_time": "2023-02-20T09:34:40.295Z"
   },
   {
    "duration": 0,
    "start_time": "2023-02-20T09:34:40.296Z"
   },
   {
    "duration": 0,
    "start_time": "2023-02-20T09:34:40.297Z"
   },
   {
    "duration": 0,
    "start_time": "2023-02-20T09:34:40.298Z"
   },
   {
    "duration": 0,
    "start_time": "2023-02-20T09:34:40.299Z"
   },
   {
    "duration": 0,
    "start_time": "2023-02-20T09:34:40.300Z"
   },
   {
    "duration": 0,
    "start_time": "2023-02-20T09:34:40.302Z"
   },
   {
    "duration": 0,
    "start_time": "2023-02-20T09:34:40.327Z"
   },
   {
    "duration": 0,
    "start_time": "2023-02-20T09:34:40.330Z"
   },
   {
    "duration": 0,
    "start_time": "2023-02-20T09:34:40.331Z"
   },
   {
    "duration": 0,
    "start_time": "2023-02-20T09:34:40.332Z"
   },
   {
    "duration": 0,
    "start_time": "2023-02-20T09:34:40.334Z"
   },
   {
    "duration": 0,
    "start_time": "2023-02-20T09:34:40.335Z"
   },
   {
    "duration": 0,
    "start_time": "2023-02-20T09:34:40.336Z"
   },
   {
    "duration": 0,
    "start_time": "2023-02-20T09:34:40.337Z"
   },
   {
    "duration": 0,
    "start_time": "2023-02-20T09:34:40.339Z"
   },
   {
    "duration": 0,
    "start_time": "2023-02-20T09:34:40.340Z"
   },
   {
    "duration": 0,
    "start_time": "2023-02-20T09:34:40.341Z"
   },
   {
    "duration": 0,
    "start_time": "2023-02-20T09:34:40.342Z"
   },
   {
    "duration": 0,
    "start_time": "2023-02-20T09:34:40.344Z"
   },
   {
    "duration": 0,
    "start_time": "2023-02-20T09:34:40.345Z"
   },
   {
    "duration": 0,
    "start_time": "2023-02-20T09:34:40.346Z"
   },
   {
    "duration": 0,
    "start_time": "2023-02-20T09:34:40.347Z"
   },
   {
    "duration": 0,
    "start_time": "2023-02-20T09:34:40.348Z"
   },
   {
    "duration": 0,
    "start_time": "2023-02-20T09:34:40.349Z"
   },
   {
    "duration": 0,
    "start_time": "2023-02-20T09:34:40.351Z"
   },
   {
    "duration": 0,
    "start_time": "2023-02-20T09:34:40.352Z"
   },
   {
    "duration": 0,
    "start_time": "2023-02-20T09:34:40.353Z"
   },
   {
    "duration": 0,
    "start_time": "2023-02-20T09:34:40.355Z"
   },
   {
    "duration": 0,
    "start_time": "2023-02-20T09:34:40.356Z"
   },
   {
    "duration": 0,
    "start_time": "2023-02-20T09:34:40.357Z"
   },
   {
    "duration": 0,
    "start_time": "2023-02-20T09:34:40.358Z"
   },
   {
    "duration": 0,
    "start_time": "2023-02-20T09:34:40.359Z"
   },
   {
    "duration": 9,
    "start_time": "2023-02-20T09:34:52.497Z"
   },
   {
    "duration": 1548,
    "start_time": "2023-02-20T09:35:44.618Z"
   },
   {
    "duration": 15,
    "start_time": "2023-02-20T09:35:46.168Z"
   },
   {
    "duration": 2296,
    "start_time": "2023-02-20T09:35:46.184Z"
   },
   {
    "duration": 8,
    "start_time": "2023-02-20T09:35:48.483Z"
   },
   {
    "duration": 37,
    "start_time": "2023-02-20T09:35:48.493Z"
   },
   {
    "duration": 54,
    "start_time": "2023-02-20T09:35:48.532Z"
   },
   {
    "duration": 10,
    "start_time": "2023-02-20T09:35:48.588Z"
   },
   {
    "duration": 5,
    "start_time": "2023-02-20T09:35:48.600Z"
   },
   {
    "duration": 10,
    "start_time": "2023-02-20T09:35:48.607Z"
   },
   {
    "duration": 26,
    "start_time": "2023-02-20T09:35:48.627Z"
   },
   {
    "duration": 15,
    "start_time": "2023-02-20T09:35:48.654Z"
   },
   {
    "duration": 9,
    "start_time": "2023-02-20T09:35:48.671Z"
   },
   {
    "duration": 16,
    "start_time": "2023-02-20T09:35:48.682Z"
   },
   {
    "duration": 65,
    "start_time": "2023-02-20T09:35:48.699Z"
   },
   {
    "duration": 12,
    "start_time": "2023-02-20T09:35:48.766Z"
   },
   {
    "duration": 8,
    "start_time": "2023-02-20T09:35:48.780Z"
   },
   {
    "duration": 5,
    "start_time": "2023-02-20T09:35:48.790Z"
   },
   {
    "duration": 31,
    "start_time": "2023-02-20T09:35:48.797Z"
   },
   {
    "duration": 32,
    "start_time": "2023-02-20T09:35:48.830Z"
   },
   {
    "duration": 16,
    "start_time": "2023-02-20T09:35:48.863Z"
   },
   {
    "duration": 335,
    "start_time": "2023-02-20T09:35:48.881Z"
   },
   {
    "duration": 11,
    "start_time": "2023-02-20T09:35:49.218Z"
   },
   {
    "duration": 75,
    "start_time": "2023-02-20T09:35:49.235Z"
   },
   {
    "duration": 365,
    "start_time": "2023-02-20T09:35:49.312Z"
   },
   {
    "duration": 223,
    "start_time": "2023-02-20T09:35:49.680Z"
   },
   {
    "duration": 256,
    "start_time": "2023-02-20T09:35:49.905Z"
   },
   {
    "duration": 201,
    "start_time": "2023-02-20T09:35:50.163Z"
   },
   {
    "duration": 193,
    "start_time": "2023-02-20T09:35:50.371Z"
   },
   {
    "duration": 323,
    "start_time": "2023-02-20T09:35:50.570Z"
   },
   {
    "duration": 166,
    "start_time": "2023-02-20T09:35:50.895Z"
   },
   {
    "duration": 192,
    "start_time": "2023-02-20T09:35:51.063Z"
   },
   {
    "duration": 175,
    "start_time": "2023-02-20T09:35:51.257Z"
   },
   {
    "duration": 143,
    "start_time": "2023-02-20T09:35:51.434Z"
   },
   {
    "duration": 233,
    "start_time": "2023-02-20T09:35:51.579Z"
   },
   {
    "duration": 219,
    "start_time": "2023-02-20T09:35:51.814Z"
   },
   {
    "duration": 20,
    "start_time": "2023-02-20T09:35:52.035Z"
   },
   {
    "duration": 7,
    "start_time": "2023-02-20T09:35:52.056Z"
   },
   {
    "duration": 13,
    "start_time": "2023-02-20T09:35:52.065Z"
   },
   {
    "duration": 226,
    "start_time": "2023-02-20T09:35:52.079Z"
   },
   {
    "duration": 240,
    "start_time": "2023-02-20T09:35:52.307Z"
   },
   {
    "duration": 7,
    "start_time": "2023-02-20T09:35:52.549Z"
   },
   {
    "duration": 322,
    "start_time": "2023-02-20T09:35:52.558Z"
   },
   {
    "duration": 203,
    "start_time": "2023-02-20T09:35:52.881Z"
   },
   {
    "duration": 211,
    "start_time": "2023-02-20T09:35:53.085Z"
   },
   {
    "duration": 173,
    "start_time": "2023-02-20T09:35:53.298Z"
   },
   {
    "duration": 196,
    "start_time": "2023-02-20T09:35:53.473Z"
   },
   {
    "duration": 203,
    "start_time": "2023-02-20T09:35:53.671Z"
   },
   {
    "duration": 192,
    "start_time": "2023-02-20T09:35:53.877Z"
   },
   {
    "duration": 6,
    "start_time": "2023-02-20T09:35:54.071Z"
   },
   {
    "duration": 194,
    "start_time": "2023-02-20T09:35:54.080Z"
   },
   {
    "duration": 25,
    "start_time": "2023-02-20T09:35:54.276Z"
   },
   {
    "duration": 78,
    "start_time": "2023-02-20T09:35:54.303Z"
   },
   {
    "duration": 20,
    "start_time": "2023-02-20T09:35:54.383Z"
   },
   {
    "duration": 209,
    "start_time": "2023-02-20T09:35:54.405Z"
   },
   {
    "duration": 149,
    "start_time": "2023-02-20T09:36:27.692Z"
   },
   {
    "duration": 145,
    "start_time": "2023-02-20T09:38:27.458Z"
   },
   {
    "duration": 106,
    "start_time": "2023-02-20T09:39:00.285Z"
   },
   {
    "duration": 164,
    "start_time": "2023-02-20T09:39:20.421Z"
   },
   {
    "duration": 184,
    "start_time": "2023-02-20T09:39:34.127Z"
   },
   {
    "duration": 891,
    "start_time": "2023-02-20T09:40:22.813Z"
   },
   {
    "duration": 185,
    "start_time": "2023-02-20T09:40:33.471Z"
   },
   {
    "duration": 156,
    "start_time": "2023-02-20T09:40:53.679Z"
   },
   {
    "duration": 261,
    "start_time": "2023-02-20T09:41:09.501Z"
   },
   {
    "duration": 84,
    "start_time": "2023-02-20T09:44:45.056Z"
   },
   {
    "duration": 19,
    "start_time": "2023-02-20T09:45:12.667Z"
   },
   {
    "duration": 14,
    "start_time": "2023-02-20T09:47:05.914Z"
   },
   {
    "duration": 301,
    "start_time": "2023-02-20T10:35:20.406Z"
   },
   {
    "duration": 170,
    "start_time": "2023-02-20T10:35:25.142Z"
   },
   {
    "duration": 181,
    "start_time": "2023-02-20T10:35:29.567Z"
   },
   {
    "duration": 161,
    "start_time": "2023-02-20T10:35:33.838Z"
   },
   {
    "duration": 130,
    "start_time": "2023-02-20T10:35:39.263Z"
   },
   {
    "duration": 139,
    "start_time": "2023-02-20T10:35:42.845Z"
   },
   {
    "duration": 133,
    "start_time": "2023-02-20T10:35:47.414Z"
   },
   {
    "duration": 148,
    "start_time": "2023-02-20T10:35:51.355Z"
   },
   {
    "duration": 139,
    "start_time": "2023-02-20T10:35:57.702Z"
   },
   {
    "duration": 121,
    "start_time": "2023-02-20T10:36:03.638Z"
   },
   {
    "duration": 181,
    "start_time": "2023-02-20T10:36:07.368Z"
   },
   {
    "duration": 311,
    "start_time": "2023-02-20T10:36:11.573Z"
   },
   {
    "duration": 185,
    "start_time": "2023-02-20T10:36:17.077Z"
   },
   {
    "duration": 166,
    "start_time": "2023-02-20T10:36:27.944Z"
   },
   {
    "duration": 153,
    "start_time": "2023-02-20T10:36:33.073Z"
   },
   {
    "duration": 180,
    "start_time": "2023-02-20T10:36:38.294Z"
   },
   {
    "duration": 130,
    "start_time": "2023-02-20T10:36:42.623Z"
   },
   {
    "duration": 137,
    "start_time": "2023-02-20T10:36:46.542Z"
   },
   {
    "duration": 132,
    "start_time": "2023-02-20T10:36:50.308Z"
   },
   {
    "duration": 152,
    "start_time": "2023-02-20T10:37:06.320Z"
   },
   {
    "duration": 12,
    "start_time": "2023-02-20T10:37:26.480Z"
   },
   {
    "duration": 163,
    "start_time": "2023-02-20T10:37:43.448Z"
   },
   {
    "duration": 168,
    "start_time": "2023-02-20T10:38:06.433Z"
   },
   {
    "duration": 171,
    "start_time": "2023-02-20T10:38:15.513Z"
   },
   {
    "duration": 142,
    "start_time": "2023-02-20T10:40:37.804Z"
   },
   {
    "duration": 129,
    "start_time": "2023-02-20T10:41:31.450Z"
   },
   {
    "duration": 117,
    "start_time": "2023-02-20T10:41:40.337Z"
   },
   {
    "duration": 234,
    "start_time": "2023-02-20T10:41:47.184Z"
   },
   {
    "duration": 185,
    "start_time": "2023-02-20T10:41:50.706Z"
   },
   {
    "duration": 167,
    "start_time": "2023-02-20T10:41:54.666Z"
   },
   {
    "duration": 273,
    "start_time": "2023-02-20T10:42:03.450Z"
   },
   {
    "duration": 135,
    "start_time": "2023-02-20T10:43:59.924Z"
   },
   {
    "duration": 6,
    "start_time": "2023-02-20T10:45:08.515Z"
   },
   {
    "duration": 7,
    "start_time": "2023-02-20T10:45:31.964Z"
   },
   {
    "duration": 9,
    "start_time": "2023-02-20T10:46:09.486Z"
   },
   {
    "duration": 5,
    "start_time": "2023-02-20T10:46:39.556Z"
   },
   {
    "duration": 152,
    "start_time": "2023-02-20T10:47:50.160Z"
   },
   {
    "duration": 166,
    "start_time": "2023-02-20T10:48:05.926Z"
   },
   {
    "duration": 128,
    "start_time": "2023-02-20T10:48:23.989Z"
   },
   {
    "duration": 156,
    "start_time": "2023-02-20T10:48:35.089Z"
   },
   {
    "duration": 149,
    "start_time": "2023-02-20T10:49:11.109Z"
   },
   {
    "duration": 15,
    "start_time": "2023-02-20T10:51:03.128Z"
   },
   {
    "duration": 159,
    "start_time": "2023-02-20T10:51:11.407Z"
   },
   {
    "duration": 144,
    "start_time": "2023-02-20T10:51:47.249Z"
   },
   {
    "duration": 49,
    "start_time": "2023-02-20T10:56:10.498Z"
   },
   {
    "duration": 112,
    "start_time": "2023-02-20T10:56:15.945Z"
   },
   {
    "duration": 163,
    "start_time": "2023-02-20T10:56:26.609Z"
   },
   {
    "duration": 113,
    "start_time": "2023-02-20T11:00:58.782Z"
   },
   {
    "duration": 8,
    "start_time": "2023-02-20T11:03:39.863Z"
   },
   {
    "duration": 15,
    "start_time": "2023-02-20T11:03:56.694Z"
   },
   {
    "duration": 10,
    "start_time": "2023-02-20T11:04:21.743Z"
   },
   {
    "duration": 127,
    "start_time": "2023-02-20T11:08:16.108Z"
   },
   {
    "duration": 4,
    "start_time": "2023-02-20T11:08:50.010Z"
   },
   {
    "duration": 138,
    "start_time": "2023-02-20T11:10:44.891Z"
   },
   {
    "duration": 208,
    "start_time": "2023-02-20T11:16:54.263Z"
   },
   {
    "duration": 10,
    "start_time": "2023-02-20T11:16:57.583Z"
   },
   {
    "duration": 47,
    "start_time": "2023-02-20T11:20:50.466Z"
   },
   {
    "duration": 15,
    "start_time": "2023-02-20T11:20:54.568Z"
   },
   {
    "duration": 11,
    "start_time": "2023-02-20T11:21:02.833Z"
   },
   {
    "duration": 14,
    "start_time": "2023-02-20T11:21:32.099Z"
   },
   {
    "duration": 14,
    "start_time": "2023-02-20T11:22:33.851Z"
   },
   {
    "duration": 101,
    "start_time": "2023-02-20T11:22:42.994Z"
   },
   {
    "duration": 844,
    "start_time": "2023-02-20T11:26:52.118Z"
   },
   {
    "duration": 8,
    "start_time": "2023-02-20T11:27:08.956Z"
   },
   {
    "duration": 12,
    "start_time": "2023-02-20T11:27:13.556Z"
   },
   {
    "duration": 187,
    "start_time": "2023-02-20T11:28:12.251Z"
   },
   {
    "duration": 182,
    "start_time": "2023-02-20T11:28:47.150Z"
   },
   {
    "duration": 50,
    "start_time": "2023-02-20T11:37:53.509Z"
   },
   {
    "duration": 363,
    "start_time": "2023-02-20T11:38:01.897Z"
   },
   {
    "duration": 150,
    "start_time": "2023-02-20T11:38:11.492Z"
   },
   {
    "duration": 331,
    "start_time": "2023-02-20T11:39:15.347Z"
   },
   {
    "duration": 336,
    "start_time": "2023-02-20T11:39:22.694Z"
   },
   {
    "duration": 260,
    "start_time": "2023-02-20T11:40:34.839Z"
   },
   {
    "duration": 170,
    "start_time": "2023-02-20T11:42:02.608Z"
   },
   {
    "duration": 158,
    "start_time": "2023-02-20T11:46:26.778Z"
   },
   {
    "duration": 207,
    "start_time": "2023-02-20T11:46:53.912Z"
   },
   {
    "duration": 134,
    "start_time": "2023-02-20T11:47:15.617Z"
   },
   {
    "duration": 164,
    "start_time": "2023-02-20T11:47:22.629Z"
   },
   {
    "duration": 297,
    "start_time": "2023-02-20T11:47:42.009Z"
   },
   {
    "duration": 156,
    "start_time": "2023-02-20T11:51:16.334Z"
   },
   {
    "duration": 205,
    "start_time": "2023-02-20T11:51:34.802Z"
   },
   {
    "duration": 22,
    "start_time": "2023-02-20T11:54:01.582Z"
   },
   {
    "duration": 154,
    "start_time": "2023-02-20T11:54:19.350Z"
   },
   {
    "duration": 57,
    "start_time": "2023-02-20T11:54:51.711Z"
   },
   {
    "duration": 152,
    "start_time": "2023-02-20T11:55:16.086Z"
   },
   {
    "duration": 193,
    "start_time": "2023-02-20T11:56:36.600Z"
   },
   {
    "duration": 17,
    "start_time": "2023-02-20T12:08:54.929Z"
   },
   {
    "duration": 188,
    "start_time": "2023-02-20T12:09:43.000Z"
   },
   {
    "duration": 182,
    "start_time": "2023-02-20T12:09:45.535Z"
   },
   {
    "duration": 199,
    "start_time": "2023-02-20T12:11:32.486Z"
   },
   {
    "duration": 171,
    "start_time": "2023-02-20T12:11:49.381Z"
   },
   {
    "duration": 247,
    "start_time": "2023-02-20T12:11:59.703Z"
   },
   {
    "duration": 208,
    "start_time": "2023-02-20T12:12:04.996Z"
   },
   {
    "duration": 211,
    "start_time": "2023-02-20T12:12:11.871Z"
   },
   {
    "duration": 338,
    "start_time": "2023-02-20T12:18:25.115Z"
   },
   {
    "duration": 1330,
    "start_time": "2023-02-20T12:23:57.934Z"
   },
   {
    "duration": 15,
    "start_time": "2023-02-20T12:23:59.266Z"
   },
   {
    "duration": 1961,
    "start_time": "2023-02-20T12:23:59.283Z"
   },
   {
    "duration": 8,
    "start_time": "2023-02-20T12:24:01.247Z"
   },
   {
    "duration": 42,
    "start_time": "2023-02-20T12:24:01.257Z"
   },
   {
    "duration": 69,
    "start_time": "2023-02-20T12:24:01.301Z"
   },
   {
    "duration": 11,
    "start_time": "2023-02-20T12:24:01.371Z"
   },
   {
    "duration": 25,
    "start_time": "2023-02-20T12:24:01.383Z"
   },
   {
    "duration": 16,
    "start_time": "2023-02-20T12:24:01.410Z"
   },
   {
    "duration": 22,
    "start_time": "2023-02-20T12:24:01.429Z"
   },
   {
    "duration": 37,
    "start_time": "2023-02-20T12:24:01.453Z"
   },
   {
    "duration": 24,
    "start_time": "2023-02-20T12:24:01.492Z"
   },
   {
    "duration": 38,
    "start_time": "2023-02-20T12:24:01.517Z"
   },
   {
    "duration": 68,
    "start_time": "2023-02-20T12:24:01.557Z"
   },
   {
    "duration": 12,
    "start_time": "2023-02-20T12:24:01.627Z"
   },
   {
    "duration": 33,
    "start_time": "2023-02-20T12:24:01.640Z"
   },
   {
    "duration": 18,
    "start_time": "2023-02-20T12:24:01.675Z"
   },
   {
    "duration": 22,
    "start_time": "2023-02-20T12:24:01.695Z"
   },
   {
    "duration": 31,
    "start_time": "2023-02-20T12:24:01.718Z"
   },
   {
    "duration": 21,
    "start_time": "2023-02-20T12:24:01.751Z"
   },
   {
    "duration": 295,
    "start_time": "2023-02-20T12:24:01.774Z"
   },
   {
    "duration": 6,
    "start_time": "2023-02-20T12:24:02.071Z"
   },
   {
    "duration": 83,
    "start_time": "2023-02-20T12:24:02.079Z"
   },
   {
    "duration": 336,
    "start_time": "2023-02-20T12:24:02.163Z"
   },
   {
    "duration": 191,
    "start_time": "2023-02-20T12:24:02.500Z"
   },
   {
    "duration": 281,
    "start_time": "2023-02-20T12:24:02.692Z"
   },
   {
    "duration": 154,
    "start_time": "2023-02-20T12:24:02.975Z"
   },
   {
    "duration": 147,
    "start_time": "2023-02-20T12:24:03.133Z"
   },
   {
    "duration": 308,
    "start_time": "2023-02-20T12:24:03.282Z"
   },
   {
    "duration": 151,
    "start_time": "2023-02-20T12:24:03.591Z"
   },
   {
    "duration": 167,
    "start_time": "2023-02-20T12:24:03.744Z"
   },
   {
    "duration": 146,
    "start_time": "2023-02-20T12:24:03.913Z"
   },
   {
    "duration": 175,
    "start_time": "2023-02-20T12:24:04.061Z"
   },
   {
    "duration": 158,
    "start_time": "2023-02-20T12:24:04.238Z"
   },
   {
    "duration": 169,
    "start_time": "2023-02-20T12:24:04.398Z"
   },
   {
    "duration": 233,
    "start_time": "2023-02-20T12:24:04.569Z"
   },
   {
    "duration": 228,
    "start_time": "2023-02-20T12:24:04.805Z"
   },
   {
    "duration": 20,
    "start_time": "2023-02-20T12:24:05.035Z"
   },
   {
    "duration": 7,
    "start_time": "2023-02-20T12:24:05.057Z"
   },
   {
    "duration": 26,
    "start_time": "2023-02-20T12:24:05.065Z"
   },
   {
    "duration": 216,
    "start_time": "2023-02-20T12:24:05.093Z"
   },
   {
    "duration": 276,
    "start_time": "2023-02-20T12:24:05.310Z"
   },
   {
    "duration": 199,
    "start_time": "2023-02-20T12:24:05.587Z"
   },
   {
    "duration": 7,
    "start_time": "2023-02-20T12:24:05.787Z"
   },
   {
    "duration": 192,
    "start_time": "2023-02-20T12:24:05.795Z"
   },
   {
    "duration": 200,
    "start_time": "2023-02-20T12:24:05.989Z"
   },
   {
    "duration": 162,
    "start_time": "2023-02-20T12:24:06.191Z"
   },
   {
    "duration": 146,
    "start_time": "2023-02-20T12:24:06.354Z"
   },
   {
    "duration": 156,
    "start_time": "2023-02-20T12:24:06.502Z"
   },
   {
    "duration": 143,
    "start_time": "2023-02-20T12:24:06.660Z"
   },
   {
    "duration": 151,
    "start_time": "2023-02-20T12:24:06.804Z"
   },
   {
    "duration": 176,
    "start_time": "2023-02-20T12:24:06.957Z"
   },
   {
    "duration": 116,
    "start_time": "2023-02-20T12:24:07.134Z"
   },
   {
    "duration": 0,
    "start_time": "2023-02-20T12:24:07.252Z"
   },
   {
    "duration": 0,
    "start_time": "2023-02-20T12:24:07.253Z"
   },
   {
    "duration": 0,
    "start_time": "2023-02-20T12:24:07.254Z"
   },
   {
    "duration": 25,
    "start_time": "2023-02-20T12:29:35.950Z"
   },
   {
    "duration": 1368,
    "start_time": "2023-02-20T12:29:51.022Z"
   },
   {
    "duration": 16,
    "start_time": "2023-02-20T12:29:52.393Z"
   },
   {
    "duration": 2100,
    "start_time": "2023-02-20T12:29:52.420Z"
   },
   {
    "duration": 11,
    "start_time": "2023-02-20T12:29:54.524Z"
   },
   {
    "duration": 51,
    "start_time": "2023-02-20T12:29:54.537Z"
   },
   {
    "duration": 58,
    "start_time": "2023-02-20T12:29:54.590Z"
   },
   {
    "duration": 14,
    "start_time": "2023-02-20T12:29:54.650Z"
   },
   {
    "duration": 22,
    "start_time": "2023-02-20T12:29:54.667Z"
   },
   {
    "duration": 31,
    "start_time": "2023-02-20T12:29:54.692Z"
   },
   {
    "duration": 10,
    "start_time": "2023-02-20T12:29:54.727Z"
   },
   {
    "duration": 23,
    "start_time": "2023-02-20T12:29:54.739Z"
   },
   {
    "duration": 8,
    "start_time": "2023-02-20T12:29:54.765Z"
   },
   {
    "duration": 13,
    "start_time": "2023-02-20T12:29:54.774Z"
   },
   {
    "duration": 75,
    "start_time": "2023-02-20T12:29:54.789Z"
   },
   {
    "duration": 13,
    "start_time": "2023-02-20T12:29:54.866Z"
   },
   {
    "duration": 10,
    "start_time": "2023-02-20T12:29:54.880Z"
   },
   {
    "duration": 8,
    "start_time": "2023-02-20T12:29:54.891Z"
   },
   {
    "duration": 29,
    "start_time": "2023-02-20T12:29:54.900Z"
   },
   {
    "duration": 9,
    "start_time": "2023-02-20T12:29:54.931Z"
   },
   {
    "duration": 19,
    "start_time": "2023-02-20T12:29:54.942Z"
   },
   {
    "duration": 345,
    "start_time": "2023-02-20T12:29:54.964Z"
   },
   {
    "duration": 9,
    "start_time": "2023-02-20T12:29:55.312Z"
   },
   {
    "duration": 62,
    "start_time": "2023-02-20T12:29:55.322Z"
   },
   {
    "duration": 339,
    "start_time": "2023-02-20T12:29:55.386Z"
   },
   {
    "duration": 202,
    "start_time": "2023-02-20T12:29:55.727Z"
   },
   {
    "duration": 203,
    "start_time": "2023-02-20T12:29:55.931Z"
   },
   {
    "duration": 148,
    "start_time": "2023-02-20T12:29:56.136Z"
   },
   {
    "duration": 177,
    "start_time": "2023-02-20T12:29:56.288Z"
   },
   {
    "duration": 323,
    "start_time": "2023-02-20T12:29:56.466Z"
   },
   {
    "duration": 152,
    "start_time": "2023-02-20T12:29:56.791Z"
   },
   {
    "duration": 186,
    "start_time": "2023-02-20T12:29:56.945Z"
   },
   {
    "duration": 141,
    "start_time": "2023-02-20T12:29:57.133Z"
   },
   {
    "duration": 165,
    "start_time": "2023-02-20T12:29:57.275Z"
   },
   {
    "duration": 144,
    "start_time": "2023-02-20T12:29:57.442Z"
   },
   {
    "duration": 167,
    "start_time": "2023-02-20T12:29:57.588Z"
   },
   {
    "duration": 209,
    "start_time": "2023-02-20T12:29:57.757Z"
   },
   {
    "duration": 224,
    "start_time": "2023-02-20T12:29:57.969Z"
   },
   {
    "duration": 15,
    "start_time": "2023-02-20T12:29:58.195Z"
   },
   {
    "duration": 18,
    "start_time": "2023-02-20T12:29:58.212Z"
   },
   {
    "duration": 22,
    "start_time": "2023-02-20T12:29:58.233Z"
   },
   {
    "duration": 258,
    "start_time": "2023-02-20T12:29:58.258Z"
   },
   {
    "duration": 314,
    "start_time": "2023-02-20T12:29:58.521Z"
   },
   {
    "duration": 213,
    "start_time": "2023-02-20T12:29:58.837Z"
   },
   {
    "duration": 8,
    "start_time": "2023-02-20T12:29:59.053Z"
   },
   {
    "duration": 206,
    "start_time": "2023-02-20T12:29:59.062Z"
   },
   {
    "duration": 211,
    "start_time": "2023-02-20T12:29:59.270Z"
   },
   {
    "duration": 159,
    "start_time": "2023-02-20T12:29:59.483Z"
   },
   {
    "duration": 150,
    "start_time": "2023-02-20T12:29:59.644Z"
   },
   {
    "duration": 167,
    "start_time": "2023-02-20T12:29:59.796Z"
   },
   {
    "duration": 179,
    "start_time": "2023-02-20T12:29:59.965Z"
   },
   {
    "duration": 179,
    "start_time": "2023-02-20T12:30:00.147Z"
   },
   {
    "duration": 193,
    "start_time": "2023-02-20T12:30:00.328Z"
   },
   {
    "duration": 140,
    "start_time": "2023-02-20T12:30:00.523Z"
   },
   {
    "duration": 0,
    "start_time": "2023-02-20T12:30:00.669Z"
   },
   {
    "duration": 0,
    "start_time": "2023-02-20T12:30:00.671Z"
   },
   {
    "duration": 0,
    "start_time": "2023-02-20T12:30:00.673Z"
   },
   {
    "duration": 172,
    "start_time": "2023-02-20T12:32:44.571Z"
   },
   {
    "duration": 254,
    "start_time": "2023-02-20T12:33:00.537Z"
   },
   {
    "duration": 21,
    "start_time": "2023-02-20T12:33:05.374Z"
   },
   {
    "duration": 299,
    "start_time": "2023-02-20T12:35:42.708Z"
   },
   {
    "duration": 170,
    "start_time": "2023-02-20T12:36:53.502Z"
   },
   {
    "duration": 1277,
    "start_time": "2023-02-21T07:04:09.655Z"
   },
   {
    "duration": 16,
    "start_time": "2023-02-21T07:04:10.935Z"
   },
   {
    "duration": 2187,
    "start_time": "2023-02-21T07:04:10.953Z"
   },
   {
    "duration": 8,
    "start_time": "2023-02-21T07:04:13.142Z"
   },
   {
    "duration": 51,
    "start_time": "2023-02-21T07:04:13.153Z"
   },
   {
    "duration": 36,
    "start_time": "2023-02-21T07:04:13.206Z"
   },
   {
    "duration": 11,
    "start_time": "2023-02-21T07:04:13.245Z"
   },
   {
    "duration": 9,
    "start_time": "2023-02-21T07:04:13.257Z"
   },
   {
    "duration": 42,
    "start_time": "2023-02-21T07:04:13.267Z"
   },
   {
    "duration": 6,
    "start_time": "2023-02-21T07:04:13.311Z"
   },
   {
    "duration": 17,
    "start_time": "2023-02-21T07:04:13.319Z"
   },
   {
    "duration": 20,
    "start_time": "2023-02-21T07:04:13.339Z"
   },
   {
    "duration": 14,
    "start_time": "2023-02-21T07:04:13.361Z"
   },
   {
    "duration": 64,
    "start_time": "2023-02-21T07:04:13.381Z"
   },
   {
    "duration": 12,
    "start_time": "2023-02-21T07:04:13.447Z"
   },
   {
    "duration": 11,
    "start_time": "2023-02-21T07:04:13.461Z"
   },
   {
    "duration": 5,
    "start_time": "2023-02-21T07:04:13.473Z"
   },
   {
    "duration": 25,
    "start_time": "2023-02-21T07:04:13.479Z"
   },
   {
    "duration": 9,
    "start_time": "2023-02-21T07:04:13.506Z"
   },
   {
    "duration": 15,
    "start_time": "2023-02-21T07:04:13.517Z"
   },
   {
    "duration": 320,
    "start_time": "2023-02-21T07:04:13.533Z"
   },
   {
    "duration": 5,
    "start_time": "2023-02-21T07:04:13.855Z"
   },
   {
    "duration": 78,
    "start_time": "2023-02-21T07:04:13.862Z"
   },
   {
    "duration": 456,
    "start_time": "2023-02-21T07:04:13.942Z"
   },
   {
    "duration": 222,
    "start_time": "2023-02-21T07:04:14.404Z"
   },
   {
    "duration": 205,
    "start_time": "2023-02-21T07:04:14.628Z"
   },
   {
    "duration": 149,
    "start_time": "2023-02-21T07:04:14.834Z"
   },
   {
    "duration": 147,
    "start_time": "2023-02-21T07:04:14.985Z"
   },
   {
    "duration": 284,
    "start_time": "2023-02-21T07:04:15.134Z"
   },
   {
    "duration": 161,
    "start_time": "2023-02-21T07:04:15.420Z"
   },
   {
    "duration": 183,
    "start_time": "2023-02-21T07:04:15.583Z"
   },
   {
    "duration": 137,
    "start_time": "2023-02-21T07:04:15.768Z"
   },
   {
    "duration": 151,
    "start_time": "2023-02-21T07:04:15.907Z"
   },
   {
    "duration": 148,
    "start_time": "2023-02-21T07:04:16.060Z"
   },
   {
    "duration": 195,
    "start_time": "2023-02-21T07:04:16.210Z"
   },
   {
    "duration": 239,
    "start_time": "2023-02-21T07:04:16.407Z"
   },
   {
    "duration": 214,
    "start_time": "2023-02-21T07:04:16.648Z"
   },
   {
    "duration": 14,
    "start_time": "2023-02-21T07:04:16.864Z"
   },
   {
    "duration": 25,
    "start_time": "2023-02-21T07:04:16.879Z"
   },
   {
    "duration": 5,
    "start_time": "2023-02-21T07:04:16.905Z"
   },
   {
    "duration": 236,
    "start_time": "2023-02-21T07:04:16.916Z"
   },
   {
    "duration": 306,
    "start_time": "2023-02-21T07:04:17.154Z"
   },
   {
    "duration": 248,
    "start_time": "2023-02-21T07:04:17.461Z"
   },
   {
    "duration": 6,
    "start_time": "2023-02-21T07:04:17.711Z"
   },
   {
    "duration": 198,
    "start_time": "2023-02-21T07:04:17.718Z"
   },
   {
    "duration": 170,
    "start_time": "2023-02-21T07:04:17.917Z"
   },
   {
    "duration": 143,
    "start_time": "2023-02-21T07:04:18.088Z"
   },
   {
    "duration": 144,
    "start_time": "2023-02-21T07:04:18.233Z"
   },
   {
    "duration": 161,
    "start_time": "2023-02-21T07:04:18.379Z"
   },
   {
    "duration": 156,
    "start_time": "2023-02-21T07:04:18.542Z"
   },
   {
    "duration": 155,
    "start_time": "2023-02-21T07:04:18.702Z"
   },
   {
    "duration": 176,
    "start_time": "2023-02-21T07:04:18.859Z"
   },
   {
    "duration": 20,
    "start_time": "2023-02-21T07:04:19.037Z"
   },
   {
    "duration": 56,
    "start_time": "2023-02-21T07:04:19.058Z"
   },
   {
    "duration": 15,
    "start_time": "2023-02-21T07:04:19.116Z"
   },
   {
    "duration": 211,
    "start_time": "2023-02-21T07:04:19.133Z"
   },
   {
    "duration": 173,
    "start_time": "2023-02-21T07:05:11.484Z"
   },
   {
    "duration": 1346,
    "start_time": "2023-03-13T08:31:23.435Z"
   },
   {
    "duration": 70,
    "start_time": "2023-05-11T12:26:42.140Z"
   },
   {
    "duration": 46,
    "start_time": "2023-08-18T08:38:07.785Z"
   },
   {
    "duration": 1592,
    "start_time": "2023-08-18T08:38:12.776Z"
   },
   {
    "duration": 14,
    "start_time": "2023-08-18T08:38:14.370Z"
   },
   {
    "duration": 1882,
    "start_time": "2023-08-18T08:38:14.385Z"
   },
   {
    "duration": 7,
    "start_time": "2023-08-18T08:38:16.269Z"
   },
   {
    "duration": 30,
    "start_time": "2023-08-18T08:38:16.277Z"
   },
   {
    "duration": 23,
    "start_time": "2023-08-18T08:38:16.308Z"
   },
   {
    "duration": 8,
    "start_time": "2023-08-18T08:38:16.332Z"
   },
   {
    "duration": 5,
    "start_time": "2023-08-18T08:38:16.341Z"
   },
   {
    "duration": 29,
    "start_time": "2023-08-18T08:38:16.347Z"
   },
   {
    "duration": 5,
    "start_time": "2023-08-18T08:38:16.378Z"
   },
   {
    "duration": 15,
    "start_time": "2023-08-18T08:38:16.384Z"
   },
   {
    "duration": 7,
    "start_time": "2023-08-18T08:38:16.400Z"
   },
   {
    "duration": 15,
    "start_time": "2023-08-18T08:38:16.409Z"
   },
   {
    "duration": 54,
    "start_time": "2023-08-18T08:38:16.426Z"
   },
   {
    "duration": 11,
    "start_time": "2023-08-18T08:38:16.482Z"
   },
   {
    "duration": 5,
    "start_time": "2023-08-18T08:38:16.494Z"
   },
   {
    "duration": 6,
    "start_time": "2023-08-18T08:38:16.500Z"
   },
   {
    "duration": 11,
    "start_time": "2023-08-18T08:38:16.507Z"
   },
   {
    "duration": 7,
    "start_time": "2023-08-18T08:38:16.520Z"
   },
   {
    "duration": 14,
    "start_time": "2023-08-18T08:38:16.528Z"
   },
   {
    "duration": 280,
    "start_time": "2023-08-18T08:38:16.543Z"
   },
   {
    "duration": 5,
    "start_time": "2023-08-18T08:38:16.824Z"
   },
   {
    "duration": 60,
    "start_time": "2023-08-18T08:38:16.830Z"
   },
   {
    "duration": 301,
    "start_time": "2023-08-18T08:38:16.891Z"
   },
   {
    "duration": 166,
    "start_time": "2023-08-18T08:38:17.194Z"
   },
   {
    "duration": 169,
    "start_time": "2023-08-18T08:38:17.362Z"
   },
   {
    "duration": 135,
    "start_time": "2023-08-18T08:38:17.533Z"
   },
   {
    "duration": 130,
    "start_time": "2023-08-18T08:38:17.674Z"
   },
   {
    "duration": 270,
    "start_time": "2023-08-18T08:38:17.806Z"
   },
   {
    "duration": 140,
    "start_time": "2023-08-18T08:38:18.078Z"
   },
   {
    "duration": 142,
    "start_time": "2023-08-18T08:38:18.220Z"
   },
   {
    "duration": 117,
    "start_time": "2023-08-18T08:38:18.363Z"
   },
   {
    "duration": 136,
    "start_time": "2023-08-18T08:38:18.482Z"
   },
   {
    "duration": 116,
    "start_time": "2023-08-18T08:38:18.619Z"
   },
   {
    "duration": 155,
    "start_time": "2023-08-18T08:38:18.736Z"
   },
   {
    "duration": 179,
    "start_time": "2023-08-18T08:38:18.892Z"
   },
   {
    "duration": 173,
    "start_time": "2023-08-18T08:38:19.074Z"
   },
   {
    "duration": 13,
    "start_time": "2023-08-18T08:38:19.249Z"
   },
   {
    "duration": 4,
    "start_time": "2023-08-18T08:38:19.274Z"
   },
   {
    "duration": 12,
    "start_time": "2023-08-18T08:38:19.279Z"
   },
   {
    "duration": 189,
    "start_time": "2023-08-18T08:38:19.292Z"
   },
   {
    "duration": 241,
    "start_time": "2023-08-18T08:38:19.482Z"
   },
   {
    "duration": 173,
    "start_time": "2023-08-18T08:38:19.725Z"
   },
   {
    "duration": 4,
    "start_time": "2023-08-18T08:38:19.900Z"
   },
   {
    "duration": 168,
    "start_time": "2023-08-18T08:38:19.906Z"
   },
   {
    "duration": 162,
    "start_time": "2023-08-18T08:38:20.076Z"
   },
   {
    "duration": 156,
    "start_time": "2023-08-18T08:38:20.239Z"
   },
   {
    "duration": 155,
    "start_time": "2023-08-18T08:38:20.397Z"
   },
   {
    "duration": 142,
    "start_time": "2023-08-18T08:38:20.553Z"
   },
   {
    "duration": 126,
    "start_time": "2023-08-18T08:38:20.697Z"
   },
   {
    "duration": 141,
    "start_time": "2023-08-18T08:38:20.824Z"
   },
   {
    "duration": 168,
    "start_time": "2023-08-18T08:38:20.967Z"
   },
   {
    "duration": 27,
    "start_time": "2023-08-18T08:38:21.136Z"
   },
   {
    "duration": 44,
    "start_time": "2023-08-18T08:38:21.164Z"
   },
   {
    "duration": 13,
    "start_time": "2023-08-18T08:38:21.210Z"
   },
   {
    "duration": 180,
    "start_time": "2023-08-18T08:38:21.224Z"
   },
   {
    "duration": 13,
    "start_time": "2023-08-18T08:38:21.407Z"
   },
   {
    "duration": 2499,
    "start_time": "2023-08-18T08:38:36.899Z"
   },
   {
    "duration": 1211,
    "start_time": "2023-08-18T08:38:42.366Z"
   },
   {
    "duration": 14,
    "start_time": "2023-08-18T08:38:43.579Z"
   },
   {
    "duration": 1981,
    "start_time": "2023-08-18T08:38:43.594Z"
   },
   {
    "duration": 8,
    "start_time": "2023-08-18T08:38:45.576Z"
   },
   {
    "duration": 56,
    "start_time": "2023-08-18T08:38:45.587Z"
   },
   {
    "duration": 29,
    "start_time": "2023-08-18T08:38:45.644Z"
   },
   {
    "duration": 8,
    "start_time": "2023-08-18T08:38:45.675Z"
   },
   {
    "duration": 5,
    "start_time": "2023-08-18T08:38:45.685Z"
   },
   {
    "duration": 12,
    "start_time": "2023-08-18T08:38:45.692Z"
   },
   {
    "duration": 8,
    "start_time": "2023-08-18T08:38:45.706Z"
   },
   {
    "duration": 11,
    "start_time": "2023-08-18T08:38:45.715Z"
   },
   {
    "duration": 6,
    "start_time": "2023-08-18T08:38:45.727Z"
   },
   {
    "duration": 10,
    "start_time": "2023-08-18T08:38:45.734Z"
   },
   {
    "duration": 67,
    "start_time": "2023-08-18T08:38:45.747Z"
   },
   {
    "duration": 10,
    "start_time": "2023-08-18T08:38:45.816Z"
   },
   {
    "duration": 11,
    "start_time": "2023-08-18T08:38:45.828Z"
   },
   {
    "duration": 5,
    "start_time": "2023-08-18T08:38:45.841Z"
   },
   {
    "duration": 10,
    "start_time": "2023-08-18T08:38:45.848Z"
   },
   {
    "duration": 18,
    "start_time": "2023-08-18T08:38:45.859Z"
   },
   {
    "duration": 14,
    "start_time": "2023-08-18T08:38:45.879Z"
   },
   {
    "duration": 269,
    "start_time": "2023-08-18T08:38:45.895Z"
   },
   {
    "duration": 4,
    "start_time": "2023-08-18T08:38:46.166Z"
   },
   {
    "duration": 61,
    "start_time": "2023-08-18T08:38:46.171Z"
   },
   {
    "duration": 286,
    "start_time": "2023-08-18T08:38:46.233Z"
   },
   {
    "duration": 182,
    "start_time": "2023-08-18T08:38:46.521Z"
   },
   {
    "duration": 170,
    "start_time": "2023-08-18T08:38:46.704Z"
   },
   {
    "duration": 138,
    "start_time": "2023-08-18T08:38:46.876Z"
   },
   {
    "duration": 135,
    "start_time": "2023-08-18T08:38:47.015Z"
   },
   {
    "duration": 246,
    "start_time": "2023-08-18T08:38:47.151Z"
   },
   {
    "duration": 126,
    "start_time": "2023-08-18T08:38:47.399Z"
   },
   {
    "duration": 138,
    "start_time": "2023-08-18T08:38:47.527Z"
   },
   {
    "duration": 111,
    "start_time": "2023-08-18T08:38:47.667Z"
   },
   {
    "duration": 143,
    "start_time": "2023-08-18T08:38:47.780Z"
   },
   {
    "duration": 128,
    "start_time": "2023-08-18T08:38:47.925Z"
   },
   {
    "duration": 144,
    "start_time": "2023-08-18T08:38:48.055Z"
   },
   {
    "duration": 177,
    "start_time": "2023-08-18T08:38:48.200Z"
   },
   {
    "duration": 167,
    "start_time": "2023-08-18T08:38:48.379Z"
   },
   {
    "duration": 13,
    "start_time": "2023-08-18T08:38:48.547Z"
   },
   {
    "duration": 15,
    "start_time": "2023-08-18T08:38:48.562Z"
   },
   {
    "duration": 15,
    "start_time": "2023-08-18T08:38:48.578Z"
   },
   {
    "duration": 205,
    "start_time": "2023-08-18T08:38:48.597Z"
   },
   {
    "duration": 258,
    "start_time": "2023-08-18T08:38:48.803Z"
   },
   {
    "duration": 180,
    "start_time": "2023-08-18T08:38:49.062Z"
   },
   {
    "duration": 6,
    "start_time": "2023-08-18T08:38:49.243Z"
   },
   {
    "duration": 178,
    "start_time": "2023-08-18T08:38:49.250Z"
   },
   {
    "duration": 157,
    "start_time": "2023-08-18T08:38:49.430Z"
   },
   {
    "duration": 143,
    "start_time": "2023-08-18T08:38:49.588Z"
   },
   {
    "duration": 128,
    "start_time": "2023-08-18T08:38:49.732Z"
   },
   {
    "duration": 135,
    "start_time": "2023-08-18T08:38:49.861Z"
   },
   {
    "duration": 154,
    "start_time": "2023-08-18T08:38:49.998Z"
   },
   {
    "duration": 167,
    "start_time": "2023-08-18T08:38:50.155Z"
   },
   {
    "duration": 186,
    "start_time": "2023-08-18T08:38:50.324Z"
   },
   {
    "duration": 20,
    "start_time": "2023-08-18T08:38:50.512Z"
   },
   {
    "duration": 53,
    "start_time": "2023-08-18T08:38:50.534Z"
   },
   {
    "duration": 13,
    "start_time": "2023-08-18T08:38:50.589Z"
   },
   {
    "duration": 155,
    "start_time": "2023-08-18T08:38:50.604Z"
   }
  ],
  "kernelspec": {
   "display_name": "Python 3 (ipykernel)",
   "language": "python",
   "name": "python3"
  },
  "language_info": {
   "codemirror_mode": {
    "name": "ipython",
    "version": 3
   },
   "file_extension": ".py",
   "mimetype": "text/x-python",
   "name": "python",
   "nbconvert_exporter": "python",
   "pygments_lexer": "ipython3",
   "version": "3.10.9"
  },
  "toc": {
   "base_numbering": 1,
   "nav_menu": {},
   "number_sections": true,
   "sideBar": true,
   "skip_h1_title": true,
   "title_cell": "Table of Contents",
   "title_sidebar": "Contents",
   "toc_cell": false,
   "toc_position": {
    "height": "calc(100% - 180px)",
    "left": "10px",
    "top": "150px",
    "width": "255.391px"
   },
   "toc_section_display": true,
   "toc_window_display": false
  }
 },
 "nbformat": 4,
 "nbformat_minor": 2
}
