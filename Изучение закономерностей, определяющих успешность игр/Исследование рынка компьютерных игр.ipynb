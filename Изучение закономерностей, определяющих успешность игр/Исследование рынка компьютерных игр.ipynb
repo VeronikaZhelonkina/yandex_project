{
 "cells": [
  {
   "cell_type": "markdown",
   "metadata": {},
   "source": [
    "\n",
    "#   Исследование рынка компьютерных игр  \n",
    "\n",
    "Интернет-магазин «Стримчик», продаёт компьютерные игры по всему миру. Компании необходимо сделать ставку на потенциально популярный продукт и разработать стратегию рекламных компаний на следующий год.\n",
    "\n",
    "На основе данных о продажах игр, оценки пользователей и экспертов, жанры и платформы из открытых источников необходимо провести оценку и выявить определяющие успешность игры факторы, популярные рынки сбыта, платформы и возрастную группу игроков.\n",
    "\n",
    "#  Цель исследования:\n",
    "\n",
    "Провести анализ данных для определения потенциально популярного продукта и выработки соответствующих рекомендаций по планированию его рекламных компаний.\n",
    "\n",
    "# Задачи исследования:\n",
    "\n",
    "- Описать состояния рынка компьютерных игр по регионам\n",
    "\n",
    "- Определить наиболее популярные платформы и жанры игр в регионах\n",
    "\n",
    "- Оценить объемы продаж компьютерных игр в зависимости от платформы\n",
    "\n",
    "- Проанализировать факторы, влияющих на рынок компьютерных игр\n",
    "\n",
    "- Составить прогноз продаж компьютерных игр на 2017 г.\n",
    "\n",
    "# Исходные данные:\n",
    "- Name — название игры\n",
    "- Platform — платформа\n",
    "- Year_of_Release — год выпуска\n",
    "- Genre — жанр игры\n",
    "- NA_sales — продажи в Северной Америке (миллионы проданных копий)\n",
    "- EU_sales — продажи в Европе (миллионы проданных копий)\n",
    "- JP_sales — продажи в Японии (миллионы проданных копий)\n",
    "- Other_sales — продажи в других странах (миллионы проданных копий)\n",
    "- Critic_Score — оценка критиков (максимум 100)\n",
    "- User_Score — оценка пользователей (максимум 10)\n",
    "- Rating — рейтинг от организации ESRB (англ. Entertainment Software Rating Board). Эта ассоциация определяет рейтинг компьютерных игр и присваивает им подходящую возрастную категорию.  \n",
    "\n",
    "Данное исследование разделим на несколько частей. \n",
    "\n",
    "*[Часть 1. Изучение общей информации:](#1)*\n",
    "\n",
    "*[Часть 2. Подготовка данных:](#2)*\n",
    "\n",
    "*[Часть 3. Исследовательский анализ данных](#3)*\n",
    "\n",
    "*[Часть 4. Портрет пользователя каждого региона](#4)*\n",
    "\n",
    "*[Часть 5. Проверка гипотез](#5)*\n",
    "* [1. Проверка гипотезы: средние пользовательские рейтинги платформ Xbox One и PC одинаковые. ](#5.1)\n",
    "* [2. Проверка гипотезы: средние пользовательские рейтинги жанров Action и Sports разные. ](#5.2)\n",
    "\n",
    "*[Часть 6. Общий вывод](#6)* "
   ]
  },
  {
   "cell_type": "markdown",
   "metadata": {},
   "source": [
    "<a id='1'></a>\n",
    "### Изучение общей информации:"
   ]
  },
  {
   "cell_type": "code",
   "execution_count": 2,
   "metadata": {},
   "outputs": [],
   "source": [
    "#импортируем библиотеки\n",
    "import pandas as pd\n",
    "import datetime as dt\n",
    "import matplotlib.pyplot as plt\n",
    "import math as mth\n",
    "import numpy as np\n",
    "from scipy import stats as st"
   ]
  },
  {
   "cell_type": "code",
   "execution_count": 2,
   "metadata": {},
   "outputs": [
    {
     "data": {
      "text/html": [
       "<div>\n",
       "<style scoped>\n",
       "    .dataframe tbody tr th:only-of-type {\n",
       "        vertical-align: middle;\n",
       "    }\n",
       "\n",
       "    .dataframe tbody tr th {\n",
       "        vertical-align: top;\n",
       "    }\n",
       "\n",
       "    .dataframe thead th {\n",
       "        text-align: right;\n",
       "    }\n",
       "</style>\n",
       "<table border=\"1\" class=\"dataframe\">\n",
       "  <thead>\n",
       "    <tr style=\"text-align: right;\">\n",
       "      <th></th>\n",
       "      <th>Name</th>\n",
       "      <th>Platform</th>\n",
       "      <th>Year_of_Release</th>\n",
       "      <th>Genre</th>\n",
       "      <th>NA_sales</th>\n",
       "      <th>EU_sales</th>\n",
       "      <th>JP_sales</th>\n",
       "      <th>Other_sales</th>\n",
       "      <th>Critic_Score</th>\n",
       "      <th>User_Score</th>\n",
       "      <th>Rating</th>\n",
       "    </tr>\n",
       "  </thead>\n",
       "  <tbody>\n",
       "    <tr>\n",
       "      <th>5414</th>\n",
       "      <td>Teenage Mutant Ninja Turtles</td>\n",
       "      <td>GC</td>\n",
       "      <td>2003.0</td>\n",
       "      <td>Action</td>\n",
       "      <td>0.26</td>\n",
       "      <td>0.07</td>\n",
       "      <td>0.0</td>\n",
       "      <td>0.01</td>\n",
       "      <td>57.0</td>\n",
       "      <td>8</td>\n",
       "      <td>E</td>\n",
       "    </tr>\n",
       "    <tr>\n",
       "      <th>13475</th>\n",
       "      <td>Wayne Gretzky's 3D Hockey '98</td>\n",
       "      <td>PS</td>\n",
       "      <td>1997.0</td>\n",
       "      <td>Sports</td>\n",
       "      <td>0.03</td>\n",
       "      <td>0.02</td>\n",
       "      <td>0.0</td>\n",
       "      <td>0.00</td>\n",
       "      <td>NaN</td>\n",
       "      <td>NaN</td>\n",
       "      <td>NaN</td>\n",
       "    </tr>\n",
       "    <tr>\n",
       "      <th>13534</th>\n",
       "      <td>Boktai 2: Solar Boy Django</td>\n",
       "      <td>GBA</td>\n",
       "      <td>2004.0</td>\n",
       "      <td>Role-Playing</td>\n",
       "      <td>0.03</td>\n",
       "      <td>0.01</td>\n",
       "      <td>0.0</td>\n",
       "      <td>0.00</td>\n",
       "      <td>78.0</td>\n",
       "      <td>8.5</td>\n",
       "      <td>T</td>\n",
       "    </tr>\n",
       "    <tr>\n",
       "      <th>6313</th>\n",
       "      <td>NHL 07</td>\n",
       "      <td>X360</td>\n",
       "      <td>2006.0</td>\n",
       "      <td>Sports</td>\n",
       "      <td>0.25</td>\n",
       "      <td>0.00</td>\n",
       "      <td>0.0</td>\n",
       "      <td>0.02</td>\n",
       "      <td>79.0</td>\n",
       "      <td>5.3</td>\n",
       "      <td>E10+</td>\n",
       "    </tr>\n",
       "    <tr>\n",
       "      <th>291</th>\n",
       "      <td>World Soccer Winning Eleven 9</td>\n",
       "      <td>PS2</td>\n",
       "      <td>2005.0</td>\n",
       "      <td>Sports</td>\n",
       "      <td>0.12</td>\n",
       "      <td>2.26</td>\n",
       "      <td>0.9</td>\n",
       "      <td>0.77</td>\n",
       "      <td>NaN</td>\n",
       "      <td>8.2</td>\n",
       "      <td>E</td>\n",
       "    </tr>\n",
       "    <tr>\n",
       "      <th>2318</th>\n",
       "      <td>Harry Potter: Quidditch World Cup</td>\n",
       "      <td>PS2</td>\n",
       "      <td>2003.0</td>\n",
       "      <td>Sports</td>\n",
       "      <td>0.44</td>\n",
       "      <td>0.34</td>\n",
       "      <td>0.0</td>\n",
       "      <td>0.11</td>\n",
       "      <td>68.0</td>\n",
       "      <td>6.6</td>\n",
       "      <td>E</td>\n",
       "    </tr>\n",
       "    <tr>\n",
       "      <th>7637</th>\n",
       "      <td>Cabela's North American Adventures</td>\n",
       "      <td>Wii</td>\n",
       "      <td>2010.0</td>\n",
       "      <td>Sports</td>\n",
       "      <td>0.19</td>\n",
       "      <td>0.00</td>\n",
       "      <td>0.0</td>\n",
       "      <td>0.01</td>\n",
       "      <td>NaN</td>\n",
       "      <td>tbd</td>\n",
       "      <td>T</td>\n",
       "    </tr>\n",
       "    <tr>\n",
       "      <th>2724</th>\n",
       "      <td>DJ Hero 2</td>\n",
       "      <td>PS3</td>\n",
       "      <td>2010.0</td>\n",
       "      <td>Misc</td>\n",
       "      <td>0.47</td>\n",
       "      <td>0.19</td>\n",
       "      <td>0.0</td>\n",
       "      <td>0.10</td>\n",
       "      <td>86.0</td>\n",
       "      <td>7.8</td>\n",
       "      <td>T</td>\n",
       "    </tr>\n",
       "    <tr>\n",
       "      <th>9197</th>\n",
       "      <td>7 Days to Die</td>\n",
       "      <td>PS4</td>\n",
       "      <td>2016.0</td>\n",
       "      <td>Action</td>\n",
       "      <td>0.04</td>\n",
       "      <td>0.08</td>\n",
       "      <td>0.0</td>\n",
       "      <td>0.02</td>\n",
       "      <td>45.0</td>\n",
       "      <td>5.9</td>\n",
       "      <td>M</td>\n",
       "    </tr>\n",
       "    <tr>\n",
       "      <th>7037</th>\n",
       "      <td>Carnival Island</td>\n",
       "      <td>PS3</td>\n",
       "      <td>2011.0</td>\n",
       "      <td>Misc</td>\n",
       "      <td>0.13</td>\n",
       "      <td>0.06</td>\n",
       "      <td>0.0</td>\n",
       "      <td>0.04</td>\n",
       "      <td>66.0</td>\n",
       "      <td>5.2</td>\n",
       "      <td>E</td>\n",
       "    </tr>\n",
       "  </tbody>\n",
       "</table>\n",
       "</div>"
      ],
      "text/plain": [
       "                                     Name Platform  Year_of_Release  \\\n",
       "5414         Teenage Mutant Ninja Turtles       GC           2003.0   \n",
       "13475       Wayne Gretzky's 3D Hockey '98       PS           1997.0   \n",
       "13534          Boktai 2: Solar Boy Django      GBA           2004.0   \n",
       "6313                               NHL 07     X360           2006.0   \n",
       "291         World Soccer Winning Eleven 9      PS2           2005.0   \n",
       "2318    Harry Potter: Quidditch World Cup      PS2           2003.0   \n",
       "7637   Cabela's North American Adventures      Wii           2010.0   \n",
       "2724                            DJ Hero 2      PS3           2010.0   \n",
       "9197                        7 Days to Die      PS4           2016.0   \n",
       "7037                      Carnival Island      PS3           2011.0   \n",
       "\n",
       "              Genre  NA_sales  EU_sales  JP_sales  Other_sales  Critic_Score  \\\n",
       "5414         Action      0.26      0.07       0.0         0.01          57.0   \n",
       "13475        Sports      0.03      0.02       0.0         0.00           NaN   \n",
       "13534  Role-Playing      0.03      0.01       0.0         0.00          78.0   \n",
       "6313         Sports      0.25      0.00       0.0         0.02          79.0   \n",
       "291          Sports      0.12      2.26       0.9         0.77           NaN   \n",
       "2318         Sports      0.44      0.34       0.0         0.11          68.0   \n",
       "7637         Sports      0.19      0.00       0.0         0.01           NaN   \n",
       "2724           Misc      0.47      0.19       0.0         0.10          86.0   \n",
       "9197         Action      0.04      0.08       0.0         0.02          45.0   \n",
       "7037           Misc      0.13      0.06       0.0         0.04          66.0   \n",
       "\n",
       "      User_Score Rating  \n",
       "5414           8      E  \n",
       "13475        NaN    NaN  \n",
       "13534        8.5      T  \n",
       "6313         5.3   E10+  \n",
       "291          8.2      E  \n",
       "2318         6.6      E  \n",
       "7637         tbd      T  \n",
       "2724         7.8      T  \n",
       "9197         5.9      M  \n",
       "7037         5.2      E  "
      ]
     },
     "execution_count": 2,
     "metadata": {},
     "output_type": "execute_result"
    }
   ],
   "source": [
    "#откроем файл и посмотрим 10 строк\n",
    "games = pd.read_csv('/datasets/play.csv')\n",
    "games.sample(10)"
   ]
  },
  {
   "cell_type": "code",
   "execution_count": 3,
   "metadata": {},
   "outputs": [
    {
     "name": "stdout",
     "output_type": "stream",
     "text": [
      "<class 'pandas.core.frame.DataFrame'>\n",
      "RangeIndex: 16715 entries, 0 to 16714\n",
      "Data columns (total 11 columns):\n",
      " #   Column           Non-Null Count  Dtype  \n",
      "---  ------           --------------  -----  \n",
      " 0   Name             16713 non-null  object \n",
      " 1   Platform         16715 non-null  object \n",
      " 2   Year_of_Release  16446 non-null  float64\n",
      " 3   Genre            16713 non-null  object \n",
      " 4   NA_sales         16715 non-null  float64\n",
      " 5   EU_sales         16715 non-null  float64\n",
      " 6   JP_sales         16715 non-null  float64\n",
      " 7   Other_sales      16715 non-null  float64\n",
      " 8   Critic_Score     8137 non-null   float64\n",
      " 9   User_Score       10014 non-null  object \n",
      " 10  Rating           9949 non-null   object \n",
      "dtypes: float64(6), object(5)\n",
      "memory usage: 1.4+ MB\n"
     ]
    }
   ],
   "source": [
    "#выведем общую информацию\n",
    "games.info()"
   ]
  },
  {
   "cell_type": "markdown",
   "metadata": {},
   "source": [
    "Всего у нас 16715 записей. В данных есть пропуски, также видны проблемы с типом данных. Посмотрим дальше как это можно исправить."
   ]
  },
  {
   "cell_type": "markdown",
   "metadata": {},
   "source": [
    "<a id='2'></a>\n",
    "### Подготовка данных: "
   ]
  },
  {
   "cell_type": "markdown",
   "metadata": {},
   "source": [
    "Приступим к обработке данных. Для начала приведем в порядок названия столбцов."
   ]
  },
  {
   "cell_type": "code",
   "execution_count": 4,
   "metadata": {},
   "outputs": [
    {
     "data": {
      "text/plain": [
       "Index(['name', 'platform', 'year_of_release', 'genre', 'na_sales', 'eu_sales',\n",
       "       'jp_sales', 'other_sales', 'critic_score', 'user_score', 'rating'],\n",
       "      dtype='object')"
      ]
     },
     "execution_count": 4,
     "metadata": {},
     "output_type": "execute_result"
    }
   ],
   "source": [
    "#названия столбцов приведем к нижнему регистру\n",
    "games.columns = games.columns.str.lower()\n",
    "games.columns"
   ]
  },
  {
   "cell_type": "code",
   "execution_count": 5,
   "metadata": {},
   "outputs": [
    {
     "data": {
      "text/plain": [
       "platform              0\n",
       "na_sales              0\n",
       "eu_sales              0\n",
       "jp_sales              0\n",
       "other_sales           0\n",
       "name                  2\n",
       "genre                 2\n",
       "year_of_release     269\n",
       "user_score         6701\n",
       "rating             6766\n",
       "critic_score       8578\n",
       "dtype: int64"
      ]
     },
     "execution_count": 5,
     "metadata": {},
     "output_type": "execute_result"
    }
   ],
   "source": [
    "#подсчитаем пропуски\n",
    "games.isna().sum().sort_values()"
   ]
  },
  {
   "cell_type": "markdown",
   "metadata": {},
   "source": [
    " Пропуски замечены в 6 столбцах из 11. В 2 столбцах всего по 2 пропуска,что совсем незначительно, поэтому их можно просто отбросить. Также в столбце 'year_of_release' 269 пропусков, это 1.6 % от общих записей,это немного и на анализ не повлияет, удалим их. Много пропусков в столбцах 'user_score','rating','critic_score'.Возможно игры просто не были оценены критиками и пользователями, а рейтинг ассоциации ESRB в некоторые года возможно еще не был так распространен и не использовался. Средними и медианой заполнять такие значения неправильно. Не для всех пропусков можно найти логичную замену, поэтому столбцы 'user_score' и 'critic_score' оставим с пропусками. А в столбце 'rating' важная информация, и нужная для дальнейшего анализа, поэтому заменим пропуски на 'Unknown'. \n",
    " "
   ]
  },
  {
   "cell_type": "markdown",
   "metadata": {},
   "source": [
    "В столбце 'user_score' помимо Nan встречается аббревиатура 'tbd'. Нашла информацию, что TBD - от английского To Be Determined (будет определено) или To Be Decided (будет решено). Используется, если какая-то информация еще не определена или решение по вопросу не принято. Думаю, что tbd можно заменить на Nan в столбце,по смыслу это примерно одно и тоже."
   ]
  },
  {
   "cell_type": "code",
   "execution_count": 6,
   "metadata": {},
   "outputs": [
    {
     "data": {
      "text/plain": [
       "(16715, 11)"
      ]
     },
     "execution_count": 6,
     "metadata": {},
     "output_type": "execute_result"
    }
   ],
   "source": [
    "#проверим количество строк и столбцов\n",
    "games.shape"
   ]
  },
  {
   "cell_type": "code",
   "execution_count": 7,
   "metadata": {},
   "outputs": [],
   "source": [
    "#удалим строки без названия и жанра\n",
    "games = games.dropna(subset=['name','genre','year_of_release'])\n",
    "#заменим пропуски в столбце 'user_score' на Nan\n",
    "games['user_score'] = games['user_score'].replace('tbd', np.NaN)\n",
    "#заменим пропуски в столбце 'rating' на 'Unknown'\n",
    "games['rating'] = games['rating'].fillna(value = 'Unknown')"
   ]
  },
  {
   "cell_type": "code",
   "execution_count": 8,
   "metadata": {},
   "outputs": [
    {
     "data": {
      "text/plain": [
       "(16444, 11)"
      ]
     },
     "execution_count": 8,
     "metadata": {},
     "output_type": "execute_result"
    }
   ],
   "source": [
    "#проверим количество строк и столбцов после удаления\n",
    "games.shape"
   ]
  },
  {
   "cell_type": "markdown",
   "metadata": {},
   "source": [
    "Далее рассмотрим типы данных в столбцах и если это будет необходимо, изменим их."
   ]
  },
  {
   "cell_type": "code",
   "execution_count": 9,
   "metadata": {},
   "outputs": [],
   "source": [
    "#user_score - тип данных object, изменим на  float64\n",
    "games['user_score']= games['user_score'].astype('float64')\n",
    "\n",
    "#year_of_release - тип данных float64, изменим на  целочисленный тип\n",
    "games['year_of_release']= games['year_of_release'].astype('int')"
   ]
  },
  {
   "cell_type": "code",
   "execution_count": 10,
   "metadata": {},
   "outputs": [
    {
     "data": {
      "text/plain": [
       "0"
      ]
     },
     "execution_count": 10,
     "metadata": {},
     "output_type": "execute_result"
    }
   ],
   "source": [
    "#проверим наличие явных дубликатов\n",
    "games.duplicated().sum()"
   ]
  },
  {
   "cell_type": "code",
   "execution_count": 11,
   "metadata": {},
   "outputs": [
    {
     "data": {
      "text/html": [
       "<div>\n",
       "<style scoped>\n",
       "    .dataframe tbody tr th:only-of-type {\n",
       "        vertical-align: middle;\n",
       "    }\n",
       "\n",
       "    .dataframe tbody tr th {\n",
       "        vertical-align: top;\n",
       "    }\n",
       "\n",
       "    .dataframe thead th {\n",
       "        text-align: right;\n",
       "    }\n",
       "</style>\n",
       "<table border=\"1\" class=\"dataframe\">\n",
       "  <thead>\n",
       "    <tr style=\"text-align: right;\">\n",
       "      <th></th>\n",
       "      <th>name</th>\n",
       "      <th>platform</th>\n",
       "      <th>year_of_release</th>\n",
       "      <th>genre</th>\n",
       "      <th>na_sales</th>\n",
       "      <th>eu_sales</th>\n",
       "      <th>jp_sales</th>\n",
       "      <th>other_sales</th>\n",
       "      <th>critic_score</th>\n",
       "      <th>user_score</th>\n",
       "      <th>rating</th>\n",
       "    </tr>\n",
       "  </thead>\n",
       "  <tbody>\n",
       "    <tr>\n",
       "      <th>604</th>\n",
       "      <td>Madden NFL 13</td>\n",
       "      <td>PS3</td>\n",
       "      <td>2012</td>\n",
       "      <td>Sports</td>\n",
       "      <td>2.11</td>\n",
       "      <td>0.22</td>\n",
       "      <td>0.00</td>\n",
       "      <td>0.23</td>\n",
       "      <td>83.0</td>\n",
       "      <td>5.5</td>\n",
       "      <td>E</td>\n",
       "    </tr>\n",
       "    <tr>\n",
       "      <th>16230</th>\n",
       "      <td>Madden NFL 13</td>\n",
       "      <td>PS3</td>\n",
       "      <td>2012</td>\n",
       "      <td>Sports</td>\n",
       "      <td>0.00</td>\n",
       "      <td>0.01</td>\n",
       "      <td>0.00</td>\n",
       "      <td>0.00</td>\n",
       "      <td>83.0</td>\n",
       "      <td>5.5</td>\n",
       "      <td>E</td>\n",
       "    </tr>\n",
       "    <tr>\n",
       "      <th>5972</th>\n",
       "      <td>Need for Speed: Most Wanted</td>\n",
       "      <td>PC</td>\n",
       "      <td>2005</td>\n",
       "      <td>Racing</td>\n",
       "      <td>0.02</td>\n",
       "      <td>0.23</td>\n",
       "      <td>0.00</td>\n",
       "      <td>0.04</td>\n",
       "      <td>82.0</td>\n",
       "      <td>8.5</td>\n",
       "      <td>T</td>\n",
       "    </tr>\n",
       "    <tr>\n",
       "      <th>11715</th>\n",
       "      <td>Need for Speed: Most Wanted</td>\n",
       "      <td>PC</td>\n",
       "      <td>2012</td>\n",
       "      <td>Racing</td>\n",
       "      <td>0.00</td>\n",
       "      <td>0.06</td>\n",
       "      <td>0.00</td>\n",
       "      <td>0.02</td>\n",
       "      <td>82.0</td>\n",
       "      <td>8.5</td>\n",
       "      <td>T</td>\n",
       "    </tr>\n",
       "    <tr>\n",
       "      <th>1190</th>\n",
       "      <td>Need for Speed: Most Wanted</td>\n",
       "      <td>X360</td>\n",
       "      <td>2012</td>\n",
       "      <td>Racing</td>\n",
       "      <td>0.62</td>\n",
       "      <td>0.78</td>\n",
       "      <td>0.01</td>\n",
       "      <td>0.15</td>\n",
       "      <td>83.0</td>\n",
       "      <td>8.5</td>\n",
       "      <td>T</td>\n",
       "    </tr>\n",
       "    <tr>\n",
       "      <th>1591</th>\n",
       "      <td>Need for Speed: Most Wanted</td>\n",
       "      <td>X360</td>\n",
       "      <td>2005</td>\n",
       "      <td>Racing</td>\n",
       "      <td>1.00</td>\n",
       "      <td>0.13</td>\n",
       "      <td>0.02</td>\n",
       "      <td>0.10</td>\n",
       "      <td>83.0</td>\n",
       "      <td>8.5</td>\n",
       "      <td>T</td>\n",
       "    </tr>\n",
       "  </tbody>\n",
       "</table>\n",
       "</div>"
      ],
      "text/plain": [
       "                              name platform  year_of_release   genre  \\\n",
       "604                  Madden NFL 13      PS3             2012  Sports   \n",
       "16230                Madden NFL 13      PS3             2012  Sports   \n",
       "5972   Need for Speed: Most Wanted       PC             2005  Racing   \n",
       "11715  Need for Speed: Most Wanted       PC             2012  Racing   \n",
       "1190   Need for Speed: Most Wanted     X360             2012  Racing   \n",
       "1591   Need for Speed: Most Wanted     X360             2005  Racing   \n",
       "\n",
       "       na_sales  eu_sales  jp_sales  other_sales  critic_score  user_score  \\\n",
       "604        2.11      0.22      0.00         0.23          83.0         5.5   \n",
       "16230      0.00      0.01      0.00         0.00          83.0         5.5   \n",
       "5972       0.02      0.23      0.00         0.04          82.0         8.5   \n",
       "11715      0.00      0.06      0.00         0.02          82.0         8.5   \n",
       "1190       0.62      0.78      0.01         0.15          83.0         8.5   \n",
       "1591       1.00      0.13      0.02         0.10          83.0         8.5   \n",
       "\n",
       "      rating  \n",
       "604        E  \n",
       "16230      E  \n",
       "5972       T  \n",
       "11715      T  \n",
       "1190       T  \n",
       "1591       T  "
      ]
     },
     "execution_count": 11,
     "metadata": {},
     "output_type": "execute_result"
    }
   ],
   "source": [
    "#найдем неявные дубликаты\n",
    "games[games.duplicated(subset=['name','platform'], keep=False)].sort_values(['name','platform'])"
   ]
  },
  {
   "cell_type": "markdown",
   "metadata": {},
   "source": [
    "Посчитаем суммарные продажи во всех регионах и запишите их в отдельный столбец."
   ]
  },
  {
   "cell_type": "code",
   "execution_count": 12,
   "metadata": {
    "scrolled": true
   },
   "outputs": [],
   "source": [
    "games['total_sales'] = games[['na_sales','eu_sales','jp_sales','other_sales']].sum(axis=1)"
   ]
  },
  {
   "cell_type": "code",
   "execution_count": 13,
   "metadata": {},
   "outputs": [
    {
     "name": "stdout",
     "output_type": "stream",
     "text": [
      "<class 'pandas.core.frame.DataFrame'>\n",
      "Int64Index: 16444 entries, 0 to 16714\n",
      "Data columns (total 12 columns):\n",
      " #   Column           Non-Null Count  Dtype  \n",
      "---  ------           --------------  -----  \n",
      " 0   name             16444 non-null  object \n",
      " 1   platform         16444 non-null  object \n",
      " 2   year_of_release  16444 non-null  int64  \n",
      " 3   genre            16444 non-null  object \n",
      " 4   na_sales         16444 non-null  float64\n",
      " 5   eu_sales         16444 non-null  float64\n",
      " 6   jp_sales         16444 non-null  float64\n",
      " 7   other_sales      16444 non-null  float64\n",
      " 8   critic_score     7983 non-null   float64\n",
      " 9   user_score       7463 non-null   float64\n",
      " 10  rating           16444 non-null  object \n",
      " 11  total_sales      16444 non-null  float64\n",
      "dtypes: float64(7), int64(1), object(4)\n",
      "memory usage: 1.6+ MB\n"
     ]
    }
   ],
   "source": [
    "#отобразим конечный результат предообработки\n",
    "games.info()"
   ]
  },
  {
   "cell_type": "markdown",
   "metadata": {},
   "source": [
    "Вывод: мы заменили названия столбцов, заполнили пропуски,где это было возможно, а также исправили типы данных, теперь можно приступать к анализу данных."
   ]
  },
  {
   "cell_type": "markdown",
   "metadata": {},
   "source": [
    "<a id='3'></a>\n",
    "### Исследовательский анализ данных "
   ]
  },
  {
   "cell_type": "markdown",
   "metadata": {},
   "source": [
    "Посмотрим, сколько игр выпускалось в разные годы и важны ли данные за все периоды?"
   ]
  },
  {
   "cell_type": "markdown",
   "metadata": {},
   "source": [
    "В начале,чтобы получить истинное количество «игр по годам» нам следует поискать дубликаты (используя subset по (Годам - Названиям игр) и затем исключить из полного датафрейма все дубли за исключением одной, «первой», строки."
   ]
  },
  {
   "cell_type": "code",
   "execution_count": 14,
   "metadata": {},
   "outputs": [
    {
     "data": {
      "text/plain": [
       "4249"
      ]
     },
     "execution_count": 14,
     "metadata": {},
     "output_type": "execute_result"
    }
   ],
   "source": [
    "# проверим дубликаты \n",
    "games.duplicated(subset=['name','year_of_release']).sum()"
   ]
  },
  {
   "cell_type": "code",
   "execution_count": 15,
   "metadata": {},
   "outputs": [
    {
     "data": {
      "text/plain": [
       "(16444, 12)"
      ]
     },
     "execution_count": 15,
     "metadata": {},
     "output_type": "execute_result"
    }
   ],
   "source": [
    "games.shape"
   ]
  },
  {
   "cell_type": "code",
   "execution_count": 16,
   "metadata": {},
   "outputs": [],
   "source": [
    "# удалим дубликаты\n",
    "game_annual =  games.drop_duplicates(subset = ['name','year_of_release'],keep = 'first')"
   ]
  },
  {
   "cell_type": "code",
   "execution_count": 17,
   "metadata": {},
   "outputs": [
    {
     "data": {
      "text/plain": [
       "(12195, 12)"
      ]
     },
     "execution_count": 17,
     "metadata": {},
     "output_type": "execute_result"
    }
   ],
   "source": [
    "game_annual.shape"
   ]
  },
  {
   "cell_type": "code",
   "execution_count": 18,
   "metadata": {},
   "outputs": [],
   "source": [
    "# создадим сводную таблицу\n",
    "games_per_year =game_annual.pivot_table(index='year_of_release',values='name',aggfunc='count')"
   ]
  },
  {
   "cell_type": "code",
   "execution_count": 19,
   "metadata": {},
   "outputs": [
    {
     "data": {
      "image/png": "[encoded data removed]",
      "text/plain": [
       "<Figure size 1440x720 with 1 Axes>"
      ]
     },
     "metadata": {
      "needs_background": "light"
     },
     "output_type": "display_data"
    }
   ],
   "source": [
    "#построим график\n",
    "games_per_year.plot(kind='bar',grid=True,style='o-',figsize=[20, 10]);\n",
    "plt.title('Количество выпущенных игр в год');\n",
    "plt.xlabel('Год выпуска');\n",
    "plt.ylabel('Количество игр');"
   ]
  },
  {
   "cell_type": "markdown",
   "metadata": {},
   "source": [
    "Из графика видно, что до 1994 года игр было совсем мало,данные за этот период рассматривать не стоит.В 2000-х годах рынок компьютерных игр начинает быстро расти вплоть до 2008-2009 г,потом начался спад, связанный с экономическим кризисом. C 2013 по 2016 количество выпускаемых игр меняется незначительно."
   ]
  },
  {
   "cell_type": "markdown",
   "metadata": {},
   "source": [
    "Посмотрим, как менялись продажи по платформам. Выберем платформы с наибольшими суммарными продажами и построим распределение по годам. За какой характерный срок появляются новые и исчезают старые платформы?"
   ]
  },
  {
   "cell_type": "code",
   "execution_count": 20,
   "metadata": {},
   "outputs": [
    {
     "data": {
      "text/plain": [
       "platform\n",
       "PS2     1233.56\n",
       "X360     961.24\n",
       "PS3      931.34\n",
       "Wii      891.18\n",
       "DS       802.78\n",
       "PS       727.58\n",
       "PS4      314.14\n",
       "GBA      312.88\n",
       "PSP      289.53\n",
       "3DS      257.81\n",
       "Name: total_sales, dtype: float64"
      ]
     },
     "execution_count": 20,
     "metadata": {},
     "output_type": "execute_result"
    }
   ],
   "source": [
    "#сгруппируем платформы по общей сумме продаж и выведем первые 10 по убыванию\n",
    "highest_platforms = games.groupby('platform')['total_sales'].sum().sort_values(ascending=False).head(10)\n",
    "highest_platforms"
   ]
  },
  {
   "cell_type": "code",
   "execution_count": 40,
   "metadata": {},
   "outputs": [],
   "source": [
    "#сделаем срез по платформам с с наибольшими суммарными продажами  и по годам,начиная с 1995\n",
    "high_platforms = games.query('platform in @highest_platforms.index and year_of_release > 1994')"
   ]
  },
  {
   "cell_type": "code",
   "execution_count": 42,
   "metadata": {},
   "outputs": [
    {
     "data": {
      "image/png": "[encoded data removed]",
      "text/plain": [
       "<Figure size 1080x504 with 1 Axes>"
      ]
     },
     "metadata": {
      "needs_background": "light"
     },
     "output_type": "display_data"
    }
   ],
   "source": [
    "#построим график\n",
    "high_platforms.pivot_table(index='year_of_release',columns ='platform',values='total_sales')\\\n",
    "                          .plot(grid=True,style='-',figsize=(15,7));\n",
    "plt.title('Распределение платформ с наибольшими суммарными продажами  по годам');\n",
    "plt.xlabel('Год выпуска');\n",
    "plt.ylabel('Общие продажи');"
   ]
  },
  {
   "cell_type": "markdown",
   "metadata": {},
   "source": [
    "Изучив график, можно сделать следующий вывод, что в среднем платформы существует от 7 до 10 лет. Это связано с тем, что появляются новые  более современные платформы."
   ]
  },
  {
   "cell_type": "markdown",
   "metadata": {},
   "source": [
    "Для того чтобы построить прогноз на 2017 год нужно определить соответсвующий актуальный период. Думаю, что нужно взять последние 4 года(2013-2016),в это время как раз появились новые популярные платформы. Учитывать в работе данные за предыдущие годы не будем.\n"
   ]
  },
  {
   "cell_type": "code",
   "execution_count": 46,
   "metadata": {},
   "outputs": [
    {
     "data": {
      "image/png": "[encoded data removed]",
      "text/plain": [
       "<Figure size 1440x720 with 1 Axes>"
      ]
     },
     "metadata": {
      "needs_background": "light"
     },
     "output_type": "display_data"
    },
    {
     "data": {
      "text/plain": [
       "<Figure size 1080x576 with 0 Axes>"
      ]
     },
     "metadata": {},
     "output_type": "display_data"
    }
   ],
   "source": [
    "# сделаем срез по актуальному периоду\n",
    "games_updated = games.query('year_of_release >= 2013')\n",
    "\n",
    "#построим график\n",
    "hp = sns.barplot(x='platform',\n",
    "            y='total_sales',\n",
    "            hue='year_of_release',    \n",
    "            data=games_updated)\n",
    "hp.set_title('Распределение платформ с наибольшими суммарными продажами за 2013-2016 гг')\n",
    "hp.set(xlabel='Год выпуска', ylabel='Сумма продаж');\n",
    "plt.legend(loc='upper right');\n",
    "plt.figure(figsize = (15,8));"
   ]
  },
  {
   "cell_type": "markdown",
   "metadata": {},
   "source": [
    " Продажи по всем платформам снижаются,в 2016 году самые низкие показатели, связано это с тем, что данные за этот год неполные. "
   ]
  },
  {
   "cell_type": "code",
   "execution_count": 47,
   "metadata": {},
   "outputs": [
    {
     "data": {
      "image/png": "[encoded data removed]",
      "text/plain": [
       "<Figure size 1440x720 with 1 Axes>"
      ]
     },
     "metadata": {
      "needs_background": "light"
     },
     "output_type": "display_data"
    },
    {
     "data": {
      "text/plain": [
       "<Figure size 1080x576 with 0 Axes>"
      ]
     },
     "metadata": {},
     "output_type": "display_data"
    }
   ],
   "source": [
    "#построим график «ящик с усами» по глобальным продажам игр в разбивке по платформам\n",
    "sns.boxplot(data=games_updated , x='platform', y='total_sales').set (title='Распределение платформ по общим продажам');\n",
    "plt.ylim(0,3);\n",
    "plt.xlabel('Платформа');\n",
    "plt.ylabel('Общие продажи');\n",
    "plt.figure(figsize = (15,8));"
   ]
  },
  {
   "cell_type": "code",
   "execution_count": 48,
   "metadata": {},
   "outputs": [
    {
     "data": {
      "image/png": "[encoded data removed]",
      "text/plain": [
       "<Figure size 1440x720 with 1 Axes>"
      ]
     },
     "metadata": {
      "needs_background": "light"
     },
     "output_type": "display_data"
    },
    {
     "data": {
      "text/plain": [
       "<Figure size 1080x576 with 0 Axes>"
      ]
     },
     "metadata": {},
     "output_type": "display_data"
    }
   ],
   "source": [
    "#рассмотрим график ближе\n",
    "sns.boxplot(data=games_updated , x='platform', y='total_sales').set(title='Распределение платформ по общим продажам');\n",
    "plt.ylim(0,0.85);\n",
    "plt.xlabel('Платформа');\n",
    "plt.ylabel('Общие продажи');\n",
    "plt.figure(figsize = (15,8));"
   ]
  },
  {
   "cell_type": "code",
   "execution_count": 49,
   "metadata": {},
   "outputs": [
    {
     "data": {
      "text/html": [
       "<div>\n",
       "<style scoped>\n",
       "    .dataframe tbody tr th:only-of-type {\n",
       "        vertical-align: middle;\n",
       "    }\n",
       "\n",
       "    .dataframe tbody tr th {\n",
       "        vertical-align: top;\n",
       "    }\n",
       "\n",
       "    .dataframe thead th {\n",
       "        text-align: right;\n",
       "    }\n",
       "</style>\n",
       "<table border=\"1\" class=\"dataframe\">\n",
       "  <thead>\n",
       "    <tr style=\"text-align: right;\">\n",
       "      <th></th>\n",
       "      <th>count</th>\n",
       "      <th>mean</th>\n",
       "      <th>std</th>\n",
       "      <th>min</th>\n",
       "      <th>25%</th>\n",
       "      <th>50%</th>\n",
       "      <th>75%</th>\n",
       "      <th>max</th>\n",
       "    </tr>\n",
       "    <tr>\n",
       "      <th>platform</th>\n",
       "      <th></th>\n",
       "      <th></th>\n",
       "      <th></th>\n",
       "      <th></th>\n",
       "      <th></th>\n",
       "      <th></th>\n",
       "      <th></th>\n",
       "      <th></th>\n",
       "    </tr>\n",
       "  </thead>\n",
       "  <tbody>\n",
       "    <tr>\n",
       "      <th>3DS</th>\n",
       "      <td>303.0</td>\n",
       "      <td>0.472772</td>\n",
       "      <td>1.381347</td>\n",
       "      <td>0.01</td>\n",
       "      <td>0.0400</td>\n",
       "      <td>0.090</td>\n",
       "      <td>0.2800</td>\n",
       "      <td>14.60</td>\n",
       "    </tr>\n",
       "    <tr>\n",
       "      <th>DS</th>\n",
       "      <td>8.0</td>\n",
       "      <td>0.192500</td>\n",
       "      <td>0.172026</td>\n",
       "      <td>0.03</td>\n",
       "      <td>0.0675</td>\n",
       "      <td>0.150</td>\n",
       "      <td>0.2525</td>\n",
       "      <td>0.51</td>\n",
       "    </tr>\n",
       "    <tr>\n",
       "      <th>PC</th>\n",
       "      <td>189.0</td>\n",
       "      <td>0.208624</td>\n",
       "      <td>0.352304</td>\n",
       "      <td>0.01</td>\n",
       "      <td>0.0300</td>\n",
       "      <td>0.080</td>\n",
       "      <td>0.2300</td>\n",
       "      <td>3.05</td>\n",
       "    </tr>\n",
       "    <tr>\n",
       "      <th>PS3</th>\n",
       "      <td>345.0</td>\n",
       "      <td>0.525884</td>\n",
       "      <td>1.451939</td>\n",
       "      <td>0.01</td>\n",
       "      <td>0.0400</td>\n",
       "      <td>0.150</td>\n",
       "      <td>0.5100</td>\n",
       "      <td>21.05</td>\n",
       "    </tr>\n",
       "    <tr>\n",
       "      <th>PS4</th>\n",
       "      <td>392.0</td>\n",
       "      <td>0.801378</td>\n",
       "      <td>1.609456</td>\n",
       "      <td>0.01</td>\n",
       "      <td>0.0600</td>\n",
       "      <td>0.200</td>\n",
       "      <td>0.7300</td>\n",
       "      <td>14.63</td>\n",
       "    </tr>\n",
       "    <tr>\n",
       "      <th>PSP</th>\n",
       "      <td>67.0</td>\n",
       "      <td>0.052239</td>\n",
       "      <td>0.059768</td>\n",
       "      <td>0.01</td>\n",
       "      <td>0.0150</td>\n",
       "      <td>0.020</td>\n",
       "      <td>0.0700</td>\n",
       "      <td>0.24</td>\n",
       "    </tr>\n",
       "    <tr>\n",
       "      <th>PSV</th>\n",
       "      <td>358.0</td>\n",
       "      <td>0.092151</td>\n",
       "      <td>0.153816</td>\n",
       "      <td>0.01</td>\n",
       "      <td>0.0200</td>\n",
       "      <td>0.040</td>\n",
       "      <td>0.1100</td>\n",
       "      <td>1.96</td>\n",
       "    </tr>\n",
       "    <tr>\n",
       "      <th>Wii</th>\n",
       "      <td>23.0</td>\n",
       "      <td>0.593913</td>\n",
       "      <td>0.915432</td>\n",
       "      <td>0.01</td>\n",
       "      <td>0.0450</td>\n",
       "      <td>0.180</td>\n",
       "      <td>0.7550</td>\n",
       "      <td>3.58</td>\n",
       "    </tr>\n",
       "    <tr>\n",
       "      <th>WiiU</th>\n",
       "      <td>115.0</td>\n",
       "      <td>0.562000</td>\n",
       "      <td>1.038778</td>\n",
       "      <td>0.01</td>\n",
       "      <td>0.0600</td>\n",
       "      <td>0.200</td>\n",
       "      <td>0.5950</td>\n",
       "      <td>7.09</td>\n",
       "    </tr>\n",
       "    <tr>\n",
       "      <th>X360</th>\n",
       "      <td>186.0</td>\n",
       "      <td>0.735484</td>\n",
       "      <td>1.663275</td>\n",
       "      <td>0.01</td>\n",
       "      <td>0.0800</td>\n",
       "      <td>0.265</td>\n",
       "      <td>0.7950</td>\n",
       "      <td>16.27</td>\n",
       "    </tr>\n",
       "    <tr>\n",
       "      <th>XOne</th>\n",
       "      <td>247.0</td>\n",
       "      <td>0.645020</td>\n",
       "      <td>1.036139</td>\n",
       "      <td>0.01</td>\n",
       "      <td>0.0600</td>\n",
       "      <td>0.220</td>\n",
       "      <td>0.6850</td>\n",
       "      <td>7.39</td>\n",
       "    </tr>\n",
       "  </tbody>\n",
       "</table>\n",
       "</div>"
      ],
      "text/plain": [
       "          count      mean       std   min     25%    50%     75%    max\n",
       "platform                                                               \n",
       "3DS       303.0  0.472772  1.381347  0.01  0.0400  0.090  0.2800  14.60\n",
       "DS          8.0  0.192500  0.172026  0.03  0.0675  0.150  0.2525   0.51\n",
       "PC        189.0  0.208624  0.352304  0.01  0.0300  0.080  0.2300   3.05\n",
       "PS3       345.0  0.525884  1.451939  0.01  0.0400  0.150  0.5100  21.05\n",
       "PS4       392.0  0.801378  1.609456  0.01  0.0600  0.200  0.7300  14.63\n",
       "PSP        67.0  0.052239  0.059768  0.01  0.0150  0.020  0.0700   0.24\n",
       "PSV       358.0  0.092151  0.153816  0.01  0.0200  0.040  0.1100   1.96\n",
       "Wii        23.0  0.593913  0.915432  0.01  0.0450  0.180  0.7550   3.58\n",
       "WiiU      115.0  0.562000  1.038778  0.01  0.0600  0.200  0.5950   7.09\n",
       "X360      186.0  0.735484  1.663275  0.01  0.0800  0.265  0.7950  16.27\n",
       "XOne      247.0  0.645020  1.036139  0.01  0.0600  0.220  0.6850   7.39"
      ]
     },
     "execution_count": 49,
     "metadata": {},
     "output_type": "execute_result"
    }
   ],
   "source": [
    "#выведем список статистических значений\n",
    "games_updated.groupby('platform')['total_sales'].describe()"
   ]
  },
  {
   "cell_type": "markdown",
   "metadata": {},
   "source": [
    "Вывод: Медиана по топовым платформам находится в пределах от 0,2 до 0,26 млн долларов прибыли за игру,выбросы же показывают, что у многих платформ есть успешные игры с большими продажами.\n",
    "Больше всего игр для приставки PS4, медианная сумма продаж выше у X360, потом идет XOne и PS4. "
   ]
  },
  {
   "cell_type": "markdown",
   "metadata": {},
   "source": [
    "Посмотрим, как влияют на продажи внутри одной популярной платформы отзывы пользователей и критиков."
   ]
  },
  {
   "cell_type": "code",
   "execution_count": 26,
   "metadata": {},
   "outputs": [
    {
     "data": {
      "image/png": "[encoded data removed]",
      "text/plain": [
       "<Figure size 1080x360 with 1 Axes>"
      ]
     },
     "metadata": {
      "needs_background": "light"
     },
     "output_type": "display_data"
    }
   ],
   "source": [
    "#построим диаграмму рассеивания\n",
    "games_updated.query(\"platform == 'X360'\").plot(x='user_score',y='total_sales',kind='scatter',figsize=(15,5))\n",
    "plt.title('Зависимость продажи платформы X360 от отзывов пользователей');\n",
    "plt.xlabel('Оценка пользователей');\n",
    "plt.ylabel('Общие продажи');"
   ]
  },
  {
   "cell_type": "markdown",
   "metadata": {},
   "source": [
    "Из графика видно, что зависимости от оценки пользователей нет."
   ]
  },
  {
   "cell_type": "code",
   "execution_count": 27,
   "metadata": {},
   "outputs": [
    {
     "data": {
      "image/png": "[encoded data removed]",
      "text/plain": [
       "<Figure size 1080x360 with 1 Axes>"
      ]
     },
     "metadata": {
      "needs_background": "light"
     },
     "output_type": "display_data"
    }
   ],
   "source": [
    "#построим диаграмму рассеивания\n",
    "games_updated.query(\"platform == 'X360'\").plot(x='critic_score',y='total_sales',kind='scatter',figsize=(15,5))\n",
    "plt.title('Зависимость продажи платформы X360 от отзывов критиков');\n",
    "plt.xlabel('Оценка критиков');\n",
    "plt.ylabel('Общие продажи');"
   ]
  },
  {
   "cell_type": "markdown",
   "metadata": {},
   "source": [
    "Наблюдается небольшая зависимость от отзывов критиков."
   ]
  },
  {
   "cell_type": "code",
   "execution_count": 28,
   "metadata": {
    "scrolled": true
   },
   "outputs": [
    {
     "data": {
      "text/plain": [
       "critic_score    0.350345\n",
       "user_score     -0.011742\n",
       "total_sales     1.000000\n",
       "Name: total_sales, dtype: float64"
      ]
     },
     "execution_count": 28,
     "metadata": {},
     "output_type": "execute_result"
    }
   ],
   "source": [
    "#посчитаем корреляцию между отзывами и продажами\n",
    "games_updated.query(\"platform == 'X360'\")[['critic_score', 'user_score', 'total_sales']].corr()['total_sales']"
   ]
  },
  {
   "cell_type": "markdown",
   "metadata": {},
   "source": [
    "По коэффициенту корреляции Пирсона можно сделать вывод, что связи между оценкой пользователя и продажами нет, а между продажами и оценкой критиков небольшая линейная связь. "
   ]
  },
  {
   "cell_type": "markdown",
   "metadata": {},
   "source": [
    "Сравним с продажами игр на других платформах в зависимости от оценки пользователя и критиков."
   ]
  },
  {
   "cell_type": "code",
   "execution_count": 53,
   "metadata": {},
   "outputs": [
    {
     "data": {
      "text/plain": [
       "'Корреляция между отзывами и продажами на платформе:'"
      ]
     },
     "metadata": {},
     "output_type": "display_data"
    },
    {
     "data": {
      "text/plain": [
       "'PS4'"
      ]
     },
     "metadata": {},
     "output_type": "display_data"
    },
    {
     "data": {
      "text/plain": [
       "critic_score    0.406568\n",
       "user_score     -0.031957\n",
       "total_sales     1.000000\n",
       "Name: total_sales, dtype: float64"
      ]
     },
     "metadata": {},
     "output_type": "display_data"
    },
    {
     "data": {
      "text/plain": [
       "'Корреляция между отзывами и продажами на платформе:'"
      ]
     },
     "metadata": {},
     "output_type": "display_data"
    },
    {
     "data": {
      "text/plain": [
       "'Wii'"
      ]
     },
     "metadata": {},
     "output_type": "display_data"
    },
    {
     "data": {
      "text/plain": [
       "critic_score         NaN\n",
       "user_score      0.682942\n",
       "total_sales     1.000000\n",
       "Name: total_sales, dtype: float64"
      ]
     },
     "metadata": {},
     "output_type": "display_data"
    },
    {
     "data": {
      "text/plain": [
       "'Корреляция между отзывами и продажами на платформе:'"
      ]
     },
     "metadata": {},
     "output_type": "display_data"
    },
    {
     "data": {
      "text/plain": [
       "'XOne'"
      ]
     },
     "metadata": {},
     "output_type": "display_data"
    },
    {
     "data": {
      "text/plain": [
       "critic_score    0.416998\n",
       "user_score     -0.068925\n",
       "total_sales     1.000000\n",
       "Name: total_sales, dtype: float64"
      ]
     },
     "metadata": {},
     "output_type": "display_data"
    },
    {
     "data": {
      "text/plain": [
       "'Корреляция между отзывами и продажами на платформе:'"
      ]
     },
     "metadata": {},
     "output_type": "display_data"
    },
    {
     "data": {
      "text/plain": [
       "'PS3'"
      ]
     },
     "metadata": {},
     "output_type": "display_data"
    },
    {
     "data": {
      "text/plain": [
       "critic_score    0.334285\n",
       "user_score      0.002394\n",
       "total_sales     1.000000\n",
       "Name: total_sales, dtype: float64"
      ]
     },
     "metadata": {},
     "output_type": "display_data"
    }
   ],
   "source": [
    "#посчитаем корреляцию для других платформ\n",
    "games_top = ['PS4','Wii','XOne','PS3']\n",
    "for i in games_top:\n",
    "    display('Корреляция между отзывами и продажами на платформе:', i)\n",
    "    display(games_updated.query(\"platform in @i\")[['critic_score', 'user_score', 'total_sales']].corr()['total_sales'])  "
   ]
  },
  {
   "cell_type": "markdown",
   "metadata": {},
   "source": [
    "Анализируя полученные коэффициенты корреляции по другим платформам, можно сделать вывод, что картина зависимости в целом схожа с платформой 'X360': оценки критиков имеют слабую корреляцию с продажами,а оценки пользователей корреляции с продажами не имеют."
   ]
  },
  {
   "cell_type": "markdown",
   "metadata": {},
   "source": [
    "Далее посмотрим на общее распределение игр по жанрам. Что можно сказать о самых прибыльных жанрах? Выделяются ли жанры с высокими и низкими продажами?"
   ]
  },
  {
   "cell_type": "code",
   "execution_count": 54,
   "metadata": {},
   "outputs": [
    {
     "data": {
      "image/png": "[encoded data removed]",
      "text/plain": [
       "<Figure size 1080x360 with 1 Axes>"
      ]
     },
     "metadata": {
      "needs_background": "light"
     },
     "output_type": "display_data"
    }
   ],
   "source": [
    "#выведем график общего распределения игр по жанрам\n",
    "games_updated.pivot_table(index='genre',values='total_sales',\\\n",
    "                          aggfunc=['median']).plot(kind='bar',grid=True,style='o-',figsize=(15,5));\n",
    "plt.title(\"Распределение игр по жанрам\");\n",
    "plt.xlabel(\"Жанр\");\n",
    "plt.ylabel(\"Общие продажи\");"
   ]
  },
  {
   "cell_type": "markdown",
   "metadata": {},
   "source": [
    "Из графика видно, что по медианным продаж лидерами являются такие жанры как Shooter,Sports, далее идут Platform,Action,Role-Playing. Менее популярные жанры Puzzle,Strategy,Fighting."
   ]
  },
  {
   "cell_type": "markdown",
   "metadata": {},
   "source": [
    "<a id='4'></a>\n",
    "###   Портрет пользователя каждого региона"
   ]
  },
  {
   "cell_type": "markdown",
   "metadata": {},
   "source": [
    "Определим для пользователя каждого региона (NA, EU, JP) самые популярные платформы(топ-5)."
   ]
  },
  {
   "cell_type": "code",
   "execution_count": 64,
   "metadata": {
    "scrolled": true
   },
   "outputs": [
    {
     "data": {
      "image/png": "[encoded data removed]",
      "text/plain": [
       "<Figure size 720x288 with 1 Axes>"
      ]
     },
     "metadata": {
      "needs_background": "light"
     },
     "output_type": "display_data"
    }
   ],
   "source": [
    "#построим график топ-5 платформ в Северной Америке\n",
    "na_pivot = games_updated.pivot_table(index='platform', values='na_sales',\\\n",
    "                                     aggfunc='sum').sort_values('na_sales',ascending = False).head(5)\n",
    "na_pivot.plot(kind='bar',grid=True,style='o-',figsize=(10,4));\n",
    "plt.title('Cамые популярные платформы в Северной Америке');\n",
    "plt.xlabel(\"Платформы\");\n",
    "plt.ylabel(\"Продажи, млн\");"
   ]
  },
  {
   "cell_type": "code",
   "execution_count": 65,
   "metadata": {},
   "outputs": [
    {
     "data": {
      "image/png": "[encoded data removed]",
      "text/plain": [
       "<Figure size 720x288 with 1 Axes>"
      ]
     },
     "metadata": {
      "needs_background": "light"
     },
     "output_type": "display_data"
    }
   ],
   "source": [
    "#построим график топ-5 платформ  региона EU \n",
    "eu_pivot = games_updated.pivot_table(index='platform',values='eu_sales',\n",
    "                                     aggfunc='sum').sort_values('eu_sales',ascending = False).head(5)\n",
    "eu_pivot.plot(kind='bar',grid=True,style='o-',color='y',figsize=(10,4));\n",
    "plt.title('Cамые популярные платформы в Европе');\n",
    "plt.xlabel(\"Платформы\");\n",
    "plt.ylabel(\"Продажи, млн\");"
   ]
  },
  {
   "cell_type": "code",
   "execution_count": 66,
   "metadata": {},
   "outputs": [
    {
     "data": {
      "image/png": "[encoded data removed]",
      "text/plain": [
       "<Figure size 720x288 with 1 Axes>"
      ]
     },
     "metadata": {
      "needs_background": "light"
     },
     "output_type": "display_data"
    }
   ],
   "source": [
    "#построим график топ-5 платформ  региона  JP \n",
    "jp_pivot = games_updated.pivot_table(index='platform',values='jp_sales',\\\n",
    "                                     aggfunc='sum').sort_values('jp_sales',ascending = False).head(5)\n",
    "jp_pivot.plot(kind='bar',grid=True,style='o-',color='m',figsize=(10,4));\n",
    "plt.title('Cамые популярные платформы в Японии');\n",
    "plt.xlabel(\"Платформы\");\n",
    "plt.ylabel(\"Продажи, млн\");"
   ]
  },
  {
   "cell_type": "markdown",
   "metadata": {},
   "source": [
    "Лидером  по популярности платформ,в Америке и в Европе является PS4, и в целом в Северной Америке и Европе список популярных платформ похож. В Японии же лидером является платформа 3DS."
   ]
  },
  {
   "cell_type": "markdown",
   "metadata": {},
   "source": [
    "Найдем самые популярные жанры (топ-5) для пользователя каждого региона (NA, EU, JP)."
   ]
  },
  {
   "cell_type": "code",
   "execution_count": 34,
   "metadata": {},
   "outputs": [
    {
     "data": {
      "text/html": [
       "<div>\n",
       "<style scoped>\n",
       "    .dataframe tbody tr th:only-of-type {\n",
       "        vertical-align: middle;\n",
       "    }\n",
       "\n",
       "    .dataframe tbody tr th {\n",
       "        vertical-align: top;\n",
       "    }\n",
       "\n",
       "    .dataframe thead th {\n",
       "        text-align: right;\n",
       "    }\n",
       "</style>\n",
       "<table border=\"1\" class=\"dataframe\">\n",
       "  <thead>\n",
       "    <tr style=\"text-align: right;\">\n",
       "      <th></th>\n",
       "      <th>na_sales</th>\n",
       "    </tr>\n",
       "    <tr>\n",
       "      <th>genre</th>\n",
       "      <th></th>\n",
       "    </tr>\n",
       "  </thead>\n",
       "  <tbody>\n",
       "    <tr>\n",
       "      <th>Action</th>\n",
       "      <td>126.05</td>\n",
       "    </tr>\n",
       "    <tr>\n",
       "      <th>Shooter</th>\n",
       "      <td>109.74</td>\n",
       "    </tr>\n",
       "    <tr>\n",
       "      <th>Sports</th>\n",
       "      <td>65.27</td>\n",
       "    </tr>\n",
       "    <tr>\n",
       "      <th>Role-Playing</th>\n",
       "      <td>46.40</td>\n",
       "    </tr>\n",
       "    <tr>\n",
       "      <th>Misc</th>\n",
       "      <td>27.49</td>\n",
       "    </tr>\n",
       "  </tbody>\n",
       "</table>\n",
       "</div>"
      ],
      "text/plain": [
       "              na_sales\n",
       "genre                 \n",
       "Action          126.05\n",
       "Shooter         109.74\n",
       "Sports           65.27\n",
       "Role-Playing     46.40\n",
       "Misc             27.49"
      ]
     },
     "execution_count": 34,
     "metadata": {},
     "output_type": "execute_result"
    }
   ],
   "source": [
    "na_top_genre = games_updated.pivot_table(index='genre',values='na_sales',\\\n",
    "                                         aggfunc='sum').sort_values('na_sales',ascending = False).head(5)\n",
    "na_top_genre"
   ]
  },
  {
   "cell_type": "code",
   "execution_count": 35,
   "metadata": {},
   "outputs": [
    {
     "data": {
      "text/html": [
       "<div>\n",
       "<style scoped>\n",
       "    .dataframe tbody tr th:only-of-type {\n",
       "        vertical-align: middle;\n",
       "    }\n",
       "\n",
       "    .dataframe tbody tr th {\n",
       "        vertical-align: top;\n",
       "    }\n",
       "\n",
       "    .dataframe thead th {\n",
       "        text-align: right;\n",
       "    }\n",
       "</style>\n",
       "<table border=\"1\" class=\"dataframe\">\n",
       "  <thead>\n",
       "    <tr style=\"text-align: right;\">\n",
       "      <th></th>\n",
       "      <th>eu_sales</th>\n",
       "    </tr>\n",
       "    <tr>\n",
       "      <th>genre</th>\n",
       "      <th></th>\n",
       "    </tr>\n",
       "  </thead>\n",
       "  <tbody>\n",
       "    <tr>\n",
       "      <th>Action</th>\n",
       "      <td>118.13</td>\n",
       "    </tr>\n",
       "    <tr>\n",
       "      <th>Shooter</th>\n",
       "      <td>87.86</td>\n",
       "    </tr>\n",
       "    <tr>\n",
       "      <th>Sports</th>\n",
       "      <td>60.52</td>\n",
       "    </tr>\n",
       "    <tr>\n",
       "      <th>Role-Playing</th>\n",
       "      <td>36.97</td>\n",
       "    </tr>\n",
       "    <tr>\n",
       "      <th>Racing</th>\n",
       "      <td>20.19</td>\n",
       "    </tr>\n",
       "  </tbody>\n",
       "</table>\n",
       "</div>"
      ],
      "text/plain": [
       "              eu_sales\n",
       "genre                 \n",
       "Action          118.13\n",
       "Shooter          87.86\n",
       "Sports           60.52\n",
       "Role-Playing     36.97\n",
       "Racing           20.19"
      ]
     },
     "execution_count": 35,
     "metadata": {},
     "output_type": "execute_result"
    }
   ],
   "source": [
    "eu_top_genre = games_updated.pivot_table(index='genre',values='eu_sales',aggfunc='sum')\\\n",
    "                                        .sort_values('eu_sales',ascending = False).head(5)\n",
    "eu_top_genre"
   ]
  },
  {
   "cell_type": "code",
   "execution_count": 36,
   "metadata": {},
   "outputs": [
    {
     "data": {
      "text/html": [
       "<div>\n",
       "<style scoped>\n",
       "    .dataframe tbody tr th:only-of-type {\n",
       "        vertical-align: middle;\n",
       "    }\n",
       "\n",
       "    .dataframe tbody tr th {\n",
       "        vertical-align: top;\n",
       "    }\n",
       "\n",
       "    .dataframe thead th {\n",
       "        text-align: right;\n",
       "    }\n",
       "</style>\n",
       "<table border=\"1\" class=\"dataframe\">\n",
       "  <thead>\n",
       "    <tr style=\"text-align: right;\">\n",
       "      <th></th>\n",
       "      <th>jp_sales</th>\n",
       "    </tr>\n",
       "    <tr>\n",
       "      <th>genre</th>\n",
       "      <th></th>\n",
       "    </tr>\n",
       "  </thead>\n",
       "  <tbody>\n",
       "    <tr>\n",
       "      <th>Role-Playing</th>\n",
       "      <td>51.04</td>\n",
       "    </tr>\n",
       "    <tr>\n",
       "      <th>Action</th>\n",
       "      <td>40.49</td>\n",
       "    </tr>\n",
       "    <tr>\n",
       "      <th>Misc</th>\n",
       "      <td>9.20</td>\n",
       "    </tr>\n",
       "    <tr>\n",
       "      <th>Fighting</th>\n",
       "      <td>7.65</td>\n",
       "    </tr>\n",
       "    <tr>\n",
       "      <th>Shooter</th>\n",
       "      <td>6.61</td>\n",
       "    </tr>\n",
       "  </tbody>\n",
       "</table>\n",
       "</div>"
      ],
      "text/plain": [
       "              jp_sales\n",
       "genre                 \n",
       "Role-Playing     51.04\n",
       "Action           40.49\n",
       "Misc              9.20\n",
       "Fighting          7.65\n",
       "Shooter           6.61"
      ]
     },
     "execution_count": 36,
     "metadata": {},
     "output_type": "execute_result"
    }
   ],
   "source": [
    "jp_top_genre = games_updated.pivot_table(index='genre',values='jp_sales',\\\n",
    "                                         aggfunc='sum').sort_values('jp_sales',ascending = False).head(5)\n",
    "jp_top_genre"
   ]
  },
  {
   "cell_type": "markdown",
   "metadata": {},
   "source": [
    "Самые популярные жанры игр в Европе и Северной Америке одинаковы,лидерами являются игры жанра Action,Shooter,Sports. В Японии на первом месте Role-Playing, а потом жанры Action,Misc."
   ]
  },
  {
   "cell_type": "markdown",
   "metadata": {},
   "source": [
    "Посмотрим  влияет ли рейтинг ESRB на продажи в отдельном регионе?"
   ]
  },
  {
   "cell_type": "code",
   "execution_count": 37,
   "metadata": {},
   "outputs": [
    {
     "data": {
      "image/png": "[encoded data removed]",
      "text/plain": [
       "<Figure size 1440x720 with 1 Axes>"
      ]
     },
     "metadata": {
      "needs_background": "light"
     },
     "output_type": "display_data"
    }
   ],
   "source": [
    "games_updated.pivot_table(index='rating',values=['na_sales','eu_sales','jp_sales']\\\n",
    "                          ,aggfunc='sum').sort_values(by='na_sales').plot(kind='bar',grid=True,style='o-');\n"
   ]
  },
  {
   "cell_type": "markdown",
   "metadata": {},
   "source": [
    "  Entertainment Software Rating Board (ESRB) — негосударственная организация, основное направление деятельности — принятие и определение рейтингов для компьютерных видеоигр и другого развлекательного программного обеспечения в США и Канаде.\n",
    "- «M» («Mature») — «От 17 лет»: Материалы игры не подходят для подростков младше 17 лет.\n",
    "- «T» («Teen») — «Подросткам»: Игра подходит для лиц от 13 лет и старше. \n",
    "- «E10+» («Everyone 10 and older») — «Для всех старше 10 лет»: \n",
    "- «E» («Everyone») — «Для всех».\n",
    "  "
   ]
  },
  {
   "cell_type": "markdown",
   "metadata": {},
   "source": [
    "Из графика видно, что в Северной Америке и Европе больше продаются игры категории М(от 17 лет), и в целом картина по самым продаваемым играм в зависимости от категории в этих регионах одинакова. В Японии же популярными стали игры без категории, скорее всего это связано с тем, что система  ESRB используется в основном в США, Канаде, Мексике( в Японии же есть CERO (организация компьютерных рейтингов развлечений), которая присваивает играм рейтинги букв)."
   ]
  },
  {
   "cell_type": "markdown",
   "metadata": {},
   "source": [
    "<a id='5'></a>\n",
    "### Проверка гипотез"
   ]
  },
  {
   "cell_type": "markdown",
   "metadata": {},
   "source": [
    "<a id='5.1'></a>\n",
    "#### Проверка гипотезы: средние пользовательские рейтинги платформ Xbox One и PC одинаковые\n",
    "Будем использовать метод для проверки гипотезы о равенстве среднего двух генеральных совокупностей,взятых по выборке.  \n",
    "Сформулируем гипотезы так:\n",
    "- H_0(нулевая гипотеза): рейтинг (rating) платформы \"Xbox One\" = рейтинг (rating) платформы \"PC\"`\n",
    "- H_a(альтернативная гипотеза): рейтинг (rating) платформы \"Xbox One\" ≠ рейтинг (rating) платформы \"PC\"`\n",
    "* Значение уровня статистической значимости определим в 5 %."
   ]
  },
  {
   "cell_type": "markdown",
   "metadata": {},
   "source": [
    "Так как в столбце пользовательский рейтинг много пропусков, отфильтруем его, возьмем только значения > 0."
   ]
  },
  {
   "cell_type": "code",
   "execution_count": 38,
   "metadata": {},
   "outputs": [
    {
     "name": "stdout",
     "output_type": "stream",
     "text": [
      "0.14759594013430463\n",
      "Не получилось отвергнуть нулевую гипотезу\n"
     ]
    }
   ],
   "source": [
    "xo = games_updated[(games_updated['platform'] =='XOne') & (games_updated['user_score']>0)]['user_score']\n",
    "pc = games_updated[(games_updated['platform'] =='PC') & (games_updated['user_score']>0)]['user_score']\n",
    "\n",
    "results = st.ttest_ind(xo,pc,equal_var=False) # results = вызов метода для проверки гипотезы\n",
    "\n",
    "alpha = 0.05\n",
    "\n",
    "print(results.pvalue)# вывод значения p-value на экран \n",
    "if results.pvalue < alpha:\n",
    "    print('Отвергаем нулевую гипотезу')\n",
    "else:\n",
    "    print('Не получилось отвергнуть нулевую гипотезу')\n",
    "# условный оператор с выводом строки с ответом"
   ]
  },
  {
   "cell_type": "markdown",
   "metadata": {},
   "source": [
    "Вывод: у нас нет оснований утверждать, что средние пользовательские рейтинги платформ Xbox One и PC значимо различаются."
   ]
  },
  {
   "cell_type": "markdown",
   "metadata": {},
   "source": [
    "<a id='5.2'></a>\n",
    "#### Проверка гипотезы: средние пользовательские рейтинги жанров Action и Sports разные \n",
    "Сформулируем гипотезы так:\n",
    "\n",
    "- H_0: рейтинг (rating) жанра \"Action\" = рейтинг (rating) жанра \"Sports\"`\n",
    "- H_a: рейтинг (rating) жанра \"Action\" ≠ рейтинг (rating) жанра \"Sports\"`\n",
    "* Значение уровня статистической значимости определим в 5 %."
   ]
  },
  {
   "cell_type": "code",
   "execution_count": 39,
   "metadata": {},
   "outputs": [
    {
     "name": "stdout",
     "output_type": "stream",
     "text": [
      "1.4460039700704315e-20\n",
      "Отвергаем нулевую гипотезу\n"
     ]
    }
   ],
   "source": [
    "action = games_updated[(games_updated['genre'] =='Action') & (games_updated['user_score']>0)]['user_score']\n",
    "sports = games_updated[(games_updated['genre'] =='Sports') & (games_updated['user_score']>0)]['user_score']\n",
    "\n",
    "results = st.ttest_ind(action,sports,equal_var=False) # results = вызов метода для проверки гипотезы\n",
    "\n",
    "alpha = 0.05\n",
    "\n",
    "print(results.pvalue)# вывод значения p-value на экран \n",
    "if results.pvalue < alpha:\n",
    "    print('Отвергаем нулевую гипотезу')\n",
    "else:\n",
    "    print('Не получилось отвергнуть нулевую гипотезу')\n",
    "# условный оператор с выводом строки с ответом"
   ]
  },
  {
   "cell_type": "markdown",
   "metadata": {},
   "source": [
    "Вывод:у нас имеются основания полагать, что средние пользовательские рейтинги жанров Action и Sports различаются."
   ]
  },
  {
   "cell_type": "markdown",
   "metadata": {},
   "source": [
    "<a id='6'></a>\n",
    "### Общий вывод"
   ]
  },
  {
   "cell_type": "markdown",
   "metadata": {},
   "source": [
    "Мы изучили исторические данные о продажах игр с 1980 г по 2016 год,взяли актуальный период и на его основе  мы выяснили какие игры могут хорошо продаваться в 2017 году и составили портреты пользователей разных регионов.\n",
    "Если делить по рынкам,при планировании рекламных компаний в 2017 году  в Америке и в Европе следует сделать ставку на игры платформы PS4, а в Японии - на 3DS. Считаем, что наиболее популярными продуктами будут игры в жанре \"шутеры\" и \"спортивные\"  в Америке, сюжетно-ролевые в Японии. При анализе данных также составлен портрет пользователей - это люди старше 17 лет, соответственно при планировании рекламных компаний это должно быть учтено. \n",
    "\n"
   ]
  }
 ],
 "metadata": {
  "ExecuteTimeLog": [
   {
    "duration": 615,
    "start_time": "2023-03-13T08:16:06.735Z"
   },
   {
    "duration": 70,
    "start_time": "2023-03-13T08:16:21.856Z"
   },
   {
    "duration": 60,
    "start_time": "2023-03-13T08:20:54.908Z"
   },
   {
    "duration": 15,
    "start_time": "2023-03-13T08:29:49.199Z"
   },
   {
    "duration": 1063,
    "start_time": "2023-03-13T08:30:09.943Z"
   },
   {
    "duration": 79,
    "start_time": "2023-03-13T08:31:42.160Z"
   },
   {
    "duration": 68,
    "start_time": "2023-03-13T08:32:59.455Z"
   },
   {
    "duration": 67,
    "start_time": "2023-03-13T08:33:22.043Z"
   },
   {
    "duration": 15,
    "start_time": "2023-03-13T08:33:25.451Z"
   },
   {
    "duration": 1279,
    "start_time": "2023-03-13T08:33:37.002Z"
   },
   {
    "duration": 16,
    "start_time": "2023-03-13T08:33:38.283Z"
   },
   {
    "duration": 68,
    "start_time": "2023-03-13T08:33:49.968Z"
   },
   {
    "duration": 4,
    "start_time": "2023-03-13T08:34:58.914Z"
   },
   {
    "duration": 70,
    "start_time": "2023-03-13T08:35:06.888Z"
   },
   {
    "duration": 60,
    "start_time": "2023-03-13T08:41:23.173Z"
   },
   {
    "duration": 3,
    "start_time": "2023-03-13T08:53:04.668Z"
   },
   {
    "duration": 4,
    "start_time": "2023-03-13T08:53:11.226Z"
   },
   {
    "duration": 7,
    "start_time": "2023-03-13T08:54:48.925Z"
   },
   {
    "duration": 114,
    "start_time": "2023-03-13T09:03:12.274Z"
   },
   {
    "duration": 13,
    "start_time": "2023-03-13T09:11:40.916Z"
   },
   {
    "duration": 8,
    "start_time": "2023-03-13T09:13:06.200Z"
   },
   {
    "duration": 18,
    "start_time": "2023-03-13T09:14:44.768Z"
   },
   {
    "duration": 4,
    "start_time": "2023-03-13T09:19:20.378Z"
   },
   {
    "duration": 60,
    "start_time": "2023-03-13T09:31:54.532Z"
   },
   {
    "duration": 74,
    "start_time": "2023-03-13T09:34:17.792Z"
   },
   {
    "duration": 1113,
    "start_time": "2023-03-13T09:37:08.593Z"
   },
   {
    "duration": 1123,
    "start_time": "2023-03-13T09:37:18.862Z"
   },
   {
    "duration": 1130,
    "start_time": "2023-03-13T09:37:37.406Z"
   },
   {
    "duration": 1100,
    "start_time": "2023-03-13T09:37:46.146Z"
   },
   {
    "duration": 77,
    "start_time": "2023-03-13T09:37:47.248Z"
   },
   {
    "duration": 15,
    "start_time": "2023-03-13T09:37:47.327Z"
   },
   {
    "duration": 5,
    "start_time": "2023-03-13T09:37:47.344Z"
   },
   {
    "duration": 11,
    "start_time": "2023-03-13T09:37:47.350Z"
   },
   {
    "duration": 16,
    "start_time": "2023-03-13T09:37:47.363Z"
   },
   {
    "duration": 6,
    "start_time": "2023-03-13T09:37:47.381Z"
   },
   {
    "duration": 111,
    "start_time": "2023-03-13T09:37:47.424Z"
   },
   {
    "duration": 9,
    "start_time": "2023-03-13T10:11:51.013Z"
   },
   {
    "duration": 15,
    "start_time": "2023-03-13T10:12:07.772Z"
   },
   {
    "duration": 8,
    "start_time": "2023-03-13T10:13:17.251Z"
   },
   {
    "duration": 13,
    "start_time": "2023-03-13T10:15:51.972Z"
   },
   {
    "duration": 14,
    "start_time": "2023-03-13T10:16:12.392Z"
   },
   {
    "duration": 9,
    "start_time": "2023-03-13T10:17:11.734Z"
   },
   {
    "duration": 1225,
    "start_time": "2023-03-13T10:17:17.857Z"
   },
   {
    "duration": 101,
    "start_time": "2023-03-13T10:17:19.084Z"
   },
   {
    "duration": 19,
    "start_time": "2023-03-13T10:17:19.188Z"
   },
   {
    "duration": 19,
    "start_time": "2023-03-13T10:17:19.210Z"
   },
   {
    "duration": 14,
    "start_time": "2023-03-13T10:17:19.231Z"
   },
   {
    "duration": 12,
    "start_time": "2023-03-13T10:17:19.247Z"
   },
   {
    "duration": 32,
    "start_time": "2023-03-13T10:17:19.261Z"
   },
   {
    "duration": 33,
    "start_time": "2023-03-13T10:17:19.296Z"
   },
   {
    "duration": 118,
    "start_time": "2023-03-13T10:17:19.331Z"
   },
   {
    "duration": 14,
    "start_time": "2023-03-13T10:19:37.471Z"
   },
   {
    "duration": 29,
    "start_time": "2023-03-13T10:19:44.760Z"
   },
   {
    "duration": 9,
    "start_time": "2023-03-13T10:20:08.070Z"
   },
   {
    "duration": 21,
    "start_time": "2023-03-13T10:22:09.201Z"
   },
   {
    "duration": 17,
    "start_time": "2023-03-13T10:22:28.969Z"
   },
   {
    "duration": 1270,
    "start_time": "2023-03-13T10:22:36.195Z"
   },
   {
    "duration": 76,
    "start_time": "2023-03-13T10:22:37.467Z"
   },
   {
    "duration": 15,
    "start_time": "2023-03-13T10:22:37.545Z"
   },
   {
    "duration": 5,
    "start_time": "2023-03-13T10:22:37.562Z"
   },
   {
    "duration": 15,
    "start_time": "2023-03-13T10:22:37.570Z"
   },
   {
    "duration": 47,
    "start_time": "2023-03-13T10:22:37.587Z"
   },
   {
    "duration": 22,
    "start_time": "2023-03-13T10:22:37.636Z"
   },
   {
    "duration": 8,
    "start_time": "2023-03-13T10:22:37.660Z"
   },
   {
    "duration": 141,
    "start_time": "2023-03-13T10:22:37.669Z"
   },
   {
    "duration": 14,
    "start_time": "2023-03-13T10:23:11.545Z"
   },
   {
    "duration": 1242,
    "start_time": "2023-03-13T10:23:32.502Z"
   },
   {
    "duration": 79,
    "start_time": "2023-03-13T10:23:33.746Z"
   },
   {
    "duration": 23,
    "start_time": "2023-03-13T10:23:33.827Z"
   },
   {
    "duration": 7,
    "start_time": "2023-03-13T10:23:33.851Z"
   },
   {
    "duration": 24,
    "start_time": "2023-03-13T10:23:33.860Z"
   },
   {
    "duration": 19,
    "start_time": "2023-03-13T10:23:33.886Z"
   },
   {
    "duration": 39,
    "start_time": "2023-03-13T10:23:33.907Z"
   },
   {
    "duration": 6,
    "start_time": "2023-03-13T10:23:33.948Z"
   },
   {
    "duration": 125,
    "start_time": "2023-03-13T10:23:33.955Z"
   },
   {
    "duration": 18,
    "start_time": "2023-03-13T10:23:59.320Z"
   },
   {
    "duration": 19,
    "start_time": "2023-03-13T10:24:42.163Z"
   },
   {
    "duration": 18,
    "start_time": "2023-03-13T10:25:20.537Z"
   },
   {
    "duration": 16,
    "start_time": "2023-03-13T10:25:24.540Z"
   },
   {
    "duration": 27,
    "start_time": "2023-03-13T10:25:26.410Z"
   },
   {
    "duration": 1212,
    "start_time": "2023-03-13T10:25:33.540Z"
   },
   {
    "duration": 85,
    "start_time": "2023-03-13T10:25:34.754Z"
   },
   {
    "duration": 17,
    "start_time": "2023-03-13T10:25:34.841Z"
   },
   {
    "duration": 5,
    "start_time": "2023-03-13T10:25:34.861Z"
   },
   {
    "duration": 12,
    "start_time": "2023-03-13T10:25:34.868Z"
   },
   {
    "duration": 154,
    "start_time": "2023-03-13T10:25:34.882Z"
   },
   {
    "duration": 0,
    "start_time": "2023-03-13T10:25:35.038Z"
   },
   {
    "duration": 0,
    "start_time": "2023-03-13T10:25:35.039Z"
   },
   {
    "duration": 0,
    "start_time": "2023-03-13T10:25:35.041Z"
   },
   {
    "duration": 14,
    "start_time": "2023-03-13T10:26:03.323Z"
   },
   {
    "duration": 1191,
    "start_time": "2023-03-13T10:26:11.444Z"
   },
   {
    "duration": 78,
    "start_time": "2023-03-13T10:26:12.637Z"
   },
   {
    "duration": 17,
    "start_time": "2023-03-13T10:26:12.717Z"
   },
   {
    "duration": 5,
    "start_time": "2023-03-13T10:26:12.738Z"
   },
   {
    "duration": 10,
    "start_time": "2023-03-13T10:26:12.744Z"
   },
   {
    "duration": 24,
    "start_time": "2023-03-13T10:26:12.756Z"
   },
   {
    "duration": 37,
    "start_time": "2023-03-13T10:26:12.781Z"
   },
   {
    "duration": 18,
    "start_time": "2023-03-13T10:26:12.820Z"
   },
   {
    "duration": 112,
    "start_time": "2023-03-13T10:26:12.840Z"
   },
   {
    "duration": 9,
    "start_time": "2023-03-13T10:28:10.107Z"
   },
   {
    "duration": 14,
    "start_time": "2023-03-13T10:28:13.028Z"
   },
   {
    "duration": 11,
    "start_time": "2023-03-13T10:28:31.107Z"
   },
   {
    "duration": 14,
    "start_time": "2023-03-13T10:28:36.469Z"
   },
   {
    "duration": 5,
    "start_time": "2023-03-13T10:29:03.326Z"
   },
   {
    "duration": 11,
    "start_time": "2023-03-13T10:37:03.225Z"
   },
   {
    "duration": 6,
    "start_time": "2023-03-13T10:37:08.195Z"
   },
   {
    "duration": 67,
    "start_time": "2023-03-13T10:37:22.462Z"
   },
   {
    "duration": 14,
    "start_time": "2023-03-13T10:40:24.970Z"
   },
   {
    "duration": 1139,
    "start_time": "2023-03-13T10:40:54.368Z"
   },
   {
    "duration": 80,
    "start_time": "2023-03-13T10:40:55.508Z"
   },
   {
    "duration": 14,
    "start_time": "2023-03-13T10:40:55.590Z"
   },
   {
    "duration": 36,
    "start_time": "2023-03-13T10:40:55.608Z"
   },
   {
    "duration": 61,
    "start_time": "2023-03-13T10:40:55.646Z"
   },
   {
    "duration": 53,
    "start_time": "2023-03-13T10:40:55.709Z"
   },
   {
    "duration": 25,
    "start_time": "2023-03-13T10:40:55.764Z"
   },
   {
    "duration": 24,
    "start_time": "2023-03-13T10:40:55.791Z"
   },
   {
    "duration": 7,
    "start_time": "2023-03-13T10:40:55.816Z"
   },
   {
    "duration": 21,
    "start_time": "2023-03-13T10:40:55.825Z"
   },
   {
    "duration": 1226,
    "start_time": "2023-03-13T11:14:12.817Z"
   },
   {
    "duration": 72,
    "start_time": "2023-03-13T11:14:14.045Z"
   },
   {
    "duration": 18,
    "start_time": "2023-03-13T11:14:14.119Z"
   },
   {
    "duration": 8,
    "start_time": "2023-03-13T11:14:14.140Z"
   },
   {
    "duration": 9,
    "start_time": "2023-03-13T11:14:14.150Z"
   },
   {
    "duration": 12,
    "start_time": "2023-03-13T11:14:14.160Z"
   },
   {
    "duration": 22,
    "start_time": "2023-03-13T11:14:14.174Z"
   },
   {
    "duration": 7,
    "start_time": "2023-03-13T11:14:14.223Z"
   },
   {
    "duration": 9,
    "start_time": "2023-03-13T11:14:14.232Z"
   },
   {
    "duration": 89,
    "start_time": "2023-03-13T11:14:14.243Z"
   },
   {
    "duration": 17,
    "start_time": "2023-03-13T11:14:47.080Z"
   },
   {
    "duration": 69,
    "start_time": "2023-03-13T11:21:35.852Z"
   },
   {
    "duration": 115,
    "start_time": "2023-03-13T11:28:19.505Z"
   },
   {
    "duration": 14,
    "start_time": "2023-03-13T11:28:32.703Z"
   },
   {
    "duration": 1171,
    "start_time": "2023-03-13T11:28:38.473Z"
   },
   {
    "duration": 74,
    "start_time": "2023-03-13T11:28:39.646Z"
   },
   {
    "duration": 16,
    "start_time": "2023-03-13T11:28:39.722Z"
   },
   {
    "duration": 7,
    "start_time": "2023-03-13T11:28:39.741Z"
   },
   {
    "duration": 23,
    "start_time": "2023-03-13T11:28:39.749Z"
   },
   {
    "duration": 20,
    "start_time": "2023-03-13T11:28:39.775Z"
   },
   {
    "duration": 34,
    "start_time": "2023-03-13T11:28:39.797Z"
   },
   {
    "duration": 24,
    "start_time": "2023-03-13T11:28:39.834Z"
   },
   {
    "duration": 85,
    "start_time": "2023-03-13T11:28:39.861Z"
   },
   {
    "duration": 16,
    "start_time": "2023-03-13T11:29:26.944Z"
   },
   {
    "duration": 23,
    "start_time": "2023-03-13T11:31:37.169Z"
   },
   {
    "duration": 6,
    "start_time": "2023-03-13T11:32:09.233Z"
   },
   {
    "duration": 7,
    "start_time": "2023-03-13T11:40:29.759Z"
   },
   {
    "duration": 10,
    "start_time": "2023-03-13T11:40:37.670Z"
   },
   {
    "duration": 63,
    "start_time": "2023-03-13T11:40:59.823Z"
   },
   {
    "duration": 65,
    "start_time": "2023-03-13T11:41:26.848Z"
   },
   {
    "duration": 104,
    "start_time": "2023-03-13T11:41:37.246Z"
   },
   {
    "duration": 15,
    "start_time": "2023-03-13T11:41:39.809Z"
   },
   {
    "duration": 1234,
    "start_time": "2023-03-13T11:41:50.101Z"
   },
   {
    "duration": 74,
    "start_time": "2023-03-13T11:41:51.337Z"
   },
   {
    "duration": 19,
    "start_time": "2023-03-13T11:41:51.413Z"
   },
   {
    "duration": 5,
    "start_time": "2023-03-13T11:41:51.434Z"
   },
   {
    "duration": 12,
    "start_time": "2023-03-13T11:41:51.440Z"
   },
   {
    "duration": 20,
    "start_time": "2023-03-13T11:41:51.453Z"
   },
   {
    "duration": 5,
    "start_time": "2023-03-13T11:41:51.475Z"
   },
   {
    "duration": 47,
    "start_time": "2023-03-13T11:41:51.482Z"
   },
   {
    "duration": 8,
    "start_time": "2023-03-13T11:41:51.531Z"
   },
   {
    "duration": 14,
    "start_time": "2023-03-13T11:41:51.542Z"
   },
   {
    "duration": 15,
    "start_time": "2023-03-13T11:54:10.679Z"
   },
   {
    "duration": 372,
    "start_time": "2023-03-13T12:00:00.425Z"
   },
   {
    "duration": 322,
    "start_time": "2023-03-13T12:02:28.259Z"
   },
   {
    "duration": 318,
    "start_time": "2023-03-13T12:03:59.598Z"
   },
   {
    "duration": 6,
    "start_time": "2023-03-13T12:08:46.288Z"
   },
   {
    "duration": 6,
    "start_time": "2023-03-13T12:08:49.607Z"
   },
   {
    "duration": 360,
    "start_time": "2023-03-13T12:10:11.392Z"
   },
   {
    "duration": 8,
    "start_time": "2023-03-13T12:14:54.052Z"
   },
   {
    "duration": 108,
    "start_time": "2023-03-13T12:15:52.738Z"
   },
   {
    "duration": 14,
    "start_time": "2023-03-13T12:16:22.534Z"
   },
   {
    "duration": 88,
    "start_time": "2023-03-13T12:17:35.836Z"
   },
   {
    "duration": 10,
    "start_time": "2023-03-13T12:17:42.675Z"
   },
   {
    "duration": 7,
    "start_time": "2023-03-13T12:36:06.030Z"
   },
   {
    "duration": 309,
    "start_time": "2023-03-13T12:43:04.491Z"
   },
   {
    "duration": 314,
    "start_time": "2023-03-13T12:44:16.205Z"
   },
   {
    "duration": 7,
    "start_time": "2023-03-13T12:44:25.780Z"
   },
   {
    "duration": 284,
    "start_time": "2023-03-13T12:44:31.709Z"
   },
   {
    "duration": 70,
    "start_time": "2023-03-13T12:45:11.583Z"
   },
   {
    "duration": 9,
    "start_time": "2023-03-13T12:45:27.564Z"
   },
   {
    "duration": 84,
    "start_time": "2023-03-13T12:45:34.149Z"
   },
   {
    "duration": 13,
    "start_time": "2023-03-13T12:45:45.573Z"
   },
   {
    "duration": 11,
    "start_time": "2023-03-13T12:46:30.790Z"
   },
   {
    "duration": 89,
    "start_time": "2023-03-13T12:46:46.751Z"
   },
   {
    "duration": 9,
    "start_time": "2023-03-13T12:46:56.439Z"
   },
   {
    "duration": 208,
    "start_time": "2023-03-13T12:48:44.512Z"
   },
   {
    "duration": 187,
    "start_time": "2023-03-13T12:49:34.673Z"
   },
   {
    "duration": 12,
    "start_time": "2023-03-13T12:51:24.640Z"
   },
   {
    "duration": 9,
    "start_time": "2023-03-13T12:51:37.137Z"
   },
   {
    "duration": 36,
    "start_time": "2023-03-13T13:35:19.393Z"
   },
   {
    "duration": 338,
    "start_time": "2023-03-13T13:36:24.590Z"
   },
   {
    "duration": 147,
    "start_time": "2023-03-13T13:49:08.545Z"
   },
   {
    "duration": 260,
    "start_time": "2023-03-13T13:54:11.870Z"
   },
   {
    "duration": 245,
    "start_time": "2023-03-13T13:55:53.768Z"
   },
   {
    "duration": 247,
    "start_time": "2023-03-13T13:56:25.497Z"
   },
   {
    "duration": 252,
    "start_time": "2023-03-13T13:58:51.922Z"
   },
   {
    "duration": 294,
    "start_time": "2023-03-13T14:10:18.064Z"
   },
   {
    "duration": 50,
    "start_time": "2023-03-13T16:24:37.835Z"
   },
   {
    "duration": 9,
    "start_time": "2023-03-13T16:25:47.624Z"
   },
   {
    "duration": 1376,
    "start_time": "2023-03-13T16:25:54.987Z"
   },
   {
    "duration": 120,
    "start_time": "2023-03-13T16:25:56.365Z"
   },
   {
    "duration": 16,
    "start_time": "2023-03-13T16:25:56.486Z"
   },
   {
    "duration": 6,
    "start_time": "2023-03-13T16:25:56.505Z"
   },
   {
    "duration": 19,
    "start_time": "2023-03-13T16:25:56.512Z"
   },
   {
    "duration": 845,
    "start_time": "2023-03-13T16:25:56.533Z"
   },
   {
    "duration": 0,
    "start_time": "2023-03-13T16:25:57.381Z"
   },
   {
    "duration": 0,
    "start_time": "2023-03-13T16:25:57.382Z"
   },
   {
    "duration": 0,
    "start_time": "2023-03-13T16:25:57.384Z"
   },
   {
    "duration": 0,
    "start_time": "2023-03-13T16:25:57.385Z"
   },
   {
    "duration": 0,
    "start_time": "2023-03-13T16:25:57.387Z"
   },
   {
    "duration": 1,
    "start_time": "2023-03-13T16:25:57.388Z"
   },
   {
    "duration": 0,
    "start_time": "2023-03-13T16:25:57.390Z"
   },
   {
    "duration": 12,
    "start_time": "2023-03-13T16:26:26.025Z"
   },
   {
    "duration": 6,
    "start_time": "2023-03-13T16:26:43.548Z"
   },
   {
    "duration": 1249,
    "start_time": "2023-03-13T16:27:04.038Z"
   },
   {
    "duration": 83,
    "start_time": "2023-03-13T16:27:05.289Z"
   },
   {
    "duration": 20,
    "start_time": "2023-03-13T16:27:05.374Z"
   },
   {
    "duration": 10,
    "start_time": "2023-03-13T16:27:05.397Z"
   },
   {
    "duration": 14,
    "start_time": "2023-03-13T16:27:05.408Z"
   },
   {
    "duration": 25,
    "start_time": "2023-03-13T16:27:05.424Z"
   },
   {
    "duration": 5,
    "start_time": "2023-03-13T16:27:05.457Z"
   },
   {
    "duration": 20,
    "start_time": "2023-03-13T16:27:05.464Z"
   },
   {
    "duration": 6,
    "start_time": "2023-03-13T16:27:05.485Z"
   },
   {
    "duration": 17,
    "start_time": "2023-03-13T16:27:05.493Z"
   },
   {
    "duration": 435,
    "start_time": "2023-03-13T16:27:05.511Z"
   },
   {
    "duration": 15,
    "start_time": "2023-03-13T16:27:05.948Z"
   },
   {
    "duration": 231,
    "start_time": "2023-03-13T16:27:05.965Z"
   },
   {
    "duration": 272,
    "start_time": "2023-03-13T17:12:29.204Z"
   },
   {
    "duration": 7,
    "start_time": "2023-03-13T17:13:22.814Z"
   },
   {
    "duration": 5,
    "start_time": "2023-03-13T17:13:40.309Z"
   },
   {
    "duration": 11,
    "start_time": "2023-03-13T17:14:35.677Z"
   },
   {
    "duration": 48,
    "start_time": "2023-03-13T17:29:26.254Z"
   },
   {
    "duration": 113,
    "start_time": "2023-03-13T17:29:51.009Z"
   },
   {
    "duration": 179,
    "start_time": "2023-03-13T17:31:38.392Z"
   },
   {
    "duration": 249,
    "start_time": "2023-03-13T17:31:46.798Z"
   },
   {
    "duration": 55,
    "start_time": "2023-03-13T17:33:48.025Z"
   },
   {
    "duration": 48,
    "start_time": "2023-03-13T17:34:03.207Z"
   },
   {
    "duration": 19,
    "start_time": "2023-03-13T17:34:10.479Z"
   },
   {
    "duration": 452,
    "start_time": "2023-03-13T17:34:38.675Z"
   },
   {
    "duration": 909,
    "start_time": "2023-03-13T17:35:38.536Z"
   },
   {
    "duration": 471,
    "start_time": "2023-03-13T17:46:20.355Z"
   },
   {
    "duration": 1088,
    "start_time": "2023-03-13T17:57:17.778Z"
   },
   {
    "duration": 447,
    "start_time": "2023-03-13T17:57:32.622Z"
   },
   {
    "duration": 14,
    "start_time": "2023-03-13T18:00:34.811Z"
   },
   {
    "duration": 300,
    "start_time": "2023-03-13T18:00:50.607Z"
   },
   {
    "duration": 14,
    "start_time": "2023-03-13T18:01:36.792Z"
   },
   {
    "duration": 480,
    "start_time": "2023-03-13T18:01:44.112Z"
   },
   {
    "duration": 460,
    "start_time": "2023-03-13T18:02:14.472Z"
   },
   {
    "duration": 13,
    "start_time": "2023-03-13T18:09:32.575Z"
   },
   {
    "duration": 12,
    "start_time": "2023-03-13T18:09:43.179Z"
   },
   {
    "duration": 12,
    "start_time": "2023-03-13T18:10:40.677Z"
   },
   {
    "duration": 13,
    "start_time": "2023-03-13T18:11:36.850Z"
   },
   {
    "duration": 1111,
    "start_time": "2023-03-13T18:11:44.274Z"
   },
   {
    "duration": 87,
    "start_time": "2023-03-13T18:11:45.388Z"
   },
   {
    "duration": 19,
    "start_time": "2023-03-13T18:11:45.477Z"
   },
   {
    "duration": 6,
    "start_time": "2023-03-13T18:11:45.498Z"
   },
   {
    "duration": 23,
    "start_time": "2023-03-13T18:11:45.507Z"
   },
   {
    "duration": 33,
    "start_time": "2023-03-13T18:11:45.532Z"
   },
   {
    "duration": 11,
    "start_time": "2023-03-13T18:11:45.567Z"
   },
   {
    "duration": 28,
    "start_time": "2023-03-13T18:11:45.580Z"
   },
   {
    "duration": 835,
    "start_time": "2023-03-13T18:11:45.610Z"
   },
   {
    "duration": 0,
    "start_time": "2023-03-13T18:11:46.447Z"
   },
   {
    "duration": 0,
    "start_time": "2023-03-13T18:11:46.448Z"
   },
   {
    "duration": 0,
    "start_time": "2023-03-13T18:11:46.449Z"
   },
   {
    "duration": 0,
    "start_time": "2023-03-13T18:11:46.450Z"
   },
   {
    "duration": 0,
    "start_time": "2023-03-13T18:11:46.451Z"
   },
   {
    "duration": 0,
    "start_time": "2023-03-13T18:11:46.452Z"
   },
   {
    "duration": 0,
    "start_time": "2023-03-13T18:11:46.453Z"
   },
   {
    "duration": 0,
    "start_time": "2023-03-13T18:11:46.455Z"
   },
   {
    "duration": 9,
    "start_time": "2023-03-13T18:11:51.988Z"
   },
   {
    "duration": 739,
    "start_time": "2023-03-13T18:12:16.694Z"
   },
   {
    "duration": 7,
    "start_time": "2023-03-13T18:12:59.329Z"
   },
   {
    "duration": 15,
    "start_time": "2023-03-13T18:13:00.926Z"
   },
   {
    "duration": 34,
    "start_time": "2023-03-13T18:13:07.636Z"
   },
   {
    "duration": 1144,
    "start_time": "2023-03-13T18:13:26.105Z"
   },
   {
    "duration": 77,
    "start_time": "2023-03-13T18:13:27.251Z"
   },
   {
    "duration": 17,
    "start_time": "2023-03-13T18:13:27.330Z"
   },
   {
    "duration": 5,
    "start_time": "2023-03-13T18:13:27.349Z"
   },
   {
    "duration": 13,
    "start_time": "2023-03-13T18:13:27.357Z"
   },
   {
    "duration": 15,
    "start_time": "2023-03-13T18:13:27.371Z"
   },
   {
    "duration": 6,
    "start_time": "2023-03-13T18:13:27.387Z"
   },
   {
    "duration": 17,
    "start_time": "2023-03-13T18:13:27.395Z"
   },
   {
    "duration": 6,
    "start_time": "2023-03-13T18:13:27.413Z"
   },
   {
    "duration": 36,
    "start_time": "2023-03-13T18:13:27.422Z"
   },
   {
    "duration": 351,
    "start_time": "2023-03-13T18:13:27.460Z"
   },
   {
    "duration": 8,
    "start_time": "2023-03-13T18:13:27.813Z"
   },
   {
    "duration": 221,
    "start_time": "2023-03-13T18:13:27.822Z"
   },
   {
    "duration": 453,
    "start_time": "2023-03-13T18:13:28.045Z"
   },
   {
    "duration": 110,
    "start_time": "2023-03-13T18:13:28.499Z"
   },
   {
    "duration": 9,
    "start_time": "2023-03-13T18:20:39.296Z"
   },
   {
    "duration": 236,
    "start_time": "2023-03-13T18:20:43.331Z"
   },
   {
    "duration": 528,
    "start_time": "2023-03-13T18:20:49.605Z"
   },
   {
    "duration": 46,
    "start_time": "2023-03-13T18:22:36.274Z"
   },
   {
    "duration": 229,
    "start_time": "2023-03-13T18:22:50.332Z"
   },
   {
    "duration": 256,
    "start_time": "2023-03-13T18:24:54.474Z"
   },
   {
    "duration": 321,
    "start_time": "2023-03-13T18:25:01.612Z"
   },
   {
    "duration": 63,
    "start_time": "2023-03-13T18:27:05.120Z"
   },
   {
    "duration": 18,
    "start_time": "2023-03-13T18:27:07.695Z"
   },
   {
    "duration": 223,
    "start_time": "2023-03-13T18:27:47.103Z"
   },
   {
    "duration": 219,
    "start_time": "2023-03-13T18:27:53.494Z"
   },
   {
    "duration": 147,
    "start_time": "2023-03-13T19:11:26.278Z"
   },
   {
    "duration": 143,
    "start_time": "2023-03-13T19:11:52.594Z"
   },
   {
    "duration": 24,
    "start_time": "2023-03-13T19:12:47.580Z"
   },
   {
    "duration": 1120,
    "start_time": "2023-03-13T19:13:31.102Z"
   },
   {
    "duration": 72,
    "start_time": "2023-03-13T19:13:32.226Z"
   },
   {
    "duration": 16,
    "start_time": "2023-03-13T19:13:32.301Z"
   },
   {
    "duration": 6,
    "start_time": "2023-03-13T19:13:32.318Z"
   },
   {
    "duration": 32,
    "start_time": "2023-03-13T19:13:32.326Z"
   },
   {
    "duration": 14,
    "start_time": "2023-03-13T19:13:32.360Z"
   },
   {
    "duration": 7,
    "start_time": "2023-03-13T19:13:32.376Z"
   },
   {
    "duration": 26,
    "start_time": "2023-03-13T19:13:32.384Z"
   },
   {
    "duration": 7,
    "start_time": "2023-03-13T19:13:32.413Z"
   },
   {
    "duration": 18,
    "start_time": "2023-03-13T19:13:32.422Z"
   },
   {
    "duration": 26,
    "start_time": "2023-03-13T19:13:32.458Z"
   },
   {
    "duration": 414,
    "start_time": "2023-03-13T19:13:32.486Z"
   },
   {
    "duration": 9,
    "start_time": "2023-03-13T19:13:32.902Z"
   },
   {
    "duration": 256,
    "start_time": "2023-03-13T19:13:32.913Z"
   },
   {
    "duration": 569,
    "start_time": "2023-03-13T19:13:33.171Z"
   },
   {
    "duration": 161,
    "start_time": "2023-03-13T19:13:33.742Z"
   },
   {
    "duration": 9,
    "start_time": "2023-03-13T19:14:06.382Z"
   },
   {
    "duration": 226,
    "start_time": "2023-03-13T19:15:39.693Z"
   },
   {
    "duration": 162,
    "start_time": "2023-03-13T19:15:50.979Z"
   },
   {
    "duration": 153,
    "start_time": "2023-03-13T19:21:36.284Z"
   },
   {
    "duration": 269,
    "start_time": "2023-03-13T19:28:35.157Z"
   },
   {
    "duration": 178,
    "start_time": "2023-03-13T19:28:43.726Z"
   },
   {
    "duration": 148,
    "start_time": "2023-03-13T19:28:58.981Z"
   },
   {
    "duration": 127,
    "start_time": "2023-03-13T19:49:30.011Z"
   },
   {
    "duration": 125,
    "start_time": "2023-03-13T19:51:26.010Z"
   },
   {
    "duration": 129,
    "start_time": "2023-03-13T19:51:57.249Z"
   },
   {
    "duration": 150,
    "start_time": "2023-03-13T19:52:35.227Z"
   },
   {
    "duration": 149,
    "start_time": "2023-03-13T19:54:21.603Z"
   },
   {
    "duration": 5,
    "start_time": "2023-03-13T19:57:50.231Z"
   },
   {
    "duration": 69,
    "start_time": "2023-03-13T20:23:15.033Z"
   },
   {
    "duration": 104,
    "start_time": "2023-03-13T20:23:41.313Z"
   },
   {
    "duration": 698,
    "start_time": "2023-03-13T20:25:41.393Z"
   },
   {
    "duration": 10,
    "start_time": "2023-03-13T20:27:52.090Z"
   },
   {
    "duration": 9,
    "start_time": "2023-03-13T20:28:05.237Z"
   },
   {
    "duration": 14,
    "start_time": "2023-03-13T20:32:23.795Z"
   },
   {
    "duration": 12,
    "start_time": "2023-03-13T20:32:35.841Z"
   },
   {
    "duration": 348,
    "start_time": "2023-03-13T20:33:15.553Z"
   },
   {
    "duration": 12,
    "start_time": "2023-03-13T20:33:49.113Z"
   },
   {
    "duration": 12,
    "start_time": "2023-03-13T20:35:07.626Z"
   },
   {
    "duration": 5,
    "start_time": "2023-03-13T20:40:43.469Z"
   },
   {
    "duration": 49,
    "start_time": "2023-03-14T07:21:22.980Z"
   },
   {
    "duration": 7,
    "start_time": "2023-03-14T07:21:27.357Z"
   },
   {
    "duration": 1353,
    "start_time": "2023-03-14T07:21:34.167Z"
   },
   {
    "duration": 210,
    "start_time": "2023-03-14T07:21:35.523Z"
   },
   {
    "duration": 17,
    "start_time": "2023-03-14T07:21:35.735Z"
   },
   {
    "duration": 14,
    "start_time": "2023-03-14T07:21:35.754Z"
   },
   {
    "duration": 26,
    "start_time": "2023-03-14T07:21:35.770Z"
   },
   {
    "duration": 21,
    "start_time": "2023-03-14T07:21:35.799Z"
   },
   {
    "duration": 9,
    "start_time": "2023-03-14T07:21:35.823Z"
   },
   {
    "duration": 38,
    "start_time": "2023-03-14T07:21:35.835Z"
   },
   {
    "duration": 8,
    "start_time": "2023-03-14T07:21:35.876Z"
   },
   {
    "duration": 20,
    "start_time": "2023-03-14T07:21:35.888Z"
   },
   {
    "duration": 441,
    "start_time": "2023-03-14T07:21:35.909Z"
   },
   {
    "duration": 9,
    "start_time": "2023-03-14T07:21:36.354Z"
   },
   {
    "duration": 308,
    "start_time": "2023-03-14T07:21:36.364Z"
   },
   {
    "duration": 873,
    "start_time": "2023-03-14T07:21:36.675Z"
   },
   {
    "duration": 214,
    "start_time": "2023-03-14T07:21:37.550Z"
   },
   {
    "duration": 150,
    "start_time": "2023-03-14T07:21:37.766Z"
   },
   {
    "duration": 96,
    "start_time": "2023-03-14T07:21:37.918Z"
   },
   {
    "duration": 0,
    "start_time": "2023-03-14T07:21:38.015Z"
   },
   {
    "duration": 0,
    "start_time": "2023-03-14T07:21:38.016Z"
   },
   {
    "duration": 0,
    "start_time": "2023-03-14T07:21:38.018Z"
   },
   {
    "duration": 715,
    "start_time": "2023-03-14T07:22:49.452Z"
   },
   {
    "duration": 276,
    "start_time": "2023-03-14T07:23:17.629Z"
   },
   {
    "duration": 203,
    "start_time": "2023-03-14T07:23:28.773Z"
   },
   {
    "duration": 15,
    "start_time": "2023-03-14T07:24:17.203Z"
   },
   {
    "duration": 738,
    "start_time": "2023-03-14T07:27:06.875Z"
   },
   {
    "duration": 813,
    "start_time": "2023-03-14T07:27:37.440Z"
   },
   {
    "duration": 192,
    "start_time": "2023-03-14T07:47:43.818Z"
   },
   {
    "duration": 190,
    "start_time": "2023-03-14T07:48:19.906Z"
   },
   {
    "duration": 386,
    "start_time": "2023-03-14T07:51:04.005Z"
   },
   {
    "duration": 202,
    "start_time": "2023-03-14T07:51:17.119Z"
   },
   {
    "duration": 15,
    "start_time": "2023-03-14T08:08:32.995Z"
   },
   {
    "duration": 19,
    "start_time": "2023-03-14T08:08:38.415Z"
   },
   {
    "duration": 71,
    "start_time": "2023-03-14T08:08:47.640Z"
   },
   {
    "duration": 84,
    "start_time": "2023-03-14T08:10:05.871Z"
   },
   {
    "duration": 154,
    "start_time": "2023-03-14T08:10:14.567Z"
   },
   {
    "duration": 32,
    "start_time": "2023-03-14T08:10:48.715Z"
   },
   {
    "duration": 91,
    "start_time": "2023-03-14T08:12:55.394Z"
   },
   {
    "duration": 36,
    "start_time": "2023-03-14T08:13:31.193Z"
   },
   {
    "duration": 30,
    "start_time": "2023-03-14T08:13:48.812Z"
   },
   {
    "duration": 32,
    "start_time": "2023-03-14T08:14:03.251Z"
   },
   {
    "duration": 30,
    "start_time": "2023-03-14T08:14:20.274Z"
   },
   {
    "duration": 27,
    "start_time": "2023-03-14T08:14:24.721Z"
   },
   {
    "duration": 11,
    "start_time": "2023-03-14T08:14:39.314Z"
   },
   {
    "duration": 36,
    "start_time": "2023-03-14T08:14:59.458Z"
   },
   {
    "duration": 40,
    "start_time": "2023-03-14T08:17:34.105Z"
   },
   {
    "duration": 35,
    "start_time": "2023-03-14T08:18:03.030Z"
   },
   {
    "duration": 39,
    "start_time": "2023-03-14T08:18:10.874Z"
   },
   {
    "duration": 48,
    "start_time": "2023-03-14T08:22:26.736Z"
   },
   {
    "duration": 41,
    "start_time": "2023-03-14T08:22:43.992Z"
   },
   {
    "duration": 37,
    "start_time": "2023-03-14T08:23:00.312Z"
   },
   {
    "duration": 39,
    "start_time": "2023-03-14T08:39:23.788Z"
   },
   {
    "duration": 32,
    "start_time": "2023-03-14T08:40:57.399Z"
   },
   {
    "duration": 127,
    "start_time": "2023-03-14T08:41:24.514Z"
   },
   {
    "duration": 70,
    "start_time": "2023-03-14T08:47:44.945Z"
   },
   {
    "duration": 74,
    "start_time": "2023-03-14T08:47:47.310Z"
   },
   {
    "duration": 71,
    "start_time": "2023-03-14T08:47:54.893Z"
   },
   {
    "duration": 74,
    "start_time": "2023-03-14T08:48:06.104Z"
   },
   {
    "duration": 73,
    "start_time": "2023-03-14T08:48:29.503Z"
   },
   {
    "duration": 72,
    "start_time": "2023-03-14T08:48:40.605Z"
   },
   {
    "duration": 68,
    "start_time": "2023-03-14T08:48:49.103Z"
   },
   {
    "duration": 173,
    "start_time": "2023-03-14T08:49:03.160Z"
   },
   {
    "duration": 29,
    "start_time": "2023-03-14T08:49:36.489Z"
   },
   {
    "duration": 330,
    "start_time": "2023-03-14T08:49:43.700Z"
   },
   {
    "duration": 72,
    "start_time": "2023-03-14T08:57:07.904Z"
   },
   {
    "duration": 12,
    "start_time": "2023-03-14T08:57:36.698Z"
   },
   {
    "duration": 16,
    "start_time": "2023-03-14T08:57:45.420Z"
   },
   {
    "duration": 16,
    "start_time": "2023-03-14T08:58:21.526Z"
   },
   {
    "duration": 32,
    "start_time": "2023-03-14T08:58:38.159Z"
   },
   {
    "duration": 16,
    "start_time": "2023-03-14T08:58:56.736Z"
   },
   {
    "duration": 143,
    "start_time": "2023-03-14T08:59:53.086Z"
   },
   {
    "duration": 26,
    "start_time": "2023-03-14T09:00:12.670Z"
   },
   {
    "duration": 160,
    "start_time": "2023-03-14T09:01:24.253Z"
   },
   {
    "duration": 147,
    "start_time": "2023-03-14T09:03:42.213Z"
   },
   {
    "duration": 146,
    "start_time": "2023-03-14T09:04:02.685Z"
   },
   {
    "duration": 180,
    "start_time": "2023-03-14T09:04:30.641Z"
   },
   {
    "duration": 163,
    "start_time": "2023-03-14T09:06:50.091Z"
   },
   {
    "duration": 153,
    "start_time": "2023-03-14T09:07:08.362Z"
   },
   {
    "duration": 143,
    "start_time": "2023-03-14T09:07:31.436Z"
   },
   {
    "duration": 265,
    "start_time": "2023-03-14T09:17:04.319Z"
   },
   {
    "duration": 143,
    "start_time": "2023-03-14T09:17:42.982Z"
   },
   {
    "duration": 186,
    "start_time": "2023-03-14T09:17:57.310Z"
   },
   {
    "duration": 22,
    "start_time": "2023-03-14T09:20:26.906Z"
   },
   {
    "duration": 14,
    "start_time": "2023-03-14T09:20:38.794Z"
   },
   {
    "duration": 22,
    "start_time": "2023-03-14T09:20:49.483Z"
   },
   {
    "duration": 18,
    "start_time": "2023-03-14T09:21:21.898Z"
   },
   {
    "duration": 16,
    "start_time": "2023-03-14T09:22:08.211Z"
   },
   {
    "duration": 27,
    "start_time": "2023-03-14T09:24:27.395Z"
   },
   {
    "duration": 165,
    "start_time": "2023-03-14T09:25:02.500Z"
   },
   {
    "duration": 164,
    "start_time": "2023-03-14T09:25:12.100Z"
   },
   {
    "duration": 231,
    "start_time": "2023-03-14T09:27:39.024Z"
   },
   {
    "duration": 166,
    "start_time": "2023-03-14T09:33:27.723Z"
   },
   {
    "duration": 28,
    "start_time": "2023-03-14T09:33:45.946Z"
   },
   {
    "duration": 194,
    "start_time": "2023-03-14T09:34:15.973Z"
   },
   {
    "duration": 286,
    "start_time": "2023-03-14T09:37:43.851Z"
   },
   {
    "duration": 191,
    "start_time": "2023-03-14T09:37:49.422Z"
   },
   {
    "duration": 191,
    "start_time": "2023-03-14T09:37:54.518Z"
   },
   {
    "duration": 220,
    "start_time": "2023-03-14T09:37:59.259Z"
   },
   {
    "duration": 284,
    "start_time": "2023-03-14T09:38:05.899Z"
   },
   {
    "duration": 366,
    "start_time": "2023-03-14T09:39:39.348Z"
   },
   {
    "duration": 198,
    "start_time": "2023-03-14T09:39:44.077Z"
   },
   {
    "duration": 265,
    "start_time": "2023-03-14T09:39:52.524Z"
   },
   {
    "duration": 210,
    "start_time": "2023-03-14T09:39:59.636Z"
   },
   {
    "duration": 171,
    "start_time": "2023-03-14T10:18:22.797Z"
   },
   {
    "duration": 21,
    "start_time": "2023-03-14T10:18:40.737Z"
   },
   {
    "duration": 197,
    "start_time": "2023-03-14T10:19:00.140Z"
   },
   {
    "duration": 194,
    "start_time": "2023-03-14T10:19:06.465Z"
   },
   {
    "duration": 207,
    "start_time": "2023-03-14T10:19:11.193Z"
   },
   {
    "duration": 202,
    "start_time": "2023-03-14T10:19:18.902Z"
   },
   {
    "duration": 207,
    "start_time": "2023-03-14T10:19:28.074Z"
   },
   {
    "duration": 217,
    "start_time": "2023-03-14T10:19:34.234Z"
   },
   {
    "duration": 203,
    "start_time": "2023-03-14T10:19:46.012Z"
   },
   {
    "duration": 12,
    "start_time": "2023-03-14T10:21:03.555Z"
   },
   {
    "duration": 11,
    "start_time": "2023-03-14T10:21:06.842Z"
   },
   {
    "duration": 15,
    "start_time": "2023-03-14T10:21:21.297Z"
   },
   {
    "duration": 16,
    "start_time": "2023-03-14T10:21:33.723Z"
   },
   {
    "duration": 14,
    "start_time": "2023-03-14T10:21:45.260Z"
   },
   {
    "duration": 15,
    "start_time": "2023-03-14T10:41:33.032Z"
   },
   {
    "duration": 33,
    "start_time": "2023-03-14T10:41:58.024Z"
   },
   {
    "duration": 22,
    "start_time": "2023-03-14T10:56:57.826Z"
   },
   {
    "duration": 211,
    "start_time": "2023-03-14T10:57:05.745Z"
   },
   {
    "duration": 325,
    "start_time": "2023-03-14T11:08:05.744Z"
   },
   {
    "duration": 189,
    "start_time": "2023-03-14T11:10:18.099Z"
   },
   {
    "duration": 184,
    "start_time": "2023-03-14T11:10:45.897Z"
   },
   {
    "duration": 192,
    "start_time": "2023-03-14T11:10:54.597Z"
   },
   {
    "duration": 15,
    "start_time": "2023-03-14T12:13:12.329Z"
   },
   {
    "duration": 110,
    "start_time": "2023-03-14T12:13:39.395Z"
   },
   {
    "duration": 6,
    "start_time": "2023-03-14T12:15:14.522Z"
   },
   {
    "duration": 6,
    "start_time": "2023-03-14T12:15:21.935Z"
   },
   {
    "duration": 14,
    "start_time": "2023-03-14T12:16:28.198Z"
   },
   {
    "duration": 18,
    "start_time": "2023-03-14T12:16:34.442Z"
   },
   {
    "duration": 15,
    "start_time": "2023-03-14T12:16:42.137Z"
   },
   {
    "duration": 1196,
    "start_time": "2023-03-14T12:17:09.119Z"
   },
   {
    "duration": 70,
    "start_time": "2023-03-14T12:17:10.317Z"
   },
   {
    "duration": 15,
    "start_time": "2023-03-14T12:17:10.389Z"
   },
   {
    "duration": 5,
    "start_time": "2023-03-14T12:17:10.407Z"
   },
   {
    "duration": 14,
    "start_time": "2023-03-14T12:17:10.414Z"
   },
   {
    "duration": 31,
    "start_time": "2023-03-14T12:17:10.430Z"
   },
   {
    "duration": 5,
    "start_time": "2023-03-14T12:17:10.463Z"
   },
   {
    "duration": 16,
    "start_time": "2023-03-14T12:17:10.470Z"
   },
   {
    "duration": 6,
    "start_time": "2023-03-14T12:17:10.487Z"
   },
   {
    "duration": 13,
    "start_time": "2023-03-14T12:17:10.496Z"
   },
   {
    "duration": 403,
    "start_time": "2023-03-14T12:17:10.511Z"
   },
   {
    "duration": 9,
    "start_time": "2023-03-14T12:17:10.916Z"
   },
   {
    "duration": 282,
    "start_time": "2023-03-14T12:17:10.927Z"
   },
   {
    "duration": 775,
    "start_time": "2023-03-14T12:17:11.211Z"
   },
   {
    "duration": 207,
    "start_time": "2023-03-14T12:17:11.988Z"
   },
   {
    "duration": 154,
    "start_time": "2023-03-14T12:17:12.197Z"
   },
   {
    "duration": 162,
    "start_time": "2023-03-14T12:17:12.354Z"
   },
   {
    "duration": 13,
    "start_time": "2023-03-14T12:17:12.518Z"
   },
   {
    "duration": 295,
    "start_time": "2023-03-14T12:17:12.533Z"
   },
   {
    "duration": 152,
    "start_time": "2023-03-14T12:17:12.830Z"
   },
   {
    "duration": 149,
    "start_time": "2023-03-14T12:17:12.984Z"
   },
   {
    "duration": 158,
    "start_time": "2023-03-14T12:17:13.135Z"
   },
   {
    "duration": 16,
    "start_time": "2023-03-14T12:17:13.295Z"
   },
   {
    "duration": 23,
    "start_time": "2023-03-14T12:17:13.313Z"
   },
   {
    "duration": 17,
    "start_time": "2023-03-14T12:17:13.352Z"
   },
   {
    "duration": 192,
    "start_time": "2023-03-14T12:17:13.371Z"
   },
   {
    "duration": 106,
    "start_time": "2023-03-14T12:17:13.565Z"
   },
   {
    "duration": 7,
    "start_time": "2023-03-14T12:18:21.239Z"
   },
   {
    "duration": 6,
    "start_time": "2023-03-14T12:18:39.162Z"
   },
   {
    "duration": 15,
    "start_time": "2023-03-14T12:19:23.572Z"
   },
   {
    "duration": 16,
    "start_time": "2023-03-14T12:19:51.603Z"
   },
   {
    "duration": 1198,
    "start_time": "2023-03-14T12:19:59.296Z"
   },
   {
    "duration": 72,
    "start_time": "2023-03-14T12:20:00.496Z"
   },
   {
    "duration": 15,
    "start_time": "2023-03-14T12:20:00.570Z"
   },
   {
    "duration": 71,
    "start_time": "2023-03-14T12:20:00.587Z"
   },
   {
    "duration": 49,
    "start_time": "2023-03-14T12:20:00.660Z"
   },
   {
    "duration": 47,
    "start_time": "2023-03-14T12:20:00.711Z"
   },
   {
    "duration": 54,
    "start_time": "2023-03-14T12:20:00.760Z"
   },
   {
    "duration": 35,
    "start_time": "2023-03-14T12:20:00.816Z"
   },
   {
    "duration": 19,
    "start_time": "2023-03-14T12:20:00.853Z"
   },
   {
    "duration": 28,
    "start_time": "2023-03-14T12:20:00.875Z"
   },
   {
    "duration": 416,
    "start_time": "2023-03-14T12:20:00.904Z"
   },
   {
    "duration": 9,
    "start_time": "2023-03-14T12:20:01.322Z"
   },
   {
    "duration": 313,
    "start_time": "2023-03-14T12:20:01.332Z"
   },
   {
    "duration": 701,
    "start_time": "2023-03-14T12:20:01.647Z"
   },
   {
    "duration": 196,
    "start_time": "2023-03-14T12:20:02.349Z"
   },
   {
    "duration": 136,
    "start_time": "2023-03-14T12:20:02.553Z"
   },
   {
    "duration": 156,
    "start_time": "2023-03-14T12:20:02.691Z"
   },
   {
    "duration": 14,
    "start_time": "2023-03-14T12:20:02.852Z"
   },
   {
    "duration": 283,
    "start_time": "2023-03-14T12:20:02.867Z"
   },
   {
    "duration": 150,
    "start_time": "2023-03-14T12:20:03.153Z"
   },
   {
    "duration": 152,
    "start_time": "2023-03-14T12:20:03.305Z"
   },
   {
    "duration": 169,
    "start_time": "2023-03-14T12:20:03.459Z"
   },
   {
    "duration": 26,
    "start_time": "2023-03-14T12:20:03.630Z"
   },
   {
    "duration": 16,
    "start_time": "2023-03-14T12:20:03.657Z"
   },
   {
    "duration": 15,
    "start_time": "2023-03-14T12:20:03.674Z"
   },
   {
    "duration": 228,
    "start_time": "2023-03-14T12:20:03.691Z"
   },
   {
    "duration": 7,
    "start_time": "2023-03-14T12:20:03.921Z"
   },
   {
    "duration": 155,
    "start_time": "2023-03-14T12:20:03.931Z"
   },
   {
    "duration": 16,
    "start_time": "2023-03-14T12:22:16.904Z"
   },
   {
    "duration": 17,
    "start_time": "2023-03-14T12:22:38.452Z"
   },
   {
    "duration": 15,
    "start_time": "2023-03-14T12:22:46.458Z"
   },
   {
    "duration": 14,
    "start_time": "2023-03-14T12:31:25.356Z"
   },
   {
    "duration": 14,
    "start_time": "2023-03-14T12:31:33.828Z"
   },
   {
    "duration": 8,
    "start_time": "2023-03-14T12:33:14.412Z"
   },
   {
    "duration": 11,
    "start_time": "2023-03-14T12:33:59.495Z"
   },
   {
    "duration": 13,
    "start_time": "2023-03-14T12:34:05.396Z"
   },
   {
    "duration": 15,
    "start_time": "2023-03-14T12:49:19.257Z"
   },
   {
    "duration": 11,
    "start_time": "2023-03-14T12:49:34.480Z"
   },
   {
    "duration": 11,
    "start_time": "2023-03-14T12:54:07.144Z"
   },
   {
    "duration": 209,
    "start_time": "2023-03-14T14:21:32.002Z"
   },
   {
    "duration": 1246,
    "start_time": "2023-03-14T15:28:04.233Z"
   },
   {
    "duration": 69,
    "start_time": "2023-03-14T15:28:05.481Z"
   },
   {
    "duration": 18,
    "start_time": "2023-03-14T15:28:05.551Z"
   },
   {
    "duration": 6,
    "start_time": "2023-03-14T15:28:05.571Z"
   },
   {
    "duration": 16,
    "start_time": "2023-03-14T15:28:05.579Z"
   },
   {
    "duration": 17,
    "start_time": "2023-03-14T15:28:05.598Z"
   },
   {
    "duration": 43,
    "start_time": "2023-03-14T15:28:05.617Z"
   },
   {
    "duration": 32,
    "start_time": "2023-03-14T15:28:05.662Z"
   },
   {
    "duration": 7,
    "start_time": "2023-03-14T15:28:05.697Z"
   },
   {
    "duration": 15,
    "start_time": "2023-03-14T15:28:05.706Z"
   },
   {
    "duration": 389,
    "start_time": "2023-03-14T15:28:05.723Z"
   },
   {
    "duration": 12,
    "start_time": "2023-03-14T15:28:06.114Z"
   },
   {
    "duration": 281,
    "start_time": "2023-03-14T15:28:06.128Z"
   },
   {
    "duration": 712,
    "start_time": "2023-03-14T15:28:06.412Z"
   },
   {
    "duration": 210,
    "start_time": "2023-03-14T15:28:07.126Z"
   },
   {
    "duration": 149,
    "start_time": "2023-03-14T15:28:07.340Z"
   },
   {
    "duration": 170,
    "start_time": "2023-03-14T15:28:07.491Z"
   },
   {
    "duration": 14,
    "start_time": "2023-03-14T15:28:07.663Z"
   },
   {
    "duration": 327,
    "start_time": "2023-03-14T15:28:07.679Z"
   },
   {
    "duration": 185,
    "start_time": "2023-03-14T15:28:08.008Z"
   },
   {
    "duration": 164,
    "start_time": "2023-03-14T15:28:08.196Z"
   },
   {
    "duration": 179,
    "start_time": "2023-03-14T15:28:08.362Z"
   },
   {
    "duration": 27,
    "start_time": "2023-03-14T15:28:08.543Z"
   },
   {
    "duration": 15,
    "start_time": "2023-03-14T15:28:08.571Z"
   },
   {
    "duration": 16,
    "start_time": "2023-03-14T15:28:08.588Z"
   },
   {
    "duration": 214,
    "start_time": "2023-03-14T15:28:08.605Z"
   },
   {
    "duration": 12,
    "start_time": "2023-03-14T15:28:08.822Z"
   },
   {
    "duration": 29,
    "start_time": "2023-03-14T15:28:08.836Z"
   },
   {
    "duration": 764,
    "start_time": "2023-03-14T15:30:14.862Z"
   },
   {
    "duration": 675,
    "start_time": "2023-03-14T15:43:17.209Z"
   },
   {
    "duration": 1223,
    "start_time": "2023-03-14T16:03:31.807Z"
   },
   {
    "duration": 74,
    "start_time": "2023-03-14T16:03:33.032Z"
   },
   {
    "duration": 17,
    "start_time": "2023-03-14T16:03:33.107Z"
   },
   {
    "duration": 9,
    "start_time": "2023-03-14T16:03:33.127Z"
   },
   {
    "duration": 20,
    "start_time": "2023-03-14T16:03:33.138Z"
   },
   {
    "duration": 25,
    "start_time": "2023-03-14T16:03:33.161Z"
   },
   {
    "duration": 20,
    "start_time": "2023-03-14T16:03:33.188Z"
   },
   {
    "duration": 32,
    "start_time": "2023-03-14T16:03:33.210Z"
   },
   {
    "duration": 9,
    "start_time": "2023-03-14T16:03:33.244Z"
   },
   {
    "duration": 30,
    "start_time": "2023-03-14T16:03:33.257Z"
   },
   {
    "duration": 430,
    "start_time": "2023-03-14T16:03:33.289Z"
   },
   {
    "duration": 8,
    "start_time": "2023-03-14T16:03:33.721Z"
   },
   {
    "duration": 360,
    "start_time": "2023-03-14T16:03:33.731Z"
   },
   {
    "duration": 876,
    "start_time": "2023-03-14T16:03:34.094Z"
   },
   {
    "duration": 237,
    "start_time": "2023-03-14T16:03:34.972Z"
   },
   {
    "duration": 176,
    "start_time": "2023-03-14T16:03:35.211Z"
   },
   {
    "duration": 222,
    "start_time": "2023-03-14T16:03:35.389Z"
   },
   {
    "duration": 17,
    "start_time": "2023-03-14T16:03:35.614Z"
   },
   {
    "duration": 347,
    "start_time": "2023-03-14T16:03:35.633Z"
   },
   {
    "duration": 179,
    "start_time": "2023-03-14T16:03:35.982Z"
   },
   {
    "duration": 182,
    "start_time": "2023-03-14T16:03:36.163Z"
   },
   {
    "duration": 179,
    "start_time": "2023-03-14T16:03:36.355Z"
   },
   {
    "duration": 30,
    "start_time": "2023-03-14T16:03:36.535Z"
   },
   {
    "duration": 18,
    "start_time": "2023-03-14T16:03:36.567Z"
   },
   {
    "duration": 18,
    "start_time": "2023-03-14T16:03:36.587Z"
   },
   {
    "duration": 267,
    "start_time": "2023-03-14T16:03:36.607Z"
   },
   {
    "duration": 14,
    "start_time": "2023-03-14T16:03:36.877Z"
   },
   {
    "duration": 16,
    "start_time": "2023-03-14T16:03:36.894Z"
   },
   {
    "duration": 12,
    "start_time": "2023-03-14T16:19:38.760Z"
   },
   {
    "duration": 10,
    "start_time": "2023-03-14T16:20:01.128Z"
   },
   {
    "duration": 8,
    "start_time": "2023-03-14T16:20:39.202Z"
   },
   {
    "duration": 198,
    "start_time": "2023-03-14T17:04:36.329Z"
   },
   {
    "duration": 199,
    "start_time": "2023-03-14T17:05:34.841Z"
   },
   {
    "duration": 218,
    "start_time": "2023-03-14T17:17:01.697Z"
   },
   {
    "duration": 249,
    "start_time": "2023-03-14T17:17:22.968Z"
   },
   {
    "duration": 235,
    "start_time": "2023-03-14T17:17:33.609Z"
   },
   {
    "duration": 316,
    "start_time": "2023-03-14T17:21:30.993Z"
   },
   {
    "duration": 364,
    "start_time": "2023-03-14T17:22:14.652Z"
   },
   {
    "duration": 258,
    "start_time": "2023-03-14T17:27:35.268Z"
   },
   {
    "duration": 16,
    "start_time": "2023-03-14T19:25:25.107Z"
   },
   {
    "duration": 156,
    "start_time": "2023-03-14T19:44:27.719Z"
   },
   {
    "duration": 764,
    "start_time": "2023-03-14T19:53:28.622Z"
   },
   {
    "duration": 186,
    "start_time": "2023-03-14T19:53:48.269Z"
   },
   {
    "duration": 149,
    "start_time": "2023-03-14T19:54:46.655Z"
   },
   {
    "duration": 154,
    "start_time": "2023-03-14T19:54:54.868Z"
   },
   {
    "duration": 178,
    "start_time": "2023-03-14T19:55:02.637Z"
   },
   {
    "duration": 14,
    "start_time": "2023-03-14T19:55:30.682Z"
   },
   {
    "duration": 14,
    "start_time": "2023-03-14T19:55:45.676Z"
   },
   {
    "duration": 15,
    "start_time": "2023-03-14T19:55:55.957Z"
   },
   {
    "duration": 183,
    "start_time": "2023-03-14T19:57:26.000Z"
   },
   {
    "duration": 168,
    "start_time": "2023-03-14T20:03:20.665Z"
   },
   {
    "duration": 6,
    "start_time": "2023-03-14T20:04:39.418Z"
   },
   {
    "duration": 806,
    "start_time": "2023-03-14T20:18:19.850Z"
   },
   {
    "duration": 221,
    "start_time": "2023-03-14T20:19:11.820Z"
   },
   {
    "duration": 193,
    "start_time": "2023-03-14T20:19:53.148Z"
   },
   {
    "duration": 48,
    "start_time": "2023-03-15T07:42:25.177Z"
   },
   {
    "duration": 1289,
    "start_time": "2023-03-15T07:42:33.076Z"
   },
   {
    "duration": 106,
    "start_time": "2023-03-15T07:42:34.367Z"
   },
   {
    "duration": 15,
    "start_time": "2023-03-15T07:42:34.475Z"
   },
   {
    "duration": 22,
    "start_time": "2023-03-15T07:42:34.492Z"
   },
   {
    "duration": 45,
    "start_time": "2023-03-15T07:42:34.515Z"
   },
   {
    "duration": 59,
    "start_time": "2023-03-15T07:42:34.561Z"
   },
   {
    "duration": 44,
    "start_time": "2023-03-15T07:42:34.621Z"
   },
   {
    "duration": 50,
    "start_time": "2023-03-15T07:42:34.667Z"
   },
   {
    "duration": 34,
    "start_time": "2023-03-15T07:42:34.719Z"
   },
   {
    "duration": 26,
    "start_time": "2023-03-15T07:42:34.755Z"
   },
   {
    "duration": 395,
    "start_time": "2023-03-15T07:42:34.782Z"
   },
   {
    "duration": 8,
    "start_time": "2023-03-15T07:42:35.178Z"
   },
   {
    "duration": 304,
    "start_time": "2023-03-15T07:42:35.188Z"
   },
   {
    "duration": 695,
    "start_time": "2023-03-15T07:42:35.493Z"
   },
   {
    "duration": 202,
    "start_time": "2023-03-15T07:42:36.189Z"
   },
   {
    "duration": 138,
    "start_time": "2023-03-15T07:42:36.392Z"
   },
   {
    "duration": 221,
    "start_time": "2023-03-15T07:42:36.532Z"
   },
   {
    "duration": 8,
    "start_time": "2023-03-15T07:42:36.755Z"
   },
   {
    "duration": 21,
    "start_time": "2023-03-15T07:42:36.764Z"
   },
   {
    "duration": 311,
    "start_time": "2023-03-15T07:42:36.786Z"
   },
   {
    "duration": 165,
    "start_time": "2023-03-15T07:42:37.099Z"
   },
   {
    "duration": 149,
    "start_time": "2023-03-15T07:42:37.265Z"
   },
   {
    "duration": 153,
    "start_time": "2023-03-15T07:42:37.415Z"
   },
   {
    "duration": 14,
    "start_time": "2023-03-15T07:42:37.570Z"
   },
   {
    "duration": 25,
    "start_time": "2023-03-15T07:42:37.586Z"
   },
   {
    "duration": 26,
    "start_time": "2023-03-15T07:42:37.613Z"
   },
   {
    "duration": 163,
    "start_time": "2023-03-15T07:42:37.642Z"
   },
   {
    "duration": 10,
    "start_time": "2023-03-15T07:42:37.809Z"
   },
   {
    "duration": 17,
    "start_time": "2023-03-15T07:42:37.830Z"
   },
   {
    "duration": 2780,
    "start_time": "2023-03-15T07:50:31.319Z"
   },
   {
    "duration": 2775,
    "start_time": "2023-03-15T07:50:57.202Z"
   },
   {
    "duration": 2757,
    "start_time": "2023-03-15T07:51:03.248Z"
   },
   {
    "duration": 1077,
    "start_time": "2023-03-15T07:53:17.919Z"
   },
   {
    "duration": 455,
    "start_time": "2023-03-15T07:53:56.315Z"
   },
   {
    "duration": 131,
    "start_time": "2023-03-15T07:54:22.810Z"
   },
   {
    "duration": 144,
    "start_time": "2023-03-15T07:54:37.267Z"
   },
   {
    "duration": 149,
    "start_time": "2023-03-15T07:54:44.715Z"
   },
   {
    "duration": 13,
    "start_time": "2023-03-15T07:54:55.331Z"
   },
   {
    "duration": 14,
    "start_time": "2023-03-15T07:54:58.307Z"
   },
   {
    "duration": 14,
    "start_time": "2023-03-15T07:55:01.437Z"
   },
   {
    "duration": 171,
    "start_time": "2023-03-15T07:55:05.156Z"
   },
   {
    "duration": 231,
    "start_time": "2023-03-15T07:56:24.070Z"
   },
   {
    "duration": 8,
    "start_time": "2023-03-15T08:42:14.836Z"
   },
   {
    "duration": 477,
    "start_time": "2023-03-15T08:43:20.739Z"
   },
   {
    "duration": 9,
    "start_time": "2023-03-15T08:43:45.335Z"
   },
   {
    "duration": 324,
    "start_time": "2023-03-15T08:43:50.306Z"
   },
   {
    "duration": 9,
    "start_time": "2023-03-15T08:44:02.314Z"
   },
   {
    "duration": 263,
    "start_time": "2023-03-15T08:44:04.706Z"
   },
   {
    "duration": 1146,
    "start_time": "2023-03-15T08:44:22.231Z"
   },
   {
    "duration": 11,
    "start_time": "2023-03-15T09:14:22.429Z"
   },
   {
    "duration": 9,
    "start_time": "2023-03-15T09:14:57.109Z"
   },
   {
    "duration": 10,
    "start_time": "2023-03-15T10:41:45.765Z"
   },
   {
    "duration": 10,
    "start_time": "2023-03-15T10:42:14.118Z"
   },
   {
    "duration": 171,
    "start_time": "2023-03-15T10:49:06.230Z"
   },
   {
    "duration": 171,
    "start_time": "2023-03-15T10:49:35.462Z"
   },
   {
    "duration": 9,
    "start_time": "2023-03-15T10:49:59.746Z"
   },
   {
    "duration": 59,
    "start_time": "2023-03-15T10:51:00.954Z"
   },
   {
    "duration": 8,
    "start_time": "2023-03-15T10:54:47.804Z"
   },
   {
    "duration": 16,
    "start_time": "2023-03-15T10:56:13.809Z"
   },
   {
    "duration": 108,
    "start_time": "2023-03-15T11:00:46.065Z"
   },
   {
    "duration": 6,
    "start_time": "2023-03-15T11:01:00.202Z"
   },
   {
    "duration": 8,
    "start_time": "2023-03-15T11:02:31.657Z"
   },
   {
    "duration": 10,
    "start_time": "2023-03-15T11:02:51.705Z"
   },
   {
    "duration": 16,
    "start_time": "2023-03-15T11:03:34.922Z"
   },
   {
    "duration": 6,
    "start_time": "2023-03-15T11:04:34.751Z"
   },
   {
    "duration": 7,
    "start_time": "2023-03-15T11:07:27.253Z"
   },
   {
    "duration": 8,
    "start_time": "2023-03-15T11:07:37.763Z"
   },
   {
    "duration": 423,
    "start_time": "2023-03-15T11:08:33.716Z"
   },
   {
    "duration": 15,
    "start_time": "2023-03-15T11:15:32.681Z"
   },
   {
    "duration": 6,
    "start_time": "2023-03-15T11:21:44.714Z"
   },
   {
    "duration": 33,
    "start_time": "2023-03-15T11:24:06.214Z"
   },
   {
    "duration": 29,
    "start_time": "2023-03-15T11:24:13.746Z"
   },
   {
    "duration": 42,
    "start_time": "2023-03-15T11:24:28.106Z"
   },
   {
    "duration": 30,
    "start_time": "2023-03-15T11:25:24.775Z"
   },
   {
    "duration": 1151,
    "start_time": "2023-03-15T11:25:37.506Z"
   },
   {
    "duration": 67,
    "start_time": "2023-03-15T11:25:38.659Z"
   },
   {
    "duration": 14,
    "start_time": "2023-03-15T11:25:38.728Z"
   },
   {
    "duration": 11,
    "start_time": "2023-03-15T11:25:38.744Z"
   },
   {
    "duration": 23,
    "start_time": "2023-03-15T11:25:38.756Z"
   },
   {
    "duration": 27,
    "start_time": "2023-03-15T11:25:38.781Z"
   },
   {
    "duration": 9,
    "start_time": "2023-03-15T11:25:38.810Z"
   },
   {
    "duration": 25,
    "start_time": "2023-03-15T11:25:38.821Z"
   },
   {
    "duration": 9,
    "start_time": "2023-03-15T11:25:38.847Z"
   },
   {
    "duration": 23,
    "start_time": "2023-03-15T11:25:38.859Z"
   },
   {
    "duration": 364,
    "start_time": "2023-03-15T11:25:38.885Z"
   },
   {
    "duration": 9,
    "start_time": "2023-03-15T11:25:39.251Z"
   },
   {
    "duration": 271,
    "start_time": "2023-03-15T11:25:39.261Z"
   },
   {
    "duration": 1135,
    "start_time": "2023-03-15T11:25:39.533Z"
   },
   {
    "duration": 267,
    "start_time": "2023-03-15T11:25:40.670Z"
   },
   {
    "duration": 183,
    "start_time": "2023-03-15T11:25:40.939Z"
   },
   {
    "duration": 263,
    "start_time": "2023-03-15T11:25:41.124Z"
   },
   {
    "duration": 10,
    "start_time": "2023-03-15T11:25:41.389Z"
   },
   {
    "duration": 11,
    "start_time": "2023-03-15T11:25:41.402Z"
   },
   {
    "duration": 149,
    "start_time": "2023-03-15T11:25:41.415Z"
   },
   {
    "duration": 0,
    "start_time": "2023-03-15T11:25:41.567Z"
   },
   {
    "duration": 0,
    "start_time": "2023-03-15T11:25:41.568Z"
   },
   {
    "duration": 0,
    "start_time": "2023-03-15T11:25:41.568Z"
   },
   {
    "duration": 0,
    "start_time": "2023-03-15T11:25:41.570Z"
   },
   {
    "duration": 0,
    "start_time": "2023-03-15T11:25:41.572Z"
   },
   {
    "duration": 0,
    "start_time": "2023-03-15T11:25:41.573Z"
   },
   {
    "duration": 0,
    "start_time": "2023-03-15T11:25:41.574Z"
   },
   {
    "duration": 0,
    "start_time": "2023-03-15T11:25:41.575Z"
   },
   {
    "duration": 0,
    "start_time": "2023-03-15T11:25:41.577Z"
   },
   {
    "duration": 0,
    "start_time": "2023-03-15T11:25:41.578Z"
   },
   {
    "duration": 3,
    "start_time": "2023-03-15T11:27:31.199Z"
   },
   {
    "duration": 2,
    "start_time": "2023-03-15T11:27:34.872Z"
   },
   {
    "duration": 5,
    "start_time": "2023-03-15T11:27:53.715Z"
   },
   {
    "duration": 9,
    "start_time": "2023-03-15T11:30:06.242Z"
   },
   {
    "duration": 583,
    "start_time": "2023-03-15T11:32:19.523Z"
   },
   {
    "duration": 562,
    "start_time": "2023-03-15T11:32:32.954Z"
   },
   {
    "duration": 551,
    "start_time": "2023-03-15T11:40:33.580Z"
   },
   {
    "duration": 2,
    "start_time": "2023-03-15T11:40:52.931Z"
   },
   {
    "duration": 3,
    "start_time": "2023-03-15T11:41:05.254Z"
   },
   {
    "duration": 18,
    "start_time": "2023-03-15T11:41:21.592Z"
   },
   {
    "duration": 31,
    "start_time": "2023-03-15T11:41:27.502Z"
   },
   {
    "duration": 30,
    "start_time": "2023-03-15T11:43:33.287Z"
   },
   {
    "duration": 24,
    "start_time": "2023-03-15T11:47:21.710Z"
   },
   {
    "duration": 26,
    "start_time": "2023-03-15T11:47:40.106Z"
   },
   {
    "duration": 43,
    "start_time": "2023-03-15T11:48:25.107Z"
   },
   {
    "duration": 35,
    "start_time": "2023-03-15T11:49:58.215Z"
   },
   {
    "duration": 34,
    "start_time": "2023-03-15T11:50:05.846Z"
   },
   {
    "duration": 38,
    "start_time": "2023-03-15T11:52:57.614Z"
   },
   {
    "duration": 34,
    "start_time": "2023-03-15T11:53:07.416Z"
   },
   {
    "duration": 46,
    "start_time": "2023-03-15T11:53:16.648Z"
   },
   {
    "duration": 46,
    "start_time": "2023-03-15T12:08:42.351Z"
   },
   {
    "duration": 37,
    "start_time": "2023-03-15T12:08:49.207Z"
   },
   {
    "duration": 40,
    "start_time": "2023-03-15T12:14:42.401Z"
   },
   {
    "duration": 54,
    "start_time": "2023-03-15T12:14:58.876Z"
   },
   {
    "duration": 51,
    "start_time": "2023-03-15T12:15:05.408Z"
   },
   {
    "duration": 36,
    "start_time": "2023-03-15T12:15:13.123Z"
   },
   {
    "duration": 40,
    "start_time": "2023-03-15T12:15:42.508Z"
   },
   {
    "duration": 46,
    "start_time": "2023-03-15T12:15:47.407Z"
   },
   {
    "duration": 1081,
    "start_time": "2023-03-15T13:37:41.471Z"
   },
   {
    "duration": 1091,
    "start_time": "2023-03-15T13:38:29.424Z"
   },
   {
    "duration": 1120,
    "start_time": "2023-03-15T13:38:37.201Z"
   },
   {
    "duration": 1058,
    "start_time": "2023-03-15T13:38:48.145Z"
   },
   {
    "duration": 1150,
    "start_time": "2023-03-15T13:40:30.141Z"
   },
   {
    "duration": 1262,
    "start_time": "2023-03-15T13:44:37.901Z"
   },
   {
    "duration": 67,
    "start_time": "2023-03-15T13:44:39.165Z"
   },
   {
    "duration": 20,
    "start_time": "2023-03-15T13:44:39.234Z"
   },
   {
    "duration": 6,
    "start_time": "2023-03-15T13:44:39.257Z"
   },
   {
    "duration": 13,
    "start_time": "2023-03-15T13:44:39.266Z"
   },
   {
    "duration": 16,
    "start_time": "2023-03-15T13:44:39.281Z"
   },
   {
    "duration": 30,
    "start_time": "2023-03-15T13:44:39.301Z"
   },
   {
    "duration": 15,
    "start_time": "2023-03-15T13:44:39.332Z"
   },
   {
    "duration": 7,
    "start_time": "2023-03-15T13:44:39.350Z"
   },
   {
    "duration": 14,
    "start_time": "2023-03-15T13:44:39.359Z"
   },
   {
    "duration": 405,
    "start_time": "2023-03-15T13:44:39.374Z"
   },
   {
    "duration": 8,
    "start_time": "2023-03-15T13:44:39.781Z"
   },
   {
    "duration": 281,
    "start_time": "2023-03-15T13:44:39.790Z"
   },
   {
    "duration": 56,
    "start_time": "2023-03-15T13:44:40.074Z"
   },
   {
    "duration": 0,
    "start_time": "2023-03-15T13:44:40.132Z"
   },
   {
    "duration": 0,
    "start_time": "2023-03-15T13:44:40.134Z"
   },
   {
    "duration": 0,
    "start_time": "2023-03-15T13:44:40.135Z"
   },
   {
    "duration": 0,
    "start_time": "2023-03-15T13:44:40.137Z"
   },
   {
    "duration": 0,
    "start_time": "2023-03-15T13:44:40.138Z"
   },
   {
    "duration": 0,
    "start_time": "2023-03-15T13:44:40.140Z"
   },
   {
    "duration": 0,
    "start_time": "2023-03-15T13:44:40.141Z"
   },
   {
    "duration": 0,
    "start_time": "2023-03-15T13:44:40.142Z"
   },
   {
    "duration": 0,
    "start_time": "2023-03-15T13:44:40.143Z"
   },
   {
    "duration": 0,
    "start_time": "2023-03-15T13:44:40.145Z"
   },
   {
    "duration": 0,
    "start_time": "2023-03-15T13:44:40.146Z"
   },
   {
    "duration": 0,
    "start_time": "2023-03-15T13:44:40.147Z"
   },
   {
    "duration": 0,
    "start_time": "2023-03-15T13:44:40.149Z"
   },
   {
    "duration": 0,
    "start_time": "2023-03-15T13:44:40.150Z"
   },
   {
    "duration": 0,
    "start_time": "2023-03-15T13:44:40.152Z"
   },
   {
    "duration": 1266,
    "start_time": "2023-03-15T13:44:53.216Z"
   },
   {
    "duration": 78,
    "start_time": "2023-03-15T13:44:54.485Z"
   },
   {
    "duration": 16,
    "start_time": "2023-03-15T13:44:54.564Z"
   },
   {
    "duration": 12,
    "start_time": "2023-03-15T13:44:54.582Z"
   },
   {
    "duration": 15,
    "start_time": "2023-03-15T13:44:54.595Z"
   },
   {
    "duration": 27,
    "start_time": "2023-03-15T13:44:54.612Z"
   },
   {
    "duration": 5,
    "start_time": "2023-03-15T13:44:54.642Z"
   },
   {
    "duration": 25,
    "start_time": "2023-03-15T13:44:54.649Z"
   },
   {
    "duration": 6,
    "start_time": "2023-03-15T13:44:54.676Z"
   },
   {
    "duration": 22,
    "start_time": "2023-03-15T13:44:54.685Z"
   },
   {
    "duration": 387,
    "start_time": "2023-03-15T13:44:54.709Z"
   },
   {
    "duration": 8,
    "start_time": "2023-03-15T13:44:55.098Z"
   },
   {
    "duration": 284,
    "start_time": "2023-03-15T13:44:55.108Z"
   },
   {
    "duration": 47,
    "start_time": "2023-03-15T13:44:55.393Z"
   },
   {
    "duration": 0,
    "start_time": "2023-03-15T13:44:55.442Z"
   },
   {
    "duration": 0,
    "start_time": "2023-03-15T13:44:55.443Z"
   },
   {
    "duration": 0,
    "start_time": "2023-03-15T13:44:55.445Z"
   },
   {
    "duration": 0,
    "start_time": "2023-03-15T13:44:55.446Z"
   },
   {
    "duration": 0,
    "start_time": "2023-03-15T13:44:55.447Z"
   },
   {
    "duration": 0,
    "start_time": "2023-03-15T13:44:55.449Z"
   },
   {
    "duration": 0,
    "start_time": "2023-03-15T13:44:55.450Z"
   },
   {
    "duration": 0,
    "start_time": "2023-03-15T13:44:55.450Z"
   },
   {
    "duration": 0,
    "start_time": "2023-03-15T13:44:55.452Z"
   },
   {
    "duration": 0,
    "start_time": "2023-03-15T13:44:55.453Z"
   },
   {
    "duration": 0,
    "start_time": "2023-03-15T13:44:55.454Z"
   },
   {
    "duration": 0,
    "start_time": "2023-03-15T13:44:55.455Z"
   },
   {
    "duration": 0,
    "start_time": "2023-03-15T13:44:55.456Z"
   },
   {
    "duration": 0,
    "start_time": "2023-03-15T13:44:55.457Z"
   },
   {
    "duration": 0,
    "start_time": "2023-03-15T13:44:55.458Z"
   },
   {
    "duration": 1140,
    "start_time": "2023-03-15T13:45:16.126Z"
   },
   {
    "duration": 243,
    "start_time": "2023-03-15T13:45:22.848Z"
   },
   {
    "duration": 216,
    "start_time": "2023-03-15T13:45:26.828Z"
   },
   {
    "duration": 1232,
    "start_time": "2023-03-15T13:45:35.933Z"
   },
   {
    "duration": 67,
    "start_time": "2023-03-15T13:45:37.167Z"
   },
   {
    "duration": 13,
    "start_time": "2023-03-15T13:45:37.236Z"
   },
   {
    "duration": 5,
    "start_time": "2023-03-15T13:45:37.251Z"
   },
   {
    "duration": 13,
    "start_time": "2023-03-15T13:45:37.258Z"
   },
   {
    "duration": 14,
    "start_time": "2023-03-15T13:45:37.272Z"
   },
   {
    "duration": 12,
    "start_time": "2023-03-15T13:45:37.288Z"
   },
   {
    "duration": 42,
    "start_time": "2023-03-15T13:45:37.302Z"
   },
   {
    "duration": 6,
    "start_time": "2023-03-15T13:45:37.346Z"
   },
   {
    "duration": 16,
    "start_time": "2023-03-15T13:45:37.355Z"
   },
   {
    "duration": 373,
    "start_time": "2023-03-15T13:45:37.372Z"
   },
   {
    "duration": 11,
    "start_time": "2023-03-15T13:45:37.748Z"
   },
   {
    "duration": 279,
    "start_time": "2023-03-15T13:45:37.761Z"
   },
   {
    "duration": 1094,
    "start_time": "2023-03-15T13:45:38.042Z"
   },
   {
    "duration": 248,
    "start_time": "2023-03-15T13:45:39.137Z"
   },
   {
    "duration": 181,
    "start_time": "2023-03-15T13:45:39.387Z"
   },
   {
    "duration": 253,
    "start_time": "2023-03-15T13:45:39.570Z"
   },
   {
    "duration": 10,
    "start_time": "2023-03-15T13:45:39.825Z"
   },
   {
    "duration": 54,
    "start_time": "2023-03-15T13:45:39.836Z"
   },
   {
    "duration": 253,
    "start_time": "2023-03-15T13:45:39.891Z"
   },
   {
    "duration": 155,
    "start_time": "2023-03-15T13:45:40.146Z"
   },
   {
    "duration": 162,
    "start_time": "2023-03-15T13:45:40.303Z"
   },
   {
    "duration": 166,
    "start_time": "2023-03-15T13:45:40.466Z"
   },
   {
    "duration": 14,
    "start_time": "2023-03-15T13:45:40.633Z"
   },
   {
    "duration": 32,
    "start_time": "2023-03-15T13:45:40.649Z"
   },
   {
    "duration": 23,
    "start_time": "2023-03-15T13:45:40.684Z"
   },
   {
    "duration": 190,
    "start_time": "2023-03-15T13:45:40.709Z"
   },
   {
    "duration": 9,
    "start_time": "2023-03-15T13:45:40.903Z"
   },
   {
    "duration": 26,
    "start_time": "2023-03-15T13:45:40.913Z"
   },
   {
    "duration": 1133,
    "start_time": "2023-03-15T18:24:22.245Z"
   },
   {
    "duration": 71,
    "start_time": "2023-03-15T18:24:23.381Z"
   },
   {
    "duration": 18,
    "start_time": "2023-03-15T18:24:23.454Z"
   },
   {
    "duration": 5,
    "start_time": "2023-03-15T18:24:23.474Z"
   },
   {
    "duration": 11,
    "start_time": "2023-03-15T18:24:23.482Z"
   },
   {
    "duration": 42,
    "start_time": "2023-03-15T18:24:23.494Z"
   },
   {
    "duration": 8,
    "start_time": "2023-03-15T18:24:23.538Z"
   },
   {
    "duration": 21,
    "start_time": "2023-03-15T18:24:23.548Z"
   },
   {
    "duration": 5,
    "start_time": "2023-03-15T18:24:23.571Z"
   },
   {
    "duration": 14,
    "start_time": "2023-03-15T18:24:23.577Z"
   },
   {
    "duration": 384,
    "start_time": "2023-03-15T18:24:23.593Z"
   },
   {
    "duration": 8,
    "start_time": "2023-03-15T18:24:23.978Z"
   },
   {
    "duration": 270,
    "start_time": "2023-03-15T18:24:23.988Z"
   },
   {
    "duration": 1099,
    "start_time": "2023-03-15T18:24:24.261Z"
   },
   {
    "duration": 250,
    "start_time": "2023-03-15T18:24:25.362Z"
   },
   {
    "duration": 172,
    "start_time": "2023-03-15T18:24:25.614Z"
   },
   {
    "duration": 249,
    "start_time": "2023-03-15T18:24:25.788Z"
   },
   {
    "duration": 10,
    "start_time": "2023-03-15T18:24:26.039Z"
   },
   {
    "duration": 34,
    "start_time": "2023-03-15T18:24:26.050Z"
   },
   {
    "duration": 279,
    "start_time": "2023-03-15T18:24:26.086Z"
   },
   {
    "duration": 155,
    "start_time": "2023-03-15T18:24:26.367Z"
   },
   {
    "duration": 170,
    "start_time": "2023-03-15T18:24:26.523Z"
   },
   {
    "duration": 174,
    "start_time": "2023-03-15T18:24:26.696Z"
   },
   {
    "duration": 18,
    "start_time": "2023-03-15T18:24:26.872Z"
   },
   {
    "duration": 40,
    "start_time": "2023-03-15T18:24:26.892Z"
   },
   {
    "duration": 18,
    "start_time": "2023-03-15T18:24:26.936Z"
   },
   {
    "duration": 246,
    "start_time": "2023-03-15T18:24:26.956Z"
   },
   {
    "duration": 11,
    "start_time": "2023-03-15T18:24:27.204Z"
   },
   {
    "duration": 23,
    "start_time": "2023-03-15T18:24:27.217Z"
   },
   {
    "duration": 55,
    "start_time": "2023-03-15T19:58:15.436Z"
   },
   {
    "duration": 1448,
    "start_time": "2023-03-15T19:58:24.965Z"
   },
   {
    "duration": 139,
    "start_time": "2023-03-15T19:58:26.415Z"
   },
   {
    "duration": 17,
    "start_time": "2023-03-15T19:58:26.555Z"
   },
   {
    "duration": 13,
    "start_time": "2023-03-15T19:58:26.574Z"
   },
   {
    "duration": 20,
    "start_time": "2023-03-15T19:58:26.595Z"
   },
   {
    "duration": 18,
    "start_time": "2023-03-15T19:58:26.617Z"
   },
   {
    "duration": 8,
    "start_time": "2023-03-15T19:58:26.636Z"
   },
   {
    "duration": 11,
    "start_time": "2023-03-15T19:58:26.646Z"
   },
   {
    "duration": 30,
    "start_time": "2023-03-15T19:58:26.660Z"
   },
   {
    "duration": 6,
    "start_time": "2023-03-15T19:58:26.694Z"
   },
   {
    "duration": 19,
    "start_time": "2023-03-15T19:58:26.701Z"
   },
   {
    "duration": 405,
    "start_time": "2023-03-15T19:58:26.722Z"
   },
   {
    "duration": 7,
    "start_time": "2023-03-15T19:58:27.129Z"
   },
   {
    "duration": 306,
    "start_time": "2023-03-15T19:58:27.138Z"
   },
   {
    "duration": 1255,
    "start_time": "2023-03-15T19:58:27.446Z"
   },
   {
    "duration": 289,
    "start_time": "2023-03-15T19:58:28.703Z"
   },
   {
    "duration": 180,
    "start_time": "2023-03-15T19:58:28.994Z"
   },
   {
    "duration": 301,
    "start_time": "2023-03-15T19:58:29.176Z"
   },
   {
    "duration": 15,
    "start_time": "2023-03-15T19:58:29.480Z"
   },
   {
    "duration": 80,
    "start_time": "2023-03-15T19:58:29.498Z"
   },
   {
    "duration": 365,
    "start_time": "2023-03-15T19:58:29.581Z"
   },
   {
    "duration": 173,
    "start_time": "2023-03-15T19:58:29.948Z"
   },
   {
    "duration": 178,
    "start_time": "2023-03-15T19:58:30.123Z"
   },
   {
    "duration": 167,
    "start_time": "2023-03-15T19:58:30.303Z"
   },
   {
    "duration": 25,
    "start_time": "2023-03-15T19:58:30.472Z"
   },
   {
    "duration": 65,
    "start_time": "2023-03-15T19:58:30.499Z"
   },
   {
    "duration": 50,
    "start_time": "2023-03-15T19:58:30.566Z"
   },
   {
    "duration": 204,
    "start_time": "2023-03-15T19:58:30.620Z"
   },
   {
    "duration": 12,
    "start_time": "2023-03-15T19:58:30.827Z"
   },
   {
    "duration": 84,
    "start_time": "2023-03-15T19:58:30.841Z"
   },
   {
    "duration": 4,
    "start_time": "2023-03-15T20:15:04.055Z"
   },
   {
    "duration": 1167,
    "start_time": "2023-03-15T20:18:35.541Z"
   },
   {
    "duration": 71,
    "start_time": "2023-03-15T20:18:36.710Z"
   },
   {
    "duration": 15,
    "start_time": "2023-03-15T20:18:36.783Z"
   },
   {
    "duration": 7,
    "start_time": "2023-03-15T20:18:36.800Z"
   },
   {
    "duration": 16,
    "start_time": "2023-03-15T20:18:36.808Z"
   },
   {
    "duration": 5,
    "start_time": "2023-03-15T20:18:36.827Z"
   },
   {
    "duration": 26,
    "start_time": "2023-03-15T20:18:36.834Z"
   },
   {
    "duration": 16,
    "start_time": "2023-03-15T20:18:36.862Z"
   },
   {
    "duration": 18,
    "start_time": "2023-03-15T20:18:36.879Z"
   },
   {
    "duration": 20,
    "start_time": "2023-03-15T20:18:36.900Z"
   },
   {
    "duration": 7,
    "start_time": "2023-03-15T20:18:36.921Z"
   },
   {
    "duration": 25,
    "start_time": "2023-03-15T20:18:36.930Z"
   },
   {
    "duration": 396,
    "start_time": "2023-03-15T20:18:36.957Z"
   },
   {
    "duration": 8,
    "start_time": "2023-03-15T20:18:37.355Z"
   },
   {
    "duration": 275,
    "start_time": "2023-03-15T20:18:37.377Z"
   },
   {
    "duration": 1108,
    "start_time": "2023-03-15T20:18:37.654Z"
   },
   {
    "duration": 267,
    "start_time": "2023-03-15T20:18:38.764Z"
   },
   {
    "duration": 189,
    "start_time": "2023-03-15T20:18:39.032Z"
   },
   {
    "duration": 269,
    "start_time": "2023-03-15T20:18:39.223Z"
   },
   {
    "duration": 12,
    "start_time": "2023-03-15T20:18:39.493Z"
   },
   {
    "duration": 70,
    "start_time": "2023-03-15T20:18:39.507Z"
   },
   {
    "duration": 274,
    "start_time": "2023-03-15T20:18:39.579Z"
   },
   {
    "duration": 161,
    "start_time": "2023-03-15T20:18:39.855Z"
   },
   {
    "duration": 166,
    "start_time": "2023-03-15T20:18:40.018Z"
   },
   {
    "duration": 164,
    "start_time": "2023-03-15T20:18:40.186Z"
   },
   {
    "duration": 25,
    "start_time": "2023-03-15T20:18:40.352Z"
   },
   {
    "duration": 14,
    "start_time": "2023-03-15T20:18:40.379Z"
   },
   {
    "duration": 20,
    "start_time": "2023-03-15T20:18:40.396Z"
   },
   {
    "duration": 197,
    "start_time": "2023-03-15T20:18:40.418Z"
   },
   {
    "duration": 10,
    "start_time": "2023-03-15T20:18:40.617Z"
   },
   {
    "duration": 21,
    "start_time": "2023-03-15T20:18:40.629Z"
   },
   {
    "duration": 3,
    "start_time": "2023-03-15T20:19:09.899Z"
   },
   {
    "duration": 4,
    "start_time": "2023-03-15T20:19:19.250Z"
   },
   {
    "duration": 9,
    "start_time": "2023-03-15T20:19:25.082Z"
   },
   {
    "duration": 4,
    "start_time": "2023-03-15T20:19:29.402Z"
   },
   {
    "duration": 1211,
    "start_time": "2023-03-15T20:19:42.719Z"
   },
   {
    "duration": 72,
    "start_time": "2023-03-15T20:19:43.932Z"
   },
   {
    "duration": 15,
    "start_time": "2023-03-15T20:19:44.005Z"
   },
   {
    "duration": 5,
    "start_time": "2023-03-15T20:19:44.022Z"
   },
   {
    "duration": 19,
    "start_time": "2023-03-15T20:19:44.029Z"
   },
   {
    "duration": 20,
    "start_time": "2023-03-15T20:19:44.053Z"
   },
   {
    "duration": 31,
    "start_time": "2023-03-15T20:19:44.075Z"
   },
   {
    "duration": 8,
    "start_time": "2023-03-15T20:19:44.108Z"
   },
   {
    "duration": 17,
    "start_time": "2023-03-15T20:19:44.118Z"
   },
   {
    "duration": 22,
    "start_time": "2023-03-15T20:19:44.138Z"
   },
   {
    "duration": 9,
    "start_time": "2023-03-15T20:19:44.162Z"
   },
   {
    "duration": 24,
    "start_time": "2023-03-15T20:19:44.173Z"
   },
   {
    "duration": 391,
    "start_time": "2023-03-15T20:19:44.199Z"
   },
   {
    "duration": 9,
    "start_time": "2023-03-15T20:19:44.592Z"
   },
   {
    "duration": 292,
    "start_time": "2023-03-15T20:19:44.603Z"
   },
   {
    "duration": 1145,
    "start_time": "2023-03-15T20:19:44.897Z"
   },
   {
    "duration": 262,
    "start_time": "2023-03-15T20:19:46.044Z"
   },
   {
    "duration": 186,
    "start_time": "2023-03-15T20:19:46.308Z"
   },
   {
    "duration": 263,
    "start_time": "2023-03-15T20:19:46.496Z"
   },
   {
    "duration": 20,
    "start_time": "2023-03-15T20:19:46.761Z"
   },
   {
    "duration": 41,
    "start_time": "2023-03-15T20:19:46.783Z"
   },
   {
    "duration": 275,
    "start_time": "2023-03-15T20:19:46.825Z"
   },
   {
    "duration": 159,
    "start_time": "2023-03-15T20:19:47.102Z"
   },
   {
    "duration": 166,
    "start_time": "2023-03-15T20:19:47.263Z"
   },
   {
    "duration": 165,
    "start_time": "2023-03-15T20:19:47.430Z"
   },
   {
    "duration": 15,
    "start_time": "2023-03-15T20:19:47.596Z"
   },
   {
    "duration": 30,
    "start_time": "2023-03-15T20:19:47.613Z"
   },
   {
    "duration": 17,
    "start_time": "2023-03-15T20:19:47.646Z"
   },
   {
    "duration": 197,
    "start_time": "2023-03-15T20:19:47.665Z"
   },
   {
    "duration": 22,
    "start_time": "2023-03-15T20:19:47.864Z"
   },
   {
    "duration": 22,
    "start_time": "2023-03-15T20:19:47.887Z"
   },
   {
    "duration": 9,
    "start_time": "2023-03-15T20:31:15.658Z"
   },
   {
    "duration": 12,
    "start_time": "2023-03-15T20:33:02.075Z"
   },
   {
    "duration": 10,
    "start_time": "2023-03-15T20:33:06.864Z"
   },
   {
    "duration": 1196,
    "start_time": "2023-03-15T20:33:13.021Z"
   },
   {
    "duration": 74,
    "start_time": "2023-03-15T20:33:14.219Z"
   },
   {
    "duration": 16,
    "start_time": "2023-03-15T20:33:14.295Z"
   },
   {
    "duration": 6,
    "start_time": "2023-03-15T20:33:14.313Z"
   },
   {
    "duration": 14,
    "start_time": "2023-03-15T20:33:14.320Z"
   },
   {
    "duration": 12,
    "start_time": "2023-03-15T20:33:14.336Z"
   },
   {
    "duration": 31,
    "start_time": "2023-03-15T20:33:14.350Z"
   },
   {
    "duration": 5,
    "start_time": "2023-03-15T20:33:14.383Z"
   },
   {
    "duration": 14,
    "start_time": "2023-03-15T20:33:14.390Z"
   },
   {
    "duration": 26,
    "start_time": "2023-03-15T20:33:14.408Z"
   },
   {
    "duration": 11,
    "start_time": "2023-03-15T20:33:14.436Z"
   },
   {
    "duration": 6,
    "start_time": "2023-03-15T20:33:14.449Z"
   },
   {
    "duration": 37,
    "start_time": "2023-03-15T20:33:14.456Z"
   },
   {
    "duration": 377,
    "start_time": "2023-03-15T20:33:14.495Z"
   },
   {
    "duration": 11,
    "start_time": "2023-03-15T20:33:14.877Z"
   },
   {
    "duration": 294,
    "start_time": "2023-03-15T20:33:14.890Z"
   },
   {
    "duration": 1133,
    "start_time": "2023-03-15T20:33:15.186Z"
   },
   {
    "duration": 264,
    "start_time": "2023-03-15T20:33:16.321Z"
   },
   {
    "duration": 178,
    "start_time": "2023-03-15T20:33:16.588Z"
   },
   {
    "duration": 270,
    "start_time": "2023-03-15T20:33:16.768Z"
   },
   {
    "duration": 10,
    "start_time": "2023-03-15T20:33:17.040Z"
   },
   {
    "duration": 54,
    "start_time": "2023-03-15T20:33:17.052Z"
   },
   {
    "duration": 281,
    "start_time": "2023-03-15T20:33:17.108Z"
   },
   {
    "duration": 160,
    "start_time": "2023-03-15T20:33:17.391Z"
   },
   {
    "duration": 162,
    "start_time": "2023-03-15T20:33:17.553Z"
   },
   {
    "duration": 168,
    "start_time": "2023-03-15T20:33:17.716Z"
   },
   {
    "duration": 14,
    "start_time": "2023-03-15T20:33:17.886Z"
   },
   {
    "duration": 18,
    "start_time": "2023-03-15T20:33:17.903Z"
   },
   {
    "duration": 16,
    "start_time": "2023-03-15T20:33:17.923Z"
   },
   {
    "duration": 214,
    "start_time": "2023-03-15T20:33:17.941Z"
   },
   {
    "duration": 9,
    "start_time": "2023-03-15T20:33:18.157Z"
   },
   {
    "duration": 10,
    "start_time": "2023-03-15T20:33:18.177Z"
   },
   {
    "duration": 7,
    "start_time": "2023-03-15T20:49:48.189Z"
   },
   {
    "duration": 17,
    "start_time": "2023-03-15T20:50:27.783Z"
   },
   {
    "duration": 11,
    "start_time": "2023-03-15T20:51:49.051Z"
   },
   {
    "duration": 13,
    "start_time": "2023-03-15T20:51:52.790Z"
   },
   {
    "duration": 7,
    "start_time": "2023-03-15T20:52:12.172Z"
   },
   {
    "duration": 45,
    "start_time": "2023-03-16T04:18:25.325Z"
   },
   {
    "duration": 6,
    "start_time": "2023-03-16T04:18:48.392Z"
   },
   {
    "duration": 1256,
    "start_time": "2023-03-16T04:19:01.775Z"
   },
   {
    "duration": 120,
    "start_time": "2023-03-16T04:19:03.033Z"
   },
   {
    "duration": 14,
    "start_time": "2023-03-16T04:19:03.154Z"
   },
   {
    "duration": 4,
    "start_time": "2023-03-16T04:19:03.170Z"
   },
   {
    "duration": 11,
    "start_time": "2023-03-16T04:19:03.175Z"
   },
   {
    "duration": 4,
    "start_time": "2023-03-16T04:19:03.187Z"
   },
   {
    "duration": 14,
    "start_time": "2023-03-16T04:19:03.192Z"
   },
   {
    "duration": 3,
    "start_time": "2023-03-16T04:19:03.208Z"
   },
   {
    "duration": 6,
    "start_time": "2023-03-16T04:19:03.231Z"
   },
   {
    "duration": 14,
    "start_time": "2023-03-16T04:19:03.241Z"
   },
   {
    "duration": 8,
    "start_time": "2023-03-16T04:19:03.257Z"
   },
   {
    "duration": 7,
    "start_time": "2023-03-16T04:19:03.266Z"
   },
   {
    "duration": 24,
    "start_time": "2023-03-16T04:19:03.274Z"
   },
   {
    "duration": 365,
    "start_time": "2023-03-16T04:19:03.300Z"
   },
   {
    "duration": 8,
    "start_time": "2023-03-16T04:19:03.667Z"
   },
   {
    "duration": 259,
    "start_time": "2023-03-16T04:19:03.677Z"
   },
   {
    "duration": 1058,
    "start_time": "2023-03-16T04:19:03.939Z"
   },
   {
    "duration": 242,
    "start_time": "2023-03-16T04:19:04.999Z"
   },
   {
    "duration": 179,
    "start_time": "2023-03-16T04:19:05.242Z"
   },
   {
    "duration": 232,
    "start_time": "2023-03-16T04:19:05.423Z"
   },
   {
    "duration": 8,
    "start_time": "2023-03-16T04:19:05.656Z"
   },
   {
    "duration": 30,
    "start_time": "2023-03-16T04:19:05.666Z"
   },
   {
    "duration": 263,
    "start_time": "2023-03-16T04:19:05.698Z"
   },
   {
    "duration": 153,
    "start_time": "2023-03-16T04:19:05.963Z"
   },
   {
    "duration": 149,
    "start_time": "2023-03-16T04:19:06.118Z"
   },
   {
    "duration": 145,
    "start_time": "2023-03-16T04:19:06.269Z"
   },
   {
    "duration": 20,
    "start_time": "2023-03-16T04:19:06.415Z"
   },
   {
    "duration": 14,
    "start_time": "2023-03-16T04:19:06.438Z"
   },
   {
    "duration": 12,
    "start_time": "2023-03-16T04:19:06.454Z"
   },
   {
    "duration": 238,
    "start_time": "2023-03-16T04:19:06.468Z"
   },
   {
    "duration": 25,
    "start_time": "2023-03-16T04:19:06.708Z"
   },
   {
    "duration": 39,
    "start_time": "2023-03-16T04:19:06.735Z"
   },
   {
    "duration": 10,
    "start_time": "2023-03-16T04:19:36.923Z"
   },
   {
    "duration": 9,
    "start_time": "2023-03-16T04:19:48.689Z"
   },
   {
    "duration": 111,
    "start_time": "2023-03-16T04:20:05.012Z"
   },
   {
    "duration": 50,
    "start_time": "2023-03-16T05:50:30.395Z"
   },
   {
    "duration": 1260,
    "start_time": "2023-03-16T05:50:38.079Z"
   },
   {
    "duration": 213,
    "start_time": "2023-03-16T05:50:39.341Z"
   },
   {
    "duration": 13,
    "start_time": "2023-03-16T05:50:39.556Z"
   },
   {
    "duration": 5,
    "start_time": "2023-03-16T05:50:39.571Z"
   },
   {
    "duration": 8,
    "start_time": "2023-03-16T05:50:39.578Z"
   },
   {
    "duration": 4,
    "start_time": "2023-03-16T05:50:39.587Z"
   },
   {
    "duration": 16,
    "start_time": "2023-03-16T05:50:39.593Z"
   },
   {
    "duration": 3,
    "start_time": "2023-03-16T05:50:39.611Z"
   },
   {
    "duration": 40,
    "start_time": "2023-03-16T05:50:39.616Z"
   },
   {
    "duration": 15,
    "start_time": "2023-03-16T05:50:39.658Z"
   },
   {
    "duration": 9,
    "start_time": "2023-03-16T05:50:39.674Z"
   },
   {
    "duration": 5,
    "start_time": "2023-03-16T05:50:39.684Z"
   },
   {
    "duration": 11,
    "start_time": "2023-03-16T05:50:39.691Z"
   },
   {
    "duration": 349,
    "start_time": "2023-03-16T05:50:39.704Z"
   },
   {
    "duration": 12,
    "start_time": "2023-03-16T05:50:40.056Z"
   },
   {
    "duration": 309,
    "start_time": "2023-03-16T05:50:40.070Z"
   },
   {
    "duration": 968,
    "start_time": "2023-03-16T05:50:40.381Z"
   },
   {
    "duration": 263,
    "start_time": "2023-03-16T05:50:41.351Z"
   },
   {
    "duration": 161,
    "start_time": "2023-03-16T05:50:41.615Z"
   },
   {
    "duration": 225,
    "start_time": "2023-03-16T05:50:41.778Z"
   },
   {
    "duration": 9,
    "start_time": "2023-03-16T05:50:42.005Z"
   },
   {
    "duration": 63,
    "start_time": "2023-03-16T05:50:42.016Z"
   },
   {
    "duration": 243,
    "start_time": "2023-03-16T05:50:42.082Z"
   },
   {
    "duration": 141,
    "start_time": "2023-03-16T05:50:42.326Z"
   },
   {
    "duration": 142,
    "start_time": "2023-03-16T05:50:42.468Z"
   },
   {
    "duration": 149,
    "start_time": "2023-03-16T05:50:42.611Z"
   },
   {
    "duration": 13,
    "start_time": "2023-03-16T05:50:42.762Z"
   },
   {
    "duration": 12,
    "start_time": "2023-03-16T05:50:42.777Z"
   },
   {
    "duration": 12,
    "start_time": "2023-03-16T05:50:42.790Z"
   },
   {
    "duration": 190,
    "start_time": "2023-03-16T05:50:42.804Z"
   },
   {
    "duration": 12,
    "start_time": "2023-03-16T05:50:42.996Z"
   },
   {
    "duration": 11,
    "start_time": "2023-03-16T05:50:43.011Z"
   },
   {
    "duration": 105,
    "start_time": "2023-03-16T06:49:06.612Z"
   },
   {
    "duration": 88,
    "start_time": "2023-03-16T06:49:37.123Z"
   },
   {
    "duration": 83,
    "start_time": "2023-03-16T06:49:55.015Z"
   },
   {
    "duration": 69,
    "start_time": "2023-03-16T06:50:14.732Z"
   },
   {
    "duration": 96,
    "start_time": "2023-03-16T06:50:44.022Z"
   },
   {
    "duration": 89,
    "start_time": "2023-03-16T06:51:19.313Z"
   },
   {
    "duration": 91,
    "start_time": "2023-03-16T06:51:30.553Z"
   },
   {
    "duration": 84,
    "start_time": "2023-03-16T06:52:19.497Z"
   },
   {
    "duration": 89,
    "start_time": "2023-03-16T06:58:53.104Z"
   },
   {
    "duration": 9,
    "start_time": "2023-03-16T07:08:55.800Z"
   },
   {
    "duration": 68,
    "start_time": "2023-03-16T07:24:44.127Z"
   },
   {
    "duration": 86,
    "start_time": "2023-03-16T07:25:00.125Z"
   },
   {
    "duration": 1133,
    "start_time": "2023-03-16T08:12:19.505Z"
   },
   {
    "duration": 71,
    "start_time": "2023-03-16T08:12:20.642Z"
   },
   {
    "duration": 14,
    "start_time": "2023-03-16T08:12:20.714Z"
   },
   {
    "duration": 5,
    "start_time": "2023-03-16T08:12:20.730Z"
   },
   {
    "duration": 18,
    "start_time": "2023-03-16T08:12:20.739Z"
   },
   {
    "duration": 4,
    "start_time": "2023-03-16T08:12:20.758Z"
   },
   {
    "duration": 16,
    "start_time": "2023-03-16T08:12:20.764Z"
   },
   {
    "duration": 4,
    "start_time": "2023-03-16T08:12:20.782Z"
   },
   {
    "duration": 19,
    "start_time": "2023-03-16T08:12:20.788Z"
   },
   {
    "duration": 23,
    "start_time": "2023-03-16T08:12:20.808Z"
   },
   {
    "duration": 13,
    "start_time": "2023-03-16T08:12:20.833Z"
   },
   {
    "duration": 19,
    "start_time": "2023-03-16T08:12:20.848Z"
   },
   {
    "duration": 15,
    "start_time": "2023-03-16T08:12:20.869Z"
   },
   {
    "duration": 328,
    "start_time": "2023-03-16T08:12:20.887Z"
   },
   {
    "duration": 8,
    "start_time": "2023-03-16T08:12:21.217Z"
   },
   {
    "duration": 255,
    "start_time": "2023-03-16T08:12:21.227Z"
   },
   {
    "duration": 1000,
    "start_time": "2023-03-16T08:12:21.483Z"
   },
   {
    "duration": 237,
    "start_time": "2023-03-16T08:12:22.485Z"
   },
   {
    "duration": 171,
    "start_time": "2023-03-16T08:12:22.724Z"
   },
   {
    "duration": 226,
    "start_time": "2023-03-16T08:12:22.896Z"
   },
   {
    "duration": 10,
    "start_time": "2023-03-16T08:12:23.124Z"
   },
   {
    "duration": 46,
    "start_time": "2023-03-16T08:12:23.135Z"
   },
   {
    "duration": 251,
    "start_time": "2023-03-16T08:12:23.183Z"
   },
   {
    "duration": 142,
    "start_time": "2023-03-16T08:12:23.436Z"
   },
   {
    "duration": 147,
    "start_time": "2023-03-16T08:12:23.579Z"
   },
   {
    "duration": 144,
    "start_time": "2023-03-16T08:12:23.727Z"
   },
   {
    "duration": 14,
    "start_time": "2023-03-16T08:12:23.872Z"
   },
   {
    "duration": 23,
    "start_time": "2023-03-16T08:12:23.887Z"
   },
   {
    "duration": 12,
    "start_time": "2023-03-16T08:12:23.912Z"
   },
   {
    "duration": 183,
    "start_time": "2023-03-16T08:12:23.926Z"
   },
   {
    "duration": 9,
    "start_time": "2023-03-16T08:12:24.111Z"
   },
   {
    "duration": 10,
    "start_time": "2023-03-16T08:12:24.121Z"
   },
   {
    "duration": 1102,
    "start_time": "2023-03-16T08:14:35.864Z"
   },
   {
    "duration": 69,
    "start_time": "2023-03-16T08:14:36.967Z"
   },
   {
    "duration": 14,
    "start_time": "2023-03-16T08:14:37.037Z"
   },
   {
    "duration": 4,
    "start_time": "2023-03-16T08:14:37.053Z"
   },
   {
    "duration": 9,
    "start_time": "2023-03-16T08:14:37.059Z"
   },
   {
    "duration": 4,
    "start_time": "2023-03-16T08:14:37.070Z"
   },
   {
    "duration": 14,
    "start_time": "2023-03-16T08:14:37.076Z"
   },
   {
    "duration": 4,
    "start_time": "2023-03-16T08:14:37.091Z"
   },
   {
    "duration": 10,
    "start_time": "2023-03-16T08:14:37.096Z"
   },
   {
    "duration": 13,
    "start_time": "2023-03-16T08:14:37.107Z"
   },
   {
    "duration": 40,
    "start_time": "2023-03-16T08:14:37.122Z"
   },
   {
    "duration": 5,
    "start_time": "2023-03-16T08:14:37.164Z"
   },
   {
    "duration": 12,
    "start_time": "2023-03-16T08:14:37.170Z"
   },
   {
    "duration": 343,
    "start_time": "2023-03-16T08:14:37.184Z"
   },
   {
    "duration": 7,
    "start_time": "2023-03-16T08:14:37.528Z"
   },
   {
    "duration": 255,
    "start_time": "2023-03-16T08:14:37.537Z"
   },
   {
    "duration": 982,
    "start_time": "2023-03-16T08:14:37.794Z"
   },
   {
    "duration": 220,
    "start_time": "2023-03-16T08:14:38.777Z"
   },
   {
    "duration": 157,
    "start_time": "2023-03-16T08:14:38.998Z"
   },
   {
    "duration": 214,
    "start_time": "2023-03-16T08:14:39.156Z"
   },
   {
    "duration": 8,
    "start_time": "2023-03-16T08:14:39.371Z"
   },
   {
    "duration": 28,
    "start_time": "2023-03-16T08:14:39.380Z"
   },
   {
    "duration": 233,
    "start_time": "2023-03-16T08:14:39.409Z"
   },
   {
    "duration": 133,
    "start_time": "2023-03-16T08:14:39.644Z"
   },
   {
    "duration": 147,
    "start_time": "2023-03-16T08:14:39.779Z"
   },
   {
    "duration": 148,
    "start_time": "2023-03-16T08:14:39.927Z"
   },
   {
    "duration": 13,
    "start_time": "2023-03-16T08:14:40.076Z"
   },
   {
    "duration": 13,
    "start_time": "2023-03-16T08:14:40.090Z"
   },
   {
    "duration": 12,
    "start_time": "2023-03-16T08:14:40.104Z"
   },
   {
    "duration": 180,
    "start_time": "2023-03-16T08:14:40.117Z"
   },
   {
    "duration": 8,
    "start_time": "2023-03-16T08:14:40.299Z"
   },
   {
    "duration": 9,
    "start_time": "2023-03-16T08:14:40.308Z"
   },
   {
    "duration": 3,
    "start_time": "2023-03-16T08:31:39.645Z"
   },
   {
    "duration": 1123,
    "start_time": "2023-03-16T08:39:57.925Z"
   },
   {
    "duration": 69,
    "start_time": "2023-03-16T08:39:59.050Z"
   },
   {
    "duration": 13,
    "start_time": "2023-03-16T08:39:59.121Z"
   },
   {
    "duration": 16,
    "start_time": "2023-03-16T08:39:59.135Z"
   },
   {
    "duration": 12,
    "start_time": "2023-03-16T08:39:59.153Z"
   },
   {
    "duration": 3,
    "start_time": "2023-03-16T08:39:59.166Z"
   },
   {
    "duration": 11,
    "start_time": "2023-03-16T08:39:59.171Z"
   },
   {
    "duration": 3,
    "start_time": "2023-03-16T08:39:59.184Z"
   },
   {
    "duration": 5,
    "start_time": "2023-03-16T08:39:59.189Z"
   },
   {
    "duration": 13,
    "start_time": "2023-03-16T08:39:59.196Z"
   },
   {
    "duration": 12,
    "start_time": "2023-03-16T08:39:59.211Z"
   },
   {
    "duration": 7,
    "start_time": "2023-03-16T08:39:59.255Z"
   },
   {
    "duration": 17,
    "start_time": "2023-03-16T08:39:59.264Z"
   },
   {
    "duration": 383,
    "start_time": "2023-03-16T08:39:59.285Z"
   },
   {
    "duration": 8,
    "start_time": "2023-03-16T08:39:59.669Z"
   },
   {
    "duration": 254,
    "start_time": "2023-03-16T08:39:59.679Z"
   },
   {
    "duration": 990,
    "start_time": "2023-03-16T08:39:59.934Z"
   },
   {
    "duration": 235,
    "start_time": "2023-03-16T08:40:00.925Z"
   },
   {
    "duration": 175,
    "start_time": "2023-03-16T08:40:01.162Z"
   },
   {
    "duration": 222,
    "start_time": "2023-03-16T08:40:01.339Z"
   },
   {
    "duration": 8,
    "start_time": "2023-03-16T08:40:01.563Z"
   },
   {
    "duration": 50,
    "start_time": "2023-03-16T08:40:01.573Z"
   },
   {
    "duration": 255,
    "start_time": "2023-03-16T08:40:01.625Z"
   },
   {
    "duration": 144,
    "start_time": "2023-03-16T08:40:01.882Z"
   },
   {
    "duration": 162,
    "start_time": "2023-03-16T08:40:02.028Z"
   },
   {
    "duration": 149,
    "start_time": "2023-03-16T08:40:02.191Z"
   },
   {
    "duration": 20,
    "start_time": "2023-03-16T08:40:02.342Z"
   },
   {
    "duration": 14,
    "start_time": "2023-03-16T08:40:02.364Z"
   },
   {
    "duration": 25,
    "start_time": "2023-03-16T08:40:02.379Z"
   },
   {
    "duration": 178,
    "start_time": "2023-03-16T08:40:02.405Z"
   },
   {
    "duration": 8,
    "start_time": "2023-03-16T08:40:02.584Z"
   },
   {
    "duration": 30,
    "start_time": "2023-03-16T08:40:02.594Z"
   },
   {
    "duration": 1196,
    "start_time": "2023-03-16T08:42:59.243Z"
   },
   {
    "duration": 72,
    "start_time": "2023-03-16T08:43:00.441Z"
   },
   {
    "duration": 17,
    "start_time": "2023-03-16T08:43:00.515Z"
   },
   {
    "duration": 16,
    "start_time": "2023-03-16T08:43:00.534Z"
   },
   {
    "duration": 41,
    "start_time": "2023-03-16T08:43:00.551Z"
   },
   {
    "duration": 17,
    "start_time": "2023-03-16T08:43:00.593Z"
   },
   {
    "duration": 45,
    "start_time": "2023-03-16T08:43:00.612Z"
   },
   {
    "duration": 34,
    "start_time": "2023-03-16T08:43:00.659Z"
   },
   {
    "duration": 33,
    "start_time": "2023-03-16T08:43:00.695Z"
   },
   {
    "duration": 47,
    "start_time": "2023-03-16T08:43:00.732Z"
   },
   {
    "duration": 11,
    "start_time": "2023-03-16T08:43:00.781Z"
   },
   {
    "duration": 37,
    "start_time": "2023-03-16T08:43:00.794Z"
   },
   {
    "duration": 52,
    "start_time": "2023-03-16T08:43:00.833Z"
   },
   {
    "duration": 351,
    "start_time": "2023-03-16T08:43:00.887Z"
   },
   {
    "duration": 19,
    "start_time": "2023-03-16T08:43:01.239Z"
   },
   {
    "duration": 328,
    "start_time": "2023-03-16T08:43:01.260Z"
   },
   {
    "duration": 1082,
    "start_time": "2023-03-16T08:43:01.589Z"
   },
   {
    "duration": 235,
    "start_time": "2023-03-16T08:43:02.672Z"
   },
   {
    "duration": 168,
    "start_time": "2023-03-16T08:43:02.908Z"
   },
   {
    "duration": 240,
    "start_time": "2023-03-16T08:43:03.077Z"
   },
   {
    "duration": 9,
    "start_time": "2023-03-16T08:43:03.319Z"
   },
   {
    "duration": 53,
    "start_time": "2023-03-16T08:43:03.330Z"
   },
   {
    "duration": 269,
    "start_time": "2023-03-16T08:43:03.385Z"
   },
   {
    "duration": 150,
    "start_time": "2023-03-16T08:43:03.656Z"
   },
   {
    "duration": 170,
    "start_time": "2023-03-16T08:43:03.808Z"
   },
   {
    "duration": 176,
    "start_time": "2023-03-16T08:43:03.980Z"
   },
   {
    "duration": 18,
    "start_time": "2023-03-16T08:43:04.158Z"
   },
   {
    "duration": 28,
    "start_time": "2023-03-16T08:43:04.180Z"
   },
   {
    "duration": 15,
    "start_time": "2023-03-16T08:43:04.211Z"
   },
   {
    "duration": 194,
    "start_time": "2023-03-16T08:43:04.228Z"
   },
   {
    "duration": 9,
    "start_time": "2023-03-16T08:43:04.424Z"
   },
   {
    "duration": 30,
    "start_time": "2023-03-16T08:43:04.435Z"
   },
   {
    "duration": 321,
    "start_time": "2023-03-16T09:17:27.346Z"
   },
   {
    "duration": 304,
    "start_time": "2023-03-16T09:17:44.883Z"
   },
   {
    "duration": 413,
    "start_time": "2023-03-16T09:17:59.939Z"
   },
   {
    "duration": 398,
    "start_time": "2023-03-16T09:21:24.484Z"
   },
   {
    "duration": 236,
    "start_time": "2023-03-16T09:22:21.100Z"
   },
   {
    "duration": 324,
    "start_time": "2023-03-16T09:22:46.205Z"
   },
   {
    "duration": 319,
    "start_time": "2023-03-16T09:25:32.636Z"
   },
   {
    "duration": 305,
    "start_time": "2023-03-16T09:40:45.666Z"
   },
   {
    "duration": 302,
    "start_time": "2023-03-16T09:44:10.925Z"
   },
   {
    "duration": 233,
    "start_time": "2023-03-16T10:04:07.423Z"
   },
   {
    "duration": 820,
    "start_time": "2023-03-16T10:04:57.391Z"
   },
   {
    "duration": 1036,
    "start_time": "2023-03-16T10:05:17.424Z"
   },
   {
    "duration": 244,
    "start_time": "2023-03-16T10:05:43.049Z"
   },
   {
    "duration": 182,
    "start_time": "2023-03-16T10:05:49.123Z"
   },
   {
    "duration": 197,
    "start_time": "2023-03-16T10:05:55.383Z"
   },
   {
    "duration": 174,
    "start_time": "2023-03-16T10:06:01.935Z"
   },
   {
    "duration": 188,
    "start_time": "2023-03-16T10:06:24.848Z"
   },
   {
    "duration": 157,
    "start_time": "2023-03-16T10:06:31.143Z"
   },
   {
    "duration": 910,
    "start_time": "2023-03-16T10:26:49.445Z"
   },
   {
    "duration": 344,
    "start_time": "2023-03-16T10:27:12.937Z"
   },
   {
    "duration": 315,
    "start_time": "2023-03-16T10:30:23.248Z"
   },
   {
    "duration": 874,
    "start_time": "2023-03-16T10:32:16.790Z"
   },
   {
    "duration": 1001,
    "start_time": "2023-03-16T10:32:26.295Z"
   },
   {
    "duration": 884,
    "start_time": "2023-03-16T10:34:19.267Z"
   },
   {
    "duration": 1202,
    "start_time": "2023-03-16T10:34:25.878Z"
   },
   {
    "duration": 72,
    "start_time": "2023-03-16T10:34:27.082Z"
   },
   {
    "duration": 14,
    "start_time": "2023-03-16T10:34:27.155Z"
   },
   {
    "duration": 19,
    "start_time": "2023-03-16T10:34:27.170Z"
   },
   {
    "duration": 25,
    "start_time": "2023-03-16T10:34:27.191Z"
   },
   {
    "duration": 16,
    "start_time": "2023-03-16T10:34:27.218Z"
   },
   {
    "duration": 24,
    "start_time": "2023-03-16T10:34:27.237Z"
   },
   {
    "duration": 21,
    "start_time": "2023-03-16T10:34:27.262Z"
   },
   {
    "duration": 13,
    "start_time": "2023-03-16T10:34:27.284Z"
   },
   {
    "duration": 44,
    "start_time": "2023-03-16T10:34:27.298Z"
   },
   {
    "duration": 34,
    "start_time": "2023-03-16T10:34:27.345Z"
   },
   {
    "duration": 14,
    "start_time": "2023-03-16T10:34:27.380Z"
   },
   {
    "duration": 42,
    "start_time": "2023-03-16T10:34:27.396Z"
   },
   {
    "duration": 418,
    "start_time": "2023-03-16T10:34:27.440Z"
   },
   {
    "duration": 8,
    "start_time": "2023-03-16T10:34:27.860Z"
   },
   {
    "duration": 372,
    "start_time": "2023-03-16T10:34:27.870Z"
   },
   {
    "duration": 932,
    "start_time": "2023-03-16T10:34:28.244Z"
   },
   {
    "duration": 270,
    "start_time": "2023-03-16T10:34:29.177Z"
   },
   {
    "duration": 181,
    "start_time": "2023-03-16T10:34:29.454Z"
   },
   {
    "duration": 253,
    "start_time": "2023-03-16T10:34:29.636Z"
   },
   {
    "duration": 10,
    "start_time": "2023-03-16T10:34:29.890Z"
   },
   {
    "duration": 68,
    "start_time": "2023-03-16T10:34:29.902Z"
   },
   {
    "duration": 281,
    "start_time": "2023-03-16T10:34:29.972Z"
   },
   {
    "duration": 177,
    "start_time": "2023-03-16T10:34:30.255Z"
   },
   {
    "duration": 178,
    "start_time": "2023-03-16T10:34:30.434Z"
   },
   {
    "duration": 181,
    "start_time": "2023-03-16T10:34:30.614Z"
   },
   {
    "duration": 13,
    "start_time": "2023-03-16T10:34:30.797Z"
   },
   {
    "duration": 51,
    "start_time": "2023-03-16T10:34:30.812Z"
   },
   {
    "duration": 44,
    "start_time": "2023-03-16T10:34:30.864Z"
   },
   {
    "duration": 219,
    "start_time": "2023-03-16T10:34:30.909Z"
   },
   {
    "duration": 9,
    "start_time": "2023-03-16T10:34:31.129Z"
   },
   {
    "duration": 18,
    "start_time": "2023-03-16T10:34:31.139Z"
   },
   {
    "duration": 292,
    "start_time": "2023-03-16T10:35:11.063Z"
   },
   {
    "duration": 973,
    "start_time": "2023-03-16T10:36:20.644Z"
   },
   {
    "duration": 932,
    "start_time": "2023-03-16T10:36:29.852Z"
   },
   {
    "duration": 1138,
    "start_time": "2023-03-16T10:36:37.280Z"
   },
   {
    "duration": 329,
    "start_time": "2023-03-16T10:38:06.541Z"
   },
   {
    "duration": 377,
    "start_time": "2023-03-16T10:44:43.974Z"
   },
   {
    "duration": 990,
    "start_time": "2023-03-16T10:47:13.222Z"
   },
   {
    "duration": 253,
    "start_time": "2023-03-16T10:49:07.282Z"
   },
   {
    "duration": 292,
    "start_time": "2023-03-16T10:52:00.443Z"
   },
   {
    "duration": 375,
    "start_time": "2023-03-16T10:54:37.975Z"
   },
   {
    "duration": 302,
    "start_time": "2023-03-16T10:54:45.683Z"
   },
   {
    "duration": 280,
    "start_time": "2023-03-16T10:55:04.567Z"
   },
   {
    "duration": 1097,
    "start_time": "2023-03-16T10:55:26.189Z"
   },
   {
    "duration": 69,
    "start_time": "2023-03-16T10:55:27.287Z"
   },
   {
    "duration": 12,
    "start_time": "2023-03-16T10:55:27.358Z"
   },
   {
    "duration": 4,
    "start_time": "2023-03-16T10:55:27.372Z"
   },
   {
    "duration": 25,
    "start_time": "2023-03-16T10:55:27.378Z"
   },
   {
    "duration": 18,
    "start_time": "2023-03-16T10:55:27.405Z"
   },
   {
    "duration": 29,
    "start_time": "2023-03-16T10:55:27.425Z"
   },
   {
    "duration": 14,
    "start_time": "2023-03-16T10:55:27.455Z"
   },
   {
    "duration": 33,
    "start_time": "2023-03-16T10:55:27.471Z"
   },
   {
    "duration": 34,
    "start_time": "2023-03-16T10:55:27.506Z"
   },
   {
    "duration": 20,
    "start_time": "2023-03-16T10:55:27.541Z"
   },
   {
    "duration": 17,
    "start_time": "2023-03-16T10:55:27.562Z"
   },
   {
    "duration": 29,
    "start_time": "2023-03-16T10:55:27.580Z"
   },
   {
    "duration": 398,
    "start_time": "2023-03-16T10:55:27.610Z"
   },
   {
    "duration": 8,
    "start_time": "2023-03-16T10:55:28.010Z"
   },
   {
    "duration": 287,
    "start_time": "2023-03-16T10:55:28.019Z"
   },
   {
    "duration": 837,
    "start_time": "2023-03-16T10:55:28.308Z"
   },
   {
    "duration": 241,
    "start_time": "2023-03-16T10:55:29.147Z"
   },
   {
    "duration": 311,
    "start_time": "2023-03-16T10:55:29.389Z"
   },
   {
    "duration": 173,
    "start_time": "2023-03-16T10:55:29.702Z"
   },
   {
    "duration": 179,
    "start_time": "2023-03-16T10:55:29.876Z"
   },
   {
    "duration": 9,
    "start_time": "2023-03-16T10:55:30.057Z"
   },
   {
    "duration": 57,
    "start_time": "2023-03-16T10:55:30.067Z"
   },
   {
    "duration": 230,
    "start_time": "2023-03-16T10:55:30.125Z"
   },
   {
    "duration": 152,
    "start_time": "2023-03-16T10:55:30.357Z"
   },
   {
    "duration": 160,
    "start_time": "2023-03-16T10:55:30.511Z"
   },
   {
    "duration": 166,
    "start_time": "2023-03-16T10:55:30.672Z"
   },
   {
    "duration": 21,
    "start_time": "2023-03-16T10:55:30.840Z"
   },
   {
    "duration": 36,
    "start_time": "2023-03-16T10:55:30.862Z"
   },
   {
    "duration": 38,
    "start_time": "2023-03-16T10:55:30.899Z"
   },
   {
    "duration": 212,
    "start_time": "2023-03-16T10:55:30.938Z"
   },
   {
    "duration": 11,
    "start_time": "2023-03-16T10:55:31.151Z"
   },
   {
    "duration": 78,
    "start_time": "2023-03-16T10:55:31.163Z"
   },
   {
    "duration": 9,
    "start_time": "2023-03-16T11:03:05.006Z"
   },
   {
    "duration": 110,
    "start_time": "2023-03-16T11:04:09.073Z"
   },
   {
    "duration": 9,
    "start_time": "2023-03-16T11:04:51.259Z"
   },
   {
    "duration": 9,
    "start_time": "2023-03-16T11:05:29.454Z"
   },
   {
    "duration": 68,
    "start_time": "2023-03-16T11:07:53.385Z"
   },
   {
    "duration": 13,
    "start_time": "2023-03-16T11:08:01.590Z"
   },
   {
    "duration": 62,
    "start_time": "2023-03-16T11:08:08.536Z"
   },
   {
    "duration": 28,
    "start_time": "2023-03-16T11:09:39.040Z"
   },
   {
    "duration": 46,
    "start_time": "2023-03-16T11:09:52.590Z"
   },
   {
    "duration": 1056,
    "start_time": "2023-03-16T11:10:08.086Z"
   },
   {
    "duration": 74,
    "start_time": "2023-03-16T11:10:09.144Z"
   },
   {
    "duration": 12,
    "start_time": "2023-03-16T11:10:09.220Z"
   },
   {
    "duration": 6,
    "start_time": "2023-03-16T11:10:09.233Z"
   },
   {
    "duration": 12,
    "start_time": "2023-03-16T11:10:09.241Z"
   },
   {
    "duration": 19,
    "start_time": "2023-03-16T11:10:09.254Z"
   },
   {
    "duration": 18,
    "start_time": "2023-03-16T11:10:09.274Z"
   },
   {
    "duration": 17,
    "start_time": "2023-03-16T11:10:09.293Z"
   },
   {
    "duration": 9,
    "start_time": "2023-03-16T11:10:09.311Z"
   },
   {
    "duration": 12,
    "start_time": "2023-03-16T11:10:09.322Z"
   },
   {
    "duration": 7,
    "start_time": "2023-03-16T11:10:09.335Z"
   },
   {
    "duration": 11,
    "start_time": "2023-03-16T11:10:09.343Z"
   },
   {
    "duration": 15,
    "start_time": "2023-03-16T11:10:09.356Z"
   },
   {
    "duration": 12,
    "start_time": "2023-03-16T11:10:09.374Z"
   },
   {
    "duration": 377,
    "start_time": "2023-03-16T11:10:09.387Z"
   },
   {
    "duration": 8,
    "start_time": "2023-03-16T11:10:09.765Z"
   },
   {
    "duration": 287,
    "start_time": "2023-03-16T11:10:09.774Z"
   },
   {
    "duration": 844,
    "start_time": "2023-03-16T11:10:10.063Z"
   },
   {
    "duration": 247,
    "start_time": "2023-03-16T11:10:10.909Z"
   },
   {
    "duration": 313,
    "start_time": "2023-03-16T11:10:11.158Z"
   },
   {
    "duration": 168,
    "start_time": "2023-03-16T11:10:11.473Z"
   },
   {
    "duration": 167,
    "start_time": "2023-03-16T11:10:11.643Z"
   },
   {
    "duration": 8,
    "start_time": "2023-03-16T11:10:11.811Z"
   },
   {
    "duration": 45,
    "start_time": "2023-03-16T11:10:11.821Z"
   },
   {
    "duration": 243,
    "start_time": "2023-03-16T11:10:11.867Z"
   },
   {
    "duration": 158,
    "start_time": "2023-03-16T11:10:12.112Z"
   },
   {
    "duration": 156,
    "start_time": "2023-03-16T11:10:12.271Z"
   },
   {
    "duration": 178,
    "start_time": "2023-03-16T11:10:12.428Z"
   },
   {
    "duration": 12,
    "start_time": "2023-03-16T11:10:12.607Z"
   },
   {
    "duration": 12,
    "start_time": "2023-03-16T11:10:12.621Z"
   },
   {
    "duration": 11,
    "start_time": "2023-03-16T11:10:12.634Z"
   },
   {
    "duration": 183,
    "start_time": "2023-03-16T11:10:12.646Z"
   },
   {
    "duration": 8,
    "start_time": "2023-03-16T11:10:12.830Z"
   },
   {
    "duration": 19,
    "start_time": "2023-03-16T11:10:12.839Z"
   },
   {
    "duration": 916,
    "start_time": "2023-03-16T11:10:29.335Z"
   },
   {
    "duration": 326,
    "start_time": "2023-03-16T11:11:14.966Z"
   },
   {
    "duration": 236,
    "start_time": "2023-03-16T11:11:21.795Z"
   },
   {
    "duration": 235,
    "start_time": "2023-03-16T11:11:25.442Z"
   },
   {
    "duration": 256,
    "start_time": "2023-03-16T11:11:52.562Z"
   },
   {
    "duration": 234,
    "start_time": "2023-03-16T11:17:58.922Z"
   },
   {
    "duration": 242,
    "start_time": "2023-03-16T11:18:07.734Z"
   },
   {
    "duration": 337,
    "start_time": "2023-03-16T11:19:31.215Z"
   },
   {
    "duration": 275,
    "start_time": "2023-03-16T11:19:34.559Z"
   },
   {
    "duration": 289,
    "start_time": "2023-03-16T11:19:39.914Z"
   },
   {
    "duration": 293,
    "start_time": "2023-03-16T11:19:58.486Z"
   },
   {
    "duration": 213,
    "start_time": "2023-03-16T11:20:02.414Z"
   },
   {
    "duration": 1181,
    "start_time": "2023-03-16T11:20:06.830Z"
   },
   {
    "duration": 69,
    "start_time": "2023-03-16T11:20:08.013Z"
   },
   {
    "duration": 13,
    "start_time": "2023-03-16T11:20:08.083Z"
   },
   {
    "duration": 4,
    "start_time": "2023-03-16T11:20:08.098Z"
   },
   {
    "duration": 13,
    "start_time": "2023-03-16T11:20:08.104Z"
   },
   {
    "duration": 3,
    "start_time": "2023-03-16T11:20:08.118Z"
   },
   {
    "duration": 14,
    "start_time": "2023-03-16T11:20:08.122Z"
   },
   {
    "duration": 19,
    "start_time": "2023-03-16T11:20:08.137Z"
   },
   {
    "duration": 6,
    "start_time": "2023-03-16T11:20:08.157Z"
   },
   {
    "duration": 13,
    "start_time": "2023-03-16T11:20:08.164Z"
   },
   {
    "duration": 7,
    "start_time": "2023-03-16T11:20:08.179Z"
   },
   {
    "duration": 7,
    "start_time": "2023-03-16T11:20:08.187Z"
   },
   {
    "duration": 5,
    "start_time": "2023-03-16T11:20:08.195Z"
   },
   {
    "duration": 13,
    "start_time": "2023-03-16T11:20:08.202Z"
   },
   {
    "duration": 408,
    "start_time": "2023-03-16T11:20:08.216Z"
   },
   {
    "duration": 7,
    "start_time": "2023-03-16T11:20:08.626Z"
   },
   {
    "duration": 307,
    "start_time": "2023-03-16T11:20:08.634Z"
   },
   {
    "duration": 853,
    "start_time": "2023-03-16T11:20:08.943Z"
   },
   {
    "duration": 247,
    "start_time": "2023-03-16T11:20:09.798Z"
   },
   {
    "duration": 319,
    "start_time": "2023-03-16T11:20:10.046Z"
   },
   {
    "duration": 180,
    "start_time": "2023-03-16T11:20:10.366Z"
   },
   {
    "duration": 180,
    "start_time": "2023-03-16T11:20:10.547Z"
   },
   {
    "duration": 7,
    "start_time": "2023-03-16T11:20:10.729Z"
   },
   {
    "duration": 38,
    "start_time": "2023-03-16T11:20:10.738Z"
   },
   {
    "duration": 315,
    "start_time": "2023-03-16T11:20:10.777Z"
   },
   {
    "duration": 229,
    "start_time": "2023-03-16T11:20:11.093Z"
   },
   {
    "duration": 206,
    "start_time": "2023-03-16T11:20:11.324Z"
   },
   {
    "duration": 219,
    "start_time": "2023-03-16T11:20:11.532Z"
   },
   {
    "duration": 14,
    "start_time": "2023-03-16T11:20:11.753Z"
   },
   {
    "duration": 14,
    "start_time": "2023-03-16T11:20:11.768Z"
   },
   {
    "duration": 12,
    "start_time": "2023-03-16T11:20:11.783Z"
   },
   {
    "duration": 250,
    "start_time": "2023-03-16T11:20:11.797Z"
   },
   {
    "duration": 12,
    "start_time": "2023-03-16T11:20:12.049Z"
   },
   {
    "duration": 10,
    "start_time": "2023-03-16T11:20:12.063Z"
   },
   {
    "duration": 935,
    "start_time": "2023-03-16T11:21:27.951Z"
   },
   {
    "duration": 318,
    "start_time": "2023-03-16T11:21:47.240Z"
   },
   {
    "duration": 214,
    "start_time": "2023-03-16T11:21:55.030Z"
   },
   {
    "duration": 218,
    "start_time": "2023-03-16T11:21:58.190Z"
   },
   {
    "duration": 279,
    "start_time": "2023-03-16T11:22:13.846Z"
   },
   {
    "duration": 287,
    "start_time": "2023-03-16T11:22:16.551Z"
   },
   {
    "duration": 165,
    "start_time": "2023-03-16T11:23:47.243Z"
   },
   {
    "duration": 282,
    "start_time": "2023-03-16T11:31:09.899Z"
   },
   {
    "duration": 1166,
    "start_time": "2023-03-16T12:53:44.313Z"
   },
   {
    "duration": 75,
    "start_time": "2023-03-16T12:53:45.483Z"
   },
   {
    "duration": 18,
    "start_time": "2023-03-16T12:53:45.561Z"
   },
   {
    "duration": 4,
    "start_time": "2023-03-16T12:53:45.582Z"
   },
   {
    "duration": 14,
    "start_time": "2023-03-16T12:53:45.588Z"
   },
   {
    "duration": 4,
    "start_time": "2023-03-16T12:53:45.604Z"
   },
   {
    "duration": 50,
    "start_time": "2023-03-16T12:53:45.610Z"
   },
   {
    "duration": 4,
    "start_time": "2023-03-16T12:53:45.662Z"
   },
   {
    "duration": 7,
    "start_time": "2023-03-16T12:53:45.669Z"
   },
   {
    "duration": 15,
    "start_time": "2023-03-16T12:53:45.681Z"
   },
   {
    "duration": 9,
    "start_time": "2023-03-16T12:53:45.697Z"
   },
   {
    "duration": 9,
    "start_time": "2023-03-16T12:53:45.707Z"
   },
   {
    "duration": 43,
    "start_time": "2023-03-16T12:53:45.718Z"
   },
   {
    "duration": 35,
    "start_time": "2023-03-16T12:53:45.763Z"
   },
   {
    "duration": 456,
    "start_time": "2023-03-16T12:53:45.799Z"
   },
   {
    "duration": 10,
    "start_time": "2023-03-16T12:53:46.256Z"
   },
   {
    "duration": 354,
    "start_time": "2023-03-16T12:53:46.268Z"
   },
   {
    "duration": 919,
    "start_time": "2023-03-16T12:53:46.624Z"
   },
   {
    "duration": 326,
    "start_time": "2023-03-16T12:53:47.544Z"
   },
   {
    "duration": 379,
    "start_time": "2023-03-16T12:53:47.872Z"
   },
   {
    "duration": 208,
    "start_time": "2023-03-16T12:53:48.255Z"
   },
   {
    "duration": 185,
    "start_time": "2023-03-16T12:53:48.464Z"
   },
   {
    "duration": 9,
    "start_time": "2023-03-16T12:53:48.654Z"
   },
   {
    "duration": 30,
    "start_time": "2023-03-16T12:53:48.665Z"
   },
   {
    "duration": 322,
    "start_time": "2023-03-16T12:53:48.696Z"
   },
   {
    "duration": 198,
    "start_time": "2023-03-16T12:53:49.020Z"
   },
   {
    "duration": 201,
    "start_time": "2023-03-16T12:53:49.220Z"
   },
   {
    "duration": 198,
    "start_time": "2023-03-16T12:53:49.424Z"
   },
   {
    "duration": 16,
    "start_time": "2023-03-16T12:53:49.623Z"
   },
   {
    "duration": 26,
    "start_time": "2023-03-16T12:53:49.641Z"
   },
   {
    "duration": 16,
    "start_time": "2023-03-16T12:53:49.668Z"
   },
   {
    "duration": 242,
    "start_time": "2023-03-16T12:53:49.685Z"
   },
   {
    "duration": 9,
    "start_time": "2023-03-16T12:53:49.928Z"
   },
   {
    "duration": 22,
    "start_time": "2023-03-16T12:53:49.938Z"
   },
   {
    "duration": 890,
    "start_time": "2023-03-16T12:57:08.809Z"
   },
   {
    "duration": 38,
    "start_time": "2023-03-16T13:27:59.572Z"
   },
   {
    "duration": 42,
    "start_time": "2023-03-16T13:32:07.792Z"
   },
   {
    "duration": 5603,
    "start_time": "2023-03-16T13:36:15.895Z"
   },
   {
    "duration": 124,
    "start_time": "2023-03-16T13:36:51.539Z"
   },
   {
    "duration": 172,
    "start_time": "2023-03-16T14:01:53.601Z"
   },
   {
    "duration": 159,
    "start_time": "2023-03-16T14:11:59.411Z"
   },
   {
    "duration": 128,
    "start_time": "2023-03-16T14:12:13.808Z"
   },
   {
    "duration": 153,
    "start_time": "2023-03-16T14:12:33.398Z"
   },
   {
    "duration": 153,
    "start_time": "2023-03-16T14:13:21.246Z"
   },
   {
    "duration": 220,
    "start_time": "2023-03-16T14:14:18.463Z"
   },
   {
    "duration": 21,
    "start_time": "2023-03-16T14:15:59.890Z"
   },
   {
    "duration": 23,
    "start_time": "2023-03-16T14:16:46.274Z"
   },
   {
    "duration": 1323,
    "start_time": "2023-03-16T17:47:23.294Z"
   },
   {
    "duration": 205,
    "start_time": "2023-03-16T17:47:24.619Z"
   },
   {
    "duration": 15,
    "start_time": "2023-03-16T17:47:24.826Z"
   },
   {
    "duration": 12,
    "start_time": "2023-03-16T17:47:24.844Z"
   },
   {
    "duration": 34,
    "start_time": "2023-03-16T17:47:24.857Z"
   },
   {
    "duration": 6,
    "start_time": "2023-03-16T17:47:24.893Z"
   },
   {
    "duration": 17,
    "start_time": "2023-03-16T17:47:24.901Z"
   },
   {
    "duration": 8,
    "start_time": "2023-03-16T17:47:24.919Z"
   },
   {
    "duration": 33,
    "start_time": "2023-03-16T17:47:24.929Z"
   },
   {
    "duration": 16,
    "start_time": "2023-03-16T17:47:24.965Z"
   },
   {
    "duration": 9,
    "start_time": "2023-03-16T17:47:24.983Z"
   },
   {
    "duration": 8,
    "start_time": "2023-03-16T17:47:24.994Z"
   },
   {
    "duration": 33,
    "start_time": "2023-03-16T17:47:25.004Z"
   },
   {
    "duration": 36,
    "start_time": "2023-03-16T17:47:25.039Z"
   },
   {
    "duration": 425,
    "start_time": "2023-03-16T17:47:25.077Z"
   },
   {
    "duration": 9,
    "start_time": "2023-03-16T17:47:25.505Z"
   },
   {
    "duration": 306,
    "start_time": "2023-03-16T17:47:25.522Z"
   },
   {
    "duration": 951,
    "start_time": "2023-03-16T17:47:25.830Z"
   },
   {
    "duration": 274,
    "start_time": "2023-03-16T17:47:26.783Z"
   },
   {
    "duration": 402,
    "start_time": "2023-03-16T17:47:27.059Z"
   },
   {
    "duration": 117,
    "start_time": "2023-03-16T17:47:27.463Z"
   },
   {
    "duration": 0,
    "start_time": "2023-03-16T17:47:27.582Z"
   },
   {
    "duration": 0,
    "start_time": "2023-03-16T17:47:27.583Z"
   },
   {
    "duration": 0,
    "start_time": "2023-03-16T17:47:27.584Z"
   },
   {
    "duration": 0,
    "start_time": "2023-03-16T17:47:27.585Z"
   },
   {
    "duration": 0,
    "start_time": "2023-03-16T17:47:27.587Z"
   },
   {
    "duration": 0,
    "start_time": "2023-03-16T17:47:27.588Z"
   },
   {
    "duration": 0,
    "start_time": "2023-03-16T17:47:27.589Z"
   },
   {
    "duration": 0,
    "start_time": "2023-03-16T17:47:27.590Z"
   },
   {
    "duration": 0,
    "start_time": "2023-03-16T17:47:27.591Z"
   },
   {
    "duration": 0,
    "start_time": "2023-03-16T17:47:27.592Z"
   },
   {
    "duration": 0,
    "start_time": "2023-03-16T17:47:27.593Z"
   },
   {
    "duration": 0,
    "start_time": "2023-03-16T17:47:27.594Z"
   },
   {
    "duration": 0,
    "start_time": "2023-03-16T17:47:27.595Z"
   },
   {
    "duration": 0,
    "start_time": "2023-03-16T17:47:27.624Z"
   },
   {
    "duration": 34,
    "start_time": "2023-03-16T17:57:03.569Z"
   },
   {
    "duration": 344,
    "start_time": "2023-03-16T17:57:41.672Z"
   },
   {
    "duration": 1063,
    "start_time": "2023-03-16T18:26:08.717Z"
   },
   {
    "duration": 19,
    "start_time": "2023-03-16T18:28:01.749Z"
   },
   {
    "duration": 24,
    "start_time": "2023-03-16T18:32:02.054Z"
   },
   {
    "duration": 18,
    "start_time": "2023-03-16T18:34:39.785Z"
   },
   {
    "duration": 16,
    "start_time": "2023-03-16T18:35:44.944Z"
   },
   {
    "duration": 228,
    "start_time": "2023-03-16T18:35:54.327Z"
   },
   {
    "duration": 17,
    "start_time": "2023-03-16T18:37:53.323Z"
   },
   {
    "duration": 106,
    "start_time": "2023-03-16T18:49:04.704Z"
   },
   {
    "duration": 71,
    "start_time": "2023-03-16T18:49:24.078Z"
   },
   {
    "duration": 84,
    "start_time": "2023-03-16T18:49:40.528Z"
   },
   {
    "duration": 67,
    "start_time": "2023-03-16T18:49:47.133Z"
   },
   {
    "duration": 285,
    "start_time": "2023-03-16T18:49:58.598Z"
   },
   {
    "duration": 1274,
    "start_time": "2023-03-16T18:50:49.207Z"
   },
   {
    "duration": 79,
    "start_time": "2023-03-16T18:50:50.484Z"
   },
   {
    "duration": 15,
    "start_time": "2023-03-16T18:50:50.565Z"
   },
   {
    "duration": 8,
    "start_time": "2023-03-16T18:50:50.583Z"
   },
   {
    "duration": 15,
    "start_time": "2023-03-16T18:50:50.593Z"
   },
   {
    "duration": 15,
    "start_time": "2023-03-16T18:50:50.609Z"
   },
   {
    "duration": 30,
    "start_time": "2023-03-16T18:50:50.625Z"
   },
   {
    "duration": 4,
    "start_time": "2023-03-16T18:50:50.656Z"
   },
   {
    "duration": 14,
    "start_time": "2023-03-16T18:50:50.661Z"
   },
   {
    "duration": 21,
    "start_time": "2023-03-16T18:50:50.678Z"
   },
   {
    "duration": 8,
    "start_time": "2023-03-16T18:50:50.701Z"
   },
   {
    "duration": 7,
    "start_time": "2023-03-16T18:50:50.711Z"
   },
   {
    "duration": 7,
    "start_time": "2023-03-16T18:50:50.720Z"
   },
   {
    "duration": 22,
    "start_time": "2023-03-16T18:50:50.729Z"
   },
   {
    "duration": 417,
    "start_time": "2023-03-16T18:50:50.753Z"
   },
   {
    "duration": 9,
    "start_time": "2023-03-16T18:50:51.171Z"
   },
   {
    "duration": 323,
    "start_time": "2023-03-16T18:50:51.181Z"
   },
   {
    "duration": 951,
    "start_time": "2023-03-16T18:50:51.505Z"
   },
   {
    "duration": 279,
    "start_time": "2023-03-16T18:50:52.458Z"
   },
   {
    "duration": 391,
    "start_time": "2023-03-16T18:50:52.739Z"
   },
   {
    "duration": 16,
    "start_time": "2023-03-16T18:50:53.132Z"
   },
   {
    "duration": 185,
    "start_time": "2023-03-16T18:50:53.149Z"
   },
   {
    "duration": 180,
    "start_time": "2023-03-16T18:50:53.336Z"
   },
   {
    "duration": 10,
    "start_time": "2023-03-16T18:50:53.518Z"
   },
   {
    "duration": 29,
    "start_time": "2023-03-16T18:50:53.529Z"
   },
   {
    "duration": 327,
    "start_time": "2023-03-16T18:50:53.559Z"
   },
   {
    "duration": 198,
    "start_time": "2023-03-16T18:50:53.887Z"
   },
   {
    "duration": 207,
    "start_time": "2023-03-16T18:50:54.088Z"
   },
   {
    "duration": 202,
    "start_time": "2023-03-16T18:50:54.297Z"
   },
   {
    "duration": 13,
    "start_time": "2023-03-16T18:50:54.500Z"
   },
   {
    "duration": 13,
    "start_time": "2023-03-16T18:50:54.523Z"
   },
   {
    "duration": 14,
    "start_time": "2023-03-16T18:50:54.537Z"
   },
   {
    "duration": 251,
    "start_time": "2023-03-16T18:50:54.552Z"
   },
   {
    "duration": 8,
    "start_time": "2023-03-16T18:50:54.805Z"
   },
   {
    "duration": 10,
    "start_time": "2023-03-16T18:50:54.814Z"
   },
   {
    "duration": 9,
    "start_time": "2023-03-16T18:52:38.550Z"
   },
   {
    "duration": 10,
    "start_time": "2023-03-16T18:52:50.298Z"
   },
   {
    "duration": 40,
    "start_time": "2023-03-16T19:05:27.800Z"
   },
   {
    "duration": 69,
    "start_time": "2023-03-16T19:06:42.769Z"
   },
   {
    "duration": 520,
    "start_time": "2023-03-16T19:06:47.935Z"
   },
   {
    "duration": 45,
    "start_time": "2023-03-16T19:07:07.033Z"
   },
   {
    "duration": 310,
    "start_time": "2023-03-16T19:12:04.306Z"
   },
   {
    "duration": 392,
    "start_time": "2023-03-16T19:12:13.131Z"
   },
   {
    "duration": 297,
    "start_time": "2023-03-16T19:12:38.019Z"
   },
   {
    "duration": 1159,
    "start_time": "2023-03-16T19:12:44.845Z"
   },
   {
    "duration": 66,
    "start_time": "2023-03-16T19:12:46.006Z"
   },
   {
    "duration": 14,
    "start_time": "2023-03-16T19:12:46.073Z"
   },
   {
    "duration": 5,
    "start_time": "2023-03-16T19:12:46.089Z"
   },
   {
    "duration": 12,
    "start_time": "2023-03-16T19:12:46.095Z"
   },
   {
    "duration": 18,
    "start_time": "2023-03-16T19:12:46.109Z"
   },
   {
    "duration": 14,
    "start_time": "2023-03-16T19:12:46.128Z"
   },
   {
    "duration": 3,
    "start_time": "2023-03-16T19:12:46.144Z"
   },
   {
    "duration": 6,
    "start_time": "2023-03-16T19:12:46.149Z"
   },
   {
    "duration": 17,
    "start_time": "2023-03-16T19:12:46.158Z"
   },
   {
    "duration": 9,
    "start_time": "2023-03-16T19:12:46.176Z"
   },
   {
    "duration": 38,
    "start_time": "2023-03-16T19:12:46.186Z"
   },
   {
    "duration": 6,
    "start_time": "2023-03-16T19:12:46.226Z"
   },
   {
    "duration": 17,
    "start_time": "2023-03-16T19:12:46.233Z"
   },
   {
    "duration": 417,
    "start_time": "2023-03-16T19:12:46.251Z"
   },
   {
    "duration": 7,
    "start_time": "2023-03-16T19:12:46.670Z"
   },
   {
    "duration": 317,
    "start_time": "2023-03-16T19:12:46.679Z"
   },
   {
    "duration": 899,
    "start_time": "2023-03-16T19:12:46.998Z"
   },
   {
    "duration": 258,
    "start_time": "2023-03-16T19:12:47.899Z"
   },
   {
    "duration": 357,
    "start_time": "2023-03-16T19:12:48.159Z"
   },
   {
    "duration": 38,
    "start_time": "2023-03-16T19:12:48.517Z"
   },
   {
    "duration": 191,
    "start_time": "2023-03-16T19:12:48.556Z"
   },
   {
    "duration": 201,
    "start_time": "2023-03-16T19:12:48.748Z"
   },
   {
    "duration": 10,
    "start_time": "2023-03-16T19:12:48.950Z"
   },
   {
    "duration": 62,
    "start_time": "2023-03-16T19:12:48.961Z"
   },
   {
    "duration": 269,
    "start_time": "2023-03-16T19:12:49.025Z"
   },
   {
    "duration": 159,
    "start_time": "2023-03-16T19:12:49.295Z"
   },
   {
    "duration": 189,
    "start_time": "2023-03-16T19:12:49.457Z"
   },
   {
    "duration": 167,
    "start_time": "2023-03-16T19:12:49.649Z"
   },
   {
    "duration": 16,
    "start_time": "2023-03-16T19:12:49.817Z"
   },
   {
    "duration": 16,
    "start_time": "2023-03-16T19:12:49.834Z"
   },
   {
    "duration": 35,
    "start_time": "2023-03-16T19:12:49.852Z"
   },
   {
    "duration": 204,
    "start_time": "2023-03-16T19:12:49.889Z"
   },
   {
    "duration": 11,
    "start_time": "2023-03-16T19:12:50.094Z"
   },
   {
    "duration": 21,
    "start_time": "2023-03-16T19:12:50.106Z"
   },
   {
    "duration": 8,
    "start_time": "2023-03-16T19:14:38.580Z"
   },
   {
    "duration": 400,
    "start_time": "2023-03-16T19:16:30.925Z"
   },
   {
    "duration": 9,
    "start_time": "2023-03-16T19:16:35.612Z"
   },
   {
    "duration": 7,
    "start_time": "2023-03-16T19:18:13.886Z"
   },
   {
    "duration": 5,
    "start_time": "2023-03-16T19:22:02.586Z"
   },
   {
    "duration": 100,
    "start_time": "2023-03-16T19:24:18.298Z"
   },
   {
    "duration": 12,
    "start_time": "2023-03-16T19:25:33.086Z"
   },
   {
    "duration": 8,
    "start_time": "2023-03-16T19:26:32.163Z"
   },
   {
    "duration": 4,
    "start_time": "2023-03-16T19:27:07.539Z"
   },
   {
    "duration": 4,
    "start_time": "2023-03-16T19:27:17.299Z"
   },
   {
    "duration": 5,
    "start_time": "2023-03-16T19:27:37.541Z"
   },
   {
    "duration": 9,
    "start_time": "2023-03-16T19:28:34.614Z"
   },
   {
    "duration": 467,
    "start_time": "2023-03-16T19:28:37.669Z"
   },
   {
    "duration": 931,
    "start_time": "2023-03-16T19:35:25.668Z"
   },
   {
    "duration": 943,
    "start_time": "2023-03-16T19:35:38.200Z"
   },
   {
    "duration": 275,
    "start_time": "2023-03-16T19:36:08.473Z"
   },
   {
    "duration": 274,
    "start_time": "2023-03-16T19:36:10.698Z"
   },
   {
    "duration": 1223,
    "start_time": "2023-03-16T19:36:16.397Z"
   },
   {
    "duration": 68,
    "start_time": "2023-03-16T19:36:17.623Z"
   },
   {
    "duration": 15,
    "start_time": "2023-03-16T19:36:17.692Z"
   },
   {
    "duration": 5,
    "start_time": "2023-03-16T19:36:17.710Z"
   },
   {
    "duration": 15,
    "start_time": "2023-03-16T19:36:17.717Z"
   },
   {
    "duration": 4,
    "start_time": "2023-03-16T19:36:17.733Z"
   },
   {
    "duration": 12,
    "start_time": "2023-03-16T19:36:17.739Z"
   },
   {
    "duration": 8,
    "start_time": "2023-03-16T19:36:17.753Z"
   },
   {
    "duration": 22,
    "start_time": "2023-03-16T19:36:17.762Z"
   },
   {
    "duration": 15,
    "start_time": "2023-03-16T19:36:17.787Z"
   },
   {
    "duration": 23,
    "start_time": "2023-03-16T19:36:17.804Z"
   },
   {
    "duration": 6,
    "start_time": "2023-03-16T19:36:17.829Z"
   },
   {
    "duration": 15,
    "start_time": "2023-03-16T19:36:17.837Z"
   },
   {
    "duration": 9,
    "start_time": "2023-03-16T19:36:17.853Z"
   },
   {
    "duration": 5,
    "start_time": "2023-03-16T19:36:17.863Z"
   },
   {
    "duration": 9,
    "start_time": "2023-03-16T19:36:17.869Z"
   },
   {
    "duration": 3,
    "start_time": "2023-03-16T19:36:17.880Z"
   },
   {
    "duration": 10,
    "start_time": "2023-03-16T19:36:17.924Z"
   },
   {
    "duration": 442,
    "start_time": "2023-03-16T19:36:17.936Z"
   },
   {
    "duration": 8,
    "start_time": "2023-03-16T19:36:18.379Z"
   },
   {
    "duration": 322,
    "start_time": "2023-03-16T19:36:18.389Z"
   },
   {
    "duration": 952,
    "start_time": "2023-03-16T19:36:18.713Z"
   },
   {
    "duration": 254,
    "start_time": "2023-03-16T19:36:19.666Z"
   },
   {
    "duration": 344,
    "start_time": "2023-03-16T19:36:19.922Z"
   },
   {
    "duration": 39,
    "start_time": "2023-03-16T19:36:20.268Z"
   },
   {
    "duration": 250,
    "start_time": "2023-03-16T19:36:20.309Z"
   },
   {
    "duration": 228,
    "start_time": "2023-03-16T19:36:20.561Z"
   },
   {
    "duration": 9,
    "start_time": "2023-03-16T19:36:20.792Z"
   },
   {
    "duration": 53,
    "start_time": "2023-03-16T19:36:20.803Z"
   },
   {
    "duration": 275,
    "start_time": "2023-03-16T19:36:20.858Z"
   },
   {
    "duration": 162,
    "start_time": "2023-03-16T19:36:21.135Z"
   },
   {
    "duration": 198,
    "start_time": "2023-03-16T19:36:21.299Z"
   },
   {
    "duration": 160,
    "start_time": "2023-03-16T19:36:21.499Z"
   },
   {
    "duration": 16,
    "start_time": "2023-03-16T19:36:21.660Z"
   },
   {
    "duration": 16,
    "start_time": "2023-03-16T19:36:21.678Z"
   },
   {
    "duration": 17,
    "start_time": "2023-03-16T19:36:21.724Z"
   },
   {
    "duration": 231,
    "start_time": "2023-03-16T19:36:21.743Z"
   },
   {
    "duration": 10,
    "start_time": "2023-03-16T19:36:21.976Z"
   },
   {
    "duration": 9,
    "start_time": "2023-03-16T19:36:21.988Z"
   },
   {
    "duration": 992,
    "start_time": "2023-03-16T19:36:57.251Z"
   },
   {
    "duration": 1063,
    "start_time": "2023-03-16T19:37:01.161Z"
   },
   {
    "duration": 946,
    "start_time": "2023-03-16T19:37:07.674Z"
   },
   {
    "duration": 304,
    "start_time": "2023-03-16T19:37:15.481Z"
   },
   {
    "duration": 927,
    "start_time": "2023-03-16T19:37:25.044Z"
   },
   {
    "duration": 249,
    "start_time": "2023-03-16T19:37:30.802Z"
   },
   {
    "duration": 269,
    "start_time": "2023-03-16T19:37:34.657Z"
   },
   {
    "duration": 1190,
    "start_time": "2023-03-16T19:37:38.831Z"
   },
   {
    "duration": 68,
    "start_time": "2023-03-16T19:37:40.023Z"
   },
   {
    "duration": 15,
    "start_time": "2023-03-16T19:37:40.093Z"
   },
   {
    "duration": 7,
    "start_time": "2023-03-16T19:37:40.110Z"
   },
   {
    "duration": 10,
    "start_time": "2023-03-16T19:37:40.119Z"
   },
   {
    "duration": 4,
    "start_time": "2023-03-16T19:37:40.130Z"
   },
   {
    "duration": 18,
    "start_time": "2023-03-16T19:37:40.136Z"
   },
   {
    "duration": 4,
    "start_time": "2023-03-16T19:37:40.156Z"
   },
   {
    "duration": 8,
    "start_time": "2023-03-16T19:37:40.162Z"
   },
   {
    "duration": 14,
    "start_time": "2023-03-16T19:37:40.173Z"
   },
   {
    "duration": 42,
    "start_time": "2023-03-16T19:37:40.189Z"
   },
   {
    "duration": 7,
    "start_time": "2023-03-16T19:37:40.233Z"
   },
   {
    "duration": 18,
    "start_time": "2023-03-16T19:37:40.244Z"
   },
   {
    "duration": 9,
    "start_time": "2023-03-16T19:37:40.264Z"
   },
   {
    "duration": 5,
    "start_time": "2023-03-16T19:37:40.275Z"
   },
   {
    "duration": 44,
    "start_time": "2023-03-16T19:37:40.282Z"
   },
   {
    "duration": 5,
    "start_time": "2023-03-16T19:37:40.328Z"
   },
   {
    "duration": 12,
    "start_time": "2023-03-16T19:37:40.335Z"
   },
   {
    "duration": 493,
    "start_time": "2023-03-16T19:37:40.350Z"
   },
   {
    "duration": 9,
    "start_time": "2023-03-16T19:37:40.845Z"
   },
   {
    "duration": 328,
    "start_time": "2023-03-16T19:37:40.856Z"
   },
   {
    "duration": 945,
    "start_time": "2023-03-16T19:37:41.185Z"
   },
   {
    "duration": 259,
    "start_time": "2023-03-16T19:37:42.132Z"
   },
   {
    "duration": 350,
    "start_time": "2023-03-16T19:37:42.393Z"
   },
   {
    "duration": 39,
    "start_time": "2023-03-16T19:37:42.745Z"
   },
   {
    "duration": 210,
    "start_time": "2023-03-16T19:37:42.786Z"
   },
   {
    "duration": 191,
    "start_time": "2023-03-16T19:37:42.997Z"
   },
   {
    "duration": 8,
    "start_time": "2023-03-16T19:37:43.191Z"
   },
   {
    "duration": 49,
    "start_time": "2023-03-16T19:37:43.201Z"
   },
   {
    "duration": 270,
    "start_time": "2023-03-16T19:37:43.251Z"
   },
   {
    "duration": 150,
    "start_time": "2023-03-16T19:37:43.523Z"
   },
   {
    "duration": 195,
    "start_time": "2023-03-16T19:37:43.676Z"
   },
   {
    "duration": 156,
    "start_time": "2023-03-16T19:37:43.873Z"
   },
   {
    "duration": 15,
    "start_time": "2023-03-16T19:37:44.030Z"
   },
   {
    "duration": 14,
    "start_time": "2023-03-16T19:37:44.047Z"
   },
   {
    "duration": 13,
    "start_time": "2023-03-16T19:37:44.063Z"
   },
   {
    "duration": 207,
    "start_time": "2023-03-16T19:37:44.077Z"
   },
   {
    "duration": 9,
    "start_time": "2023-03-16T19:37:44.286Z"
   },
   {
    "duration": 8,
    "start_time": "2023-03-16T19:37:44.296Z"
   },
   {
    "duration": 980,
    "start_time": "2023-03-16T19:38:53.693Z"
   },
   {
    "duration": 1090,
    "start_time": "2023-03-16T19:39:00.685Z"
   },
   {
    "duration": 894,
    "start_time": "2023-03-16T20:02:11.976Z"
   },
   {
    "duration": 941,
    "start_time": "2023-03-16T20:02:22.120Z"
   },
   {
    "duration": 255,
    "start_time": "2023-03-16T20:07:41.629Z"
   },
   {
    "duration": 257,
    "start_time": "2023-03-16T20:08:00.695Z"
   },
   {
    "duration": 275,
    "start_time": "2023-03-16T20:08:09.549Z"
   },
   {
    "duration": 387,
    "start_time": "2023-03-16T20:08:17.220Z"
   },
   {
    "duration": 304,
    "start_time": "2023-03-16T20:10:14.210Z"
   },
   {
    "duration": 308,
    "start_time": "2023-03-16T20:10:43.196Z"
   },
   {
    "duration": 342,
    "start_time": "2023-03-16T20:10:50.461Z"
   },
   {
    "duration": 248,
    "start_time": "2023-03-16T20:11:15.751Z"
   },
   {
    "duration": 159,
    "start_time": "2023-03-16T20:12:30.184Z"
   },
   {
    "duration": 147,
    "start_time": "2023-03-16T20:12:35.431Z"
   },
   {
    "duration": 159,
    "start_time": "2023-03-16T20:12:44.023Z"
   },
   {
    "duration": 142,
    "start_time": "2023-03-16T20:12:54.943Z"
   },
   {
    "duration": 152,
    "start_time": "2023-03-16T20:13:11.944Z"
   },
   {
    "duration": 218,
    "start_time": "2023-03-16T20:19:50.844Z"
   },
   {
    "duration": 1156,
    "start_time": "2023-03-16T20:21:41.093Z"
   },
   {
    "duration": 1008,
    "start_time": "2023-03-16T20:22:14.989Z"
   },
   {
    "duration": 1009,
    "start_time": "2023-03-16T20:22:42.062Z"
   },
   {
    "duration": 1178,
    "start_time": "2023-03-16T20:23:04.328Z"
   },
   {
    "duration": 63,
    "start_time": "2023-03-16T20:23:05.508Z"
   },
   {
    "duration": 13,
    "start_time": "2023-03-16T20:23:05.573Z"
   },
   {
    "duration": 4,
    "start_time": "2023-03-16T20:23:05.588Z"
   },
   {
    "duration": 14,
    "start_time": "2023-03-16T20:23:05.594Z"
   },
   {
    "duration": 15,
    "start_time": "2023-03-16T20:23:05.609Z"
   },
   {
    "duration": 30,
    "start_time": "2023-03-16T20:23:05.625Z"
   },
   {
    "duration": 4,
    "start_time": "2023-03-16T20:23:05.657Z"
   },
   {
    "duration": 6,
    "start_time": "2023-03-16T20:23:05.663Z"
   },
   {
    "duration": 14,
    "start_time": "2023-03-16T20:23:05.672Z"
   },
   {
    "duration": 8,
    "start_time": "2023-03-16T20:23:05.687Z"
   },
   {
    "duration": 23,
    "start_time": "2023-03-16T20:23:05.696Z"
   },
   {
    "duration": 13,
    "start_time": "2023-03-16T20:23:05.720Z"
   },
   {
    "duration": 7,
    "start_time": "2023-03-16T20:23:05.735Z"
   },
   {
    "duration": 3,
    "start_time": "2023-03-16T20:23:05.743Z"
   },
   {
    "duration": 8,
    "start_time": "2023-03-16T20:23:05.748Z"
   },
   {
    "duration": 5,
    "start_time": "2023-03-16T20:23:05.758Z"
   },
   {
    "duration": 8,
    "start_time": "2023-03-16T20:23:05.765Z"
   },
   {
    "duration": 418,
    "start_time": "2023-03-16T20:23:05.775Z"
   },
   {
    "duration": 8,
    "start_time": "2023-03-16T20:23:06.194Z"
   },
   {
    "duration": 300,
    "start_time": "2023-03-16T20:23:06.204Z"
   },
   {
    "duration": 1127,
    "start_time": "2023-03-16T20:23:06.505Z"
   },
   {
    "duration": 0,
    "start_time": "2023-03-16T20:23:07.634Z"
   },
   {
    "duration": 0,
    "start_time": "2023-03-16T20:23:07.635Z"
   },
   {
    "duration": 0,
    "start_time": "2023-03-16T20:23:07.636Z"
   },
   {
    "duration": 0,
    "start_time": "2023-03-16T20:23:07.638Z"
   },
   {
    "duration": 0,
    "start_time": "2023-03-16T20:23:07.639Z"
   },
   {
    "duration": 0,
    "start_time": "2023-03-16T20:23:07.640Z"
   },
   {
    "duration": 0,
    "start_time": "2023-03-16T20:23:07.641Z"
   },
   {
    "duration": 0,
    "start_time": "2023-03-16T20:23:07.642Z"
   },
   {
    "duration": 0,
    "start_time": "2023-03-16T20:23:07.643Z"
   },
   {
    "duration": 0,
    "start_time": "2023-03-16T20:23:07.644Z"
   },
   {
    "duration": 0,
    "start_time": "2023-03-16T20:23:07.645Z"
   },
   {
    "duration": 0,
    "start_time": "2023-03-16T20:23:07.646Z"
   },
   {
    "duration": 0,
    "start_time": "2023-03-16T20:23:07.647Z"
   },
   {
    "duration": 0,
    "start_time": "2023-03-16T20:23:07.648Z"
   },
   {
    "duration": 0,
    "start_time": "2023-03-16T20:23:07.649Z"
   },
   {
    "duration": 0,
    "start_time": "2023-03-16T20:23:07.650Z"
   },
   {
    "duration": 0,
    "start_time": "2023-03-16T20:23:07.651Z"
   },
   {
    "duration": 923,
    "start_time": "2023-03-16T20:25:46.591Z"
   },
   {
    "duration": 320,
    "start_time": "2023-03-16T20:25:58.381Z"
   },
   {
    "duration": 312,
    "start_time": "2023-03-16T20:26:02.527Z"
   },
   {
    "duration": 197,
    "start_time": "2023-03-16T20:26:20.629Z"
   },
   {
    "duration": 216,
    "start_time": "2023-03-16T20:26:50.558Z"
   },
   {
    "duration": 21,
    "start_time": "2023-03-16T20:43:44.700Z"
   },
   {
    "duration": 9,
    "start_time": "2023-03-16T20:43:52.299Z"
   },
   {
    "duration": 35,
    "start_time": "2023-03-16T21:16:12.889Z"
   },
   {
    "duration": 61,
    "start_time": "2023-03-17T07:18:00.336Z"
   },
   {
    "duration": 7,
    "start_time": "2023-03-17T07:18:03.804Z"
   },
   {
    "duration": 1409,
    "start_time": "2023-03-17T07:18:10.376Z"
   },
   {
    "duration": 132,
    "start_time": "2023-03-17T07:18:11.787Z"
   },
   {
    "duration": 22,
    "start_time": "2023-03-17T07:18:11.921Z"
   },
   {
    "duration": 14,
    "start_time": "2023-03-17T07:18:11.946Z"
   },
   {
    "duration": 17,
    "start_time": "2023-03-17T07:18:11.962Z"
   },
   {
    "duration": 11,
    "start_time": "2023-03-17T07:18:11.981Z"
   },
   {
    "duration": 18,
    "start_time": "2023-03-17T07:18:11.994Z"
   },
   {
    "duration": 11,
    "start_time": "2023-03-17T07:18:12.014Z"
   },
   {
    "duration": 43,
    "start_time": "2023-03-17T07:18:12.027Z"
   },
   {
    "duration": 28,
    "start_time": "2023-03-17T07:18:12.071Z"
   },
   {
    "duration": 26,
    "start_time": "2023-03-17T07:18:12.100Z"
   },
   {
    "duration": 8,
    "start_time": "2023-03-17T07:18:12.128Z"
   },
   {
    "duration": 24,
    "start_time": "2023-03-17T07:18:12.138Z"
   },
   {
    "duration": 8,
    "start_time": "2023-03-17T07:18:12.166Z"
   },
   {
    "duration": 14,
    "start_time": "2023-03-17T07:18:12.176Z"
   },
   {
    "duration": 20,
    "start_time": "2023-03-17T07:18:12.192Z"
   },
   {
    "duration": 4,
    "start_time": "2023-03-17T07:18:12.214Z"
   },
   {
    "duration": 23,
    "start_time": "2023-03-17T07:18:12.220Z"
   },
   {
    "duration": 452,
    "start_time": "2023-03-17T07:18:12.245Z"
   },
   {
    "duration": 7,
    "start_time": "2023-03-17T07:18:12.699Z"
   },
   {
    "duration": 329,
    "start_time": "2023-03-17T07:18:12.707Z"
   },
   {
    "duration": 1085,
    "start_time": "2023-03-17T07:18:13.039Z"
   },
   {
    "duration": 292,
    "start_time": "2023-03-17T07:18:14.130Z"
   },
   {
    "duration": 445,
    "start_time": "2023-03-17T07:18:14.424Z"
   },
   {
    "duration": 39,
    "start_time": "2023-03-17T07:18:14.872Z"
   },
   {
    "duration": 218,
    "start_time": "2023-03-17T07:18:14.912Z"
   },
   {
    "duration": 225,
    "start_time": "2023-03-17T07:18:15.133Z"
   },
   {
    "duration": 8,
    "start_time": "2023-03-17T07:18:15.360Z"
   },
   {
    "duration": 41,
    "start_time": "2023-03-17T07:18:15.369Z"
   },
   {
    "duration": 272,
    "start_time": "2023-03-17T07:18:15.411Z"
   },
   {
    "duration": 180,
    "start_time": "2023-03-17T07:18:15.684Z"
   },
   {
    "duration": 183,
    "start_time": "2023-03-17T07:18:15.866Z"
   },
   {
    "duration": 239,
    "start_time": "2023-03-17T07:18:16.051Z"
   },
   {
    "duration": 13,
    "start_time": "2023-03-17T07:18:16.292Z"
   },
   {
    "duration": 25,
    "start_time": "2023-03-17T07:18:16.307Z"
   },
   {
    "duration": 20,
    "start_time": "2023-03-17T07:18:16.340Z"
   },
   {
    "duration": 265,
    "start_time": "2023-03-17T07:18:16.362Z"
   },
   {
    "duration": 15,
    "start_time": "2023-03-17T07:18:16.629Z"
   },
   {
    "duration": 15,
    "start_time": "2023-03-17T07:18:16.645Z"
   },
   {
    "duration": 7,
    "start_time": "2023-03-17T07:20:12.785Z"
   },
   {
    "duration": 283,
    "start_time": "2023-03-17T07:20:16.379Z"
   },
   {
    "duration": 315,
    "start_time": "2023-03-17T07:30:44.667Z"
   },
   {
    "duration": 1563,
    "start_time": "2023-03-17T07:34:47.458Z"
   },
   {
    "duration": 1625,
    "start_time": "2023-03-17T07:35:13.578Z"
   },
   {
    "duration": 1483,
    "start_time": "2023-03-17T07:35:31.070Z"
   },
   {
    "duration": 1582,
    "start_time": "2023-03-17T07:35:38.006Z"
   },
   {
    "duration": 479,
    "start_time": "2023-03-17T07:36:03.311Z"
   },
   {
    "duration": 403,
    "start_time": "2023-03-17T07:36:11.504Z"
   },
   {
    "duration": 44,
    "start_time": "2023-03-17T07:40:55.671Z"
   },
   {
    "duration": 39,
    "start_time": "2023-03-17T07:42:18.862Z"
   },
   {
    "duration": 423,
    "start_time": "2023-03-17T07:42:29.090Z"
   },
   {
    "duration": 327,
    "start_time": "2023-03-17T07:44:41.203Z"
   },
   {
    "duration": 48,
    "start_time": "2023-03-17T07:48:16.806Z"
   },
   {
    "duration": 326,
    "start_time": "2023-03-17T07:49:14.059Z"
   },
   {
    "duration": 198,
    "start_time": "2023-03-17T07:50:05.012Z"
   },
   {
    "duration": 235,
    "start_time": "2023-03-17T07:50:35.050Z"
   },
   {
    "duration": 280,
    "start_time": "2023-03-17T07:51:10.466Z"
   },
   {
    "duration": 204,
    "start_time": "2023-03-17T07:51:43.804Z"
   },
   {
    "duration": 177,
    "start_time": "2023-03-17T11:08:05.854Z"
   },
   {
    "duration": 164,
    "start_time": "2023-03-17T11:08:24.124Z"
   },
   {
    "duration": 157,
    "start_time": "2023-03-17T11:10:54.783Z"
   },
   {
    "duration": 167,
    "start_time": "2023-03-17T11:11:43.670Z"
   },
   {
    "duration": 251,
    "start_time": "2023-03-17T11:11:47.621Z"
   },
   {
    "duration": 161,
    "start_time": "2023-03-17T11:11:57.046Z"
   },
   {
    "duration": 183,
    "start_time": "2023-03-17T11:12:02.229Z"
   },
   {
    "duration": 162,
    "start_time": "2023-03-17T11:12:06.149Z"
   },
   {
    "duration": 1296,
    "start_time": "2023-05-11T08:24:48.768Z"
   },
   {
    "duration": 3,
    "start_time": "2023-05-11T08:24:51.830Z"
   }
  ],
  "kernelspec": {
   "display_name": "Python 3 (ipykernel)",
   "language": "python",
   "name": "python3"
  },
  "language_info": {
   "codemirror_mode": {
    "name": "ipython",
    "version": 3
   },
   "file_extension": ".py",
   "mimetype": "text/x-python",
   "name": "python",
   "nbconvert_exporter": "python",
   "pygments_lexer": "ipython3",
   "version": "3.10.9"
  },
  "toc": {
   "base_numbering": "1",
   "nav_menu": {},
   "number_sections": true,
   "sideBar": true,
   "skip_h1_title": true,
   "title_cell": "Table of Contents",
   "title_sidebar": "Contents",
   "toc_cell": false,
   "toc_position": {},
   "toc_section_display": true,
   "toc_window_display": false
  }
 },
 "nbformat": 4,
 "nbformat_minor": 2
}
